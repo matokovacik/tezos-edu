{
 "cells": [
  {
   "cell_type": "markdown",
   "metadata": {},
   "source": [
    "# Calculator Sample\n",
    "This sample will guide throught the whole process of implementing, deploying and calling contract in tezos."
   ]
  },
  {
   "cell_type": "markdown",
   "metadata": {},
   "source": [
    "## Preparation of sandbox\n",
    "In this sample we are using tezos sandbox. This instance of tezos is local to you computer only. It's primarily used for internal tezos testing. This platform is usefull for experimentation, however if you would like to test your contracts in environment closer to mainnet, it's recommended to use Alphanet. \n",
    "\n",
    "### Node for Sandbox\n",
    "Following commands will start the node for the sandbox network. **After the process is terminated, whole blockchain is erased**. Script `tezos-sandboxed-node.sh` has one mandatory parameter - number from 1 to 9. This parameter is used to construct RPC port on which sandbox node will be listening. \n",
    "\n",
    "For number 1 tezos will use RPC port 18731 and port 19731 for node listening for peers. For number 9 ~ RPC Port 18739, Peer Port 19739, etc.\n",
    "\n",
    "For more info on sandbox mode, please consult [tezos documentation on sandbox](http://tezos.gitlab.io/mainnet/introduction/various.html#use-sandboxed-mode)\n",
    "\n",
    "For convenience, we will run the sandbox as a daemon. Alternatively it's possible to run it in separate terminal.\n",
    "\n"
   ]
  },
  {
   "cell_type": "code",
   "execution_count": 148,
   "metadata": {},
   "outputs": [
    {
     "name": "stdout",
     "output_type": "stream",
     "text": [
      "[1] 19220\n"
     ]
    }
   ],
   "source": [
    "export TEZOS_HOME=~/tezos-dev/tezos\n",
    "cd $TEZOS_HOME\n",
    "./src/bin_node/tezos-sandboxed-node.sh 1 --connections 1  1>tezos_sandbox_log.txt 2>&1 &\n",
    "export NODE_PID=$!\n",
    "echo $NODE_PID > tezos_sandbox_pid.txt"
   ]
  },
  {
   "cell_type": "markdown",
   "metadata": {},
   "source": [
    "<span style=\"color:red\">CLEAN-UP:</span> After finishing the exercise you can terminate the node by calling following command."
   ]
  },
  {
   "cell_type": "code",
   "execution_count": 192,
   "metadata": {},
   "outputs": [],
   "source": [
    "kill $(cat $TEZOS_HOME/tezos_sandbox_pid.txt) \\\n",
    " && rm $TEZOS_HOME/tezos_sandbox_pid.txt"
   ]
  },
  {
   "cell_type": "markdown",
   "metadata": {},
   "source": [
    "### Client for Sandbox\n",
    "Script will initialize variables and default configuration for the tezos-client. Also the script will register aliases for common commands like tezos-client. **The variables are present only in current shell. When opening other shell it's required to rerun the command.** If more then two terminals are required, it's possible to run the script in other terminal again. Please note the number after the shell script. This is node identifier - it should match to number of node in previous section.\n"
   ]
  },
  {
   "cell_type": "code",
   "execution_count": 149,
   "metadata": {},
   "outputs": [
    {
     "name": "stdout",
     "output_type": "stream",
     "text": [
      "\u001b[0m\u001b[33;1;4m\u001b[0m\u001b[33;1;4mWarning:\u001b[0m\u001b[0m\u001b[33;1;4m\u001b[0m\u001b[0m\n",
      "  \n",
      "   The node you are connecting to claims to be running in a\n",
      "                    \u001b[0m\u001b[33;1;4mTezos TEST SANDBOX\u001b[0m\u001b[0m.\n",
      "      Do \u001b[0m\u001b[33;1;4mNOT\u001b[0m\u001b[0m use your fundraiser keys on this network.\n",
      "  You should not see this message if you are not a developer.\n",
      "\n",
      "## Tezos address added: tz1KqTpEZ7Yob7QbPE4Hy4Wo8fHG8LhKxZSx\n",
      "\u001b[0m\u001b[33;1;4m\u001b[0m\u001b[33;1;4mWarning:\u001b[0m\u001b[0m\u001b[33;1;4m\u001b[0m\u001b[0m\n",
      "  \n",
      "   The node you are connecting to claims to be running in a\n",
      "                    \u001b[0m\u001b[33;1;4mTezos TEST SANDBOX\u001b[0m\u001b[0m.\n",
      "      Do \u001b[0m\u001b[33;1;4mNOT\u001b[0m\u001b[0m use your fundraiser keys on this network.\n",
      "  You should not see this message if you are not a developer.\n",
      "\n",
      "## Tezos address added: tz1gjaF81ZRRvdzjobyfVNsAeSC6PScjfQwN\n",
      "\u001b[0m\u001b[33;1;4m\u001b[0m\u001b[33;1;4mWarning:\u001b[0m\u001b[0m\u001b[33;1;4m\u001b[0m\u001b[0m\n",
      "  \n",
      "   The node you are connecting to claims to be running in a\n",
      "                    \u001b[0m\u001b[33;1;4mTezos TEST SANDBOX\u001b[0m\u001b[0m.\n",
      "      Do \u001b[0m\u001b[33;1;4mNOT\u001b[0m\u001b[0m use your fundraiser keys on this network.\n",
      "  You should not see this message if you are not a developer.\n",
      "\n",
      "## Tezos address added: tz1faswCTDciRzE4oJ9jn2Vm2dvjeyA9fUzU\n",
      "\u001b[0m\u001b[33;1;4m\u001b[0m\u001b[33;1;4mWarning:\u001b[0m\u001b[0m\u001b[33;1;4m\u001b[0m\u001b[0m\n",
      "  \n",
      "   The node you are connecting to claims to be running in a\n",
      "                    \u001b[0m\u001b[33;1;4mTezos TEST SANDBOX\u001b[0m\u001b[0m.\n",
      "      Do \u001b[0m\u001b[33;1;4mNOT\u001b[0m\u001b[0m use your fundraiser keys on this network.\n",
      "  You should not see this message if you are not a developer.\n",
      "\n",
      "## Tezos address added: tz1b7tUupMgCNw2cCLpKTkSD1NZzB5TkP2sv\n",
      "\u001b[0m\u001b[33;1;4m\u001b[0m\u001b[33;1;4mWarning:\u001b[0m\u001b[0m\u001b[33;1;4m\u001b[0m\u001b[0m\n",
      "  \n",
      "   The node you are connecting to claims to be running in a\n",
      "                    \u001b[0m\u001b[33;1;4mTezos TEST SANDBOX\u001b[0m\u001b[0m.\n",
      "      Do \u001b[0m\u001b[33;1;4mNOT\u001b[0m\u001b[0m use your fundraiser keys on this network.\n",
      "  You should not see this message if you are not a developer.\n",
      "\n",
      "## Tezos address added: tz1ddb9NMYHZi5UzPdzTZMYQQZoMub195zgv\n",
      "\u001b[0m\u001b[33;1;4m\u001b[0m\u001b[33;1;4mWarning:\u001b[0m\u001b[0m\u001b[33;1;4m\u001b[0m\u001b[0m\n",
      "  \n",
      "   The node you are connecting to claims to be running in a\n",
      "                    \u001b[0m\u001b[33;1;4mTezos TEST SANDBOX\u001b[0m\u001b[0m.\n",
      "      Do \u001b[0m\u001b[33;1;4mNOT\u001b[0m\u001b[0m use your fundraiser keys on this network.\n",
      "  You should not see this message if you are not a developer.\n",
      "\n",
      "## Tezos address added: tz1TGu6TN5GSez2ndXXeDX6LgUDvLzPLqgYV\n",
      "## \n",
      "## The client is now properly initialized. In the rest of this shell\n",
      "## session, you might now run `tezos-client` to communicate with a\n",
      "## tezos node launched with `launch-sandboxed-node 1`. For instance:\n",
      "## \n",
      "##   tezos-client rpc get /chains/main/blocks/head/metadata\n",
      "## \n",
      "## Note: if the current protocol version, as reported by the previous\n",
      "## command, is \"Ps6mwMrF2ER2s51cp9yYpjDcuzQjsc2yAz8bQsRgdaRxw4Fk95H\", you\n",
      "## may have to activate in your \"sandboxed network\" the same economic\n",
      "## protocol than used by the alphanet by running:\n",
      "## \n",
      "##   tezos-activate-alpha\n",
      "## \n",
      "## Warning: all the client data will be removed when you close this shell\n",
      "## or if you run this command a second time.\n",
      "## \n",
      "## Activate tab completion by running:\n",
      "## \n",
      "##   tezos-autocomplete\n",
      "## \n"
     ]
    }
   ],
   "source": [
    "cd $TEZOS_HOME\n",
    "eval `./src/bin_client/tezos-init-sandboxed-client.sh 1`"
   ]
  },
  {
   "cell_type": "markdown",
   "metadata": {},
   "source": [
    "### Bootstrapping of blockchain\n",
    "To start working with the tezos sandbox, it's required to bootstrap blockchain. This can be achieved by calling `tezos-activate-alpha` script.\n",
    "\n",
    "The script will create genesis block and register testing accounts with some &#xA729; balances in `tezos-client`."
   ]
  },
  {
   "cell_type": "code",
   "execution_count": 150,
   "metadata": {},
   "outputs": [
    {
     "name": "stdout",
     "output_type": "stream",
     "text": [
      "Injected BLzBk1dybRKd\n"
     ]
    }
   ],
   "source": [
    "tezos-activate-alpha 2>/dev/null"
   ]
  },
  {
   "cell_type": "markdown",
   "metadata": {},
   "source": [
    "This can be verified by checking head of the blockchain and later list of registered adresses in wallet. "
   ]
  },
  {
   "cell_type": "code",
   "execution_count": 151,
   "metadata": {},
   "outputs": [
    {
     "name": "stdout",
     "output_type": "stream",
     "text": [
      "{ \"protocol\": \"Ps6mwMrF2ER2s51cp9yYpjDcuzQjsc2yAz8bQsRgdaRxw4Fk95H\",\n",
      "  \"chain_id\": \"NetXZUqeBjDnWde\",\n",
      "  \"hash\": \"BLzBk1dybRKdBiT9qAonRtaJizHYYi8HFUH11wMbxWZJbjuLhF9\",\n",
      "  \"header\":\n",
      "    { \"level\": 1, \"proto\": 1,\n",
      "      \"predecessor\": \"BLockGenesisGenesisGenesisGenesisGenesis53242fHv7C1\",\n",
      "      \"timestamp\": \"2018-12-22T20:42:44Z\", \"validation_pass\": 0,\n",
      "      \"operations_hash\":\n",
      "        \"LLoZS2LW3rEi7KYU4ouBQtorua37aWWCtpDmv1n2x3xoKi6sVXLWp\",\n",
      "      \"fitness\": [ \"00\", \"0000000000000001\" ],\n",
      "      \"context\": \"CoUk2yMdMF7DmnPN6T1Fz19QKLsXq5yAkboCbhqAn9nQC2xwL8t9\",\n",
      "      \"content\":\n",
      "        { \"command\": \"activate\",\n",
      "          \"hash\": \"PsYLVpVvgbLhAhoqAkMFUo6gudkJ9weNXhUYCiLDzcUpFpkk8Wt\",\n",
      "          \"fitness\": [ \"00\", \"0000000000000001\" ],\n",
      "          \"protocol_parameters\":\n",
      "            \"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\" },\n",
      "      \"signature\":\n",
      "        \"sigdXsG31Wf458DQRdzAjfi9Bw1nYmiEnAB5AntKCRhbhLRcr1y1mHERYbjpyuiWqMCDnTnJTcPisvNgU4EBNLzEBn2uNp5J\" },\n",
      "  \"metadata\":\n",
      "    { \"protocol\": \"Ps6mwMrF2ER2s51cp9yYpjDcuzQjsc2yAz8bQsRgdaRxw4Fk95H\",\n",
      "      \"next_protocol\": \"PsYLVpVvgbLhAhoqAkMFUo6gudkJ9weNXhUYCiLDzcUpFpkk8Wt\",\n",
      "      \"test_chain_status\": { \"status\": \"not_running\" },\n",
      "      \"max_operations_ttl\": 1, \"max_operation_data_length\": 16384,\n",
      "      \"max_block_header_length\": 238,\n",
      "      \"max_operation_list_length\":\n",
      "        [ { \"max_size\": 32768, \"max_op\": 32 }, { \"max_size\": 32768 },\n",
      "          { \"max_size\": 135168, \"max_op\": 132 }, { \"max_size\": 524288 } ] },\n",
      "  \"operations\": [] }\n"
     ]
    }
   ],
   "source": [
    "#get head of the blockchain\n",
    "tezos-client rpc get chains/main/blocks/head 2>/dev/null"
   ]
  },
  {
   "cell_type": "code",
   "execution_count": 152,
   "metadata": {},
   "outputs": [
    {
     "name": "stdout",
     "output_type": "stream",
     "text": [
      "activator: tz1TGu6TN5GSez2ndXXeDX6LgUDvLzPLqgYV (unencrypted sk known)\n",
      "bootstrap5: tz1ddb9NMYHZi5UzPdzTZMYQQZoMub195zgv (unencrypted sk known)\n",
      "bootstrap4: tz1b7tUupMgCNw2cCLpKTkSD1NZzB5TkP2sv (unencrypted sk known)\n",
      "bootstrap3: tz1faswCTDciRzE4oJ9jn2Vm2dvjeyA9fUzU (unencrypted sk known)\n",
      "bootstrap2: tz1gjaF81ZRRvdzjobyfVNsAeSC6PScjfQwN (unencrypted sk known)\n",
      "bootstrap1: tz1KqTpEZ7Yob7QbPE4Hy4Wo8fHG8LhKxZSx (unencrypted sk known)\n"
     ]
    }
   ],
   "source": [
    "# List of registered accounts\n",
    "tezos-client list known addresses 2>/dev/null"
   ]
  },
  {
   "cell_type": "markdown",
   "metadata": {},
   "source": [
    "### Basic wallet functions and tez transfers\n",
    "`tezos-client` is serving as a basic wallet. It's possible to get balance for the accounts and also their private/public key combinations using following set of commands."
   ]
  },
  {
   "cell_type": "code",
   "execution_count": 153,
   "metadata": {
    "scrolled": true
   },
   "outputs": [
    {
     "name": "stdout",
     "output_type": "stream",
     "text": [
      "4000000 ꜩ\n",
      "-------\n",
      "Hash: tz1KqTpEZ7Yob7QbPE4Hy4Wo8fHG8LhKxZSx\n",
      "Public Key: edpkuBknW28nW72KG6RoHtYW7p12T6GKc7nAbwYX5m8Wd9sDVC9yav\n",
      "Secret Key: unencrypted:edsk3gUfUPyBSfrS9CCgmCiQsTCHGkviBDusMxDJstFtojtc1zcpsh\n"
     ]
    }
   ],
   "source": [
    "tezos-client get balance for bootstrap1 2>/dev/null\n",
    "\n",
    "echo -------\n",
    "\n",
    "tezos-client show address bootstrap1 --show-secret  2>/dev/null"
   ]
  },
  {
   "cell_type": "markdown",
   "metadata": {},
   "source": [
    "### Testing account creation\n",
    "For our exercise we will generate new account. Then we can verify successful creation by showing address and public/private (secret) key."
   ]
  },
  {
   "cell_type": "code",
   "execution_count": 154,
   "metadata": {},
   "outputs": [
    {
     "name": "stdout",
     "output_type": "stream",
     "text": [
      "\u001b[0m\u001b[33;1;4m\u001b[0m\u001b[33;1;4mWarning:\u001b[0m\u001b[0m\u001b[33;1;4m\u001b[0m\u001b[0m\n",
      "  \n",
      "   The node you are connecting to claims to be running in a\n",
      "                    \u001b[0m\u001b[33;1;4mTezos TEST SANDBOX\u001b[0m\u001b[0m.\n",
      "      Do \u001b[0m\u001b[33;1;4mNOT\u001b[0m\u001b[0m use your fundraiser keys on this network.\n",
      "  You should not see this message if you are not a developer.\n",
      "\n",
      "Keys generated for test_account\n",
      "-------\n",
      "Hash: tz1ZbJxRgdh6CMHsj7WGwjTev3ngD1B4maHa\n",
      "Public Key: edpku7u3tyMjDaYvxsgh9XjDcuxUAZRqLA31qw4LJrVWu2J2Jfe8Rk\n",
      "Secret Key: unencrypted:edsk3mPVrxWrZsH5fb8pAVMnAELQihTezFpoKQiN6Y6k9cTJ1cya5b\n"
     ]
    }
   ],
   "source": [
    "tezos-client gen keys test_account && echo \"Keys generated for test_account\"\n",
    "\n",
    "echo -------\n",
    "\n",
    "tezos-client show address test_account --show-secret 2>/dev/null"
   ]
  },
  {
   "cell_type": "markdown",
   "metadata": {},
   "source": [
    "Our account don't have any tez. So we can transfer some &#xA729; from `bootstrap5` account."
   ]
  },
  {
   "cell_type": "code",
   "execution_count": 163,
   "metadata": {},
   "outputs": [
    {
     "name": "stdout",
     "output_type": "stream",
     "text": [
      "Balance for test_account:  1000 ꜩ\n",
      "[2] 19686\n"
     ]
    }
   ],
   "source": [
    "echo \"Balance for test_account: \" $(tezos-client get balance for test_account 2>/dev/null) # no tez yet\n",
    "\n",
    "# we will run the command as a daemon. We will check output after the process will finish\n",
    "tezos-client transfer 1000 from bootstrap5 to test_account 2>1 1>output.txt &\n",
    "\n"
   ]
  },
  {
   "cell_type": "markdown",
   "metadata": {},
   "source": [
    "<span style=\"color:red\">Attempt to inject transfer operation will be blocked, as in our blockchain we don't have any bakers. In case you would be using alphanet, bakers would bake the block with your transaction in few minutes.</span>\n",
    "\n",
    "You can check the state of your operation using RPC provided by tezos. Until the block is baked, the transaction is stored in mempool."
   ]
  },
  {
   "cell_type": "code",
   "execution_count": 156,
   "metadata": {},
   "outputs": [
    {
     "name": "stdout",
     "output_type": "stream",
     "text": [
      "{ \"applied\":\n",
      "    [ { \"hash\": \"oohQCR6NEWuT64nKLmaGJrnkWf2B7YNgjXCK4SCuS9pTyTB5P2i\",\n",
      "        \"branch\": \"BLzBk1dybRKdBiT9qAonRtaJizHYYi8HFUH11wMbxWZJbjuLhF9\",\n",
      "        \"contents\":\n",
      "          [ { \"kind\": \"transaction\",\n",
      "              \"source\": \"tz1ddb9NMYHZi5UzPdzTZMYQQZoMub195zgv\",\n",
      "              \"fee\": \"50000\", \"counter\": \"1\", \"gas_limit\": \"200\",\n",
      "              \"storage_limit\": \"0\", \"amount\": \"1000000000\",\n",
      "              \"destination\": \"tz1ZbJxRgdh6CMHsj7WGwjTev3ngD1B4maHa\" } ],\n",
      "        \"signature\":\n",
      "          \"sigdF8Ysv1ZhQ1ijpERZzrxb312bmJksjVZQBNTHmcRZ4yYJcHCir1CJRPD6Ns1SYWRoKi9i9FkmvgPB8tdwtdsjdHpvdwHR\" } ],\n",
      "  \"refused\": [], \"branch_refused\": [], \"branch_delayed\": [],\n",
      "  \"unprocessed\": [] }\n"
     ]
    }
   ],
   "source": [
    "tezos-client rpc get chains/main/mempool/pending_operations 2>/dev/null\n",
    "# curl http://localhost:18731/chains/main/mempool/pending_operations | jq"
   ]
  },
  {
   "cell_type": "markdown",
   "metadata": {},
   "source": [
    "To resume the operation, you can **bake the block** using `tezos-client`. When baking using the client, you need to provide account, that will be used as delegate. To learn more about delegates and baking, consult [Liquid Proof Of Stake](../tezos/liquid_proof_of_stake.md) and [Tezos Architecture](../tezos/technical_architecture.md).\n",
    "\n",
    "Following command will bake the block and use `bootstrap1` as a delegate."
   ]
  },
  {
   "cell_type": "code",
   "execution_count": 157,
   "metadata": {},
   "outputs": [
    {
     "name": "stdout",
     "output_type": "stream",
     "text": [
      "Injected block BKiyywZnMoVH\n"
     ]
    }
   ],
   "source": [
    "tezos-client bake for bootstrap1 2>/dev/null"
   ]
  },
  {
   "cell_type": "markdown",
   "metadata": {},
   "source": [
    "After baking we can check output of the finished transfer command."
   ]
  },
  {
   "cell_type": "code",
   "execution_count": 158,
   "metadata": {},
   "outputs": [
    {
     "name": "stdout",
     "output_type": "stream",
     "text": [
      "Node is bootstrapped, ready for injecting operations.\n",
      "Estimated gas: 100 units (will add 100 for safety)\n",
      "Estimated storage: no bytes added\n",
      "Operation successfully injected in the node.\n",
      "Operation hash: oohQCR6NEWuT64nKLmaGJrnkWf2B7YNgjXCK4SCuS9pTyTB5P2i\n",
      "Waiting for the operation to be included...\n",
      "Operation found in block: BKiyywZnMoVHkSBkDjMHtcQVtML5qEzNvByNZ3Q3nhMCVBumy8R (pass: 3, offset: 0)\n",
      "This sequence of operations was run:\n",
      "  Manager signed operations:\n",
      "    From: tz1ddb9NMYHZi5UzPdzTZMYQQZoMub195zgv\n",
      "    Fee to the baker: ꜩ0.05\n",
      "    Expected counter: 1\n",
      "    Gas limit: 200\n",
      "    Storage limit: 0 bytes\n",
      "    Balance updates:\n",
      "      tz1ddb9NMYHZi5UzPdzTZMYQQZoMub195zgv ........... -ꜩ0.05\n",
      "      fees(tz1KqTpEZ7Yob7QbPE4Hy4Wo8fHG8LhKxZSx,0) ... +ꜩ0.05\n",
      "    Transaction:\n",
      "      Amount: ꜩ1000\n",
      "      From: tz1ddb9NMYHZi5UzPdzTZMYQQZoMub195zgv\n",
      "      To: tz1ZbJxRgdh6CMHsj7WGwjTev3ngD1B4maHa\n",
      "      This transaction was successfully applied\n",
      "      Consumed gas: 100\n",
      "      Balance updates:\n",
      "        tz1ddb9NMYHZi5UzPdzTZMYQQZoMub195zgv ... -ꜩ1000\n",
      "        tz1ZbJxRgdh6CMHsj7WGwjTev3ngD1B4maHa ... +ꜩ1000\n",
      "\n",
      "The operation has only been included 0 blocks ago.\n",
      "We recommend to wait more.\n",
      "Use command\n",
      "  tezos-client wait for oohQCR6NEWuT64nKLmaGJrnkWf2B7YNgjXCK4SCuS9pTyTB5P2i to be included --confirmations 30\n",
      "and/or an external block explorer.\n",
      "[2]+  Done                    tezos-client transfer 1000 from bootstrap5 to test_account 2> 1 > output.txt\n"
     ]
    }
   ],
   "source": [
    "cat output.txt"
   ]
  },
  {
   "cell_type": "markdown",
   "metadata": {},
   "source": [
    "We can doublecheck balances for `test_account` and `bootstrap5`. From `bootstrap5` balance also transaction fees are subtracted."
   ]
  },
  {
   "cell_type": "code",
   "execution_count": 161,
   "metadata": {},
   "outputs": [
    {
     "name": "stdout",
     "output_type": "stream",
     "text": [
      "Balance for test_account: 1000 ꜩ\n",
      "Balance for bootstrap5: 3998999.95 ꜩ\n"
     ]
    }
   ],
   "source": [
    "echo \"Balance for test_account: $(tezos-client get balance for test_account 2>/dev/null)\"\n",
    "echo \"Balance for bootstrap5: $(tezos-client get balance for bootstrap5 2>/dev/null)\""
   ]
  },
  {
   "cell_type": "markdown",
   "metadata": {},
   "source": [
    "During the guide we are using aliases registered within `tezos-client` for convenience reasons. It's possible to use also account hash/address as well. Following two commands are refering to the same account. "
   ]
  },
  {
   "cell_type": "code",
   "execution_count": 162,
   "metadata": {},
   "outputs": [
    {
     "name": "stdout",
     "output_type": "stream",
     "text": [
      "\u001b[0m\u001b[33;1;4m\u001b[0m\u001b[33;1;4mWarning:\u001b[0m\u001b[0m\u001b[33;1;4m\u001b[0m\u001b[0m\n",
      "  \n",
      "   The node you are connecting to claims to be running in a\n",
      "                    \u001b[0m\u001b[33;1;4mTezos TEST SANDBOX\u001b[0m\u001b[0m.\n",
      "      Do \u001b[0m\u001b[33;1;4mNOT\u001b[0m\u001b[0m use your fundraiser keys on this network.\n",
      "  You should not see this message if you are not a developer.\n",
      "\n",
      "1000 ꜩ\n",
      "\u001b[0m\u001b[33;1;4m\u001b[0m\u001b[33;1;4mWarning:\u001b[0m\u001b[0m\u001b[33;1;4m\u001b[0m\u001b[0m\n",
      "  \n",
      "   The node you are connecting to claims to be running in a\n",
      "                    \u001b[0m\u001b[33;1;4mTezos TEST SANDBOX\u001b[0m\u001b[0m.\n",
      "      Do \u001b[0m\u001b[33;1;4mNOT\u001b[0m\u001b[0m use your fundraiser keys on this network.\n",
      "  You should not see this message if you are not a developer.\n",
      "\n",
      "1000 ꜩ\n"
     ]
    }
   ],
   "source": [
    "tezos-client get balance for test_account\n",
    "tezos-client get balance for tz1ZbJxRgdh6CMHsj7WGwjTev3ngD1B4maHa"
   ]
  },
  {
   "cell_type": "code",
   "execution_count": 193,
   "metadata": {
    "scrolled": true
   },
   "outputs": [
    {
     "name": "stdout",
     "output_type": "stream",
     "text": [
      "Hash: tz1KqTpEZ7Yob7QbPE4Hy4Wo8fHG8LhKxZSx\n",
      "Public Key: edpkuBknW28nW72KG6RoHtYW7p12T6GKc7nAbwYX5m8Wd9sDVC9yav\n",
      "Secret Key: unencrypted:edsk3gUfUPyBSfrS9CCgmCiQsTCHGkviBDusMxDJstFtojtc1zcpsh\n",
      "[1]+  Terminated: 15          ./src/bin_node/tezos-sandboxed-node.sh 1 --connections 1 > tezos_sandbox_log.txt 2>&1  (wd: ~/tezos-dev/tezos)\n",
      "(wd now: ~/tezos-dev/calculator-dapp)\n"
     ]
    }
   ],
   "source": [
    "tezos-client show address bootstrap1 --show-secret 2>/dev/null\n",
    "\n",
    "\n",
    "# We will store hash and secret for later references.\n",
    "\n",
    "TZ_BS1_HASH=$(tezos-client show address bootstrap1 --show-secret 2>/dev/null | grep Hash | cut -d\" \" -f2)\n",
    "TZ_BS1_SECRET=$(tezos-client show address bootstrap1 --show-secret 2>/dev/null | grep Secret | cut -d\":\" -f3)\n",
    "\n",
    "TZ_BS2_HASH=$(tezos-client show address bootstrap2 --show-secret 2>/dev/null | grep Hash | cut -d\" \" -f2)\n",
    "TZ_BS2_SECRET=$(tezos-client show address bootstrap2 --show-secret 2>/dev/null | grep Secret | cut -d\":\" -f3)"
   ]
  },
  {
   "cell_type": "markdown",
   "metadata": {},
   "source": [
    "## Development of Smart Contracts\n",
    "At this point we have all prerequisites for preparing contract. \n",
    "\n",
    "Smart contracts for Tezos are implemented and using Michelson language. It's low-level stack-based language. Using Michelson is not trivial. We will refer to Michelson in other sections of this guide. For current sample, we will implement sample contract using high level language Liquidity. Liquidity is provided with command line utility, that can be used to compile, deploy and manage the contracts developed using Liquidity language. Liquidity compiles into Michelson. All features, that are available in Michelson are possible in Liquidity as well.\n",
    "\n",
    "Liquidity is a language heavily inspired by the OCaml language. Before starting working with Liquidity we advise \n",
    "to check some OCaml, F# or ReasonML tutorials to familiarize with language syntax (eg. https://try.ocamlpro.com).\n",
    "\n",
    "To learn more about Liquidity, refer to [Liquidity website](http://www.liquidity-lang.org).\n",
    "\n",
    "### Sample Calculator Contract\n",
    "For beginning we will implement sample contract, that will be managing state and will enable add and subtract operations. Default operation will be add.\n",
    "\n",
    "Smart contracts are software programs that binds the parties involved in a transaction to an agreement with out any third party being involved. The smart contract on the blockchain guarantees that nothing can be changed about the agreement without the consent of all the parties.\n",
    "\n",
    "When you deploy smart contract into the blockchain it cannot be changed. It prescribes how it's internal storage should be ammended. When smart contract is called, all resulting storage changes are verified agains the smart contract code.\n",
    "\n",
    "Each smart contract in tezos consists of four parts\n",
    "- version declaration (of liquidity)\n",
    "- storage definition\n",
    "- storage initialisation\n",
    "- entry functions (at least method main is required. This method is called when contract is executed)\n",
    "\n",
    "Following code shows structure of our initial version of contract.\n",
    "\n",
    "```ocaml\n",
    "[%%version 0.4]\n",
    "  \n",
    "type storage = int\n",
    "\n",
    "let%init storage (init_storage : int) =\n",
    "  init_storage\n",
    "\n",
    "let%entry main (parameter : int) storage =\n",
    "  ( ([] : operation list), storage + parameter )\n",
    "  \n",
    "let%entry add (parameter : int) storage =\n",
    "  ( ([] : operation list), storage + parameter )\n",
    "  \n",
    "let%entry subtract (parameter : int) storage =\n",
    "  ( ([] : operation list), storage - parameter )\n",
    "```\n",
    "\n",
    "Storage block is defining data structure, that will be representing internal state of the contract. For our sample we will use simple structure of type ```int```.\n",
    "\n",
    "Function marked with `let%init` represents initialisation function for the storage. The function should return storage data structure (in this case int). Returned value would be used as a initial storage value.\n",
    "\n",
    "Function main is default entry point for contract. Entry points are taking parameters, storage and returning tuple with list of operations, that should be applied after the contract is executed and storage value after execution of the contract. In our case we are not returning any operations, just incrementing value of internal storage.\n",
    "\n",
    "#### Liquidity Development Tooling\n",
    "Currently there is not many tools, that support development of liquidity contracts. As the language is very similar to OCaml, we suggest to use editors with OCaml syntax highlighting.\n",
    "\n",
    "Other option is to use web [editor provided on liquidity website](http://www.liquidity-lang.org/edit/). This editor provides more advanced features and comes also with lot of samples how to use liquidity."
   ]
  },
  {
   "cell_type": "code",
   "execution_count": 179,
   "metadata": {},
   "outputs": [],
   "source": [
    "mkdir -p ~/tezos-dev/calculator-dapp\n",
    "cd ~/tezos-dev/calculator-dapp\n",
    "\n",
    "/bin/cat <<EOM >Calculator.liq\n",
    "[%%version 0.4]\n",
    "  \n",
    "type storage = int\n",
    "\n",
    "let%init storage (init_storage : int) =\n",
    "  init_storage\n",
    "\n",
    "let%entry main (parameter : int) storage =\n",
    "  ( ([] : operation list), storage + parameter )\n",
    "  \n",
    "let%entry add (parameter : int) storage =\n",
    "  ( ([] : operation list), storage + parameter )\n",
    "  \n",
    "let%entry subtract (parameter : int) storage =\n",
    "  ( ([] : operation list), storage - parameter )\n",
    "EOM\n",
    "\n"
   ]
  },
  {
   "cell_type": "markdown",
   "metadata": {},
   "source": [
    "To deploy the contract to tezos, we will use following command. As parameters we are passing source account and it's private key. In attribute deploy we will pass parameters required for storage initialisation."
   ]
  },
  {
   "cell_type": "code",
   "execution_count": 180,
   "metadata": {},
   "outputs": [
    {
     "name": "stdout",
     "output_type": "stream",
     "text": [
      "Main contract Calculator\n",
      "Main contract Calculator\n",
      "Evaluated initial storage: 0\n",
      "New contract KT1MciKYFuTHdp3AZGTk5SKB9pr3aizRQKXL deployed in operation onq33kBUewSjuDiceboq5bjxz6NCFzuWD8V6MTKU4M9ovnvYtBA\n"
     ]
    }
   ],
   "source": [
    "TZ_HASH=$(tezos-client show address test_account --show-secret 2>/dev/null | grep Hash | cut -d\" \" -f2)\n",
    "TZ_SECRET=$(tezos-client show address test_account --show-secret 2>/dev/null | grep Secret | cut -d\":\" -f3)\n",
    "\n",
    "liquidity \\\n",
    "  --tezos-node 127.0.0.1:18731 \\\n",
    "  --source $TZ_HASH \\\n",
    "  --private-key $TZ_SECRET \\\n",
    "  Calculator.liq \\\n",
    "  --deploy '0' | tee contract_deploy_output.txt\n",
    "  \n",
    "export CONTRACT_HASH=$(grep \"New contract\" contract_deploy_output.txt | cut -d\" \" -f3)\n",
    "export OPERATION_HASH=$(grep \"New contract\" contract_deploy_output.txt | cut -d\" \" -f7)"
   ]
  },
  {
   "cell_type": "markdown",
   "metadata": {},
   "source": [
    "Before continuing we need to bake the block with operation."
   ]
  },
  {
   "cell_type": "code",
   "execution_count": 181,
   "metadata": {},
   "outputs": [
    {
     "name": "stdout",
     "output_type": "stream",
     "text": [
      "Injected block BLKjuNNiPNTh\n"
     ]
    }
   ],
   "source": [
    "tezos-client bake for bootstrap1 2>/dev/null"
   ]
  },
  {
   "cell_type": "markdown",
   "metadata": {},
   "source": [
    "To review storage of the contract we can use liquidity program with command --get-storage. As a parameter we are passing hash of the function."
   ]
  },
  {
   "cell_type": "code",
   "execution_count": 187,
   "metadata": {},
   "outputs": [
    {
     "name": "stdout",
     "output_type": "stream",
     "text": [
      "Main contract Calculator\n",
      "0\n"
     ]
    }
   ],
   "source": [
    "liquidity \\\n",
    " --tezos-node localhost:18731 \\\n",
    " Calculator.liq \\\n",
    " --get-storage $CONTRACT_HASH"
   ]
  },
  {
   "cell_type": "markdown",
   "metadata": {},
   "source": [
    "Now we can start working with the contract."
   ]
  },
  {
   "cell_type": "code",
   "execution_count": 190,
   "metadata": {},
   "outputs": [
    {
     "name": "stdout",
     "output_type": "stream",
     "text": [
      "Main contract Calculator\n",
      "Successful call to contract KT1MciKYFuTHdp3AZGTk5SKB9pr3aizRQKXL in operation ooEc66rVj7t85oXDEwKXLNV4km8mt6T5v134yad3wr58veAgWZy\n"
     ]
    }
   ],
   "source": [
    "liquidity \\\n",
    " --tezos-node localhost:18731 \\\n",
    " --private-key $TZ_SECRET \\\n",
    " Calculator.liq \\\n",
    " --call $CONTRACT_HASH add '10'"
   ]
  },
  {
   "cell_type": "markdown",
   "metadata": {},
   "source": [
    "After executing the command we still don't see results of our operation in storage. To see changes, we need to bake the block first."
   ]
  },
  {
   "cell_type": "code",
   "execution_count": 191,
   "metadata": {},
   "outputs": [
    {
     "name": "stdout",
     "output_type": "stream",
     "text": [
      "Storage before bake\n",
      "Main contract Calculator\n",
      "10\n",
      "Injected block BLNipjFsG9Ax\n",
      "Storage after the block is baked\n",
      "Main contract Calculator\n",
      "20\n"
     ]
    }
   ],
   "source": [
    "echo \"Storage before bake\"\n",
    "liquidity \\\n",
    " --tezos-node localhost:18731 \\\n",
    " Calculator.liq \\\n",
    " --get-storage $CONTRACT_HASH\n",
    " \n",
    "tezos-client bake for bootstrap1 2>/dev/null\n",
    "\n",
    "echo \"Storage after the block is baked\"\n",
    "liquidity \\\n",
    " --tezos-node localhost:18731 \\\n",
    " Calculator.liq \\\n",
    " --get-storage $CONTRACT_HASH"
   ]
  },
  {
   "cell_type": "markdown",
   "metadata": {},
   "source": [
    "## Implementation of application front-end\n",
    "TBD"
   ]
  },
  {
   "cell_type": "code",
   "execution_count": null,
   "metadata": {},
   "outputs": [],
   "source": []
  }
 ],
 "metadata": {
  "kernelspec": {
   "display_name": "Bash",
   "language": "bash",
   "name": "bash"
  },
  "language_info": {
   "codemirror_mode": "shell",
   "file_extension": ".sh",
   "mimetype": "text/x-sh",
   "name": "bash"
  }
 },
 "nbformat": 4,
 "nbformat_minor": 2
}
