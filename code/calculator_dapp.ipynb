{
 "cells": [
  {
   "cell_type": "markdown",
   "metadata": {},
   "source": [
    "# Calculator Sample\n",
    "This sample will guide throught the whole process of implementing, deploying and calling contract in tezos. The guide assumes, that you walk throught it step by step. Scripts are designed to be executed in sequential order. Recommended approach is to walk through the tutorial and then start experimenting and/or looking up more advanced topics afterwards.\n",
    "\n",
    "\n",
    "\n",
    "## Tezos Sandbox environment\n",
    "In this sample we are using tezos sandbox. This instance of tezos is local to you computer only. It's primarily used for internal tezos testing. This platform is usefull for experimentation, however if you would like to test your contracts in environment closer to mainnet, it's recommended to use Alphanet. You can check how to spin up alphanet in the section [working with alphanet](../setup/working_with_alphanet.ipynb).\n",
    "\n",
    "Currently the tezos sandbox requires scripts, that are part of source distribution of tezos. As a prerequisite it's required to build tezos from sources [source build of tezos and liquidity](../setup/source_install.ipynb). \n",
    "\n",
    "For usage of sandbox it is required to start tezos node. In full network tezos is using also other [components](../tezos/technical_architecture.md) like `endorser`, `accuser` and `baker`. These components are not used in the sample bellow. Still for development we would need to bake our blocks. To achive that tezos is providing possibility to bake blocks in sandbox using `tezos-client bake ...` command. Baking needs to be executed after every modification of blockchain. Scripts are designed in a way to execute bake after each modification, however in other tezos networks baking is achived using `baker` component.\n",
    "\n",
    "\n",
    "### Starting the Node for Sandbox Environment\n",
    "Following commands will start the node for the sandbox network. Script `tezos-sandboxed-node.sh` has one mandatory parameter - number from 1 to 9. This parameter is used to construct RPC port on which sandbox node will be listening. \n",
    "\n",
    "Port generation rule:\n",
    "\n",
    "| Parameter | RPC Port | Node listening for peers |\n",
    "| --- | --- | --- |\n",
    "| 1 | 1873**1** | 1973**1** |\n",
    "| 2 | 1873**2** | 1973**2** |\n",
    "| 3 | 1873**3** | 1973**3** |\n",
    "| 4 | ... |  |\n",
    "\n",
    "\n",
    "For more info on sandbox mode, please consult [tezos documentation on sandbox](http://tezos.gitlab.io/mainnet/introduction/various.html#use-sandboxed-mode)\n",
    "\n",
    "For convenience, we will run the sandbox as a daemon. Alternatively it's possible to run it in separate terminal.\n",
    "\n",
    "One important consideration when running Sandbox is persistence. **Sandbox as initiated by provided scripts will be erased after the node is terminated. This needs to be considered when doing development.**"
   ]
  },
  {
   "cell_type": "code",
   "execution_count": 1,
   "metadata": {},
   "outputs": [],
   "source": [
    "# Initialisation of variables to be used later in tutorial\n",
    "export TEZOS_HOME=~/tezos-dev/tezos\n",
    "export TEZOS_NODE_URL=\"127.0.0.1:18731\"\n",
    "\n",
    "# This variable will disable disclaimer about used tezos network. For this guide we will \n",
    "# disable it to make command outputs less cluttered. However we strongly discourage to \n",
    "# use this setting for your regular work. (source : Tezos Source code reverse engineering)\n",
    "export TEZOS_CLIENT_UNSAFE_DISABLE_DISCLAIMER=yes"
   ]
  },
  {
   "cell_type": "code",
   "execution_count": 2,
   "metadata": {},
   "outputs": [
    {
     "name": "stdout",
     "output_type": "stream",
     "text": [
      "[1] 11512\n"
     ]
    }
   ],
   "source": [
    "cd $TEZOS_HOME\n",
    "\n",
    "./src/bin_node/tezos-sandboxed-node.sh \\\n",
    "  1 \\\n",
    "  --cors-header=\"*\" \\\n",
    "  --cors-origin=\"*\" \\\n",
    "  --connections 1 \\\n",
    "  1>tezos_sandbox_log.txt 2>&1 &\n",
    "\n",
    "#Exporting node pid so we can terminate the sandbox node after the tutorial.\n",
    "export NODE_PID=$! \n",
    "echo $NODE_PID > tezos_sandbox_pid.txt"
   ]
  },
  {
   "cell_type": "markdown",
   "metadata": {},
   "source": [
    "### Initialize Client for Sandbox\n",
    "Sandbox environment is running on different TCP ports. To reconfigure client to use these values and also to register accounts available in sandbox, tezos is providing initialization script. It's possible to use `tezos-client` even without initialisation, however in this case [wallets](../tezos/basic_concepts.md#Wallet) linked with testing accounts will be not available.\n",
    "\n",
    "Script will initialize variables and default configuration for the `tezos-client`. Also the script will register aliases for common commands like `tezos-client`. **The variables are present only in current shell. When opening other shell it's required to rerun the command.** If more then two terminals are required, it's possible to run the script in other terminal again. Please note the number after the shell script. This is node identifier - it should match to number of node in previous section.\n"
   ]
  },
  {
   "cell_type": "code",
   "execution_count": 3,
   "metadata": {},
   "outputs": [
    {
     "name": "stdout",
     "output_type": "stream",
     "text": [
      "## Tezos address added: tz1KqTpEZ7Yob7QbPE4Hy4Wo8fHG8LhKxZSx\n",
      "## Tezos address added: tz1gjaF81ZRRvdzjobyfVNsAeSC6PScjfQwN\n",
      "## Tezos address added: tz1faswCTDciRzE4oJ9jn2Vm2dvjeyA9fUzU\n",
      "## Tezos address added: tz1b7tUupMgCNw2cCLpKTkSD1NZzB5TkP2sv\n",
      "## Tezos address added: tz1ddb9NMYHZi5UzPdzTZMYQQZoMub195zgv\n",
      "## Tezos address added: tz1TGu6TN5GSez2ndXXeDX6LgUDvLzPLqgYV\n",
      "## \n",
      "## The client is now properly initialized. In the rest of this shell\n",
      "## session, you might now run `tezos-client` to communicate with a\n",
      "## tezos node launched with `launch-sandboxed-node 1`. For instance:\n",
      "## \n",
      "##   tezos-client rpc get /chains/main/blocks/head/metadata\n",
      "## \n",
      "## Note: if the current protocol version, as reported by the previous\n",
      "## command, is \"Ps9mPmXaRzmzk35gbAYNCAw6UXdE2qoABTHbN2oEEc1qM7CwT9P\", you\n",
      "## may have to activate in your \"sandboxed network\" the same economic\n",
      "## protocol than used by the alphanet by running:\n",
      "## \n",
      "##   tezos-activate-alpha\n",
      "## \n",
      "## Warning: all the client data will be removed when you close this shell\n",
      "## or if you run this command a second time.\n",
      "## \n",
      "## Activate tab completion by running:\n",
      "## \n",
      "##   tezos-autocomplete\n",
      "## \n"
     ]
    }
   ],
   "source": [
    "#It is required to run following script with the same parameter as the sandbox node was executed (in our case 1)\n",
    "cd $TEZOS_HOME\n",
    "eval `./src/bin_client/tezos-init-sandboxed-client.sh 1`"
   ]
  },
  {
   "cell_type": "markdown",
   "metadata": {},
   "source": [
    "### Activate of Sandbox blockchain\n",
    "To start working with the tezos sandbox, it's required to bootstrap blockchain. This can be achieved by calling `tezos-activate-alpha` script.\n",
    "\n",
    "The script will create genesis block and register testing accounts with some &#xA729; balances in `tezos-client`."
   ]
  },
  {
   "cell_type": "code",
   "execution_count": 4,
   "metadata": {},
   "outputs": [
    {
     "name": "stdout",
     "output_type": "stream",
     "text": [
      "Injected BKy7nVTwTHqB\n"
     ]
    }
   ],
   "source": [
    "tezos-activate-alpha "
   ]
  },
  {
   "cell_type": "markdown",
   "metadata": {},
   "source": [
    "## Reading Data and Navigation Throught Blockchain\n",
    "After the creation it's possible to check how the actual blockchain look like. Tezos is providing RESTfull RPC interface. It's possible to check in browser directly or using commandline tools. Full documentation of Tezos RPC is provided in [RPC documentation](http://tezos.gitlab.io/mainnet/tutorials/rpc.html).\n",
    "\n",
    "Following sample shows how to get head of the blockchain (latest block)."
   ]
  },
  {
   "cell_type": "code",
   "execution_count": 5,
   "metadata": {},
   "outputs": [
    {
     "name": "stdout",
     "output_type": "stream",
     "text": [
      "+ curl -s http://127.0.0.1:18731/chains/main/blocks/head\n",
      "+ jq\n",
      "\u001b[1;39m{\n",
      "  \u001b[0m\u001b[34;1m\"protocol\"\u001b[0m\u001b[1;39m: \u001b[0m\u001b[0;32m\"Ps6mwMrF2ER2s51cp9yYpjDcuzQjsc2yAz8bQsRgdaRxw4Fk95H\"\u001b[0m\u001b[1;39m,\n",
      "  \u001b[0m\u001b[34;1m\"chain_id\"\u001b[0m\u001b[1;39m: \u001b[0m\u001b[0;32m\"NetXgtSLGNJvNye\"\u001b[0m\u001b[1;39m,\n",
      "  \u001b[0m\u001b[34;1m\"hash\"\u001b[0m\u001b[1;39m: \u001b[0m\u001b[0;32m\"BKy7nVTwTHqBjQAqnZPvZtaPmrRv15VzXGqDsTRDcDpKFxcxaSw\"\u001b[0m\u001b[1;39m,\n",
      "  \u001b[0m\u001b[34;1m\"header\"\u001b[0m\u001b[1;39m: \u001b[0m\u001b[1;39m{\n",
      "    \u001b[0m\u001b[34;1m\"level\"\u001b[0m\u001b[1;39m: \u001b[0m\u001b[0;39m1\u001b[0m\u001b[1;39m,\n",
      "    \u001b[0m\u001b[34;1m\"proto\"\u001b[0m\u001b[1;39m: \u001b[0m\u001b[0;39m1\u001b[0m\u001b[1;39m,\n",
      "    \u001b[0m\u001b[34;1m\"predecessor\"\u001b[0m\u001b[1;39m: \u001b[0m\u001b[0;32m\"BLockGenesisGenesisGenesisGenesisGenesisb83baZgbyZe\"\u001b[0m\u001b[1;39m,\n",
      "    \u001b[0m\u001b[34;1m\"timestamp\"\u001b[0m\u001b[1;39m: \u001b[0m\u001b[0;32m\"2019-01-16T09:40:37Z\"\u001b[0m\u001b[1;39m,\n",
      "    \u001b[0m\u001b[34;1m\"validation_pass\"\u001b[0m\u001b[1;39m: \u001b[0m\u001b[0;39m0\u001b[0m\u001b[1;39m,\n",
      "    \u001b[0m\u001b[34;1m\"operations_hash\"\u001b[0m\u001b[1;39m: \u001b[0m\u001b[0;32m\"LLoZS2LW3rEi7KYU4ouBQtorua37aWWCtpDmv1n2x3xoKi6sVXLWp\"\u001b[0m\u001b[1;39m,\n",
      "    \u001b[0m\u001b[34;1m\"fitness\"\u001b[0m\u001b[1;39m: \u001b[0m\u001b[1;39m[\n",
      "      \u001b[0;32m\"00\"\u001b[0m\u001b[1;39m,\n",
      "      \u001b[0;32m\"0000000000000001\"\u001b[0m\u001b[1;39m\n",
      "    \u001b[1;39m]\u001b[0m\u001b[1;39m,\n",
      "    \u001b[0m\u001b[34;1m\"context\"\u001b[0m\u001b[1;39m: \u001b[0m\u001b[0;32m\"CoVA4UW7oRk5ed9AZwphxL7nZoD6o4WUHxzDP6nyjsRTVrLiKpTy\"\u001b[0m\u001b[1;39m,\n",
      "    \u001b[0m\u001b[34;1m\"content\"\u001b[0m\u001b[1;39m: \u001b[0m\u001b[1;39m{\n",
      "      \u001b[0m\u001b[34;1m\"command\"\u001b[0m\u001b[1;39m: \u001b[0m\u001b[0;32m\"activate\"\u001b[0m\u001b[1;39m,\n",
      "      \u001b[0m\u001b[34;1m\"hash\"\u001b[0m\u001b[1;39m: \u001b[0m\u001b[0;32m\"PsddFKi32cMJ2qPjf43Qv5GDWLDPZb3T3bF6fLKiF5HtvHNU7aP\"\u001b[0m\u001b[1;39m,\n",
      "      \u001b[0m\u001b[34;1m\"fitness\"\u001b[0m\u001b[1;39m: \u001b[0m\u001b[1;39m[\n",
      "        \u001b[0;32m\"00\"\u001b[0m\u001b[1;39m,\n",
      "        \u001b[0;32m\"0000000000000001\"\u001b[0m\u001b[1;39m\n",
      "      \u001b[1;39m]\u001b[0m\u001b[1;39m,\n",
      "      \u001b[0m\u001b[34;1m\"protocol_parameters\"\u001b[0m\u001b[1;39m: \u001b[0m\u001b[0;32m\"000007aeae07000004626f6f7473747261705f6163636f756e7473005a02000004300058000000023000370000006564706b75426b6e5732386e5737324b4736526f48745957377031325436474b63376e4162775958356d385764397344564339796176000231000e00000034303030303030303030303030000004310058000000023000370000006564706b747a4e624441556a556b36393757376759673243527542516a79507862456738644c63635959774b534b766b50766a745639000231000e00000034303030303030303030303030000004320058000000023000370000006564706b7554586b4a4447634664356e683656764d7a38706858785533426937683668716779774e466931765a5466514e6e53315256000231000e00000034303030303030303030303030000004330058000000023000370000006564706b754672526f445345624a59677852744c783270733832556461596331577766533973453131796861755a7435446743486255000231000e00000034303030303030303030303030000004340058000000023000370000006564706b76384555554836386a6d6f336637556d3550657a6d66477252463234676e664c70483373564e774a6e5635625643784c326e000231000e0000003430303030303030303030303000000435003c00000002300025000000747a31506f6f554b42616f786a426943523264784574627454556a4c583369615a516f4a000231000400000031303000000436004c000000023000370000006564706b75534c57665655315671374a673946756350794b6d6d61366f74634d486163397a47346f55314b4d48535442704a7547513200023100020000003100000004626f6f7473747261705f636f6e74726163747300840400000330007c0400000264656c65676174650025000000747a3154477536544e354753657a326e645858654458364c675544764c7a504c716759560002616d6f756e74000900000031303030303030300003736372697074002704000004636f646500030400000330003f000000027072696d000a000000706172616d65746572000461726773002000000003300018000000027072696d00090000006b65795f68617368000000000331003e000000027072696d000800000073746f72616765000461726773002100000003300019000000027072696d000a00000074696d657374616d700000000003320078030000027072696d0005000000636f6465000461726773005e03000004300056030000043000780000000430007000000003300013000000027072696d0004000000445550000003310013000000027072696d000400000043415200000332003c000000027072696d000400000044495000046172677300230000000430001b00000003300013000000027072696d00040000004344520000000000000003310014000000027072696d00050000005357415000000332004a000000027072696d000500000050555348000461726773003000000003300013000000027072696d0004000000696e7400000331001200000002696e740004000000333030000000000333003b000000027072696d00040000004144440004616e6e6f747300200000000230001400000040464956455f4d494e555445535f4c4154455200000003340013000000027072696d00040000004e4f570000043500a60000000430003400000003300017000000027072696d0008000000434f4d50415245000003310012000000027072696d0003000000474500000003310067000000027072696d00030000004946000461726773004f00000004300005000000000431003f0000000430003700000003300014000000027072696d0005000000554e4954000003310018000000027072696d00090000004641494c574954480000000000000003360020000000027072696d0011000000494d504c494349545f4143434f554e54000003370050000000027072696d000500000050555348000461726773003600000003300015000000027072696d00060000006d7574657a00000331001600000002696e740008000000313030303030300000000003380014000000027072696d0005000000554e495400000339001f000000027072696d00100000005452414e534645525f544f4b454e530000033130003a000000027072696d00040000004e494c000461726773002100000003300019000000027072696d000a0000006f7065726174696f6e000000000331310014000000027072696d00050000005357415000000331320014000000027072696d0005000000434f4e530000033133003c000000027072696d000400000044495000046172677300230000000430001b00000003300013000000027072696d00040000004e4f5700000000000331340014000000027072696d0005000000504149520000000000000373746f72616765001000000002696e7400020000003000000000000474696d655f6265747765656e5f626c6f636b7300170000000230000200000031000231000200000030000001626c6f636b735f7065725f726f6c6c5f736e617073686f7400000000000000104001626c6f636b735f7065725f6379636c65000000000000002040017072657365727665645f6379636c65730000000000000000400270726f6f665f6f665f776f726b5f7468726573686f6c6400030000002d310000\"\u001b[0m\u001b[1;39m\n",
      "    \u001b[1;39m}\u001b[0m\u001b[1;39m,\n",
      "    \u001b[0m\u001b[34;1m\"signature\"\u001b[0m\u001b[1;39m: \u001b[0m\u001b[0;32m\"sigWic1buViJh1G5ePT6nSrqAhaYuiAhenz6HGpMxNhqLMn81Dse51YM9cKctWZwxVzPmBFKcgdXsrWFioiSdGWCGU6jYUSu\"\u001b[0m\u001b[1;39m\n",
      "  \u001b[1;39m}\u001b[0m\u001b[1;39m,\n",
      "  \u001b[0m\u001b[34;1m\"metadata\"\u001b[0m\u001b[1;39m: \u001b[0m\u001b[1;39m{\n",
      "    \u001b[0m\u001b[34;1m\"protocol\"\u001b[0m\u001b[1;39m: \u001b[0m\u001b[0;32m\"Ps6mwMrF2ER2s51cp9yYpjDcuzQjsc2yAz8bQsRgdaRxw4Fk95H\"\u001b[0m\u001b[1;39m,\n",
      "    \u001b[0m\u001b[34;1m\"next_protocol\"\u001b[0m\u001b[1;39m: \u001b[0m\u001b[0;32m\"PsddFKi32cMJ2qPjf43Qv5GDWLDPZb3T3bF6fLKiF5HtvHNU7aP\"\u001b[0m\u001b[1;39m,\n",
      "    \u001b[0m\u001b[34;1m\"test_chain_status\"\u001b[0m\u001b[1;39m: \u001b[0m\u001b[1;39m{\n",
      "      \u001b[0m\u001b[34;1m\"status\"\u001b[0m\u001b[1;39m: \u001b[0m\u001b[0;32m\"not_running\"\u001b[0m\u001b[1;39m\n",
      "    \u001b[1;39m}\u001b[0m\u001b[1;39m,\n",
      "    \u001b[0m\u001b[34;1m\"max_operations_ttl\"\u001b[0m\u001b[1;39m: \u001b[0m\u001b[0;39m1\u001b[0m\u001b[1;39m,\n",
      "    \u001b[0m\u001b[34;1m\"max_operation_data_length\"\u001b[0m\u001b[1;39m: \u001b[0m\u001b[0;39m16384\u001b[0m\u001b[1;39m,\n",
      "    \u001b[0m\u001b[34;1m\"max_block_header_length\"\u001b[0m\u001b[1;39m: \u001b[0m\u001b[0;39m238\u001b[0m\u001b[1;39m,\n",
      "    \u001b[0m\u001b[34;1m\"max_operation_list_length\"\u001b[0m\u001b[1;39m: \u001b[0m\u001b[1;39m[\n",
      "      \u001b[1;39m{\n",
      "        \u001b[0m\u001b[34;1m\"max_size\"\u001b[0m\u001b[1;39m: \u001b[0m\u001b[0;39m32768\u001b[0m\u001b[1;39m,\n",
      "        \u001b[0m\u001b[34;1m\"max_op\"\u001b[0m\u001b[1;39m: \u001b[0m\u001b[0;39m32\u001b[0m\u001b[1;39m\n",
      "      \u001b[1;39m}\u001b[0m\u001b[1;39m,\n",
      "      \u001b[1;39m{\n",
      "        \u001b[0m\u001b[34;1m\"max_size\"\u001b[0m\u001b[1;39m: \u001b[0m\u001b[0;39m32768\u001b[0m\u001b[1;39m\n",
      "      \u001b[1;39m}\u001b[0m\u001b[1;39m,\n",
      "      \u001b[1;39m{\n",
      "        \u001b[0m\u001b[34;1m\"max_size\"\u001b[0m\u001b[1;39m: \u001b[0m\u001b[0;39m135168\u001b[0m\u001b[1;39m,\n",
      "        \u001b[0m\u001b[34;1m\"max_op\"\u001b[0m\u001b[1;39m: \u001b[0m\u001b[0;39m132\u001b[0m\u001b[1;39m\n",
      "      \u001b[1;39m}\u001b[0m\u001b[1;39m,\n",
      "      \u001b[1;39m{\n",
      "        \u001b[0m\u001b[34;1m\"max_size\"\u001b[0m\u001b[1;39m: \u001b[0m\u001b[0;39m524288\u001b[0m\u001b[1;39m\n",
      "      \u001b[1;39m}\u001b[0m\u001b[1;39m\n",
      "    \u001b[1;39m]\u001b[0m\u001b[1;39m\n",
      "  \u001b[1;39m}\u001b[0m\u001b[1;39m,\n",
      "  \u001b[0m\u001b[34;1m\"operations\"\u001b[0m\u001b[1;39m: \u001b[0m\u001b[1;39m[]\u001b[0m\u001b[1;39m\n",
      "\u001b[1;39m}\u001b[0m\n",
      "+ set +x\n"
     ]
    }
   ],
   "source": [
    "#Enabling BASH debug to see variable expansion\n",
    "set -x\n",
    "\n",
    "#Following commands are equivalent\n",
    "#\n",
    "#  tezos-client rpc get chains/main/blocks/head\n",
    "#  curl -s http://<address of rpc>/chains/main/blocks/head\n",
    "#\n",
    "\n",
    "curl -s \"http://$TEZOS_NODE_URL/chains/main/blocks/head\" | jq\n",
    "\n",
    "#Disabling BASH debug\n",
    "set +x"
   ]
  },
  {
   "cell_type": "markdown",
   "metadata": {},
   "source": [
    "Despite possibility to reach RPC using several tools, for learning we encourage to use `tezos-client`. `tezos-client` does provide `list` command, that enables easy navigation and also shows documentation for individual endpoints. "
   ]
  },
  {
   "cell_type": "code",
   "execution_count": 6,
   "metadata": {},
   "outputs": [
    {
     "name": "stdout",
     "output_type": "stream",
     "text": [
      "\n",
      "Available services:\n",
      "  \n",
      "  + chains/<chain_id>/\n",
      "    - GET /chains/<chain_id>/blocks\n",
      "        Lists known heads of the blockchain sorted with decreasing fitness.\n",
      "        Optional arguments allows to returns the list of predecessors for\n",
      "        known heads or the list of predecessors for a given list of blocks. \n",
      "    - /chains/<chain_id>/blocks/<block_id> <dynamic>\n",
      "    - GET /chains/<chain_id>/chain_id\n",
      "        The chain unique identifier. \n",
      "    - GET /chains/<chain_id>/invalid_blocks\n",
      "        Lists blocks that have been declared invalid along with the errors\n",
      "        that led to them being declared invalid. \n",
      "    - GET /chains/<chain_id>/invalid_blocks/<block_hash>\n",
      "        The errors that appears during the block (in)validation. \n",
      "    - DELETE /chains/<chain_id>/invalid_blocks/<block_hash>\n",
      "        Remove an invalid block for the tezos storage \n",
      "    - /chains/<chain_id>/mempool <dynamic>\n",
      "  - GET /errors\n",
      "      Schema for all the RPC errors from the shell \n",
      "  + injection/\n",
      "    - POST /injection/block\n",
      "        Inject a block in the node and broadcast it. The `operations`\n",
      "        embedded in `blockHeader` might be pre-validated using a contextual\n",
      "        RPCs from the latest block (e.g. '/blocks/head/context/preapply').\n",
      "        Returns the ID of the block. By default, the RPC will wait for the\n",
      "        block to be validated before answering. \n",
      "    - POST /injection/operation\n",
      "        Inject an operation in node and broadcast it. Returns the ID of the\n",
      "        operation. The `signedOperationContents` should be constructed using\n",
      "        a contextual RPCs from the latest block and signed by the client. By\n",
      "        default, the RPC will wait for the operation to be (pre-)validated\n",
      "        before answering. See RPCs under /blocks/prevalidation for more\n",
      "        details on the prevalidation context. \n",
      "    - POST /injection/protocol\n",
      "        Inject a protocol in node. Returns the ID of the protocol. \n",
      "  + monitor/\n",
      "    - GET /monitor/bootstrapped\n",
      "        Wait for the node to have synchronized its chain with a few peers\n",
      "        (configured by the node's administrator), streaming head updates that\n",
      "        happen during the bootstrapping process, and closing the stream at\n",
      "        the end. If the node was already bootstrapped, returns the current\n",
      "        head immediately. \n",
      "    - GET /monitor/heads/<chain_id>\n",
      "        Monitor all blocks that are succesfully validated by the node and\n",
      "        selected as the new head of the given chain. \n",
      "    - GET /monitor/protocols\n",
      "        Monitor all economic protocols that are retrieved and succesfully\n",
      "        loaded and compiled by the node. \n",
      "    - GET /monitor/valid_blocks\n",
      "        Monitor all blocks that are succesfully validated by the node,\n",
      "        disregarding whether they were selected as the new head or not. \n",
      "  + network/\n",
      "    - GET /network/connections\n",
      "        List the running P2P connection. \n",
      "    - GET /network/connections/<peer_id>\n",
      "        Details about the current P2P connection to the given peer. \n",
      "    - DELETE /network/connections/<peer_id>\n",
      "        Forced close of the current P2P connection to the given peer. \n",
      "    - GET /network/greylist/clear\n",
      "        Clear all greylists tables. \n",
      "    - GET /network/log\n",
      "        Stream of all network events \n",
      "    - GET /network/peers\n",
      "        List the peers the node ever met. \n",
      "    + peers/<peer_id>/\n",
      "      - GET /network/peers/<peer_id>/ban\n",
      "          Blacklist the given peer and remove it from the whitelist if\n",
      "          present. \n",
      "      - GET /network/peers/<peer_id>/banned\n",
      "          Check if a given peer is blacklisted or greylisted. \n",
      "      - GET /network/peers/<peer_id>/log\n",
      "          Monitor network events related to a given peer. \n",
      "      - GET /network/peers/<peer_id>/trust\n",
      "          Whitelist a given peer permanently and remove it from the blacklist\n",
      "          if present. The peer cannot be blocked (but its host IP still can). \n",
      "      - GET /network/peers/<peer_id>/unban\n",
      "          Remove the given peer from the blacklist. \n",
      "      - GET /network/peers/<peer_id>/untrust\n",
      "          Remove a given peer from the whitelist. \n",
      "    - GET /network/points\n",
      "        List the pool of known `IP:port` used for establishing P2P\n",
      "        connections. \n",
      "    + points/<point>/\n",
      "      - GET /network/points/<point>/ban\n",
      "          Blacklist the given address and remove it from the whitelist if\n",
      "          present. \n",
      "      - GET /network/points/<point>/banned\n",
      "          Check is a given address is blacklisted or greylisted. \n",
      "      - GET /network/points/<point>/log\n",
      "          Monitor network events related to an `IP:addr`. \n",
      "      - GET /network/points/<point>/trust\n",
      "          Trust a given address permanently and remove it from the blacklist\n",
      "          if present. Connections from this address can still be closed on\n",
      "          authentication if the peer is greylisted. \n",
      "      - GET /network/points/<point>/unban\n",
      "          Remove an address from the blacklist. \n",
      "      - GET /network/points/<point>/untrust\n",
      "          Remove an address from the whitelist. \n",
      "    - GET /network/self\n",
      "        Return the node's peer id \n",
      "    - GET /network/stat\n",
      "        Global network bandwidth statistics in B/s. \n",
      "    - GET /network/versions\n",
      "        Supported network layer versions. \n",
      "  - GET /protocols\n",
      "  - GET /protocols/<Protocol_hash>\n",
      "  + workers/\n",
      "    - GET /workers/block_validator\n",
      "        Introspect the state of the block_validator worker. \n",
      "    - GET /workers/chain_validators\n",
      "        Lists the chain validator workers and their status. \n",
      "    + chain_validators/<chain_id>/\n",
      "      - GET /workers/chain_validators/<chain_id>/peers_validators\n",
      "          Lists the peer validator workers and their status. \n",
      "      - GET /workers/chain_validators/<chain_id>/peers_validators/<peer_id>\n",
      "          Introspect the state of a peer validator worker. \n",
      "    - GET /workers/prevalidators\n",
      "        Lists the Prevalidator workers and their status. \n",
      "    - GET /workers/prevalidators/<chain_id>\n",
      "        Introspect the state of prevalidator workers. \n",
      "\n",
      "\n",
      "Dynamic parameter description:\n",
      "  \n",
      "  <Protocol_hash>\n",
      "      Protocol_hash (Base58Check-encoded) \n",
      "  <point>\n",
      "      A network point (ipv4:port or [ipv6]:port). \n",
      "  <peer_id>\n",
      "      A cryptographic node identity (Base58Check-encoded) \n",
      "  <block_hash>\n",
      "      block_hash (Base58Check-encoded) \n",
      "  <block_id>\n",
      "      A block identifier. This is either a block hash in Base58Check\n",
      "      notation, one the predefined aliases: 'genesis', 'head' or a block\n",
      "      level (index in the chain). One might also use 'head~N' or '<hash>~N'\n",
      "      where N is an integer to denote the Nth predecessor of the designated\n",
      "      block.Also, '<hash>+N' denotes the Nth successor of a block. \n",
      "  <chain_id>\n",
      "      A chain identifier. This is either a chain hash in Base58Check notation\n",
      "      or a one the predefined aliases: 'main', 'test'. \n",
      "\n"
     ]
    }
   ],
   "source": [
    "tezos-client rpc list "
   ]
  },
  {
   "cell_type": "markdown",
   "metadata": {},
   "source": [
    "Following commands are showing documentation and call of sample endpoint."
   ]
  },
  {
   "cell_type": "code",
   "execution_count": 7,
   "metadata": {},
   "outputs": [
    {
     "name": "stdout",
     "output_type": "stream",
     "text": [
      "\n",
      "Available services:\n",
      "  \n",
      "  + chains/main/blocks/head/\n",
      "    + context/\n",
      "      - GET /chains/main/blocks/head/context/constants\n",
      "          All constants \n",
      "      - GET /chains/main/blocks/head/context/constants/errors\n",
      "          Schema for all the RPC errors from this protocol version \n",
      "      - GET /chains/main/blocks/head/context/contracts\n",
      "          All existing contracts (including non-empty default contracts). \n",
      "      + contracts/<contract_id>/\n",
      "        - GET /chains/main/blocks/head/context/contracts/<contract_id>/balance\n",
      "            Access the balance of a contract. \n",
      "        - POST /chains/main/blocks/head/context/contracts/<contract_id>/big_map_get\n",
      "            Access the value associated with a key in the big map storage of\n",
      "            the contract. \n",
      "        - GET /chains/main/blocks/head/context/contracts/<contract_id>/counter\n",
      "            Access the counter of a contract, if any. \n",
      "        - GET /chains/main/blocks/head/context/contracts/<contract_id>/delegatable\n",
      "            Tells if the contract delegate can be changed. \n",
      "        - GET /chains/main/blocks/head/context/contracts/<contract_id>/delegate\n",
      "            Access the delegate of a contract, if any. \n",
      "        - GET /chains/main/blocks/head/context/contracts/<contract_id>/manager\n",
      "            Access the manager of a contract. \n",
      "        - GET /chains/main/blocks/head/context/contracts/<contract_id>/manager_key\n",
      "            Access the manager of a contract. \n",
      "        - GET /chains/main/blocks/head/context/contracts/<contract_id>/script\n",
      "            Access the code and data of the contract. \n",
      "        - GET /chains/main/blocks/head/context/contracts/<contract_id>/spendable\n",
      "            Tells if the contract tokens can be spent by the manager. \n",
      "        - GET /chains/main/blocks/head/context/contracts/<contract_id>/storage\n",
      "            Access the data of the contract. \n",
      "      - GET /chains/main/blocks/head/context/delegates\n",
      "          Lists all registered delegates. \n",
      "      + delegates/<pkh>/\n",
      "        - GET /chains/main/blocks/head/context/delegates/<pkh>/balance\n",
      "            Returns the full balance of a given delegate, including the\n",
      "            frozen balances. \n",
      "        - GET /chains/main/blocks/head/context/delegates/<pkh>/deactivated\n",
      "            Tells whether the delegate is currently tagged as deactivated or\n",
      "            not. \n",
      "        - GET /chains/main/blocks/head/context/delegates/<pkh>/delegated_balance\n",
      "            Returns the balances of all the contracts that delegate to a\n",
      "            given delegate. This excludes the delegate's own balance and its\n",
      "            frozen balances. \n",
      "        - GET /chains/main/blocks/head/context/delegates/<pkh>/delegated_contracts\n",
      "            Returns the list of contracts that delegate to a given delegate. \n",
      "        - GET /chains/main/blocks/head/context/delegates/<pkh>/frozen_balance\n",
      "            Returns the total frozen balances of a given delegate, this\n",
      "            includes the frozen deposits, rewards and fees. \n",
      "        - GET /chains/main/blocks/head/context/delegates/<pkh>/frozen_balance_by_cycle\n",
      "            Returns the frozen balances of a given delegate, indexed by the\n",
      "            cycle by which it will be unfrozen \n",
      "        - GET /chains/main/blocks/head/context/delegates/<pkh>/grace_period\n",
      "            Returns the cycle by the end of which the delegate might be\n",
      "            deactivated if she fails to execute any delegate action. A\n",
      "            deactivated delegate might be reactivated (without loosing any\n",
      "            rolls) by simply re-registering as a delegate. For deactivated\n",
      "            delegates, this value contains the cycle by which they were\n",
      "            deactivated. \n",
      "        - GET /chains/main/blocks/head/context/delegates/<pkh>/staking_balance\n",
      "            Returns the total amount of tokens delegated to a given delegate.\n",
      "            This includes the balances of all the contracts that delegate to\n",
      "            it, but also the balance of the delegate itself and its frozen\n",
      "            fees and deposits. The rewards do not count in the delegated\n",
      "            balance until they are unfrozen. \n",
      "      - GET /chains/main/blocks/head/context/nonces/<block_level>\n",
      "          Info about the nonce of a previous block. \n",
      "      - GET /chains/main/blocks/head/context/raw/bytes\n",
      "          Returns the raw context. \n",
      "      - /chains/main/blocks/head/context/raw/json <dynamic>\n",
      "      - POST /chains/main/blocks/head/context/seed\n",
      "          Seed of the cycle to which the block belongs. \n",
      "    - GET /chains/main/blocks/head/hash\n",
      "        The block's hash, its unique identifier. \n",
      "    + header/\n",
      "      - GET /chains/main/blocks/head/header/protocol_data\n",
      "          The version-specific fragment of the block header. \n",
      "      - GET /chains/main/blocks/head/header/protocol_data/raw\n",
      "          The version-specific fragment of the block header (unparsed). \n",
      "      - GET /chains/main/blocks/head/header/raw\n",
      "          The whole block header (unparsed). \n",
      "      - GET /chains/main/blocks/head/header/shell\n",
      "          The shell-specific fragment of the block header. \n",
      "    + helpers/\n",
      "      - GET /chains/main/blocks/head/helpers/baking_rights\n",
      "          Retrieves the list of delegates allowed to bake a block.\n",
      "By\n",
      "          default, it gives the best baking priorities for bakers that have\n",
      "          at least one opportunity below the 64th priority for the next\n",
      "          block.\n",
      "Parameters `level` and `cycle` can be used to specify the\n",
      "          (valid) level(s) in the past or future at which the baking rights\n",
      "          have to be returned. Parameter `delegate` can be used to restrict\n",
      "          the results to the given delegates. If parameter `all` is set, all\n",
      "          the baking opportunities for each baker at each level are returned,\n",
      "          instead of just the first one.\n",
      "Returns the list of baking slots.\n",
      "          Also returns the minimal timestamps that correspond to these slots.\n",
      "          The timestamps are omitted for levels in the past, and are only\n",
      "          estimates for levels later that the next block, based on the\n",
      "          hypothesis that all predecessor blocks were baked at the first\n",
      "          priority. \n",
      "      - GET /chains/main/blocks/head/helpers/complete/<prefix>\n",
      "          Try to complete a prefix of a Base58Check-encoded data. This RPC is\n",
      "          actually able to complete hashes of block, operations, public_keys\n",
      "          and contracts. \n",
      "      - GET /chains/main/blocks/head/helpers/current_level\n",
      "          Returns the level of the interrogated block, or the one of a block\n",
      "          located `offset` blocks after in the chain (or before when\n",
      "          negative). For instance, the next block if `offset` is 1. \n",
      "      - GET /chains/main/blocks/head/helpers/endorsing_rights\n",
      "          Retrieves the delegates allowed to endorse a block.\n",
      "By default, it\n",
      "          gives the endorsement slots for delegates that have at least one in\n",
      "          the next block.\n",
      "Parameters `level` and `cycle` can be used to\n",
      "          specify the (valid) level(s) in the past or future at which the\n",
      "          endorsement rights have to be returned. Parameter `delegate` can be\n",
      "          used to restrict the results to the given delegates.\n",
      "Returns the\n",
      "          list of endorsement slots. Also returns the minimal timestamps that\n",
      "          correspond to these slots. The timestamps are omitted for levels in\n",
      "          the past, and are only estimates for levels later that the next\n",
      "          block, based on the hypothesis that all predecessor blocks were\n",
      "          baked at the first priority. \n",
      "      - POST /chains/main/blocks/head/helpers/forge/operations\n",
      "          Forge an operation \n",
      "      - POST /chains/main/blocks/head/helpers/forge/protocol_data\n",
      "          Forge the protocol-specific part of a block header \n",
      "      - POST /chains/main/blocks/head/helpers/forge_block_header\n",
      "          Forge a block header \n",
      "      - GET /chains/main/blocks/head/helpers/levels_in_current_cycle\n",
      "          Levels of a cycle \n",
      "      - POST /chains/main/blocks/head/helpers/parse/block\n",
      "          Parse a block \n",
      "      - POST /chains/main/blocks/head/helpers/parse/operations\n",
      "          Parse operations \n",
      "      - POST /chains/main/blocks/head/helpers/preapply/block\n",
      "          Simulate the validation of a block that would contain the given\n",
      "          operations and return the resulting fitness and context hash. \n"
     ]
    },
    {
     "name": "stdout",
     "output_type": "stream",
     "text": [
      "      - POST /chains/main/blocks/head/helpers/preapply/operations\n",
      "          Simulate the validation of an operation. \n",
      "      + scripts/\n",
      "        - POST /chains/main/blocks/head/helpers/scripts/pack_data\n",
      "            Computes the serialized version of some data expression using the\n",
      "            same algorithm as script instruction PACK \n",
      "        - POST /chains/main/blocks/head/helpers/scripts/run_code\n",
      "            Run a piece of code in the current context \n",
      "        - POST /chains/main/blocks/head/helpers/scripts/run_operation\n",
      "            Run an operation without signature checks \n",
      "        - POST /chains/main/blocks/head/helpers/scripts/trace_code\n",
      "            Run a piece of code in the current context, keeping a trace \n",
      "        - POST /chains/main/blocks/head/helpers/scripts/typecheck_code\n",
      "            Typecheck a piece of code in the current context \n",
      "        - POST /chains/main/blocks/head/helpers/scripts/typecheck_data\n",
      "            Check that some data expression is well formed and of a given\n",
      "            type in the current context \n",
      "    - GET /chains/main/blocks/head/live_blocks\n",
      "        List the ancestors of the given block which, if referred to as the\n",
      "        branch in an operation header, are recent enough for that operation\n",
      "        to be included in the current block. \n",
      "    - GET /chains/main/blocks/head/metadata\n",
      "        All the metadata associated to the block. \n",
      "    - GET /chains/main/blocks/head/operation_hashes\n",
      "        The hashes of all the operations included in the block. \n",
      "    - GET /chains/main/blocks/head/operation_hashes/<list_offset>\n",
      "        All the operations included in `n-th` validation pass of the block. \n",
      "    - GET /chains/main/blocks/head/operation_hashes/<list_offset>/<operation_offset>\n",
      "        The hash of then `m-th` operation in the `n-th` validation pass of\n",
      "        the block. \n",
      "    - GET /chains/main/blocks/head/operations\n",
      "        All the operations included in the block. \n",
      "    - GET /chains/main/blocks/head/operations/<list_offset>\n",
      "        All the operations included in `n-th` validation pass of the block. \n",
      "    - GET /chains/main/blocks/head/operations/<list_offset>/<operation_offset>\n",
      "        The `m-th` operation in the `n-th` validation pass of the block. \n",
      "    + votes/\n",
      "      - GET /chains/main/blocks/head/votes/ballot_list\n",
      "          Ballots casted so far during a voting period. \n",
      "      - GET /chains/main/blocks/head/votes/ballots\n",
      "          Sum of ballots casted so far during a voting period. \n",
      "      - GET /chains/main/blocks/head/votes/current_period_kind\n",
      "          Current period kind. \n",
      "      - GET /chains/main/blocks/head/votes/current_proposal\n",
      "          Current proposal under evaluation. \n",
      "      - GET /chains/main/blocks/head/votes/current_quorum\n",
      "          Current expected quorum. \n",
      "      - GET /chains/main/blocks/head/votes/listings\n",
      "          List of delegates with their voting weight, in number of rolls. \n",
      "      - GET /chains/main/blocks/head/votes/proposals\n",
      "          List of proposals with number of supporters. \n",
      "\n",
      "\n",
      "Dynamic parameter description:\n",
      "  \n",
      "  <operation_offset>\n",
      "      Index `m` of the requested operation in its validation pass. \n",
      "  <list_offset>\n",
      "      Index `n` of the requested validation pass. \n",
      "  prefix\n",
      "  <block_level>\n",
      "      A level integer \n",
      "  <pkh>\n",
      "      A Secp256k1 of a Ed25519 public key hash (Base58Check-encoded) \n",
      "  <contract_id>\n",
      "      A contract identifier encoded in b58check. \n",
      "\n"
     ]
    }
   ],
   "source": [
    "tezos-client rpc list chains/main/blocks/head"
   ]
  },
  {
   "cell_type": "code",
   "execution_count": 8,
   "metadata": {},
   "outputs": [
    {
     "name": "stdout",
     "output_type": "stream",
     "text": [
      "\u001b[1;39m{\n",
      "  \u001b[0m\u001b[34;1m\"protocol\"\u001b[0m\u001b[1;39m: \u001b[0m\u001b[0;32m\"Ps6mwMrF2ER2s51cp9yYpjDcuzQjsc2yAz8bQsRgdaRxw4Fk95H\"\u001b[0m\u001b[1;39m,\n",
      "  \u001b[0m\u001b[34;1m\"chain_id\"\u001b[0m\u001b[1;39m: \u001b[0m\u001b[0;32m\"NetXgtSLGNJvNye\"\u001b[0m\u001b[1;39m,\n",
      "  \u001b[0m\u001b[34;1m\"hash\"\u001b[0m\u001b[1;39m: \u001b[0m\u001b[0;32m\"BKy7nVTwTHqBjQAqnZPvZtaPmrRv15VzXGqDsTRDcDpKFxcxaSw\"\u001b[0m\u001b[1;39m,\n",
      "  \u001b[0m\u001b[34;1m\"header\"\u001b[0m\u001b[1;39m: \u001b[0m\u001b[1;39m{\n",
      "    \u001b[0m\u001b[34;1m\"level\"\u001b[0m\u001b[1;39m: \u001b[0m\u001b[0;39m1\u001b[0m\u001b[1;39m,\n",
      "    \u001b[0m\u001b[34;1m\"proto\"\u001b[0m\u001b[1;39m: \u001b[0m\u001b[0;39m1\u001b[0m\u001b[1;39m,\n",
      "    \u001b[0m\u001b[34;1m\"predecessor\"\u001b[0m\u001b[1;39m: \u001b[0m\u001b[0;32m\"BLockGenesisGenesisGenesisGenesisGenesisb83baZgbyZe\"\u001b[0m\u001b[1;39m,\n",
      "    \u001b[0m\u001b[34;1m\"timestamp\"\u001b[0m\u001b[1;39m: \u001b[0m\u001b[0;32m\"2019-01-16T09:40:37Z\"\u001b[0m\u001b[1;39m,\n",
      "    \u001b[0m\u001b[34;1m\"validation_pass\"\u001b[0m\u001b[1;39m: \u001b[0m\u001b[0;39m0\u001b[0m\u001b[1;39m,\n",
      "    \u001b[0m\u001b[34;1m\"operations_hash\"\u001b[0m\u001b[1;39m: \u001b[0m\u001b[0;32m\"LLoZS2LW3rEi7KYU4ouBQtorua37aWWCtpDmv1n2x3xoKi6sVXLWp\"\u001b[0m\u001b[1;39m,\n",
      "    \u001b[0m\u001b[34;1m\"fitness\"\u001b[0m\u001b[1;39m: \u001b[0m\u001b[1;39m[\n",
      "      \u001b[0;32m\"00\"\u001b[0m\u001b[1;39m,\n",
      "      \u001b[0;32m\"0000000000000001\"\u001b[0m\u001b[1;39m\n",
      "    \u001b[1;39m]\u001b[0m\u001b[1;39m,\n",
      "    \u001b[0m\u001b[34;1m\"context\"\u001b[0m\u001b[1;39m: \u001b[0m\u001b[0;32m\"CoVA4UW7oRk5ed9AZwphxL7nZoD6o4WUHxzDP6nyjsRTVrLiKpTy\"\u001b[0m\u001b[1;39m,\n",
      "    \u001b[0m\u001b[34;1m\"content\"\u001b[0m\u001b[1;39m: \u001b[0m\u001b[1;39m{\n",
      "      \u001b[0m\u001b[34;1m\"command\"\u001b[0m\u001b[1;39m: \u001b[0m\u001b[0;32m\"activate\"\u001b[0m\u001b[1;39m,\n",
      "      \u001b[0m\u001b[34;1m\"hash\"\u001b[0m\u001b[1;39m: \u001b[0m\u001b[0;32m\"PsddFKi32cMJ2qPjf43Qv5GDWLDPZb3T3bF6fLKiF5HtvHNU7aP\"\u001b[0m\u001b[1;39m,\n",
      "      \u001b[0m\u001b[34;1m\"fitness\"\u001b[0m\u001b[1;39m: \u001b[0m\u001b[1;39m[\n",
      "        \u001b[0;32m\"00\"\u001b[0m\u001b[1;39m,\n",
      "        \u001b[0;32m\"0000000000000001\"\u001b[0m\u001b[1;39m\n",
      "      \u001b[1;39m]\u001b[0m\u001b[1;39m,\n",
      "      \u001b[0m\u001b[34;1m\"protocol_parameters\"\u001b[0m\u001b[1;39m: \u001b[0m\u001b[0;32m\"000007aeae07000004626f6f7473747261705f6163636f756e7473005a02000004300058000000023000370000006564706b75426b6e5732386e5737324b4736526f48745957377031325436474b63376e4162775958356d385764397344564339796176000231000e00000034303030303030303030303030000004310058000000023000370000006564706b747a4e624441556a556b36393757376759673243527542516a79507862456738644c63635959774b534b766b50766a745639000231000e00000034303030303030303030303030000004320058000000023000370000006564706b7554586b4a4447634664356e683656764d7a38706858785533426937683668716779774e466931765a5466514e6e53315256000231000e00000034303030303030303030303030000004330058000000023000370000006564706b754672526f445345624a59677852744c783270733832556461596331577766533973453131796861755a7435446743486255000231000e00000034303030303030303030303030000004340058000000023000370000006564706b76384555554836386a6d6f336637556d3550657a6d66477252463234676e664c70483373564e774a6e5635625643784c326e000231000e0000003430303030303030303030303000000435003c00000002300025000000747a31506f6f554b42616f786a426943523264784574627454556a4c583369615a516f4a000231000400000031303000000436004c000000023000370000006564706b75534c57665655315671374a673946756350794b6d6d61366f74634d486163397a47346f55314b4d48535442704a7547513200023100020000003100000004626f6f7473747261705f636f6e74726163747300840400000330007c0400000264656c65676174650025000000747a3154477536544e354753657a326e645858654458364c675544764c7a504c716759560002616d6f756e74000900000031303030303030300003736372697074002704000004636f646500030400000330003f000000027072696d000a000000706172616d65746572000461726773002000000003300018000000027072696d00090000006b65795f68617368000000000331003e000000027072696d000800000073746f72616765000461726773002100000003300019000000027072696d000a00000074696d657374616d700000000003320078030000027072696d0005000000636f6465000461726773005e03000004300056030000043000780000000430007000000003300013000000027072696d0004000000445550000003310013000000027072696d000400000043415200000332003c000000027072696d000400000044495000046172677300230000000430001b00000003300013000000027072696d00040000004344520000000000000003310014000000027072696d00050000005357415000000332004a000000027072696d000500000050555348000461726773003000000003300013000000027072696d0004000000696e7400000331001200000002696e740004000000333030000000000333003b000000027072696d00040000004144440004616e6e6f747300200000000230001400000040464956455f4d494e555445535f4c4154455200000003340013000000027072696d00040000004e4f570000043500a60000000430003400000003300017000000027072696d0008000000434f4d50415245000003310012000000027072696d0003000000474500000003310067000000027072696d00030000004946000461726773004f00000004300005000000000431003f0000000430003700000003300014000000027072696d0005000000554e4954000003310018000000027072696d00090000004641494c574954480000000000000003360020000000027072696d0011000000494d504c494349545f4143434f554e54000003370050000000027072696d000500000050555348000461726773003600000003300015000000027072696d00060000006d7574657a00000331001600000002696e740008000000313030303030300000000003380014000000027072696d0005000000554e495400000339001f000000027072696d00100000005452414e534645525f544f4b454e530000033130003a000000027072696d00040000004e494c000461726773002100000003300019000000027072696d000a0000006f7065726174696f6e000000000331310014000000027072696d00050000005357415000000331320014000000027072696d0005000000434f4e530000033133003c000000027072696d000400000044495000046172677300230000000430001b00000003300013000000027072696d00040000004e4f5700000000000331340014000000027072696d0005000000504149520000000000000373746f72616765001000000002696e7400020000003000000000000474696d655f6265747765656e5f626c6f636b7300170000000230000200000031000231000200000030000001626c6f636b735f7065725f726f6c6c5f736e617073686f7400000000000000104001626c6f636b735f7065725f6379636c65000000000000002040017072657365727665645f6379636c65730000000000000000400270726f6f665f6f665f776f726b5f7468726573686f6c6400030000002d310000\"\u001b[0m\u001b[1;39m\n",
      "    \u001b[1;39m}\u001b[0m\u001b[1;39m,\n",
      "    \u001b[0m\u001b[34;1m\"signature\"\u001b[0m\u001b[1;39m: \u001b[0m\u001b[0;32m\"sigWic1buViJh1G5ePT6nSrqAhaYuiAhenz6HGpMxNhqLMn81Dse51YM9cKctWZwxVzPmBFKcgdXsrWFioiSdGWCGU6jYUSu\"\u001b[0m\u001b[1;39m\n",
      "  \u001b[1;39m}\u001b[0m\u001b[1;39m,\n",
      "  \u001b[0m\u001b[34;1m\"metadata\"\u001b[0m\u001b[1;39m: \u001b[0m\u001b[1;39m{\n",
      "    \u001b[0m\u001b[34;1m\"protocol\"\u001b[0m\u001b[1;39m: \u001b[0m\u001b[0;32m\"Ps6mwMrF2ER2s51cp9yYpjDcuzQjsc2yAz8bQsRgdaRxw4Fk95H\"\u001b[0m\u001b[1;39m,\n",
      "    \u001b[0m\u001b[34;1m\"next_protocol\"\u001b[0m\u001b[1;39m: \u001b[0m\u001b[0;32m\"PsddFKi32cMJ2qPjf43Qv5GDWLDPZb3T3bF6fLKiF5HtvHNU7aP\"\u001b[0m\u001b[1;39m,\n",
      "    \u001b[0m\u001b[34;1m\"test_chain_status\"\u001b[0m\u001b[1;39m: \u001b[0m\u001b[1;39m{\n",
      "      \u001b[0m\u001b[34;1m\"status\"\u001b[0m\u001b[1;39m: \u001b[0m\u001b[0;32m\"not_running\"\u001b[0m\u001b[1;39m\n",
      "    \u001b[1;39m}\u001b[0m\u001b[1;39m,\n",
      "    \u001b[0m\u001b[34;1m\"max_operations_ttl\"\u001b[0m\u001b[1;39m: \u001b[0m\u001b[0;39m1\u001b[0m\u001b[1;39m,\n",
      "    \u001b[0m\u001b[34;1m\"max_operation_data_length\"\u001b[0m\u001b[1;39m: \u001b[0m\u001b[0;39m16384\u001b[0m\u001b[1;39m,\n",
      "    \u001b[0m\u001b[34;1m\"max_block_header_length\"\u001b[0m\u001b[1;39m: \u001b[0m\u001b[0;39m238\u001b[0m\u001b[1;39m,\n",
      "    \u001b[0m\u001b[34;1m\"max_operation_list_length\"\u001b[0m\u001b[1;39m: \u001b[0m\u001b[1;39m[\n",
      "      \u001b[1;39m{\n",
      "        \u001b[0m\u001b[34;1m\"max_size\"\u001b[0m\u001b[1;39m: \u001b[0m\u001b[0;39m32768\u001b[0m\u001b[1;39m,\n",
      "        \u001b[0m\u001b[34;1m\"max_op\"\u001b[0m\u001b[1;39m: \u001b[0m\u001b[0;39m32\u001b[0m\u001b[1;39m\n",
      "      \u001b[1;39m}\u001b[0m\u001b[1;39m,\n",
      "      \u001b[1;39m{\n",
      "        \u001b[0m\u001b[34;1m\"max_size\"\u001b[0m\u001b[1;39m: \u001b[0m\u001b[0;39m32768\u001b[0m\u001b[1;39m\n",
      "      \u001b[1;39m}\u001b[0m\u001b[1;39m,\n",
      "      \u001b[1;39m{\n",
      "        \u001b[0m\u001b[34;1m\"max_size\"\u001b[0m\u001b[1;39m: \u001b[0m\u001b[0;39m135168\u001b[0m\u001b[1;39m,\n",
      "        \u001b[0m\u001b[34;1m\"max_op\"\u001b[0m\u001b[1;39m: \u001b[0m\u001b[0;39m132\u001b[0m\u001b[1;39m\n",
      "      \u001b[1;39m}\u001b[0m\u001b[1;39m,\n",
      "      \u001b[1;39m{\n",
      "        \u001b[0m\u001b[34;1m\"max_size\"\u001b[0m\u001b[1;39m: \u001b[0m\u001b[0;39m524288\u001b[0m\u001b[1;39m\n",
      "      \u001b[1;39m}\u001b[0m\u001b[1;39m\n",
      "    \u001b[1;39m]\u001b[0m\u001b[1;39m\n",
      "  \u001b[1;39m}\u001b[0m\u001b[1;39m,\n",
      "  \u001b[0m\u001b[34;1m\"operations\"\u001b[0m\u001b[1;39m: \u001b[0m\u001b[1;39m[]\u001b[0m\u001b[1;39m\n",
      "\u001b[1;39m}\u001b[0m\n"
     ]
    }
   ],
   "source": [
    "tezos-client rpc get chains/main/blocks/head | jq"
   ]
  },
  {
   "cell_type": "markdown",
   "metadata": {},
   "source": [
    "Here is a few of usefull endpoints, that can be checked during the tutorial or working with the blockchain\n",
    "\n",
    "| Endpoint | RPC endpoint |\n",
    "| --- | --- |\n",
    "| Get contracts in blockchain | chains/main/blocks/head/context/contracts |\n",
    "| Get concrete contract in blockchain | chains/main/blocks/head/context/contracts/<contractId> eg. tz1gjaF81ZRRvdzjobyfVNsAeSC6PScjfQwN |\n",
    "| Get storage of originated contract in blockchain | chains/main/blocks/head/context/contracts/<contractId>/storage |\n",
    "| Get script of originated contract in blockchain | chains/main/blocks/head/context/contracts/<contractId>/script |\n"
   ]
  },
  {
   "cell_type": "markdown",
   "metadata": {},
   "source": [
    "### Basic wallet functions and tez transfers\n",
    "`tezos-client` is serving as a basic wallet. It's possible to get balance for the contracts and also manage private/public key pairs."
   ]
  },
  {
   "cell_type": "markdown",
   "metadata": {},
   "source": [
    "After initialisation of the sandbox environment, we can check contracts registered in `tezos-client` by the init scripts and check few initial balances."
   ]
  },
  {
   "cell_type": "code",
   "execution_count": 9,
   "metadata": {},
   "outputs": [
    {
     "name": "stdout",
     "output_type": "stream",
     "text": [
      "activator: tz1TGu6TN5GSez2ndXXeDX6LgUDvLzPLqgYV (unencrypted sk known)\n",
      "bootstrap5: tz1ddb9NMYHZi5UzPdzTZMYQQZoMub195zgv (unencrypted sk known)\n",
      "bootstrap4: tz1b7tUupMgCNw2cCLpKTkSD1NZzB5TkP2sv (unencrypted sk known)\n",
      "bootstrap3: tz1faswCTDciRzE4oJ9jn2Vm2dvjeyA9fUzU (unencrypted sk known)\n",
      "bootstrap2: tz1gjaF81ZRRvdzjobyfVNsAeSC6PScjfQwN (unencrypted sk known)\n",
      "bootstrap1: tz1KqTpEZ7Yob7QbPE4Hy4Wo8fHG8LhKxZSx (unencrypted sk known)\n",
      "----\n",
      "bootstrap1 balance: 4000000 ꜩ\n",
      "bootstrap2 balance: 4000000 ꜩ\n",
      "...\n"
     ]
    }
   ],
   "source": [
    "# List of registered accounts\n",
    "tezos-client list known addresses \n",
    "echo ----\n",
    "echo \"bootstrap1 balance:\" $(tezos-client get balance for bootstrap1)\n",
    "echo \"bootstrap2 balance:\" $(tezos-client get balance for bootstrap2)\n",
    "echo \"...\""
   ]
  },
  {
   "cell_type": "code",
   "execution_count": 10,
   "metadata": {
    "scrolled": true
   },
   "outputs": [
    {
     "name": "stdout",
     "output_type": "stream",
     "text": [
      "Hash: tz1KqTpEZ7Yob7QbPE4Hy4Wo8fHG8LhKxZSx\n",
      "Public Key: edpkuBknW28nW72KG6RoHtYW7p12T6GKc7nAbwYX5m8Wd9sDVC9yav\n",
      "Secret Key: unencrypted:edsk3gUfUPyBSfrS9CCgmCiQsTCHGkviBDusMxDJstFtojtc1zcpsh\n"
     ]
    }
   ],
   "source": [
    "# Listing of security keys\n",
    "tezos-client show address bootstrap1 --show-secret  "
   ]
  },
  {
   "cell_type": "markdown",
   "metadata": {},
   "source": [
    "### Testing account creation\n",
    "For our exercise we will generate new contract. Then we can verify successful creation by showing address and public/private (secret) key."
   ]
  },
  {
   "cell_type": "code",
   "execution_count": 11,
   "metadata": {},
   "outputs": [
    {
     "name": "stdout",
     "output_type": "stream",
     "text": [
      "Keys generated for test_account\n",
      "-------\n",
      "Hash: tz1gMNzhDYsa3Q87ZczubTN7NwnWGU1ZbtYE\n",
      "Public Key: edpkucNU9444vrhCUnRhtZd5Pp8ASurr69X2oh5ed7L9RnSisXCuHG\n",
      "Secret Key: unencrypted:edsk3mGLL8fVUS6ZJfprZu4maZtxTkNE532rNtSLFu5Js12EGbWyk2\n"
     ]
    }
   ],
   "source": [
    "tezos-client gen keys test_account && echo \"Keys generated for test_account\"\n",
    "echo -------\n",
    "tezos-client show address test_account --show-secret"
   ]
  },
  {
   "cell_type": "code",
   "execution_count": 12,
   "metadata": {},
   "outputs": [
    {
     "name": "stdout",
     "output_type": "stream",
     "text": [
      "Hash: tz1gMNzhDYsa3Q87ZczubTN7NwnWGU1ZbtYE\n",
      "Public Key: edpkucNU9444vrhCUnRhtZd5Pp8ASurr69X2oh5ed7L9RnSisXCuHG\n",
      "Secret Key: unencrypted:edsk3mGLL8fVUS6ZJfprZu4maZtxTkNE532rNtSLFu5Js12EGbWyk2\n"
     ]
    }
   ],
   "source": [
    "tezos-client show address test_account --show-secret"
   ]
  },
  {
   "cell_type": "markdown",
   "metadata": {},
   "source": [
    "Our account don't have any tez. So we can transfer some &#xA729; from `bootstrap5` account."
   ]
  },
  {
   "cell_type": "code",
   "execution_count": 13,
   "metadata": {},
   "outputs": [
    {
     "name": "stdout",
     "output_type": "stream",
     "text": [
      "Balance for test_account:  0 ꜩ\n",
      "[2] 11576\n"
     ]
    }
   ],
   "source": [
    "echo \"Balance for test_account: \" $(tezos-client get balance for test_account) # no tez yet\n",
    "\n",
    "# We will call transfer operation, that would move 1000 tez from bootstrap5 account to our newly created test_account.\n",
    "# In the call we are adding --burn-cap parameter. This is specifying maximum amount of tez, that can be burned during\n",
    "# execution of the contract. This is the operation fee, that would be given to baker.\n",
    "\n",
    "# we will run the command as a daemon. We will check output after the process will finish\n",
    "tezos-client transfer 1000 from bootstrap5 to test_account --burn-cap 0.257 > output.txt &\n",
    "PROCESS_PID=$!\n"
   ]
  },
  {
   "cell_type": "markdown",
   "metadata": {},
   "source": [
    "<span style=\"color:red\">Attempt to inject transfer operation will be blocked, as in our blockchain we don't have any bakers. In case you would be using alphanet, bakers would bake the block with your transaction in few minutes.</span>\n",
    "\n",
    "You can check the state of your operation using RPC provided by tezos. Until the block is baked, the transaction is stored in [mempool](../tezos/basic_concepts.md#Mempool)."
   ]
  },
  {
   "cell_type": "code",
   "execution_count": 14,
   "metadata": {},
   "outputs": [
    {
     "name": "stdout",
     "output_type": "stream",
     "text": [
      "{ \"applied\":\n",
      "    [ { \"hash\": \"op6eaWP9tBJ4S6jNAb6yqQ9qCWV3aeaRrU6btKWyCoG3hCgcUL2\",\n",
      "        \"branch\": \"BKy7nVTwTHqBjQAqnZPvZtaPmrRv15VzXGqDsTRDcDpKFxcxaSw\",\n",
      "        \"contents\":\n",
      "          [ { \"kind\": \"transaction\",\n",
      "              \"source\": \"tz1ddb9NMYHZi5UzPdzTZMYQQZoMub195zgv\",\n",
      "              \"fee\": \"1275\", \"counter\": \"1\", \"gas_limit\": \"10200\",\n",
      "              \"storage_limit\": \"277\", \"amount\": \"1000000000\",\n",
      "              \"destination\": \"tz1gMNzhDYsa3Q87ZczubTN7NwnWGU1ZbtYE\" } ],\n",
      "        \"signature\":\n",
      "          \"sigqGJs7WcDiLCUWS5nu31UrVH4wmnRK51FkgC4GivZ3Wh39u4jbumRa9tpP7YjeqkowqN9VN9z1wZwYrE64YrK19boYBLiw\" } ],\n",
      "  \"refused\": [], \"branch_refused\": [], \"branch_delayed\": [],\n",
      "  \"unprocessed\": [] }\n"
     ]
    }
   ],
   "source": [
    "tezos-client rpc get chains/main/mempool/pending_operations \n",
    "# curl http://$TEZOS_URL/chains/main/mempool/pending_operations | jq"
   ]
  },
  {
   "cell_type": "markdown",
   "metadata": {},
   "source": [
    "To resume the operation, you can **bake the block** using `tezos-client`. When baking using the client, you need to provide account, that will be used as delegate. To learn more about delegates and baking, consult [Liquid Proof Of Stake](../tezos/liquid_proof_of_stake.md) and [Tezos Architecture](../tezos/technical_architecture.md).\n",
    "\n",
    "Following command will bake the block and use `bootstrap1` as a delegate. We can then check output of the command."
   ]
  },
  {
   "cell_type": "code",
   "execution_count": 15,
   "metadata": {},
   "outputs": [
    {
     "name": "stdout",
     "output_type": "stream",
     "text": [
      "Injected block BLv8Z7UZwXd5\n",
      "[2]+  Done                    tezos-client transfer 1000 from bootstrap5 to test_account --burn-cap 0.257 > output.txt\n",
      "Node is bootstrapped, ready for injecting operations.\n",
      "Estimated gas: 10100 units (will add 100 for safety)\n",
      "Estimated storage: 257 bytes added (will add 20 for safety)\n",
      "Operation successfully injected in the node.\n",
      "Operation hash: op6eaWP9tBJ4S6jNAb6yqQ9qCWV3aeaRrU6btKWyCoG3hCgcUL2\n",
      "Waiting for the operation to be included...\n",
      "Operation found in block: BLv8Z7UZwXd5iTJoe32892vZCpYtvJ8VheDdwF8ijat4caXTSQe (pass: 3, offset: 0)\n",
      "This sequence of operations was run:\n",
      "  Manager signed operations:\n",
      "    From: tz1ddb9NMYHZi5UzPdzTZMYQQZoMub195zgv\n",
      "    Fee to the baker: ꜩ0.001275\n",
      "    Expected counter: 1\n",
      "    Gas limit: 10200\n",
      "    Storage limit: 277 bytes\n",
      "    Balance updates:\n",
      "      tz1ddb9NMYHZi5UzPdzTZMYQQZoMub195zgv ........... -ꜩ0.001275\n",
      "      fees(tz1KqTpEZ7Yob7QbPE4Hy4Wo8fHG8LhKxZSx,0) ... +ꜩ0.001275\n",
      "    Transaction:\n",
      "      Amount: ꜩ1000\n",
      "      From: tz1ddb9NMYHZi5UzPdzTZMYQQZoMub195zgv\n",
      "      To: tz1gMNzhDYsa3Q87ZczubTN7NwnWGU1ZbtYE\n",
      "      This transaction was successfully applied\n",
      "      Consumed gas: 10100\n",
      "      Balance updates:\n",
      "        tz1ddb9NMYHZi5UzPdzTZMYQQZoMub195zgv ... -ꜩ1000\n",
      "        tz1gMNzhDYsa3Q87ZczubTN7NwnWGU1ZbtYE ... +ꜩ1000\n",
      "        tz1ddb9NMYHZi5UzPdzTZMYQQZoMub195zgv ... -ꜩ0.257\n",
      "\n",
      "The operation has only been included 0 blocks ago.\n",
      "We recommend to wait more.\n",
      "Use command\n",
      "  tezos-client wait for op6eaWP9tBJ4S6jNAb6yqQ9qCWV3aeaRrU6btKWyCoG3hCgcUL2 to be included --confirmations 30\n",
      "and/or an external block explorer.\n"
     ]
    }
   ],
   "source": [
    "tezos-client bake for bootstrap1\n",
    "wait $PROCESS_PID\n",
    "\n",
    "cat output.txt"
   ]
  },
  {
   "cell_type": "markdown",
   "metadata": {},
   "source": [
    "When using `tezos-client` we are using aliases registered within the client, however this aliases can be represented \n",
    "also by contract hash. Contract hash is also used in output. In the output above you can see contract hashes for our new test account and also for bootstrap5 (tz1ddb9NMYHZi5UzPdzTZMYQQZoMub195zgv).\n",
    "\n",
    "Following two calls are refering to the same contract."
   ]
  },
  {
   "cell_type": "code",
   "execution_count": 16,
   "metadata": {},
   "outputs": [
    {
     "name": "stdout",
     "output_type": "stream",
     "text": [
      "3998999.741725 ꜩ\n",
      "3998999.741725 ꜩ\n"
     ]
    }
   ],
   "source": [
    "tezos-client get balance for bootstrap5\n",
    "tezos-client get balance for tz1ddb9NMYHZi5UzPdzTZMYQQZoMub195zgv"
   ]
  },
  {
   "cell_type": "markdown",
   "metadata": {},
   "source": [
    "We can doublecheck balances for `test_account` and `bootstrap5`. From `bootstrap5` balance also transaction fees are subtracted."
   ]
  },
  {
   "cell_type": "code",
   "execution_count": 17,
   "metadata": {},
   "outputs": [
    {
     "name": "stdout",
     "output_type": "stream",
     "text": [
      "Balance for test_account: 1000 ꜩ\n",
      "Balance for bootstrap5: 3998999.741725 ꜩ\n"
     ]
    }
   ],
   "source": [
    "echo \"Balance for test_account: $(tezos-client get balance for test_account)\"\n",
    "echo \"Balance for bootstrap5: $(tezos-client get balance for bootstrap5)\""
   ]
  },
  {
   "cell_type": "markdown",
   "metadata": {},
   "source": [
    "During the guide we are using aliases registered within `tezos-client` for convenience reasons. It's possible to use also account hash/address as well. Following two commands are refering to the same account. "
   ]
  },
  {
   "cell_type": "markdown",
   "metadata": {},
   "source": [
    "## Tezos Account Types\n",
    "Up to this point we were working with contracts, that just held tezzies. These accounts are called implicit within Tezos. Other type of contracts are originated. More information on account types can be found on [Originated accounts and Contracts](http://tezos.gitlab.io/mainnet/introduction/howtouse.html#originated-accounts-and-contracts). In tezos implicit accounts have prefix `tz...` and originated accounts `KT1...`. \n",
    "\n",
    "Originated accounts can have Michelson code attached. In this case, they are called smart contracts.\n",
    "\n",
    "    TBD...more clarification required"
   ]
  },
  {
   "cell_type": "markdown",
   "metadata": {},
   "source": [
    "## Development of Smart Contracts\n",
    "At this point we have all prerequisites for preparing contract. \n",
    "\n",
    "Smart contracts for Tezos are implemented and using Michelson language. It's low-level stack-based language. We will refer to Michelson in other sections of this guide. We will implement sample contract using high level language Liquidity. Liquidity is provided with command line utility, that can be used to compile, deploy and manage the contracts developed using Liquidity language. Liquidity compiles into Michelson. All features, that are available in Michelson are possible in Liquidity as well.\n",
    "\n",
    "Liquidity is a language heavily inspired by the OCaml language. Before starting working with Liquidity we advise \n",
    "to check some OCaml, F# or ReasonML tutorials to familiarize with language syntax (eg. https://try.ocamlpro.com).\n",
    "\n",
    "To learn more about Liquidity, refer to [Liquidity website](http://www.liquidity-lang.org).\n",
    "\n",
    "### Sample Calculator Contract\n",
    "For beginning we will implement sample contract, that will be managing state and will enable add and subtract operations. Default operation will be add.\n",
    "\n",
    "Smart contracts are software programs that binds the parties involved in a transaction to an agreement with out any third party being involved. The smart contract on the blockchain guarantees that nothing can be changed about the agreement without the consent of all the parties.\n",
    "\n",
    "When you deploy smart contract into the blockchain it cannot be changed. It prescribes how it's internal storage should be ammended. When smart contract is called, all resulting storage changes are verified agains the smart contract code.\n",
    "\n",
    "Each smart contract in liquidity consists of four parts\n",
    "- version declaration (of liquidity)\n",
    "- storage definition\n",
    "- storage initialisation\n",
    "- entry functions (at least method main is required. This method is called when contract is executed)\n",
    "\n",
    "Following code shows structure of our initial version of contract.\n",
    "\n",
    "```ocaml\n",
    "[%%version 0.4]\n",
    "(* We will store current state of calculator *) \n",
    "type storage = int\n",
    "\n",
    "(* This function will initialise storage when originating contract *)\n",
    "let%init storage (init_storage : int) =\n",
    "  init_storage\n",
    "\n",
    "let%entry add (parameter : int) storage =\n",
    "  ( ([] : operation list), storage + parameter )\n",
    "  \n",
    "let%entry subtract (parameter : int) storage =\n",
    "  ( ([] : operation list), storage - parameter )\n",
    "```\n",
    "\n",
    "Storage block is defining data structure, that will be representing internal state of the contract. For our sample we will use simple structure of type ```int```.\n",
    "\n",
    "Function marked with `let%init` represents initialisation function for the storage. The function should return storage data structure (in this case int). Returned value would be used as a initial storage value.\n",
    "\n",
    "Function main is default entry point for contract. Entry points are taking parameters, storage and returning tuple with list of operations, that should be applied after the contract is executed and storage value after execution of the contract. In our case we are not returning any operations, just incrementing value of internal storage.\n",
    "\n"
   ]
  },
  {
   "cell_type": "code",
   "execution_count": 18,
   "metadata": {},
   "outputs": [],
   "source": [
    "#Sample preparation\n",
    "mkdir -p ~/tezos-dev/calculator-dapp\n",
    "cd ~/tezos-dev/calculator-dapp\n",
    "\n",
    "/bin/cat <<EOM >Calculator.liq\n",
    "[%%version 0.4]\n",
    "  \n",
    "type storage = int\n",
    "\n",
    "let%init storage (init_storage : int) =\n",
    "  init_storage\n",
    "  \n",
    "let%entry add (parameter : int) storage =\n",
    "  ( ([] : operation list), storage + parameter )\n",
    "  \n",
    "let%entry subtract (parameter : int) storage =\n",
    "  ( ([] : operation list), storage - parameter )\n",
    "EOM\n",
    "\n"
   ]
  },
  {
   "cell_type": "markdown",
   "metadata": {},
   "source": [
    "#### Liquidity Development Tooling\n",
    "Currently there are not many tools, that support development of liquidity contracts. As the language is very similar to OCaml, we suggest to use editors with OCaml syntax highlighting.\n",
    "\n",
    "Other option is to use web [editor provided on liquidity website](http://www.liquidity-lang.org/edit/). This editor provides more advanced features like code formatting, code completion and comes also with lot of samples how to use liquidity."
   ]
  },
  {
   "cell_type": "markdown",
   "metadata": {},
   "source": [
    "### Contract Simulation and Deployment\n",
    "#### Running Simulation of Contract using Liquidity\n",
    "Tezos node can execute the script in Michelson and return result even without storage to blockchain. This can be used to simulate contract call during testing and development.\n",
    "\n",
    "Liquidity can handle transpilation to Michelson and correct call of the script on our behalf. \n",
    "\n",
    "During the simulation, it's required to prepare storage structure before calling the contract entry point.\n",
    "This can be achieved using following command."
   ]
  },
  {
   "cell_type": "code",
   "execution_count": 19,
   "metadata": {},
   "outputs": [
    {
     "name": "stdout",
     "output_type": "stream",
     "text": [
      "Main contract Calculator\n",
      "Evaluated initial storage: 1\n",
      "Constant initial storage generated in \"calculator.liq.init.tz\"\n"
     ]
    }
   ],
   "source": [
    "liquidity --tezos-node $TEZOS_NODE_URL \\\n",
    " Calculator.liq \\\n",
    " --init-storage '1'"
   ]
  },
  {
   "cell_type": "markdown",
   "metadata": {},
   "source": [
    "This command will call storage function (function where declaration starts with `let%init`) and pass arguments after `--init-storage` parameter. Result of the call is evaluated storage as it will be stored to blockchain, but still in Liquidity. Resulting storage in Michelson format will be stored in *.init.tz file.\n",
    "\n",
    "Liquidity storage:\n",
    "\n",
    "    Evaluated initial storage: *1*\n",
    "\n",
    "Michelson storage:"
   ]
  },
  {
   "cell_type": "code",
   "execution_count": 20,
   "metadata": {},
   "outputs": [
    {
     "name": "stdout",
     "output_type": "stream",
     "text": [
      "1"
     ]
    }
   ],
   "source": [
    "cat calculator.liq.init.tz"
   ]
  },
  {
   "cell_type": "markdown",
   "metadata": {},
   "source": [
    "Now we have all required to run contract simulation using liquidity. For continuing it's important to understand tezos node functionality. Tezos node is important for managing of the blockchain, but it also acts as an interpreter for the Michelson contracts. Execution of the contract, can be tested even without storing results into blockchain.\n",
    "\n",
    "Following command will execute liquidity script using tezos node."
   ]
  },
  {
   "cell_type": "code",
   "execution_count": 21,
   "metadata": {},
   "outputs": [
    {
     "name": "stdout",
     "output_type": "stream",
     "text": [
      "Main contract Calculator\n",
      "2\n",
      "# Internal operations: 0\n",
      "------\n",
      "Main contract Calculator\n",
      "7\n",
      "# Internal operations: 0\n"
     ]
    }
   ],
   "source": [
    "#in --run add 1 1 first parameter is name of entry point, \n",
    "# second represents input to the entry point, \n",
    "# third parameter represents storage\n",
    "liquidity --tezos-node $TEZOS_NODE_URL \\\n",
    " Calculator.liq \\\n",
    " --run add 1 1\n",
    " \n",
    "echo ------\n",
    "\n",
    "# call substract parameter:3 storage:10\n",
    "liquidity --tezos-node $TEZOS_NODE_URL \\\n",
    " Calculator.liq \\\n",
    " --run subtract 3 10"
   ]
  },
  {
   "cell_type": "markdown",
   "metadata": {},
   "source": [
    "\n",
    "#### Direct Liquidity Deployment\n",
    "***Currently direct deployment is not working. For time being, please follow [deployment using tezos-client](#Running-of-Contract-Using-Tezos-Client).***\n",
    "\n",
    "To deploy the contract to tezos, we will use following command. As parameters we are passing source account and it's private key. In attribute deploy we will pass parameters required for storage initialisation."
   ]
  },
  {
   "cell_type": "code",
   "execution_count": 22,
   "metadata": {},
   "outputs": [],
   "source": [
    "#TZ_HASH=$(tezos-client show address test_account --show-secret | grep Hash | cut -d\" \" -f2)\n",
    "#TZ_SECRET=$(tezos-client show address test_account --show-secret | grep Secret | cut -d\":\" -f3)\n",
    "\n",
    "#liquidity \\\n",
    "#  --tezos-node $TEZOS_NODE_URL \\\n",
    "#  --source $TZ_HASH \\\n",
    "#  --private-key $TZ_SECRET \\\n",
    "#  --fee 1tz \\\n",
    "#  --amount 3tz \\\n",
    "#  Calculator.liq \\\n",
    "#  --deploy '0' | tee contract_deploy_output.txt\n",
    "  \n",
    "#export CONTRACT_HASH=$(grep \"New contract\" contract_deploy_output.txt | cut -d\" \" -f3)\n",
    "#export OPERATION_HASH=$(grep \"New contract\" contract_deploy_output.txt | cut -d\" \" -f7)"
   ]
  },
  {
   "cell_type": "markdown",
   "metadata": {},
   "source": [
    "Before continuing we need to bake the block with operation."
   ]
  },
  {
   "cell_type": "code",
   "execution_count": 23,
   "metadata": {},
   "outputs": [],
   "source": [
    "# tezos-client bake for bootstrap1 2>/dev/null"
   ]
  },
  {
   "cell_type": "markdown",
   "metadata": {},
   "source": [
    "To review storage of the contract we can use liquidity program with command --get-storage. As a parameter we are passing hash of the function."
   ]
  },
  {
   "cell_type": "code",
   "execution_count": 24,
   "metadata": {},
   "outputs": [],
   "source": [
    "#liquidity \\\n",
    "# --tezos-node localhost:18731 \\\n",
    "# Calculator.liq \\\n",
    "# --get-storage $CONTRACT_HASH"
   ]
  },
  {
   "cell_type": "markdown",
   "metadata": {},
   "source": [
    "Now we can start working with the contract."
   ]
  },
  {
   "cell_type": "code",
   "execution_count": 25,
   "metadata": {},
   "outputs": [],
   "source": [
    "#liquidity \\\n",
    "# --tezos-node localhost:18732 \\\n",
    "# --private-key $TZ_SECRET \\\n",
    "# Calculator.liq \\\n",
    "# --call $CONTRACT_HASH add '10'"
   ]
  },
  {
   "cell_type": "markdown",
   "metadata": {},
   "source": [
    "After executing the command we still don't see results of our operation in storage. To see changes, we need to bake the block first. This is specific of sandbox environment. In Alphanet, baking will be handled by dedicated bakers."
   ]
  },
  {
   "cell_type": "code",
   "execution_count": 26,
   "metadata": {},
   "outputs": [],
   "source": [
    "#echo \"Storage before bake\"\n",
    "#liquidity \\\n",
    "# --tezos-node localhost:18731 \\\n",
    "# Calculator.liq \\\n",
    "# --get-storage $CONTRACT_HASH\n",
    " \n",
    "#tezos-client bake for bootstrap1 2>/dev/null\n",
    "\n",
    "#echo \"Storage after the block is baked\"\n",
    "#liquidity \\\n",
    "# --tezos-node localhost:18731 \\\n",
    "# Calculator.liq \\\n",
    "# --get-storage $CONTRACT_HASH"
   ]
  },
  {
   "cell_type": "markdown",
   "metadata": {},
   "source": [
    "### Running of Contract Using Tezos Client\n",
    "For this section we will use `liquidity` as a compiler only. When calling the command with the liquidity program, it will compile the code into the Michelson program. \n"
   ]
  },
  {
   "cell_type": "markdown",
   "metadata": {},
   "source": [
    "#### Compilation of Contract to Michelson\n",
    "Liquidity is hiding lot of complexity, however in some scenarios it is required to use Michelson. Following sample is showing how to use liquidity in order to create michelson script.\n",
    "\n",
    "When liquidity script is compiled, storage initialization and contract entry points are provided separately. "
   ]
  },
  {
   "cell_type": "code",
   "execution_count": 27,
   "metadata": {},
   "outputs": [
    {
     "name": "stdout",
     "output_type": "stream",
     "text": [
      "Main contract Calculator\n",
      "Storage initializer generated in \"./calculator.liq.initializer.tz\"\n",
      "File \"./calculator.liq.tz\" generated\n",
      "If tezos is compiled, you may want to typecheck with:\n",
      "  tezos-client typecheck script ./calculator.liq.tz\n",
      "------\n",
      "parameter (or :_entries (int %_Liq_entry_add) (int %_Liq_entry_subtract));\n",
      "storage int;\n",
      "code { DUP ;\n",
      "       DIP { CDR @storage_slash_1 } ;\n",
      "       CAR @parameter_slash_2 ;\n",
      "       DUP @parameter ;\n",
      "       IF_LEFT\n",
      "         { RENAME @parameter_slash_3 ; DUUUP ; ADD ; NIL operation ; PAIR }\n",
      "         { RENAME @parameter_slash_5 ; DUUUP ; SUB ; NIL operation ; PAIR } ;\n",
      "       DIP { DROP ; DROP } };\n",
      "------\n",
      "parameter int;\n",
      "storage int;\n",
      "code { DUP ;\n",
      "       DIP { CDR @_storage } ;\n",
      "       CAR @_parameter ;\n",
      "       DUP ;\n",
      "       DUP @init_storage ;\n",
      "       DIP { DROP } ;\n",
      "       NIL operation ;\n",
      "       PAIR ;\n",
      "       DIP { DROP ; DROP } };\n"
     ]
    }
   ],
   "source": [
    "liquidity --tezos-node $TEZOS_NODE_URL \\\n",
    " Calculator.liq\n",
    " \n",
    "echo ------\n",
    "\n",
    "cat Calculator.liq.tz\n",
    "\n",
    "echo ------\n",
    "\n",
    "cat Calculator.liq.initializer.tz"
   ]
  },
  {
   "cell_type": "markdown",
   "metadata": {},
   "source": [
    "Liquidity is providing compilation also for method invocations. This way it simplifies creation of required michelson statements."
   ]
  },
  {
   "cell_type": "code",
   "execution_count": 28,
   "metadata": {},
   "outputs": [
    {
     "name": "stdout",
     "output_type": "stream",
     "text": [
      "Main contract Calculator\n",
      "Evaluated initial storage: 1\n",
      "Constant initial storage generated in \"calculator.liq.init.tz\"\n",
      "------\n",
      "add 1\n",
      "Main contract Calculator\n",
      "(Left 1)\n",
      "------\n",
      "subtract 4\n",
      "Main contract Calculator\n",
      "(Right 4)\n"
     ]
    }
   ],
   "source": [
    "# Evaluation of the storage structure - calling of storage function and resulting storage structure is outputed\n",
    "liquidity --tezos-node $TEZOS_NODE_URL \\\n",
    " Calculator.liq \\\n",
    " --init-storage '1'\n",
    "\n",
    "echo ------\n",
    "echo add 1\n",
    "# Compilation of function call - calling of add entry point with argument \"1\"\n",
    "liquidity --tezos-node $TEZOS_NODE_URL \\\n",
    " Calculator.liq \\\n",
    " --data add '1'\n",
    " \n",
    "echo ------\n",
    "echo subtract 4\n",
    "# Compilation of function call - calling of subtract entry point with argument \"4\"\n",
    "liquidity --tezos-node $TEZOS_NODE_URL \\\n",
    " Calculator.liq \\\n",
    " --data subtract '4'"
   ]
  },
  {
   "cell_type": "markdown",
   "metadata": {},
   "source": [
    "Now it's possible to simulate the contract directly in Michelson."
   ]
  },
  {
   "cell_type": "code",
   "execution_count": 29,
   "metadata": {},
   "outputs": [
    {
     "name": "stdout",
     "output_type": "stream",
     "text": [
      "Calling add 10, initial storage 0 (calculator.liq.init.tz)\n",
      "storage\n",
      "  11\n",
      "emitted operations\n",
      "  \n",
      "\n",
      "\n",
      "Calling subtract 5, initial storage 3\n",
      "storage\n",
      "  -2\n",
      "emitted operations\n",
      "  \n",
      "\n",
      "\n"
     ]
    }
   ],
   "source": [
    "echo \"Calling add 10, initial storage 0 (calculator.liq.init.tz)\"\n",
    "tezos-client run script calculator.liq.tz on storage $(<calculator.liq.init.tz) and input '(Left 10)'\n",
    "\n",
    "echo \"Calling subtract 5, initial storage 3\"\n",
    "tezos-client run script calculator.liq.tz on storage 3 and input '(Right 5)'"
   ]
  },
  {
   "cell_type": "markdown",
   "metadata": {},
   "source": [
    "#### Deployment of Contract using Tezos Client\n",
    "For deployment we need to create originated account. This can be achieved using `tezos-client originate contract...` call. During the origination it's required to provide our private/secret key ([command to retrieve](#Testing-account-creation))."
   ]
  },
  {
   "cell_type": "code",
   "execution_count": 30,
   "metadata": {},
   "outputs": [
    {
     "name": "stdout",
     "output_type": "stream",
     "text": [
      "[2] 11602\n"
     ]
    }
   ],
   "source": [
    "# We are creating new originated contract and registring it's alias Calculator with our tezos-client.\n",
    "tezos-client originate contract Calculator \\\n",
    " for test_account \\\n",
    " transferring 1 from test_account \\\n",
    " running calculator.liq.tz \\\n",
    " --init $(<calculator.liq.init.tz) \\\n",
    " --burn-cap 1 > contract_output.txt &\n",
    "\n",
    "PROCESS_PID=$!"
   ]
  },
  {
   "cell_type": "markdown",
   "metadata": {},
   "source": [
    "Operation is not reflected in tezos blockchain until new block is baked. "
   ]
  },
  {
   "cell_type": "code",
   "execution_count": 31,
   "metadata": {},
   "outputs": [
    {
     "name": "stdout",
     "output_type": "stream",
     "text": [
      "Injected block BMK16A4YSv3B\n",
      "[2]+  Done                    tezos-client originate contract Calculator for test_account transferring 1 from test_account running calculator.liq.tz --init $(<calculator.liq.init.tz) --burn-cap 1 > contract_output.txt\n",
      "Node is bootstrapped, ready for injecting operations.\n",
      "Estimated gas: 16707 units (will add 100 for safety)\n",
      "Estimated storage: 555 bytes added (will add 20 for safety)\n",
      "Operation successfully injected in the node.\n",
      "Operation hash: ooSe7etkFcGRvndc3vz7t4cZc9ZHLaQY1yVPKyopjP3DV5TL8dT\n",
      "Waiting for the operation to be included...\n",
      "Operation found in block: BMK16A4YSv3BKb2UwmdnmVaUqv47WkAKazgdRNLL9k9WUK2gcFL (pass: 3, offset: 0)\n",
      "This sequence of operations was run:\n",
      "  Manager signed operations:\n",
      "    From: tz1gMNzhDYsa3Q87ZczubTN7NwnWGU1ZbtYE\n",
      "    Fee to the baker: ꜩ0.001257\n",
      "    Expected counter: 2\n",
      "    Gas limit: 10000\n",
      "    Storage limit: 0 bytes\n",
      "    Balance updates:\n",
      "      tz1gMNzhDYsa3Q87ZczubTN7NwnWGU1ZbtYE ........... -ꜩ0.001257\n",
      "      fees(tz1KqTpEZ7Yob7QbPE4Hy4Wo8fHG8LhKxZSx,0) ... +ꜩ0.001257\n",
      "    Revelation of manager public key:\n",
      "      Contract: tz1gMNzhDYsa3Q87ZczubTN7NwnWGU1ZbtYE\n",
      "      Key: edpkucNU9444vrhCUnRhtZd5Pp8ASurr69X2oh5ed7L9RnSisXCuHG\n",
      "      This revelation was successfully applied\n",
      "      Consumed gas: 10000\n",
      "  Manager signed operations:\n",
      "    From: tz1gMNzhDYsa3Q87ZczubTN7NwnWGU1ZbtYE\n",
      "    Fee to the baker: ꜩ0.002138\n",
      "    Expected counter: 3\n",
      "    Gas limit: 16807\n",
      "    Storage limit: 575 bytes\n",
      "    Balance updates:\n",
      "      tz1gMNzhDYsa3Q87ZczubTN7NwnWGU1ZbtYE ........... -ꜩ0.002138\n",
      "      fees(tz1KqTpEZ7Yob7QbPE4Hy4Wo8fHG8LhKxZSx,0) ... +ꜩ0.002138\n",
      "    Origination:\n",
      "      From: tz1gMNzhDYsa3Q87ZczubTN7NwnWGU1ZbtYE\n",
      "      For: tz1gMNzhDYsa3Q87ZczubTN7NwnWGU1ZbtYE\n",
      "      Credit: ꜩ1\n",
      "      Script:\n",
      "        { parameter (or :_entries (int %_Liq_entry_add) (int %_Liq_entry_subtract)) ;\n",
      "          storage int ;\n",
      "          code { DUP ;\n",
      "                 DIP { CDR @storage_slash_1 } ;\n",
      "                 CAR @parameter_slash_2 ;\n",
      "                 DUP @parameter ;\n",
      "                 IF_LEFT\n",
      "                   { RENAME @parameter_slash_3 ; DUUUP ; ADD ; NIL operation ; PAIR }\n",
      "                   { RENAME @parameter_slash_5 ; DUUUP ; SUB ; NIL operation ; PAIR } ;\n",
      "                 DIP { DROP ; DROP } } }\n",
      "        Initial storage: 1\n",
      "        No delegate for this contract\n",
      "        This origination was successfully applied\n",
      "        Originated contracts:\n",
      "          KT1BhGVKFxULPWJB3R3JEkNyBVCsHU4hffYT\n",
      "        Storage size: 298 bytes\n",
      "        Paid storage size diff: 298 bytes\n",
      "        Consumed gas: 16707\n",
      "        Balance updates:\n",
      "          tz1gMNzhDYsa3Q87ZczubTN7NwnWGU1ZbtYE ... -ꜩ0.298\n",
      "          tz1gMNzhDYsa3Q87ZczubTN7NwnWGU1ZbtYE ... -ꜩ0.257\n",
      "          tz1gMNzhDYsa3Q87ZczubTN7NwnWGU1ZbtYE ... -ꜩ1\n",
      "          KT1BhGVKFxULPWJB3R3JEkNyBVCsHU4hffYT ... +ꜩ1\n",
      "\n",
      "New contract KT1BhGVKFxULPWJB3R3JEkNyBVCsHU4hffYT originated.\n",
      "The operation has only been included 0 blocks ago.\n",
      "We recommend to wait more.\n",
      "Use command\n",
      "  tezos-client wait for ooSe7etkFcGRvndc3vz7t4cZc9ZHLaQY1yVPKyopjP3DV5TL8dT to be included --confirmations 30\n",
      "and/or an external block explorer.\n",
      "Contract memorized as Calculator.\n"
     ]
    }
   ],
   "source": [
    "tezos-client bake for bootstrap1\n",
    "\n",
    "wait $PROCESS_PID\n",
    "cat contract_output.txt"
   ]
  },
  {
   "cell_type": "markdown",
   "metadata": {},
   "source": [
    "`tezos-client` registers alias for newly created contract. The alias is matching hash outputed in the originate call above.\n"
   ]
  },
  {
   "cell_type": "code",
   "execution_count": 32,
   "metadata": {},
   "outputs": [
    {
     "name": "stdout",
     "output_type": "stream",
     "text": [
      "Contract Hash KT1BhGVKFxULPWJB3R3JEkNyBVCsHU4hffYT\n",
      "------\n",
      "Calculator listed among aliases\n",
      "Calculator: KT1BhGVKFxULPWJB3R3JEkNyBVCsHU4hffYT\n",
      "test_account: tz1gMNzhDYsa3Q87ZczubTN7NwnWGU1ZbtYE\n",
      "activator: tz1TGu6TN5GSez2ndXXeDX6LgUDvLzPLqgYV\n",
      "bootstrap5: tz1ddb9NMYHZi5UzPdzTZMYQQZoMub195zgv\n",
      "bootstrap4: tz1b7tUupMgCNw2cCLpKTkSD1NZzB5TkP2sv\n",
      "bootstrap3: tz1faswCTDciRzE4oJ9jn2Vm2dvjeyA9fUzU\n",
      "bootstrap2: tz1gjaF81ZRRvdzjobyfVNsAeSC6PScjfQwN\n",
      "bootstrap1: tz1KqTpEZ7Yob7QbPE4Hy4Wo8fHG8LhKxZSx\n"
     ]
    }
   ],
   "source": [
    "CONTRACT_HASH=$(grep \"New contract KT\" contract_output.txt | cut -d\" \" -f3)\n",
    "echo \"Contract Hash $CONTRACT_HASH\"\n",
    "echo ------\n",
    "echo \"Calculator listed among aliases\"\n",
    "tezos-client list known contracts"
   ]
  },
  {
   "cell_type": "markdown",
   "metadata": {},
   "source": [
    "### Call of contract using tezos-client\n",
    "Calling of smart contract is the same as transfering balance. When calling smart contract we are providing additional arguments, that should be in Michelson - refer to [Michelson compilation](#Compilation-of-Contract-to-Michelson) for sample how to get to Michelson function call for liquidity function."
   ]
  },
  {
   "cell_type": "code",
   "execution_count": 33,
   "metadata": {},
   "outputs": [
    {
     "name": "stdout",
     "output_type": "stream",
     "text": [
      "[2] 11610\n",
      "Injected block BKqvSTj1HjdQ\n",
      "[2]+  Done                    tezos-client transfer 0 from test_account to $CONTRACT_HASH --arg \"(Left 10)\" > output.txt\n",
      "Node is bootstrapped, ready for injecting operations.\n",
      "Estimated gas: 15378 units (will add 100 for safety)\n",
      "Estimated storage: no bytes added\n",
      "Operation successfully injected in the node.\n",
      "Operation hash: opJJjuvjLbLGnJ8b4N6wVHMNiSGZm2qau1SqW4895Qc9THKEj5a\n",
      "Waiting for the operation to be included...\n",
      "Operation found in block: BKqvSTj1HjdQHP6jcrem3D5YmwX41LQcyFyJkz3R8xV1of4ou7G (pass: 3, offset: 0)\n",
      "This sequence of operations was run:\n",
      "  Manager signed operations:\n",
      "    From: tz1gMNzhDYsa3Q87ZczubTN7NwnWGU1ZbtYE\n",
      "    Fee to the baker: ꜩ0.001807\n",
      "    Expected counter: 4\n",
      "    Gas limit: 15478\n",
      "    Storage limit: 0 bytes\n",
      "    Balance updates:\n",
      "      tz1gMNzhDYsa3Q87ZczubTN7NwnWGU1ZbtYE ........... -ꜩ0.001807\n",
      "      fees(tz1KqTpEZ7Yob7QbPE4Hy4Wo8fHG8LhKxZSx,0) ... +ꜩ0.001807\n",
      "    Transaction:\n",
      "      Amount: ꜩ0\n",
      "      From: tz1gMNzhDYsa3Q87ZczubTN7NwnWGU1ZbtYE\n",
      "      To: KT1BhGVKFxULPWJB3R3JEkNyBVCsHU4hffYT\n",
      "      Parameter: (Left 10)\n",
      "      This transaction was successfully applied\n",
      "      Updated storage: 11\n",
      "      Storage size: 298 bytes\n",
      "      Consumed gas: 15378\n",
      "\n",
      "The operation has only been included 0 blocks ago.\n",
      "We recommend to wait more.\n",
      "Use command\n",
      "  tezos-client wait for opJJjuvjLbLGnJ8b4N6wVHMNiSGZm2qau1SqW4895Qc9THKEj5a to be included --confirmations 30\n",
      "and/or an external block explorer.\n"
     ]
    }
   ],
   "source": [
    "#Calling our contract, entry point add (using parameter generated by liquidity compiled function call)\n",
    "tezos-client \\\n",
    " transfer 0 from test_account to $CONTRACT_HASH --arg \"(Left 10)\" > output.txt &\n",
    "PROCESS_PID=$!\n",
    "\n",
    "#Baking manually\n",
    "tezos-client bake for bootstrap1  #baking the block\n",
    "wait $PROCESS_PID\n",
    "cat output.txt"
   ]
  },
  {
   "cell_type": "markdown",
   "metadata": {},
   "source": [
    "We can verify contract call by querying storage in blockchain directly."
   ]
  },
  {
   "cell_type": "code",
   "execution_count": 34,
   "metadata": {},
   "outputs": [
    {
     "name": "stdout",
     "output_type": "stream",
     "text": [
      "11\n"
     ]
    }
   ],
   "source": [
    "tezos-client get script storage for Calculator\n",
    "# curl -s http://$TEZOS_NODE_URL/chains/main/blocks/head/context/contracts/$CONTRACT_HASH/storage | jq"
   ]
  },
  {
   "cell_type": "markdown",
   "metadata": {},
   "source": [
    "Alternatively we can check the block in which the operation was included."
   ]
  },
  {
   "cell_type": "code",
   "execution_count": 35,
   "metadata": {},
   "outputs": [
    {
     "name": "stdout",
     "output_type": "stream",
     "text": [
      "\u001b[1;39m{\n",
      "  \u001b[0m\u001b[34;1m\"protocol\"\u001b[0m\u001b[1;39m: \u001b[0m\u001b[0;32m\"PsddFKi32cMJ2qPjf43Qv5GDWLDPZb3T3bF6fLKiF5HtvHNU7aP\"\u001b[0m\u001b[1;39m,\n",
      "  \u001b[0m\u001b[34;1m\"chain_id\"\u001b[0m\u001b[1;39m: \u001b[0m\u001b[0;32m\"NetXgtSLGNJvNye\"\u001b[0m\u001b[1;39m,\n",
      "  \u001b[0m\u001b[34;1m\"hash\"\u001b[0m\u001b[1;39m: \u001b[0m\u001b[0;32m\"BKqvSTj1HjdQHP6jcrem3D5YmwX41LQcyFyJkz3R8xV1of4ou7G\"\u001b[0m\u001b[1;39m,\n",
      "  \u001b[0m\u001b[34;1m\"header\"\u001b[0m\u001b[1;39m: \u001b[0m\u001b[1;39m{\n",
      "    \u001b[0m\u001b[34;1m\"level\"\u001b[0m\u001b[1;39m: \u001b[0m\u001b[0;39m4\u001b[0m\u001b[1;39m,\n",
      "    \u001b[0m\u001b[34;1m\"proto\"\u001b[0m\u001b[1;39m: \u001b[0m\u001b[0;39m1\u001b[0m\u001b[1;39m,\n",
      "    \u001b[0m\u001b[34;1m\"predecessor\"\u001b[0m\u001b[1;39m: \u001b[0m\u001b[0;32m\"BMK16A4YSv3BKb2UwmdnmVaUqv47WkAKazgdRNLL9k9WUK2gcFL\"\u001b[0m\u001b[1;39m,\n",
      "    \u001b[0m\u001b[34;1m\"timestamp\"\u001b[0m\u001b[1;39m: \u001b[0m\u001b[0;32m\"2019-01-16T10:42:05Z\"\u001b[0m\u001b[1;39m,\n",
      "    \u001b[0m\u001b[34;1m\"validation_pass\"\u001b[0m\u001b[1;39m: \u001b[0m\u001b[0;39m4\u001b[0m\u001b[1;39m,\n",
      "    \u001b[0m\u001b[34;1m\"operations_hash\"\u001b[0m\u001b[1;39m: \u001b[0m\u001b[0;32m\"LLoaFXgbRsSLWTuVoZpDzW7PreL2AdgSbNGDXz9Z7XHkymxHqXNq8\"\u001b[0m\u001b[1;39m,\n",
      "    \u001b[0m\u001b[34;1m\"fitness\"\u001b[0m\u001b[1;39m: \u001b[0m\u001b[1;39m[\n",
      "      \u001b[0;32m\"00\"\u001b[0m\u001b[1;39m,\n",
      "      \u001b[0;32m\"0000000000000004\"\u001b[0m\u001b[1;39m\n",
      "    \u001b[1;39m]\u001b[0m\u001b[1;39m,\n",
      "    \u001b[0m\u001b[34;1m\"context\"\u001b[0m\u001b[1;39m: \u001b[0m\u001b[0;32m\"CoWHBGGQzf1zCA3mJ668UP5JgcCNUtRYz1yqqSK124kkB5CYAfs1\"\u001b[0m\u001b[1;39m,\n",
      "    \u001b[0m\u001b[34;1m\"priority\"\u001b[0m\u001b[1;39m: \u001b[0m\u001b[0;39m12\u001b[0m\u001b[1;39m,\n",
      "    \u001b[0m\u001b[34;1m\"proof_of_work_nonce\"\u001b[0m\u001b[1;39m: \u001b[0m\u001b[0;32m\"0000000368a75719\"\u001b[0m\u001b[1;39m,\n",
      "    \u001b[0m\u001b[34;1m\"signature\"\u001b[0m\u001b[1;39m: \u001b[0m\u001b[0;32m\"sigVLNCCBzBhGYKqr7wFhMhyHLoFaZBpU1qKYpNmXYGVmMs5XR7Qr2mnpotX5je4yyjR7KakjLPRxaJ4qMSyHNdnSk4oDoVn\"\u001b[0m\u001b[1;39m\n",
      "  \u001b[1;39m}\u001b[0m\u001b[1;39m,\n",
      "  \u001b[0m\u001b[34;1m\"metadata\"\u001b[0m\u001b[1;39m: \u001b[0m\u001b[1;39m{\n",
      "    \u001b[0m\u001b[34;1m\"protocol\"\u001b[0m\u001b[1;39m: \u001b[0m\u001b[0;32m\"PsddFKi32cMJ2qPjf43Qv5GDWLDPZb3T3bF6fLKiF5HtvHNU7aP\"\u001b[0m\u001b[1;39m,\n",
      "    \u001b[0m\u001b[34;1m\"next_protocol\"\u001b[0m\u001b[1;39m: \u001b[0m\u001b[0;32m\"PsddFKi32cMJ2qPjf43Qv5GDWLDPZb3T3bF6fLKiF5HtvHNU7aP\"\u001b[0m\u001b[1;39m,\n",
      "    \u001b[0m\u001b[34;1m\"test_chain_status\"\u001b[0m\u001b[1;39m: \u001b[0m\u001b[1;39m{\n",
      "      \u001b[0m\u001b[34;1m\"status\"\u001b[0m\u001b[1;39m: \u001b[0m\u001b[0;32m\"not_running\"\u001b[0m\u001b[1;39m\n",
      "    \u001b[1;39m}\u001b[0m\u001b[1;39m,\n",
      "    \u001b[0m\u001b[34;1m\"max_operations_ttl\"\u001b[0m\u001b[1;39m: \u001b[0m\u001b[0;39m4\u001b[0m\u001b[1;39m,\n",
      "    \u001b[0m\u001b[34;1m\"max_operation_data_length\"\u001b[0m\u001b[1;39m: \u001b[0m\u001b[0;39m16384\u001b[0m\u001b[1;39m,\n",
      "    \u001b[0m\u001b[34;1m\"max_block_header_length\"\u001b[0m\u001b[1;39m: \u001b[0m\u001b[0;39m238\u001b[0m\u001b[1;39m,\n",
      "    \u001b[0m\u001b[34;1m\"max_operation_list_length\"\u001b[0m\u001b[1;39m: \u001b[0m\u001b[1;39m[\n",
      "      \u001b[1;39m{\n",
      "        \u001b[0m\u001b[34;1m\"max_size\"\u001b[0m\u001b[1;39m: \u001b[0m\u001b[0;39m32768\u001b[0m\u001b[1;39m,\n",
      "        \u001b[0m\u001b[34;1m\"max_op\"\u001b[0m\u001b[1;39m: \u001b[0m\u001b[0;39m32\u001b[0m\u001b[1;39m\n",
      "      \u001b[1;39m}\u001b[0m\u001b[1;39m,\n",
      "      \u001b[1;39m{\n",
      "        \u001b[0m\u001b[34;1m\"max_size\"\u001b[0m\u001b[1;39m: \u001b[0m\u001b[0;39m32768\u001b[0m\u001b[1;39m\n",
      "      \u001b[1;39m}\u001b[0m\u001b[1;39m,\n",
      "      \u001b[1;39m{\n",
      "        \u001b[0m\u001b[34;1m\"max_size\"\u001b[0m\u001b[1;39m: \u001b[0m\u001b[0;39m135168\u001b[0m\u001b[1;39m,\n",
      "        \u001b[0m\u001b[34;1m\"max_op\"\u001b[0m\u001b[1;39m: \u001b[0m\u001b[0;39m132\u001b[0m\u001b[1;39m\n",
      "      \u001b[1;39m}\u001b[0m\u001b[1;39m,\n",
      "      \u001b[1;39m{\n",
      "        \u001b[0m\u001b[34;1m\"max_size\"\u001b[0m\u001b[1;39m: \u001b[0m\u001b[0;39m524288\u001b[0m\u001b[1;39m\n",
      "      \u001b[1;39m}\u001b[0m\u001b[1;39m\n",
      "    \u001b[1;39m]\u001b[0m\u001b[1;39m,\n",
      "    \u001b[0m\u001b[34;1m\"baker\"\u001b[0m\u001b[1;39m: \u001b[0m\u001b[0;32m\"tz1KqTpEZ7Yob7QbPE4Hy4Wo8fHG8LhKxZSx\"\u001b[0m\u001b[1;39m,\n",
      "    \u001b[0m\u001b[34;1m\"level\"\u001b[0m\u001b[1;39m: \u001b[0m\u001b[1;39m{\n",
      "      \u001b[0m\u001b[34;1m\"level\"\u001b[0m\u001b[1;39m: \u001b[0m\u001b[0;39m4\u001b[0m\u001b[1;39m,\n",
      "      \u001b[0m\u001b[34;1m\"level_position\"\u001b[0m\u001b[1;39m: \u001b[0m\u001b[0;39m3\u001b[0m\u001b[1;39m,\n",
      "      \u001b[0m\u001b[34;1m\"cycle\"\u001b[0m\u001b[1;39m: \u001b[0m\u001b[0;39m0\u001b[0m\u001b[1;39m,\n",
      "      \u001b[0m\u001b[34;1m\"cycle_position\"\u001b[0m\u001b[1;39m: \u001b[0m\u001b[0;39m3\u001b[0m\u001b[1;39m,\n",
      "      \u001b[0m\u001b[34;1m\"voting_period\"\u001b[0m\u001b[1;39m: \u001b[0m\u001b[0;39m0\u001b[0m\u001b[1;39m,\n",
      "      \u001b[0m\u001b[34;1m\"voting_period_position\"\u001b[0m\u001b[1;39m: \u001b[0m\u001b[0;39m3\u001b[0m\u001b[1;39m,\n",
      "      \u001b[0m\u001b[34;1m\"expected_commitment\"\u001b[0m\u001b[1;39m: \u001b[0m\u001b[0;39mfalse\u001b[0m\u001b[1;39m\n",
      "    \u001b[1;39m}\u001b[0m\u001b[1;39m,\n",
      "    \u001b[0m\u001b[34;1m\"voting_period_kind\"\u001b[0m\u001b[1;39m: \u001b[0m\u001b[0;32m\"proposal\"\u001b[0m\u001b[1;39m,\n",
      "    \u001b[0m\u001b[34;1m\"nonce_hash\"\u001b[0m\u001b[1;39m: \u001b[0m\u001b[1;30mnull\u001b[0m\u001b[1;39m,\n",
      "    \u001b[0m\u001b[34;1m\"consumed_gas\"\u001b[0m\u001b[1;39m: \u001b[0m\u001b[0;32m\"15399\"\u001b[0m\u001b[1;39m,\n",
      "    \u001b[0m\u001b[34;1m\"deactivated\"\u001b[0m\u001b[1;39m: \u001b[0m\u001b[1;39m[]\u001b[0m\u001b[1;39m,\n",
      "    \u001b[0m\u001b[34;1m\"balance_updates\"\u001b[0m\u001b[1;39m: \u001b[0m\u001b[1;39m[\n",
      "      \u001b[1;39m{\n",
      "        \u001b[0m\u001b[34;1m\"kind\"\u001b[0m\u001b[1;39m: \u001b[0m\u001b[0;32m\"contract\"\u001b[0m\u001b[1;39m,\n",
      "        \u001b[0m\u001b[34;1m\"contract\"\u001b[0m\u001b[1;39m: \u001b[0m\u001b[0;32m\"tz1KqTpEZ7Yob7QbPE4Hy4Wo8fHG8LhKxZSx\"\u001b[0m\u001b[1;39m,\n",
      "        \u001b[0m\u001b[34;1m\"change\"\u001b[0m\u001b[1;39m: \u001b[0m\u001b[0;32m\"-512000000\"\u001b[0m\u001b[1;39m\n",
      "      \u001b[1;39m}\u001b[0m\u001b[1;39m,\n",
      "      \u001b[1;39m{\n",
      "        \u001b[0m\u001b[34;1m\"kind\"\u001b[0m\u001b[1;39m: \u001b[0m\u001b[0;32m\"freezer\"\u001b[0m\u001b[1;39m,\n",
      "        \u001b[0m\u001b[34;1m\"category\"\u001b[0m\u001b[1;39m: \u001b[0m\u001b[0;32m\"deposits\"\u001b[0m\u001b[1;39m,\n",
      "        \u001b[0m\u001b[34;1m\"delegate\"\u001b[0m\u001b[1;39m: \u001b[0m\u001b[0;32m\"tz1KqTpEZ7Yob7QbPE4Hy4Wo8fHG8LhKxZSx\"\u001b[0m\u001b[1;39m,\n",
      "        \u001b[0m\u001b[34;1m\"level\"\u001b[0m\u001b[1;39m: \u001b[0m\u001b[0;39m0\u001b[0m\u001b[1;39m,\n",
      "        \u001b[0m\u001b[34;1m\"change\"\u001b[0m\u001b[1;39m: \u001b[0m\u001b[0;32m\"512000000\"\u001b[0m\u001b[1;39m\n",
      "      \u001b[1;39m}\u001b[0m\u001b[1;39m,\n",
      "      \u001b[1;39m{\n",
      "        \u001b[0m\u001b[34;1m\"kind\"\u001b[0m\u001b[1;39m: \u001b[0m\u001b[0;32m\"freezer\"\u001b[0m\u001b[1;39m,\n",
      "        \u001b[0m\u001b[34;1m\"category\"\u001b[0m\u001b[1;39m: \u001b[0m\u001b[0;32m\"rewards\"\u001b[0m\u001b[1;39m,\n",
      "        \u001b[0m\u001b[34;1m\"delegate\"\u001b[0m\u001b[1;39m: \u001b[0m\u001b[0;32m\"tz1KqTpEZ7Yob7QbPE4Hy4Wo8fHG8LhKxZSx\"\u001b[0m\u001b[1;39m,\n",
      "        \u001b[0m\u001b[34;1m\"level\"\u001b[0m\u001b[1;39m: \u001b[0m\u001b[0;39m0\u001b[0m\u001b[1;39m,\n",
      "        \u001b[0m\u001b[34;1m\"change\"\u001b[0m\u001b[1;39m: \u001b[0m\u001b[0;32m\"16000000\"\u001b[0m\u001b[1;39m\n",
      "      \u001b[1;39m}\u001b[0m\u001b[1;39m\n",
      "    \u001b[1;39m]\u001b[0m\u001b[1;39m\n",
      "  \u001b[1;39m}\u001b[0m\u001b[1;39m,\n",
      "  \u001b[0m\u001b[34;1m\"operations\"\u001b[0m\u001b[1;39m: \u001b[0m\u001b[1;39m[\n",
      "    \u001b[1;39m[]\u001b[0m\u001b[1;39m,\n",
      "    \u001b[1;39m[]\u001b[0m\u001b[1;39m,\n",
      "    \u001b[1;39m[]\u001b[0m\u001b[1;39m,\n",
      "    \u001b[1;39m[\n",
      "      \u001b[1;39m{\n",
      "        \u001b[0m\u001b[34;1m\"protocol\"\u001b[0m\u001b[1;39m: \u001b[0m\u001b[0;32m\"PsddFKi32cMJ2qPjf43Qv5GDWLDPZb3T3bF6fLKiF5HtvHNU7aP\"\u001b[0m\u001b[1;39m,\n",
      "        \u001b[0m\u001b[34;1m\"chain_id\"\u001b[0m\u001b[1;39m: \u001b[0m\u001b[0;32m\"NetXgtSLGNJvNye\"\u001b[0m\u001b[1;39m,\n",
      "        \u001b[0m\u001b[34;1m\"hash\"\u001b[0m\u001b[1;39m: \u001b[0m\u001b[0;32m\"opJJjuvjLbLGnJ8b4N6wVHMNiSGZm2qau1SqW4895Qc9THKEj5a\"\u001b[0m\u001b[1;39m,\n",
      "        \u001b[0m\u001b[34;1m\"branch\"\u001b[0m\u001b[1;39m: \u001b[0m\u001b[0;32m\"BMK16A4YSv3BKb2UwmdnmVaUqv47WkAKazgdRNLL9k9WUK2gcFL\"\u001b[0m\u001b[1;39m,\n",
      "        \u001b[0m\u001b[34;1m\"contents\"\u001b[0m\u001b[1;39m: \u001b[0m\u001b[1;39m[\n",
      "          \u001b[1;39m{\n",
      "            \u001b[0m\u001b[34;1m\"kind\"\u001b[0m\u001b[1;39m: \u001b[0m\u001b[0;32m\"transaction\"\u001b[0m\u001b[1;39m,\n",
      "            \u001b[0m\u001b[34;1m\"source\"\u001b[0m\u001b[1;39m: \u001b[0m\u001b[0;32m\"tz1gMNzhDYsa3Q87ZczubTN7NwnWGU1ZbtYE\"\u001b[0m\u001b[1;39m,\n",
      "            \u001b[0m\u001b[34;1m\"fee\"\u001b[0m\u001b[1;39m: \u001b[0m\u001b[0;32m\"1807\"\u001b[0m\u001b[1;39m,\n",
      "            \u001b[0m\u001b[34;1m\"counter\"\u001b[0m\u001b[1;39m: \u001b[0m\u001b[0;32m\"4\"\u001b[0m\u001b[1;39m,\n",
      "            \u001b[0m\u001b[34;1m\"gas_limit\"\u001b[0m\u001b[1;39m: \u001b[0m\u001b[0;32m\"15478\"\u001b[0m\u001b[1;39m,\n",
      "            \u001b[0m\u001b[34;1m\"storage_limit\"\u001b[0m\u001b[1;39m: \u001b[0m\u001b[0;32m\"0\"\u001b[0m\u001b[1;39m,\n",
      "            \u001b[0m\u001b[34;1m\"amount\"\u001b[0m\u001b[1;39m: \u001b[0m\u001b[0;32m\"0\"\u001b[0m\u001b[1;39m,\n",
      "            \u001b[0m\u001b[34;1m\"destination\"\u001b[0m\u001b[1;39m: \u001b[0m\u001b[0;32m\"KT1BhGVKFxULPWJB3R3JEkNyBVCsHU4hffYT\"\u001b[0m\u001b[1;39m,\n",
      "            \u001b[0m\u001b[34;1m\"parameters\"\u001b[0m\u001b[1;39m: \u001b[0m\u001b[1;39m{\n",
      "              \u001b[0m\u001b[34;1m\"prim\"\u001b[0m\u001b[1;39m: \u001b[0m\u001b[0;32m\"Left\"\u001b[0m\u001b[1;39m,\n",
      "              \u001b[0m\u001b[34;1m\"args\"\u001b[0m\u001b[1;39m: \u001b[0m\u001b[1;39m[\n",
      "                \u001b[1;39m{\n",
      "                  \u001b[0m\u001b[34;1m\"int\"\u001b[0m\u001b[1;39m: \u001b[0m\u001b[0;32m\"10\"\u001b[0m\u001b[1;39m\n",
      "                \u001b[1;39m}\u001b[0m\u001b[1;39m\n",
      "              \u001b[1;39m]\u001b[0m\u001b[1;39m\n",
      "            \u001b[1;39m}\u001b[0m\u001b[1;39m,\n",
      "            \u001b[0m\u001b[34;1m\"metadata\"\u001b[0m\u001b[1;39m: \u001b[0m\u001b[1;39m{\n",
      "              \u001b[0m\u001b[34;1m\"balance_updates\"\u001b[0m\u001b[1;39m: \u001b[0m\u001b[1;39m[\n",
      "                \u001b[1;39m{\n",
      "                  \u001b[0m\u001b[34;1m\"kind\"\u001b[0m\u001b[1;39m: \u001b[0m\u001b[0;32m\"contract\"\u001b[0m\u001b[1;39m,\n",
      "                  \u001b[0m\u001b[34;1m\"contract\"\u001b[0m\u001b[1;39m: \u001b[0m\u001b[0;32m\"tz1gMNzhDYsa3Q87ZczubTN7NwnWGU1ZbtYE\"\u001b[0m\u001b[1;39m,\n",
      "                  \u001b[0m\u001b[34;1m\"change\"\u001b[0m\u001b[1;39m: \u001b[0m\u001b[0;32m\"-1807\"\u001b[0m\u001b[1;39m\n",
      "                \u001b[1;39m}\u001b[0m\u001b[1;39m,\n",
      "                \u001b[1;39m{\n",
      "                  \u001b[0m\u001b[34;1m\"kind\"\u001b[0m\u001b[1;39m: \u001b[0m\u001b[0;32m\"freezer\"\u001b[0m\u001b[1;39m,\n",
      "                  \u001b[0m\u001b[34;1m\"category\"\u001b[0m\u001b[1;39m: \u001b[0m\u001b[0;32m\"fees\"\u001b[0m\u001b[1;39m,\n",
      "                  \u001b[0m\u001b[34;1m\"delegate\"\u001b[0m\u001b[1;39m: \u001b[0m\u001b[0;32m\"tz1KqTpEZ7Yob7QbPE4Hy4Wo8fHG8LhKxZSx\"\u001b[0m\u001b[1;39m,\n",
      "                  \u001b[0m\u001b[34;1m\"level\"\u001b[0m\u001b[1;39m: \u001b[0m\u001b[0;39m0\u001b[0m\u001b[1;39m,\n",
      "                  \u001b[0m\u001b[34;1m\"change\"\u001b[0m\u001b[1;39m: \u001b[0m\u001b[0;32m\"1807\"\u001b[0m\u001b[1;39m\n",
      "                \u001b[1;39m}\u001b[0m\u001b[1;39m\n",
      "              \u001b[1;39m]\u001b[0m\u001b[1;39m,\n",
      "              \u001b[0m\u001b[34;1m\"operation_result\"\u001b[0m\u001b[1;39m: \u001b[0m\u001b[1;39m{\n",
      "                \u001b[0m\u001b[34;1m\"status\"\u001b[0m\u001b[1;39m: \u001b[0m\u001b[0;32m\"applied\"\u001b[0m\u001b[1;39m,\n",
      "                \u001b[0m\u001b[34;1m\"storage\"\u001b[0m\u001b[1;39m: \u001b[0m\u001b[1;39m{\n",
      "                  \u001b[0m\u001b[34;1m\"int\"\u001b[0m\u001b[1;39m: \u001b[0m\u001b[0;32m\"11\"\u001b[0m\u001b[1;39m\n",
      "                \u001b[1;39m}\u001b[0m\u001b[1;39m,\n",
      "                \u001b[0m\u001b[34;1m\"consumed_gas\"\u001b[0m\u001b[1;39m: \u001b[0m\u001b[0;32m\"15378\"\u001b[0m\u001b[1;39m,\n",
      "                \u001b[0m\u001b[34;1m\"storage_size\"\u001b[0m\u001b[1;39m: \u001b[0m\u001b[0;32m\"298\"\u001b[0m\u001b[1;39m\n"
     ]
    },
    {
     "name": "stdout",
     "output_type": "stream",
     "text": [
      "              \u001b[1;39m}\u001b[0m\u001b[1;39m\n",
      "            \u001b[1;39m}\u001b[0m\u001b[1;39m\n",
      "          \u001b[1;39m}\u001b[0m\u001b[1;39m\n",
      "        \u001b[1;39m]\u001b[0m\u001b[1;39m,\n",
      "        \u001b[0m\u001b[34;1m\"signature\"\u001b[0m\u001b[1;39m: \u001b[0m\u001b[0;32m\"sigPv1pGYf31XmcQZxPQLzRPyDYsHUKMTeVMuMNAuCAyVkFmhiaY1AJkBUPG7DuDBup9Jmbs4Xa9uDU4bukZwRLfmyQyNTw8\"\u001b[0m\u001b[1;39m\n",
      "      \u001b[1;39m}\u001b[0m\u001b[1;39m\n",
      "    \u001b[1;39m]\u001b[0m\u001b[1;39m\n",
      "  \u001b[1;39m]\u001b[0m\u001b[1;39m\n",
      "\u001b[1;39m}\u001b[0m\n"
     ]
    }
   ],
   "source": [
    "curl -s http://$TEZOS_NODE_URL/chains/main/blocks/head | jq"
   ]
  },
  {
   "cell_type": "markdown",
   "metadata": {},
   "source": [
    "## Implementation of application front-end\n",
    "For the implementation of front-end we will use Eztz library (https://github.com/TezTech/eztz). This library is implementing RPC communication with Tezos and also provides functionality for key generation, signing, verification, and contract interaction.\n",
    "\n",
    "For the sample we will fetch library from github (At the time of writing Eztz does not provide NPM package).\n",
    "\n"
   ]
  },
  {
   "cell_type": "code",
   "execution_count": null,
   "metadata": {},
   "outputs": [
    {
     "name": "stdout",
     "output_type": "stream",
     "text": [
      "Wrote to /Users/martinkovacik/tezos-dev/calculator-dapp/package.json:\n",
      "\n",
      "{\n",
      "  \"name\": \"calculator-dapp\",\n",
      "  \"version\": \"1.0.0\",\n",
      "  \"description\": \"\",\n",
      "  \"main\": \"eztz.cli.js\",\n",
      "  \"scripts\": {\n",
      "    \"test\": \"echo \\\"Error: no test specified\\\" && exit 1\"\n",
      "  },\n",
      "  \"keywords\": [],\n",
      "  \"author\": \"\",\n",
      "  \"license\": \"ISC\"\n",
      "}\n",
      "\n",
      "\n",
      "\n",
      "\u001b[33m\u001b[39m\n",
      "\u001b[33m   ╭───────────────────────────────────────────────────────────────╮\u001b[39m\n",
      "   \u001b[33m│\u001b[39m                                                               \u001b[33m│\u001b[39m\n",
      "   \u001b[33m│\u001b[39m       New \u001b[33mminor\u001b[39m version of npm available! \u001b[31m6.4.1\u001b[39m → \u001b[32m6.5.0\u001b[39m       \u001b[33m│\u001b[39m\n",
      "   \u001b[33m│\u001b[39m   \u001b[33mChangelog:\u001b[39m \u001b[36mhttps://github.com/npm/cli/releases/tag/v6.5.0\u001b[39m   \u001b[33m│\u001b[39m\n",
      "   \u001b[33m│\u001b[39m               Run \u001b[32mnpm install -g npm\u001b[39m to update!               \u001b[33m│\u001b[39m\n",
      "   \u001b[33m│\u001b[39m                                                               \u001b[33m│\u001b[39m\n",
      "\u001b[33m   ╰───────────────────────────────────────────────────────────────╯\u001b[39m\n",
      "\u001b[33m\u001b[39m\n",
      "--2019-01-16 11:42:16--  https://github.com/TezTech/eztz/raw/master/dist/eztz.cli.js\n",
      "Resolving github.com (github.com)... 140.82.118.3, 140.82.118.4\n",
      "Prip'ajanie k github.com (github.com)|140.82.118.3|:443... connected.\n",
      "HTTP request sent, awaiting response... 302 Found\n",
      "Location: https://raw.githubusercontent.com/TezTech/eztz/master/dist/eztz.cli.js [following]\n",
      "--2019-01-16 11:42:17--  https://raw.githubusercontent.com/TezTech/eztz/master/dist/eztz.cli.js\n",
      "Resolving raw.githubusercontent.com (raw.githubusercontent.com)... 151.101.0.133, 151.101.64.133, 151.101.128.133, ...\n",
      "Prip'ajanie k raw.githubusercontent.com (raw.githubusercontent.com)|151.101.0.133|:443... connected.\n",
      "HTTP request sent, awaiting response... 200 OK\n",
      "Length: 21898 (21K) [text/plain]\n",
      "Uklad'a sa do: \"eztz.cli.js.1\"\n",
      "\n",
      "eztz.cli.js.1       100%[===================>]  21.38K  --.-KB/s    za 0.01s   \n",
      "\n",
      "2019-01-16 11:42:17 (1.76 MB/s) - \"eztz.cli.js.1\" ulozen'e [21898/21898]\n",
      "\n"
     ]
    }
   ],
   "source": [
    "cd ~/tezos-dev/calculator-dapp\n",
    "\n",
    "#this will create default npm module\n",
    "npm init -y\n",
    "\n",
    "#this will download eztz library for CLI\n",
    "wget https://github.com/TezTech/eztz/raw/master/dist/eztz.cli.js\n",
    "\n",
    "#this will download eztz dependencies required for CLI\n",
    "npm install --save xmlhttprequest\n",
    "npm install --save bs58check\n",
    "npm install --save libsodium-wrappers\n",
    "npm install --save bip39"
   ]
  },
  {
   "cell_type": "markdown",
   "metadata": {},
   "source": [
    "To be able to interact with our smart contract, we need to have account - this is represented by private/public key pair. For the demo we will create account in JS application - this is the activity we did earlier as [Testing Account Creation](#Testing-account-creation)."
   ]
  },
  {
   "cell_type": "markdown",
   "metadata": {},
   "source": [
    "    TBD - continue with content"
   ]
  },
  {
   "cell_type": "markdown",
   "metadata": {},
   "source": [
    "## Sandbox Clean-up"
   ]
  },
  {
   "cell_type": "markdown",
   "metadata": {},
   "source": [
    "Command to terminate sandbox blockchain running in the background"
   ]
  },
  {
   "cell_type": "code",
   "execution_count": null,
   "metadata": {},
   "outputs": [],
   "source": [
    "kill $(<$TEZOS_HOME/tezos_sandbox_pid.txt)"
   ]
  }
 ],
 "metadata": {
  "kernelspec": {
   "display_name": "Bash",
   "language": "bash",
   "name": "bash"
  },
  "language_info": {
   "codemirror_mode": "shell",
   "file_extension": ".sh",
   "mimetype": "text/x-sh",
   "name": "bash"
  }
 },
 "nbformat": 4,
 "nbformat_minor": 2
}
