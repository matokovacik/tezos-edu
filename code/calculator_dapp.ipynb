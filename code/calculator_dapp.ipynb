{
 "cells": [
  {
   "cell_type": "markdown",
   "metadata": {},
   "source": [
    "# Calculator Sample\n",
    "This sample will guide throught the whole process of implementing, deploying and calling contract in tezos. \n",
    "\n",
    "As a prerequisite it's required to have [source build of tezos and liquidity](../setup/source_install.ipynb)."
   ]
  },
  {
   "cell_type": "markdown",
   "metadata": {},
   "source": [
    "## Preparation of sandbox\n",
    "In this sample we are using tezos sandbox. This instance of tezos is local to you computer only. It's primarily used for internal tezos testing. This platform is usefull for experimentation, however if you would like to test your contracts in environment closer to mainnet, it's recommended to use Alphanet. \n",
    "\n",
    "### Node for Sandbox\n",
    "Following commands will start the node for the sandbox network. **After the process is terminated, whole blockchain is erased**. Script `tezos-sandboxed-node.sh` has one mandatory parameter - number from 1 to 9. This parameter is used to construct RPC port on which sandbox node will be listening. \n",
    "\n",
    "For number 1 tezos will use RPC port 18731 and port 19731 for node listening for peers. For number 9 ~ RPC Port 18739, Peer Port 19739, etc.\n",
    "\n",
    "For more info on sandbox mode, please consult [tezos documentation on sandbox](http://tezos.gitlab.io/mainnet/introduction/various.html#use-sandboxed-mode)\n",
    "\n",
    "For convenience, we will run the sandbox as a daemon. Alternatively it's possible to run it in separate terminal.\n",
    "\n"
   ]
  },
  {
   "cell_type": "code",
   "execution_count": 4,
   "metadata": {},
   "outputs": [],
   "source": [
    "export TEZOS_HOME=~/tezos-dev/tezos\n",
    "export TEZOS_NODE_URL=\"127.0.0.1:18731\"\n",
    "\n",
    "# This variable will disable disclaimer about used tezos network. For this guide we will \n",
    "# disable it to make command outputs less cluttered. \n",
    "export TEZOS_CLIENT_UNSAFE_DISABLE_DISCLAIMER=yes"
   ]
  },
  {
   "cell_type": "code",
   "execution_count": 118,
   "metadata": {},
   "outputs": [
    {
     "name": "stdout",
     "output_type": "stream",
     "text": [
      "[1] 77993\n"
     ]
    }
   ],
   "source": [
    "cd $TEZOS_HOME\n",
    "./src/bin_node/tezos-sandboxed-node.sh 1 --connections 1  1>tezos_sandbox_log.txt 2>&1 &\n",
    "export NODE_PID=$!\n",
    "echo $NODE_PID > tezos_sandbox_pid.txt"
   ]
  },
  {
   "cell_type": "markdown",
   "metadata": {},
   "source": [
    "### Client for Sandbox\n",
    "Script will initialize variables and default configuration for the tezos-client. Also the script will register aliases for common commands like tezos-client. **The variables are present only in current shell. When opening other shell it's required to rerun the command.** If more then two terminals are required, it's possible to run the script in other terminal again. Please note the number after the shell script. This is node identifier - it should match to number of node in previous section.\n"
   ]
  },
  {
   "cell_type": "code",
   "execution_count": 5,
   "metadata": {},
   "outputs": [
    {
     "name": "stdout",
     "output_type": "stream",
     "text": [
      "## Tezos address added: tz1KqTpEZ7Yob7QbPE4Hy4Wo8fHG8LhKxZSx\n",
      "## Tezos address added: tz1gjaF81ZRRvdzjobyfVNsAeSC6PScjfQwN\n",
      "## Tezos address added: tz1faswCTDciRzE4oJ9jn2Vm2dvjeyA9fUzU\n",
      "## Tezos address added: tz1b7tUupMgCNw2cCLpKTkSD1NZzB5TkP2sv\n",
      "## Tezos address added: tz1ddb9NMYHZi5UzPdzTZMYQQZoMub195zgv\n",
      "## Tezos address added: tz1TGu6TN5GSez2ndXXeDX6LgUDvLzPLqgYV\n",
      "## \n",
      "## The client is now properly initialized. In the rest of this shell\n",
      "## session, you might now run `tezos-client` to communicate with a\n",
      "## tezos node launched with `launch-sandboxed-node 1`. For instance:\n",
      "## \n",
      "##   tezos-client rpc get /chains/main/blocks/head/metadata\n",
      "## \n",
      "## Note: if the current protocol version, as reported by the previous\n",
      "## command, is \"Ps6mwMrF2ER2s51cp9yYpjDcuzQjsc2yAz8bQsRgdaRxw4Fk95H\", you\n",
      "## may have to activate in your \"sandboxed network\" the same economic\n",
      "## protocol than used by the alphanet by running:\n",
      "## \n",
      "##   tezos-activate-alpha\n",
      "## \n",
      "## Warning: all the client data will be removed when you close this shell\n",
      "## or if you run this command a second time.\n",
      "## \n",
      "## Activate tab completion by running:\n",
      "## \n",
      "##   tezos-autocomplete\n",
      "## \n"
     ]
    }
   ],
   "source": [
    "cd $TEZOS_HOME\n",
    "eval `./src/bin_client/tezos-init-sandboxed-client.sh 1`"
   ]
  },
  {
   "cell_type": "markdown",
   "metadata": {},
   "source": [
    "### Bootstrapping of blockchain\n",
    "To start working with the tezos sandbox, it's required to bootstrap blockchain. This can be achieved by calling `tezos-activate-alpha` script.\n",
    "\n",
    "The script will create genesis block and register testing accounts with some &#xA729; balances in `tezos-client`."
   ]
  },
  {
   "cell_type": "code",
   "execution_count": 6,
   "metadata": {},
   "outputs": [
    {
     "name": "stdout",
     "output_type": "stream",
     "text": [
      "alias tezos-activate-alpha='/Users/martinkovacik/tezos-dev/tezos/src/bin_client//../../_build/default/src/bin_client/main_client.exe -base-dir /var/folders/0b/fjtl87gs24n38pxhhzc6ryfr0000gn/T/tezos-tmp-client.XXXXXXXX.QQTnjIZw -addr 127.0.0.1 -port 18731 -block genesis activate protocol PsddFKi32cMJ2qPjf43Qv5GDWLDPZb3T3bF6fLKiF5HtvHNU7aP with fitness 1 and key activator and parameters /Users/martinkovacik/tezos-dev/tezos/src/bin_client//../../scripts/protocol_parameters.json --timestamp 2018-12-28T14:10:30Z'\n",
      "alias tezos-autocomplete='if [  ] ; then autoload bashcompinit ; bashcompinit ; fi ; source \"/Users/martinkovacik/tezos-dev/tezos/src/bin_client//bash-completion.sh\"'\n",
      "alias tezos-client-reset='rm -rf \"/var/folders/0b/fjtl87gs24n38pxhhzc6ryfr0000gn/T/tezos-tmp-client.XXXXXXXX.QQTnjIZw\"; unalias tezos-activate-alpha tezos-client-reset'\n"
     ]
    }
   ],
   "source": [
    "alias\n",
    "#tezos-activate-alpha "
   ]
  },
  {
   "cell_type": "markdown",
   "metadata": {},
   "source": [
    "This can be verified by checking head of the blockchain and later list of registered adresses in wallet. "
   ]
  },
  {
   "cell_type": "code",
   "execution_count": 121,
   "metadata": {},
   "outputs": [
    {
     "name": "stdout",
     "output_type": "stream",
     "text": [
      "{ \"protocol\": \"Ps6mwMrF2ER2s51cp9yYpjDcuzQjsc2yAz8bQsRgdaRxw4Fk95H\",\n",
      "  \"chain_id\": \"NetXgtSLGNJvNye\",\n",
      "  \"hash\": \"BLAxwS3xZ7nhkFv2vRuSzYoCJXuBsiuuL53q7xHj7xvhB1R8621\",\n",
      "  \"header\":\n",
      "    { \"level\": 1, \"proto\": 1,\n",
      "      \"predecessor\": \"BLockGenesisGenesisGenesisGenesisGenesisb83baZgbyZe\",\n",
      "      \"timestamp\": \"2018-12-27T22:29:00Z\", \"validation_pass\": 0,\n",
      "      \"operations_hash\":\n",
      "        \"LLoZS2LW3rEi7KYU4ouBQtorua37aWWCtpDmv1n2x3xoKi6sVXLWp\",\n",
      "      \"fitness\": [ \"00\", \"0000000000000001\" ],\n",
      "      \"context\": \"CoWNQTuPmkD752FiSHd4dyHqeyZ3Tvk2hfqAKH4GhNrzyKZ1HDsF\",\n",
      "      \"content\":\n",
      "        { \"command\": \"activate\",\n",
      "          \"hash\": \"PsddFKi32cMJ2qPjf43Qv5GDWLDPZb3T3bF6fLKiF5HtvHNU7aP\",\n",
      "          \"fitness\": [ \"00\", \"0000000000000001\" ],\n",
      "          \"protocol_parameters\":\n",
      "            \"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\" },\n",
      "      \"signature\":\n",
      "        \"sigefdfiMhm6sJpKzu3HPYXUsE8XG3WZvLNHpoA6GBKuCq7a4hJLLFtGvsNGDgDSU7zAqzPjNMqa8TngXTtJGxmSCbwX3tmy\" },\n",
      "  \"metadata\":\n",
      "    { \"protocol\": \"Ps6mwMrF2ER2s51cp9yYpjDcuzQjsc2yAz8bQsRgdaRxw4Fk95H\",\n",
      "      \"next_protocol\": \"PsddFKi32cMJ2qPjf43Qv5GDWLDPZb3T3bF6fLKiF5HtvHNU7aP\",\n",
      "      \"test_chain_status\": { \"status\": \"not_running\" },\n",
      "      \"max_operations_ttl\": 1, \"max_operation_data_length\": 16384,\n",
      "      \"max_block_header_length\": 238,\n",
      "      \"max_operation_list_length\":\n",
      "        [ { \"max_size\": 32768, \"max_op\": 32 }, { \"max_size\": 32768 },\n",
      "          { \"max_size\": 135168, \"max_op\": 132 }, { \"max_size\": 524288 } ] },\n",
      "  \"operations\": [] }\n"
     ]
    }
   ],
   "source": [
    "#get head of the blockchain\n",
    "tezos-client rpc get chains/main/blocks/head"
   ]
  },
  {
   "cell_type": "code",
   "execution_count": 122,
   "metadata": {},
   "outputs": [
    {
     "name": "stdout",
     "output_type": "stream",
     "text": [
      "activator: tz1TGu6TN5GSez2ndXXeDX6LgUDvLzPLqgYV (unencrypted sk known)\n",
      "bootstrap5: tz1ddb9NMYHZi5UzPdzTZMYQQZoMub195zgv (unencrypted sk known)\n",
      "bootstrap4: tz1b7tUupMgCNw2cCLpKTkSD1NZzB5TkP2sv (unencrypted sk known)\n",
      "bootstrap3: tz1faswCTDciRzE4oJ9jn2Vm2dvjeyA9fUzU (unencrypted sk known)\n",
      "bootstrap2: tz1gjaF81ZRRvdzjobyfVNsAeSC6PScjfQwN (unencrypted sk known)\n",
      "bootstrap1: tz1KqTpEZ7Yob7QbPE4Hy4Wo8fHG8LhKxZSx (unencrypted sk known)\n"
     ]
    }
   ],
   "source": [
    "# List of registered accounts\n",
    "tezos-client list known addresses "
   ]
  },
  {
   "cell_type": "markdown",
   "metadata": {},
   "source": [
    "### Basic wallet functions and tez transfers\n",
    "`tezos-client` is serving as a basic wallet. It's possible to get balance for the accounts and also their private/public key combinations using following set of commands."
   ]
  },
  {
   "cell_type": "code",
   "execution_count": 123,
   "metadata": {
    "scrolled": true
   },
   "outputs": [
    {
     "name": "stdout",
     "output_type": "stream",
     "text": [
      "4000000 ꜩ\n",
      "-------\n",
      "Hash: tz1KqTpEZ7Yob7QbPE4Hy4Wo8fHG8LhKxZSx\n",
      "Public Key: edpkuBknW28nW72KG6RoHtYW7p12T6GKc7nAbwYX5m8Wd9sDVC9yav\n",
      "Secret Key: unencrypted:edsk3gUfUPyBSfrS9CCgmCiQsTCHGkviBDusMxDJstFtojtc1zcpsh\n"
     ]
    }
   ],
   "source": [
    "tezos-client get balance for bootstrap1 \n",
    "echo -------\n",
    "tezos-client show address bootstrap1 --show-secret  "
   ]
  },
  {
   "cell_type": "markdown",
   "metadata": {},
   "source": [
    "### Testing account creation\n",
    "For our exercise we will generate new account. Then we can verify successful creation by showing address and public/private (secret) key."
   ]
  },
  {
   "cell_type": "code",
   "execution_count": 124,
   "metadata": {},
   "outputs": [
    {
     "name": "stdout",
     "output_type": "stream",
     "text": [
      "Keys generated for test_account\n",
      "-------\n",
      "Hash: tz1ZxEjWfMDsdrHxQJF26DHZ3xsaTGDveXcH\n",
      "Public Key: edpkvLYdLJA4668a9asdysok37VJ7caNGsGhLPbno4fDVT7MMJRLR3\n",
      "Secret Key: unencrypted:edsk3n2wTqA19bxfRdwggb5gbEQNYBFBWvcDsupNJVJe3WaKht1bz3\n"
     ]
    }
   ],
   "source": [
    "tezos-client gen keys test_account && echo \"Keys generated for test_account\"\n",
    "echo -------\n",
    "tezos-client show address test_account --show-secret"
   ]
  },
  {
   "cell_type": "markdown",
   "metadata": {},
   "source": [
    "Our account don't have any tez. So we can transfer some &#xA729; from `bootstrap5` account."
   ]
  },
  {
   "cell_type": "code",
   "execution_count": 125,
   "metadata": {},
   "outputs": [
    {
     "name": "stdout",
     "output_type": "stream",
     "text": [
      "Balance for test_account:  0 ꜩ\n",
      "[2] 78045\n"
     ]
    }
   ],
   "source": [
    "echo \"Balance for test_account: \" $(tezos-client get balance for test_account) # no tez yet\n",
    "\n",
    "# we will run the command as a daemon. We will check output after the process will finish\n",
    "tezos-client transfer 1000 from bootstrap5 to test_account --burn-cap 0.257 > output.txt &\n",
    "PROCESS_PID=$!\n"
   ]
  },
  {
   "cell_type": "markdown",
   "metadata": {},
   "source": [
    "<span style=\"color:red\">Attempt to inject transfer operation will be blocked, as in our blockchain we don't have any bakers. In case you would be using alphanet, bakers would bake the block with your transaction in few minutes.</span>\n",
    "\n",
    "You can check the state of your operation using RPC provided by tezos. Until the block is baked, the transaction is stored in mempool."
   ]
  },
  {
   "cell_type": "code",
   "execution_count": 126,
   "metadata": {},
   "outputs": [
    {
     "name": "stdout",
     "output_type": "stream",
     "text": [
      "{ \"applied\":\n",
      "    [ { \"hash\": \"op8BJYC3kCqWsGJW6V4JsNwiQs9GMwtT2WzMQc6vm23xbsCQNTb\",\n",
      "        \"branch\": \"BLAxwS3xZ7nhkFv2vRuSzYoCJXuBsiuuL53q7xHj7xvhB1R8621\",\n",
      "        \"contents\":\n",
      "          [ { \"kind\": \"transaction\",\n",
      "              \"source\": \"tz1ddb9NMYHZi5UzPdzTZMYQQZoMub195zgv\",\n",
      "              \"fee\": \"1275\", \"counter\": \"1\", \"gas_limit\": \"10200\",\n",
      "              \"storage_limit\": \"277\", \"amount\": \"1000000000\",\n",
      "              \"destination\": \"tz1ZxEjWfMDsdrHxQJF26DHZ3xsaTGDveXcH\" } ],\n",
      "        \"signature\":\n",
      "          \"sigYXWuCLY4NQip6v9kUHQn53HUUdkAq14p88kPeQ5PM2yRZZkvUBb1NuaTVpcaAkzVg2xPXKEKyUgthiTedvXYLmXXDsy3b\" } ],\n",
      "  \"refused\": [], \"branch_refused\": [], \"branch_delayed\": [],\n",
      "  \"unprocessed\": [] }\n"
     ]
    }
   ],
   "source": [
    "tezos-client rpc get chains/main/mempool/pending_operations \n",
    "# curl http://$TEZOS_URL/chains/main/mempool/pending_operations | jq"
   ]
  },
  {
   "cell_type": "markdown",
   "metadata": {},
   "source": [
    "To resume the operation, you can **bake the block** using `tezos-client`. When baking using the client, you need to provide account, that will be used as delegate. To learn more about delegates and baking, consult [Liquid Proof Of Stake](../tezos/liquid_proof_of_stake.md) and [Tezos Architecture](../tezos/technical_architecture.md).\n",
    "\n",
    "Following command will bake the block and use `bootstrap1` as a delegate."
   ]
  },
  {
   "cell_type": "code",
   "execution_count": 127,
   "metadata": {},
   "outputs": [
    {
     "name": "stdout",
     "output_type": "stream",
     "text": [
      "Injected block BLNpBqwaV7GG\n",
      "[2]+  Done                    tezos-client transfer 1000 from bootstrap5 to test_account --burn-cap 0.257 > output.txt\n"
     ]
    }
   ],
   "source": [
    "tezos-client bake for bootstrap1\n",
    "wait $PROCESS_PID"
   ]
  },
  {
   "cell_type": "markdown",
   "metadata": {},
   "source": [
    "After baking we can check output of the finished transfer command."
   ]
  },
  {
   "cell_type": "code",
   "execution_count": 128,
   "metadata": {},
   "outputs": [
    {
     "name": "stdout",
     "output_type": "stream",
     "text": [
      "Node is bootstrapped, ready for injecting operations.\n",
      "Estimated gas: 10100 units (will add 100 for safety)\n",
      "Estimated storage: 257 bytes added (will add 20 for safety)\n",
      "Operation successfully injected in the node.\n",
      "Operation hash: op8BJYC3kCqWsGJW6V4JsNwiQs9GMwtT2WzMQc6vm23xbsCQNTb\n",
      "Waiting for the operation to be included...\n",
      "Operation found in block: BLNpBqwaV7GGeKur6pa7QXM3SbgsVCM7SvzL7HtuPuLxjXmY2z3 (pass: 3, offset: 0)\n",
      "This sequence of operations was run:\n",
      "  Manager signed operations:\n",
      "    From: tz1ddb9NMYHZi5UzPdzTZMYQQZoMub195zgv\n",
      "    Fee to the baker: ꜩ0.001275\n",
      "    Expected counter: 1\n",
      "    Gas limit: 10200\n",
      "    Storage limit: 277 bytes\n",
      "    Balance updates:\n",
      "      tz1ddb9NMYHZi5UzPdzTZMYQQZoMub195zgv ........... -ꜩ0.001275\n",
      "      fees(tz1KqTpEZ7Yob7QbPE4Hy4Wo8fHG8LhKxZSx,0) ... +ꜩ0.001275\n",
      "    Transaction:\n",
      "      Amount: ꜩ1000\n",
      "      From: tz1ddb9NMYHZi5UzPdzTZMYQQZoMub195zgv\n",
      "      To: tz1ZxEjWfMDsdrHxQJF26DHZ3xsaTGDveXcH\n",
      "      This transaction was successfully applied\n",
      "      Consumed gas: 10100\n",
      "      Balance updates:\n",
      "        tz1ddb9NMYHZi5UzPdzTZMYQQZoMub195zgv ... -ꜩ1000\n",
      "        tz1ZxEjWfMDsdrHxQJF26DHZ3xsaTGDveXcH ... +ꜩ1000\n",
      "        tz1ddb9NMYHZi5UzPdzTZMYQQZoMub195zgv ... -ꜩ0.257\n",
      "\n",
      "The operation has only been included 0 blocks ago.\n",
      "We recommend to wait more.\n",
      "Use command\n",
      "  tezos-client wait for op8BJYC3kCqWsGJW6V4JsNwiQs9GMwtT2WzMQc6vm23xbsCQNTb to be included --confirmations 30\n",
      "and/or an external block explorer.\n"
     ]
    }
   ],
   "source": [
    "cat output.txt"
   ]
  },
  {
   "cell_type": "markdown",
   "metadata": {},
   "source": [
    "We can doublecheck balances for `test_account` and `bootstrap5`. From `bootstrap5` balance also transaction fees are subtracted."
   ]
  },
  {
   "cell_type": "code",
   "execution_count": 129,
   "metadata": {},
   "outputs": [
    {
     "name": "stdout",
     "output_type": "stream",
     "text": [
      "Balance for test_account: 1000 ꜩ\n",
      "Balance for bootstrap5: 3998999.741725 ꜩ\n"
     ]
    }
   ],
   "source": [
    "echo \"Balance for test_account: $(tezos-client get balance for test_account)\"\n",
    "echo \"Balance for bootstrap5: $(tezos-client get balance for bootstrap5)\""
   ]
  },
  {
   "cell_type": "markdown",
   "metadata": {},
   "source": [
    "During the guide we are using aliases registered within `tezos-client` for convenience reasons. It's possible to use also account hash/address as well. Following two commands are refering to the same account. "
   ]
  },
  {
   "cell_type": "code",
   "execution_count": 130,
   "metadata": {},
   "outputs": [
    {
     "name": "stdout",
     "output_type": "stream",
     "text": [
      "3999488 ꜩ\n",
      "3999488 ꜩ\n"
     ]
    }
   ],
   "source": [
    "tezos-client get balance for bootstrap1\n",
    "tezos-client get balance for tz1KqTpEZ7Yob7QbPE4Hy4Wo8fHG8LhKxZSx"
   ]
  },
  {
   "cell_type": "markdown",
   "metadata": {},
   "source": [
    "## Tezos Account Types\n",
    "Up to this point we were working with accounts, that just held tezzies. This accounts are one of tezos account types and are called implicit. Other type of contracts are originated. More information on account types can be found on [Originated accounts and Contracts](http://tezos.gitlab.io/mainnet/introduction/howtouse.html#originated-accounts-and-contracts). In tezos implicit accounts have prefix `tz...` and originated accounts `KT1...`. \n",
    "\n",
    "Originated accounts can have Michelson code attached. In this case, they are called smart contracts."
   ]
  },
  {
   "cell_type": "markdown",
   "metadata": {},
   "source": [
    "## Development of Smart Contracts\n",
    "At this point we have all prerequisites for preparing contract. \n",
    "\n",
    "Smart contracts for Tezos are implemented and using Michelson language. It's low-level stack-based language. We will refer to Michelson in other sections of this guide. We will implement sample contract using high level language Liquidity. Liquidity is provided with command line utility, that can be used to compile, deploy and manage the contracts developed using Liquidity language. Liquidity compiles into Michelson. All features, that are available in Michelson are possible in Liquidity as well.\n",
    "\n",
    "Liquidity is a language heavily inspired by the OCaml language. Before starting working with Liquidity we advise \n",
    "to check some OCaml, F# or ReasonML tutorials to familiarize with language syntax (eg. https://try.ocamlpro.com).\n",
    "\n",
    "To learn more about Liquidity, refer to [Liquidity website](http://www.liquidity-lang.org).\n",
    "\n",
    "### Sample Calculator Contract\n",
    "For beginning we will implement sample contract, that will be managing state and will enable add and subtract operations. Default operation will be add.\n",
    "\n",
    "Smart contracts are software programs that binds the parties involved in a transaction to an agreement with out any third party being involved. The smart contract on the blockchain guarantees that nothing can be changed about the agreement without the consent of all the parties.\n",
    "\n",
    "When you deploy smart contract into the blockchain it cannot be changed. It prescribes how it's internal storage should be ammended. When smart contract is called, all resulting storage changes are verified agains the smart contract code.\n",
    "\n",
    "Each smart contract in liquidity consists of four parts\n",
    "- version declaration (of liquidity)\n",
    "- storage definition\n",
    "- storage initialisation\n",
    "- entry functions (at least method main is required. This method is called when contract is executed)\n",
    "\n",
    "Following code shows structure of our initial version of contract.\n",
    "\n",
    "```ocaml\n",
    "[%%version 0.4]\n",
    "  \n",
    "type storage = int\n",
    "\n",
    "let%init storage (init_storage : int) =\n",
    "  init_storage\n",
    "\n",
    "let%entry main (parameter : int) storage =\n",
    "  ( ([] : operation list), storage + parameter )\n",
    "  \n",
    "let%entry add (parameter : int) storage =\n",
    "  ( ([] : operation list), storage + parameter )\n",
    "  \n",
    "let%entry subtract (parameter : int) storage =\n",
    "  ( ([] : operation list), storage - parameter )\n",
    "```\n",
    "\n",
    "Storage block is defining data structure, that will be representing internal state of the contract. For our sample we will use simple structure of type ```int```.\n",
    "\n",
    "Function marked with `let%init` represents initialisation function for the storage. The function should return storage data structure (in this case int). Returned value would be used as a initial storage value.\n",
    "\n",
    "Function main is default entry point for contract. Entry points are taking parameters, storage and returning tuple with list of operations, that should be applied after the contract is executed and storage value after execution of the contract. In our case we are not returning any operations, just incrementing value of internal storage.\n",
    "\n",
    "#### Liquidity Development Tooling\n",
    "Currently there is not many tools, that support development of liquidity contracts. As the language is very similar to OCaml, we suggest to use editors with OCaml syntax highlighting.\n",
    "\n",
    "Other option is to use web [editor provided on liquidity website](http://www.liquidity-lang.org/edit/). This editor provides more advanced features and comes also with lot of samples how to use liquidity."
   ]
  },
  {
   "cell_type": "code",
   "execution_count": 131,
   "metadata": {},
   "outputs": [],
   "source": [
    "mkdir -p ~/tezos-dev/calculator-dapp\n",
    "cd ~/tezos-dev/calculator-dapp\n",
    "\n",
    "/bin/cat <<EOM >Calculator.liq\n",
    "[%%version 0.4]\n",
    "  \n",
    "type storage = int\n",
    "\n",
    "let%init storage (init_storage : int) =\n",
    "  init_storage\n",
    "  \n",
    "let%entry add (parameter : int) storage =\n",
    "  ( ([] : operation list), storage + parameter )\n",
    "  \n",
    "let%entry subtract (parameter : int) storage =\n",
    "  ( ([] : operation list), storage - parameter )\n",
    "EOM\n",
    "\n"
   ]
  },
  {
   "cell_type": "markdown",
   "metadata": {},
   "source": [
    "### Contract Simulation and Deployment\n",
    "#### Running Simulation of Contract using Liquidity\n",
    "Tezos node can execute the script in Michelson and return result even without storage to blockchain. This can be used to simulate contract call during testing and development.\n",
    "\n",
    "Liquidity can handle transpilation to Michelson and correct call of the script on our behalf. \n",
    "\n",
    "During the simulation, it's required to prepare storage structure before calling the contract entry point.\n",
    "This can be achieved using following command."
   ]
  },
  {
   "cell_type": "code",
   "execution_count": 132,
   "metadata": {},
   "outputs": [
    {
     "name": "stdout",
     "output_type": "stream",
     "text": [
      "Main contract Calculator\n",
      "Evaluated initial storage: 1\n",
      "Constant initial storage generated in \"calculator.liq.init.tz\"\n"
     ]
    }
   ],
   "source": [
    "liquidity --tezos-node $TEZOS_NODE_URL \\\n",
    " Calculator.liq \\\n",
    " --init-storage '1'"
   ]
  },
  {
   "cell_type": "markdown",
   "metadata": {},
   "source": [
    "This command will call storage function (function where declaration starts with let%init) and pass arguments after --init-storage parameter. Result of the call is evaluated storage as it will be stored to blockchain, but still in Liquidity. Resulting storage in Michelson format will be stored in *.init.tz file.\n",
    "\n",
    "Liquidity storage:\n",
    "\n",
    "    Evaluated initial storage: *1*\n",
    "\n",
    "Michelson storage:"
   ]
  },
  {
   "cell_type": "code",
   "execution_count": 133,
   "metadata": {},
   "outputs": [
    {
     "name": "stdout",
     "output_type": "stream",
     "text": [
      "1"
     ]
    }
   ],
   "source": [
    "cat calculator.liq.init.tz"
   ]
  },
  {
   "cell_type": "markdown",
   "metadata": {},
   "source": [
    "Now we have all required to run contract simulation using liquidity. Following command will execute liquidity script using tezos node."
   ]
  },
  {
   "cell_type": "code",
   "execution_count": 134,
   "metadata": {},
   "outputs": [
    {
     "name": "stdout",
     "output_type": "stream",
     "text": [
      "Main contract Calculator\n",
      "2\n",
      "# Internal operations: 0\n",
      "------\n",
      "Main contract Calculator\n",
      "7\n",
      "# Internal operations: 0\n"
     ]
    }
   ],
   "source": [
    "#in --run add 1 1 first parameter is name of entry point, \n",
    "# second represents input to the entry point, \n",
    "# third parameter represents storage\n",
    "liquidity --tezos-node $TEZOS_NODE_URL \\\n",
    " Calculator.liq \\\n",
    " --run add 1 1\n",
    " \n",
    "echo ------\n",
    "\n",
    "liquidity --tezos-node $TEZOS_NODE_URL \\\n",
    " Calculator.liq \\\n",
    " --run subtract 3 10"
   ]
  },
  {
   "cell_type": "markdown",
   "metadata": {},
   "source": [
    "\n",
    "#### Direct Liquidity Deployment\n",
    "***Currently direct deployment is not working. For time being, please follow [deployment using tezos-client](#Running-of-Contract-Using-Tezos-Client).***\n",
    "\n",
    "To deploy the contract to tezos, we will use following command. As parameters we are passing source account and it's private key. In attribute deploy we will pass parameters required for storage initialisation."
   ]
  },
  {
   "cell_type": "code",
   "execution_count": 135,
   "metadata": {},
   "outputs": [],
   "source": [
    "#TZ_HASH=$(tezos-client show address test_account --show-secret | grep Hash | cut -d\" \" -f2)\n",
    "#TZ_SECRET=$(tezos-client show address test_account --show-secret | grep Secret | cut -d\":\" -f3)\n",
    "\n",
    "#liquidity \\\n",
    "#  --tezos-node $TEZOS_NODE_URL \\\n",
    "#  --source $TZ_HASH \\\n",
    "#  --private-key $TZ_SECRET \\\n",
    "#  --fee 1tz \\\n",
    "#  --amount 3tz \\\n",
    "#  Calculator.liq \\\n",
    "#  --deploy '0' | tee contract_deploy_output.txt\n",
    "  \n",
    "#export CONTRACT_HASH=$(grep \"New contract\" contract_deploy_output.txt | cut -d\" \" -f3)\n",
    "#export OPERATION_HASH=$(grep \"New contract\" contract_deploy_output.txt | cut -d\" \" -f7)"
   ]
  },
  {
   "cell_type": "markdown",
   "metadata": {},
   "source": [
    "Before continuing we need to bake the block with operation."
   ]
  },
  {
   "cell_type": "code",
   "execution_count": 136,
   "metadata": {},
   "outputs": [],
   "source": [
    "# tezos-client bake for bootstrap1 2>/dev/null"
   ]
  },
  {
   "cell_type": "markdown",
   "metadata": {},
   "source": [
    "To review storage of the contract we can use liquidity program with command --get-storage. As a parameter we are passing hash of the function."
   ]
  },
  {
   "cell_type": "code",
   "execution_count": 137,
   "metadata": {},
   "outputs": [],
   "source": [
    "#liquidity \\\n",
    "# --tezos-node localhost:18731 \\\n",
    "# Calculator.liq \\\n",
    "# --get-storage $CONTRACT_HASH"
   ]
  },
  {
   "cell_type": "markdown",
   "metadata": {},
   "source": [
    "Now we can start working with the contract."
   ]
  },
  {
   "cell_type": "code",
   "execution_count": 138,
   "metadata": {},
   "outputs": [],
   "source": [
    "#liquidity \\\n",
    "# --tezos-node localhost:18732 \\\n",
    "# --private-key $TZ_SECRET \\\n",
    "# Calculator.liq \\\n",
    "# --call $CONTRACT_HASH add '10'"
   ]
  },
  {
   "cell_type": "markdown",
   "metadata": {},
   "source": [
    "After executing the command we still don't see results of our operation in storage. To see changes, we need to bake the block first. This is specific of sandbox environment. In Alphanet, baking will be handled by dedicated bakers."
   ]
  },
  {
   "cell_type": "code",
   "execution_count": 139,
   "metadata": {},
   "outputs": [],
   "source": [
    "#echo \"Storage before bake\"\n",
    "#liquidity \\\n",
    "# --tezos-node localhost:18731 \\\n",
    "# Calculator.liq \\\n",
    "# --get-storage $CONTRACT_HASH\n",
    " \n",
    "#tezos-client bake for bootstrap1 2>/dev/null\n",
    "\n",
    "#echo \"Storage after the block is baked\"\n",
    "#liquidity \\\n",
    "# --tezos-node localhost:18731 \\\n",
    "# Calculator.liq \\\n",
    "# --get-storage $CONTRACT_HASH"
   ]
  },
  {
   "cell_type": "markdown",
   "metadata": {},
   "source": [
    "### Running of Contract Using Tezos Client\n",
    "For this section we will use `liquidity` as a compiler only. When calling the command with the liquidity program, it will compile the code into the Michelson program. \n"
   ]
  },
  {
   "cell_type": "markdown",
   "metadata": {},
   "source": [
    "#### Compilation of Contract to Michelson\n",
    "Liquidity is hiding lot of complexity, however in some scenarios it is required to use Michelson. Following sample is showing how to use liquidity in order to create michelson script.\n",
    "\n",
    "When liquidity script is compiled, storage initialization and contract entry points are provided separately. "
   ]
  },
  {
   "cell_type": "code",
   "execution_count": 140,
   "metadata": {},
   "outputs": [
    {
     "name": "stdout",
     "output_type": "stream",
     "text": [
      "Main contract Calculator\n",
      "Storage initializer generated in \"./calculator.liq.initializer.tz\"\n",
      "File \"./calculator.liq.tz\" generated\n",
      "If tezos is compiled, you may want to typecheck with:\n",
      "  tezos-client typecheck script ./calculator.liq.tz\n",
      "------\n",
      "parameter (or :_entries (int %_Liq_entry_add) (int %_Liq_entry_subtract));\n",
      "storage int;\n",
      "code { DUP ;\n",
      "       DIP { CDR @storage_slash_1 } ;\n",
      "       CAR @parameter_slash_2 ;\n",
      "       DUP @parameter ;\n",
      "       IF_LEFT\n",
      "         { RENAME @parameter_slash_3 ; DUUUP ; ADD ; NIL operation ; PAIR }\n",
      "         { RENAME @parameter_slash_5 ; DUUUP ; SUB ; NIL operation ; PAIR } ;\n",
      "       DIP { DROP ; DROP } };\n",
      "------\n",
      "parameter int;\n",
      "storage int;\n",
      "code { DUP ;\n",
      "       DIP { CDR @_storage } ;\n",
      "       CAR @_parameter ;\n",
      "       DUP ;\n",
      "       DUP @init_storage ;\n",
      "       DIP { DROP } ;\n",
      "       NIL operation ;\n",
      "       PAIR ;\n",
      "       DIP { DROP ; DROP } };\n"
     ]
    }
   ],
   "source": [
    "liquidity --tezos-node $TEZOS_NODE_URL \\\n",
    " Calculator.liq\n",
    " \n",
    "echo ------\n",
    "\n",
    "cat Calculator.liq.tz\n",
    "\n",
    "echo ------\n",
    "\n",
    "cat Calculator.liq.initializer.tz"
   ]
  },
  {
   "cell_type": "markdown",
   "metadata": {},
   "source": [
    "Liquidity is providing compilation also for method invocations. This way it simplifies creation of required michelson statements."
   ]
  },
  {
   "cell_type": "code",
   "execution_count": 141,
   "metadata": {},
   "outputs": [
    {
     "name": "stdout",
     "output_type": "stream",
     "text": [
      "Main contract Calculator\n",
      "Evaluated initial storage: 1\n",
      "Constant initial storage generated in \"calculator.liq.init.tz\"\n",
      "------\n",
      "add 1\n",
      "Main contract Calculator\n",
      "(Left 1)\n",
      "------\n",
      "subtract 4\n",
      "Main contract Calculator\n",
      "(Right 4)\n"
     ]
    }
   ],
   "source": [
    "# Evaluation of the storage structure - calling of storage function and resulting storage structure is outputed\n",
    "liquidity --tezos-node $TEZOS_NODE_URL \\\n",
    " Calculator.liq \\\n",
    " --init-storage '1'\n",
    "\n",
    "echo ------\n",
    "echo add 1\n",
    "# Compilation of function call - calling of add entry point with argument \"1\"\n",
    "liquidity --tezos-node $TEZOS_NODE_URL \\\n",
    " Calculator.liq \\\n",
    " --data add '1'\n",
    " \n",
    "echo ------\n",
    "echo subtract 4\n",
    "# Compilation of function call - calling of subtract entry point with argument \"4\"\n",
    "liquidity --tezos-node $TEZOS_NODE_URL \\\n",
    " Calculator.liq \\\n",
    " --data subtract '4'"
   ]
  },
  {
   "cell_type": "markdown",
   "metadata": {},
   "source": [
    "Now it's possible to simulate the contract directly in Michelson."
   ]
  },
  {
   "cell_type": "code",
   "execution_count": 142,
   "metadata": {},
   "outputs": [
    {
     "name": "stdout",
     "output_type": "stream",
     "text": [
      "Calling add 10, initial storage 0 (calculator.liq.init.tz)\n",
      "storage\n",
      "  11\n",
      "emitted operations\n",
      "  \n",
      "\n",
      "\n",
      "Calling subtract 5, initial storage 3\n",
      "storage\n",
      "  -2\n",
      "emitted operations\n",
      "  \n",
      "\n",
      "\n"
     ]
    }
   ],
   "source": [
    "echo \"Calling add 10, initial storage 0 (calculator.liq.init.tz)\"\n",
    "tezos-client run script calculator.liq.tz on storage $(<calculator.liq.init.tz) and input '(Left 10)'\n",
    "\n",
    "echo \"Calling subtract 5, initial storage 3\"\n",
    "tezos-client run script calculator.liq.tz on storage 3 and input '(Right 5)'"
   ]
  },
  {
   "cell_type": "markdown",
   "metadata": {},
   "source": [
    "#### Deployment of Contract using Tezos Client\n",
    "For deployment we need to create originated account. This can be achieved using `tezos-client originate contract...` call. During the origination it's required to provide our private/secret key ([command to retrieve](#Testing-account-creation))."
   ]
  },
  {
   "cell_type": "code",
   "execution_count": 143,
   "metadata": {},
   "outputs": [
    {
     "name": "stdout",
     "output_type": "stream",
     "text": [
      "[2] 78074\n"
     ]
    }
   ],
   "source": [
    "# We are creating new originated contract and registring it's alias Calculator with our tezos-client.\n",
    "tezos-client originate contract Calculator \\\n",
    " for test_account \\\n",
    " transferring 1 from test_account \\\n",
    " running calculator.liq.tz \\\n",
    " --init $(<calculator.liq.init.tz) \\\n",
    " --burn-cap 1 > contract_output.txt &\n",
    "\n",
    "PROCESS_PID=$!"
   ]
  },
  {
   "cell_type": "markdown",
   "metadata": {},
   "source": [
    "Operation is not reflected in tezos blockchain until new block is baked. "
   ]
  },
  {
   "cell_type": "code",
   "execution_count": 145,
   "metadata": {},
   "outputs": [
    {
     "name": "stdout",
     "output_type": "stream",
     "text": [
      "Operation found in block: BLR69XUokbQwjmYxqB8yzTANJcZzMFg97uti2v6PnjLnn1wigUG (pass: 3, offset: 0)\n",
      "This sequence of operations was run:\n",
      "  Manager signed operations:\n",
      "    From: tz1ZxEjWfMDsdrHxQJF26DHZ3xsaTGDveXcH\n",
      "    Fee to the baker: ꜩ0.001257\n",
      "    Expected counter: 2\n",
      "    Gas limit: 10000\n",
      "    Storage limit: 0 bytes\n",
      "    Balance updates:\n",
      "      tz1ZxEjWfMDsdrHxQJF26DHZ3xsaTGDveXcH ........... -ꜩ0.001257\n",
      "      fees(tz1KqTpEZ7Yob7QbPE4Hy4Wo8fHG8LhKxZSx,0) ... +ꜩ0.001257\n",
      "    Revelation of manager public key:\n",
      "      Contract: tz1ZxEjWfMDsdrHxQJF26DHZ3xsaTGDveXcH\n",
      "      Key: edpkvLYdLJA4668a9asdysok37VJ7caNGsGhLPbno4fDVT7MMJRLR3\n",
      "      This revelation was successfully applied\n",
      "      Consumed gas: 10000\n",
      "  Manager signed operations:\n",
      "    From: tz1ZxEjWfMDsdrHxQJF26DHZ3xsaTGDveXcH\n",
      "    Fee to the baker: ꜩ0.002138\n",
      "    Expected counter: 3\n",
      "    Gas limit: 16807\n",
      "    Storage limit: 575 bytes\n",
      "    Balance updates:\n",
      "      tz1ZxEjWfMDsdrHxQJF26DHZ3xsaTGDveXcH ........... -ꜩ0.002138\n",
      "      fees(tz1KqTpEZ7Yob7QbPE4Hy4Wo8fHG8LhKxZSx,0) ... +ꜩ0.002138\n",
      "    Origination:\n",
      "      From: tz1ZxEjWfMDsdrHxQJF26DHZ3xsaTGDveXcH\n",
      "      For: tz1ZxEjWfMDsdrHxQJF26DHZ3xsaTGDveXcH\n",
      "      Credit: ꜩ1\n",
      "      Script:\n",
      "        { parameter (or :_entries (int %_Liq_entry_add) (int %_Liq_entry_subtract)) ;\n",
      "          storage int ;\n",
      "          code { DUP ;\n",
      "                 DIP { CDR @storage_slash_1 } ;\n",
      "                 CAR @parameter_slash_2 ;\n",
      "                 DUP @parameter ;\n",
      "                 IF_LEFT\n",
      "                   { RENAME @parameter_slash_3 ; DUUUP ; ADD ; NIL operation ; PAIR }\n",
      "                   { RENAME @parameter_slash_5 ; DUUUP ; SUB ; NIL operation ; PAIR } ;\n",
      "                 DIP { DROP ; DROP } } }\n",
      "        Initial storage: 1\n",
      "        No delegate for this contract\n",
      "        This origination was successfully applied\n",
      "        Originated contracts:\n",
      "          KT1Qa9KsiLMGX8mfxUYx33x3SoKDFa5MsLxT\n",
      "        Storage size: 298 bytes\n",
      "        Paid storage size diff: 298 bytes\n",
      "        Consumed gas: 16707\n",
      "        Balance updates:\n",
      "          tz1ZxEjWfMDsdrHxQJF26DHZ3xsaTGDveXcH ... -ꜩ0.298\n",
      "          tz1ZxEjWfMDsdrHxQJF26DHZ3xsaTGDveXcH ... -ꜩ0.257\n",
      "          tz1ZxEjWfMDsdrHxQJF26DHZ3xsaTGDveXcH ... -ꜩ1\n",
      "          KT1Qa9KsiLMGX8mfxUYx33x3SoKDFa5MsLxT ... +ꜩ1\n",
      "\n",
      "Injected block BLR69XUokbQw\n",
      "New contract KT1Qa9KsiLMGX8mfxUYx33x3SoKDFa5MsLxT originated.\n",
      "The operation has only been included 0 blocks ago.\n",
      "We recommend to wait more.\n",
      "Use command\n",
      "  tezos-client wait for opYXD58Xz2AHuhBezodSnjKSgTgp8Bkd2dzY7cxFzKe7K55gX8s to be included --confirmations 30\n",
      "and/or an external block explorer.\n",
      "Contract memorized as Calculator.\n",
      "[2]+  Done                    tezos-client originate contract Calculator for test_account transferring 1 from test_account running calculator.liq.tz --init $(<calculator.liq.init.tz) --burn-cap 1 | tee contract_output.txt\n"
     ]
    }
   ],
   "source": [
    "tezos-client bake for bootstrap1\n",
    "\n",
    "wait $PROCESS_PID\n",
    "cat contract_output.txt"
   ]
  },
  {
   "cell_type": "markdown",
   "metadata": {},
   "source": [
    "`tezos-client` registers alias for newly created contract. The alias is matching hash outputed in the originate call above.\n"
   ]
  },
  {
   "cell_type": "code",
   "execution_count": 153,
   "metadata": {},
   "outputs": [
    {
     "name": "stdout",
     "output_type": "stream",
     "text": [
      "Contract Hash KT1Qa9KsiLMGX8mfxUYx33x3SoKDFa5MsLxT\n",
      "------\n",
      "Calculator listed among aliases\n",
      "Calculator: KT1Qa9KsiLMGX8mfxUYx33x3SoKDFa5MsLxT\n",
      "test_account: tz1ZxEjWfMDsdrHxQJF26DHZ3xsaTGDveXcH\n",
      "activator: tz1TGu6TN5GSez2ndXXeDX6LgUDvLzPLqgYV\n",
      "bootstrap5: tz1ddb9NMYHZi5UzPdzTZMYQQZoMub195zgv\n",
      "bootstrap4: tz1b7tUupMgCNw2cCLpKTkSD1NZzB5TkP2sv\n",
      "bootstrap3: tz1faswCTDciRzE4oJ9jn2Vm2dvjeyA9fUzU\n",
      "bootstrap2: tz1gjaF81ZRRvdzjobyfVNsAeSC6PScjfQwN\n",
      "bootstrap1: tz1KqTpEZ7Yob7QbPE4Hy4Wo8fHG8LhKxZSx\n"
     ]
    }
   ],
   "source": [
    "CONTRACT_HASH=$(grep \"New contract KT\" contract_output.txt | cut -d\" \" -f3)\n",
    "echo \"Contract Hash $CONTRACT_HASH\"\n",
    "echo ------\n",
    "echo \"Calculator listed among aliases\"\n",
    "tezos-client list known contracts"
   ]
  },
  {
   "cell_type": "markdown",
   "metadata": {},
   "source": [
    "### Call of contract using tezos-client\n",
    "Calling of smart contract is the same as transfering balance. When calling smart contract we are providing additional arguments, that should be in Michelson - refer to [Michelson compilation](#Compilation-of-Contract-to-Michelson) for sample how to get to Michelson function call for liquidity function."
   ]
  },
  {
   "cell_type": "code",
   "execution_count": 154,
   "metadata": {},
   "outputs": [
    {
     "name": "stdout",
     "output_type": "stream",
     "text": [
      "[2] 78118\n",
      "Injected block BLcz5pCmoiGk\n",
      "[2]+  Done                    tezos-client transfer 0 from test_account to $CONTRACT_HASH --arg \"(Left 10)\" > output.txt\n",
      "Node is bootstrapped, ready for injecting operations.\n",
      "Estimated gas: 15378 units (will add 100 for safety)\n",
      "Estimated storage: no bytes added\n",
      "Operation successfully injected in the node.\n",
      "Operation hash: onpAzXy37qXDS2i7Wkr1WyxjtbSmmcqUdJA5nEcsiQMFwaTrkLm\n",
      "Waiting for the operation to be included...\n",
      "Operation found in block: BLcz5pCmoiGk17BQAqCF9iCADZjYUaRqpmaA3ycQBSuFGt9Wmo2 (pass: 3, offset: 0)\n",
      "This sequence of operations was run:\n",
      "  Manager signed operations:\n",
      "    From: tz1ZxEjWfMDsdrHxQJF26DHZ3xsaTGDveXcH\n",
      "    Fee to the baker: ꜩ0.001807\n",
      "    Expected counter: 4\n",
      "    Gas limit: 15478\n",
      "    Storage limit: 0 bytes\n",
      "    Balance updates:\n",
      "      tz1ZxEjWfMDsdrHxQJF26DHZ3xsaTGDveXcH ........... -ꜩ0.001807\n",
      "      fees(tz1KqTpEZ7Yob7QbPE4Hy4Wo8fHG8LhKxZSx,0) ... +ꜩ0.001807\n",
      "    Transaction:\n",
      "      Amount: ꜩ0\n",
      "      From: tz1ZxEjWfMDsdrHxQJF26DHZ3xsaTGDveXcH\n",
      "      To: KT1Qa9KsiLMGX8mfxUYx33x3SoKDFa5MsLxT\n",
      "      Parameter: (Left 10)\n",
      "      This transaction was successfully applied\n",
      "      Updated storage: 11\n",
      "      Storage size: 298 bytes\n",
      "      Consumed gas: 15378\n",
      "\n",
      "The operation has only been included 0 blocks ago.\n",
      "We recommend to wait more.\n",
      "Use command\n",
      "  tezos-client wait for onpAzXy37qXDS2i7Wkr1WyxjtbSmmcqUdJA5nEcsiQMFwaTrkLm to be included --confirmations 30\n",
      "and/or an external block explorer.\n"
     ]
    }
   ],
   "source": [
    "#Calling our contract, entry point add (using parameter generated by liquidity compiled function call)\n",
    "tezos-client \\\n",
    " transfer 0 from test_account to $CONTRACT_HASH --arg \"(Left 10)\" > output.txt &\n",
    "PROCESS_PID=$!\n",
    "\n",
    "#Baking manually\n",
    "tezos-client bake for bootstrap1  #baking the block\n",
    "wait $PROCESS_PID\n",
    "cat output.txt"
   ]
  },
  {
   "cell_type": "markdown",
   "metadata": {},
   "source": [
    "We can verify contract call by querying storage in blockchain directly."
   ]
  },
  {
   "cell_type": "code",
   "execution_count": 159,
   "metadata": {},
   "outputs": [
    {
     "name": "stdout",
     "output_type": "stream",
     "text": [
      "11\n",
      "\u001b[1;39m{\n",
      "  \u001b[0m\u001b[34;1m\"int\"\u001b[0m\u001b[1;39m: \u001b[0m\u001b[0;32m\"11\"\u001b[0m\u001b[1;39m\n",
      "\u001b[1;39m}\u001b[0m\n"
     ]
    }
   ],
   "source": [
    "tezos-client get script storage for Calculator\n",
    "# curl -s http://$TEZOS_NODE_URL/chains/main/blocks/head/context/contracts/$CONTRACT_HASH/storage | jq"
   ]
  },
  {
   "cell_type": "markdown",
   "metadata": {},
   "source": [
    "Alternatively we can check the block in which the operation was included."
   ]
  },
  {
   "cell_type": "code",
   "execution_count": 163,
   "metadata": {},
   "outputs": [
    {
     "name": "stdout",
     "output_type": "stream",
     "text": [
      "\u001b[1;39m{\n",
      "  \u001b[0m\u001b[34;1m\"protocol\"\u001b[0m\u001b[1;39m: \u001b[0m\u001b[0;32m\"PsddFKi32cMJ2qPjf43Qv5GDWLDPZb3T3bF6fLKiF5HtvHNU7aP\"\u001b[0m\u001b[1;39m,\n",
      "  \u001b[0m\u001b[34;1m\"chain_id\"\u001b[0m\u001b[1;39m: \u001b[0m\u001b[0;32m\"NetXgtSLGNJvNye\"\u001b[0m\u001b[1;39m,\n",
      "  \u001b[0m\u001b[34;1m\"hash\"\u001b[0m\u001b[1;39m: \u001b[0m\u001b[0;32m\"BLcz5pCmoiGk17BQAqCF9iCADZjYUaRqpmaA3ycQBSuFGt9Wmo2\"\u001b[0m\u001b[1;39m,\n",
      "  \u001b[0m\u001b[34;1m\"header\"\u001b[0m\u001b[1;39m: \u001b[0m\u001b[1;39m{\n",
      "    \u001b[0m\u001b[34;1m\"level\"\u001b[0m\u001b[1;39m: \u001b[0m\u001b[0;39m4\u001b[0m\u001b[1;39m,\n",
      "    \u001b[0m\u001b[34;1m\"proto\"\u001b[0m\u001b[1;39m: \u001b[0m\u001b[0;39m1\u001b[0m\u001b[1;39m,\n",
      "    \u001b[0m\u001b[34;1m\"predecessor\"\u001b[0m\u001b[1;39m: \u001b[0m\u001b[0;32m\"BLR69XUokbQwjmYxqB8yzTANJcZzMFg97uti2v6PnjLnn1wigUG\"\u001b[0m\u001b[1;39m,\n",
      "    \u001b[0m\u001b[34;1m\"timestamp\"\u001b[0m\u001b[1;39m: \u001b[0m\u001b[0;32m\"2018-12-27T23:43:21Z\"\u001b[0m\u001b[1;39m,\n",
      "    \u001b[0m\u001b[34;1m\"validation_pass\"\u001b[0m\u001b[1;39m: \u001b[0m\u001b[0;39m4\u001b[0m\u001b[1;39m,\n",
      "    \u001b[0m\u001b[34;1m\"operations_hash\"\u001b[0m\u001b[1;39m: \u001b[0m\u001b[0;32m\"LLoZwEpdC5QKweL1ipsmrS7nTGr6kwR5n4QDzUVK7noRxMEcB2knk\"\u001b[0m\u001b[1;39m,\n",
      "    \u001b[0m\u001b[34;1m\"fitness\"\u001b[0m\u001b[1;39m: \u001b[0m\u001b[1;39m[\n",
      "      \u001b[0;32m\"00\"\u001b[0m\u001b[1;39m,\n",
      "      \u001b[0;32m\"0000000000000004\"\u001b[0m\u001b[1;39m\n",
      "    \u001b[1;39m]\u001b[0m\u001b[1;39m,\n",
      "    \u001b[0m\u001b[34;1m\"context\"\u001b[0m\u001b[1;39m: \u001b[0m\u001b[0;32m\"CoVqzM3M5j9EdWVDC7Vf3aAhqCYBUQxM4Wwpr8A8uD1ALiS4bqmZ\"\u001b[0m\u001b[1;39m,\n",
      "    \u001b[0m\u001b[34;1m\"priority\"\u001b[0m\u001b[1;39m: \u001b[0m\u001b[0;39m12\u001b[0m\u001b[1;39m,\n",
      "    \u001b[0m\u001b[34;1m\"proof_of_work_nonce\"\u001b[0m\u001b[1;39m: \u001b[0m\u001b[0;32m\"00000003818827f9\"\u001b[0m\u001b[1;39m,\n",
      "    \u001b[0m\u001b[34;1m\"signature\"\u001b[0m\u001b[1;39m: \u001b[0m\u001b[0;32m\"sigdRyRvoxR8PbiFFHmeqx5BSWPBhwo4wby2G9vkdrPNrLgfgZBbQkh5zLgoLpYbPHx3A239ZrQhtdmh6AC7w6Rkqvs2ywvH\"\u001b[0m\u001b[1;39m\n",
      "  \u001b[1;39m}\u001b[0m\u001b[1;39m,\n",
      "  \u001b[0m\u001b[34;1m\"metadata\"\u001b[0m\u001b[1;39m: \u001b[0m\u001b[1;39m{\n",
      "    \u001b[0m\u001b[34;1m\"protocol\"\u001b[0m\u001b[1;39m: \u001b[0m\u001b[0;32m\"PsddFKi32cMJ2qPjf43Qv5GDWLDPZb3T3bF6fLKiF5HtvHNU7aP\"\u001b[0m\u001b[1;39m,\n",
      "    \u001b[0m\u001b[34;1m\"next_protocol\"\u001b[0m\u001b[1;39m: \u001b[0m\u001b[0;32m\"PsddFKi32cMJ2qPjf43Qv5GDWLDPZb3T3bF6fLKiF5HtvHNU7aP\"\u001b[0m\u001b[1;39m,\n",
      "    \u001b[0m\u001b[34;1m\"test_chain_status\"\u001b[0m\u001b[1;39m: \u001b[0m\u001b[1;39m{\n",
      "      \u001b[0m\u001b[34;1m\"status\"\u001b[0m\u001b[1;39m: \u001b[0m\u001b[0;32m\"not_running\"\u001b[0m\u001b[1;39m\n",
      "    \u001b[1;39m}\u001b[0m\u001b[1;39m,\n",
      "    \u001b[0m\u001b[34;1m\"max_operations_ttl\"\u001b[0m\u001b[1;39m: \u001b[0m\u001b[0;39m4\u001b[0m\u001b[1;39m,\n",
      "    \u001b[0m\u001b[34;1m\"max_operation_data_length\"\u001b[0m\u001b[1;39m: \u001b[0m\u001b[0;39m16384\u001b[0m\u001b[1;39m,\n",
      "    \u001b[0m\u001b[34;1m\"max_block_header_length\"\u001b[0m\u001b[1;39m: \u001b[0m\u001b[0;39m238\u001b[0m\u001b[1;39m,\n",
      "    \u001b[0m\u001b[34;1m\"max_operation_list_length\"\u001b[0m\u001b[1;39m: \u001b[0m\u001b[1;39m[\n",
      "      \u001b[1;39m{\n",
      "        \u001b[0m\u001b[34;1m\"max_size\"\u001b[0m\u001b[1;39m: \u001b[0m\u001b[0;39m32768\u001b[0m\u001b[1;39m,\n",
      "        \u001b[0m\u001b[34;1m\"max_op\"\u001b[0m\u001b[1;39m: \u001b[0m\u001b[0;39m32\u001b[0m\u001b[1;39m\n",
      "      \u001b[1;39m}\u001b[0m\u001b[1;39m,\n",
      "      \u001b[1;39m{\n",
      "        \u001b[0m\u001b[34;1m\"max_size\"\u001b[0m\u001b[1;39m: \u001b[0m\u001b[0;39m32768\u001b[0m\u001b[1;39m\n",
      "      \u001b[1;39m}\u001b[0m\u001b[1;39m,\n",
      "      \u001b[1;39m{\n",
      "        \u001b[0m\u001b[34;1m\"max_size\"\u001b[0m\u001b[1;39m: \u001b[0m\u001b[0;39m135168\u001b[0m\u001b[1;39m,\n",
      "        \u001b[0m\u001b[34;1m\"max_op\"\u001b[0m\u001b[1;39m: \u001b[0m\u001b[0;39m132\u001b[0m\u001b[1;39m\n",
      "      \u001b[1;39m}\u001b[0m\u001b[1;39m,\n",
      "      \u001b[1;39m{\n",
      "        \u001b[0m\u001b[34;1m\"max_size\"\u001b[0m\u001b[1;39m: \u001b[0m\u001b[0;39m524288\u001b[0m\u001b[1;39m\n",
      "      \u001b[1;39m}\u001b[0m\u001b[1;39m\n",
      "    \u001b[1;39m]\u001b[0m\u001b[1;39m,\n",
      "    \u001b[0m\u001b[34;1m\"baker\"\u001b[0m\u001b[1;39m: \u001b[0m\u001b[0;32m\"tz1KqTpEZ7Yob7QbPE4Hy4Wo8fHG8LhKxZSx\"\u001b[0m\u001b[1;39m,\n",
      "    \u001b[0m\u001b[34;1m\"level\"\u001b[0m\u001b[1;39m: \u001b[0m\u001b[1;39m{\n",
      "      \u001b[0m\u001b[34;1m\"level\"\u001b[0m\u001b[1;39m: \u001b[0m\u001b[0;39m4\u001b[0m\u001b[1;39m,\n",
      "      \u001b[0m\u001b[34;1m\"level_position\"\u001b[0m\u001b[1;39m: \u001b[0m\u001b[0;39m3\u001b[0m\u001b[1;39m,\n",
      "      \u001b[0m\u001b[34;1m\"cycle\"\u001b[0m\u001b[1;39m: \u001b[0m\u001b[0;39m0\u001b[0m\u001b[1;39m,\n",
      "      \u001b[0m\u001b[34;1m\"cycle_position\"\u001b[0m\u001b[1;39m: \u001b[0m\u001b[0;39m3\u001b[0m\u001b[1;39m,\n",
      "      \u001b[0m\u001b[34;1m\"voting_period\"\u001b[0m\u001b[1;39m: \u001b[0m\u001b[0;39m0\u001b[0m\u001b[1;39m,\n",
      "      \u001b[0m\u001b[34;1m\"voting_period_position\"\u001b[0m\u001b[1;39m: \u001b[0m\u001b[0;39m3\u001b[0m\u001b[1;39m,\n",
      "      \u001b[0m\u001b[34;1m\"expected_commitment\"\u001b[0m\u001b[1;39m: \u001b[0m\u001b[0;39mfalse\u001b[0m\u001b[1;39m\n",
      "    \u001b[1;39m}\u001b[0m\u001b[1;39m,\n",
      "    \u001b[0m\u001b[34;1m\"voting_period_kind\"\u001b[0m\u001b[1;39m: \u001b[0m\u001b[0;32m\"proposal\"\u001b[0m\u001b[1;39m,\n",
      "    \u001b[0m\u001b[34;1m\"nonce_hash\"\u001b[0m\u001b[1;39m: \u001b[0m\u001b[1;30mnull\u001b[0m\u001b[1;39m,\n",
      "    \u001b[0m\u001b[34;1m\"consumed_gas\"\u001b[0m\u001b[1;39m: \u001b[0m\u001b[0;32m\"15399\"\u001b[0m\u001b[1;39m,\n",
      "    \u001b[0m\u001b[34;1m\"deactivated\"\u001b[0m\u001b[1;39m: \u001b[0m\u001b[1;39m[]\u001b[0m\u001b[1;39m,\n",
      "    \u001b[0m\u001b[34;1m\"balance_updates\"\u001b[0m\u001b[1;39m: \u001b[0m\u001b[1;39m[\n",
      "      \u001b[1;39m{\n",
      "        \u001b[0m\u001b[34;1m\"kind\"\u001b[0m\u001b[1;39m: \u001b[0m\u001b[0;32m\"contract\"\u001b[0m\u001b[1;39m,\n",
      "        \u001b[0m\u001b[34;1m\"contract\"\u001b[0m\u001b[1;39m: \u001b[0m\u001b[0;32m\"tz1KqTpEZ7Yob7QbPE4Hy4Wo8fHG8LhKxZSx\"\u001b[0m\u001b[1;39m,\n",
      "        \u001b[0m\u001b[34;1m\"change\"\u001b[0m\u001b[1;39m: \u001b[0m\u001b[0;32m\"-512000000\"\u001b[0m\u001b[1;39m\n",
      "      \u001b[1;39m}\u001b[0m\u001b[1;39m,\n",
      "      \u001b[1;39m{\n",
      "        \u001b[0m\u001b[34;1m\"kind\"\u001b[0m\u001b[1;39m: \u001b[0m\u001b[0;32m\"freezer\"\u001b[0m\u001b[1;39m,\n",
      "        \u001b[0m\u001b[34;1m\"category\"\u001b[0m\u001b[1;39m: \u001b[0m\u001b[0;32m\"deposits\"\u001b[0m\u001b[1;39m,\n",
      "        \u001b[0m\u001b[34;1m\"delegate\"\u001b[0m\u001b[1;39m: \u001b[0m\u001b[0;32m\"tz1KqTpEZ7Yob7QbPE4Hy4Wo8fHG8LhKxZSx\"\u001b[0m\u001b[1;39m,\n",
      "        \u001b[0m\u001b[34;1m\"level\"\u001b[0m\u001b[1;39m: \u001b[0m\u001b[0;39m0\u001b[0m\u001b[1;39m,\n",
      "        \u001b[0m\u001b[34;1m\"change\"\u001b[0m\u001b[1;39m: \u001b[0m\u001b[0;32m\"512000000\"\u001b[0m\u001b[1;39m\n",
      "      \u001b[1;39m}\u001b[0m\u001b[1;39m,\n",
      "      \u001b[1;39m{\n",
      "        \u001b[0m\u001b[34;1m\"kind\"\u001b[0m\u001b[1;39m: \u001b[0m\u001b[0;32m\"freezer\"\u001b[0m\u001b[1;39m,\n",
      "        \u001b[0m\u001b[34;1m\"category\"\u001b[0m\u001b[1;39m: \u001b[0m\u001b[0;32m\"rewards\"\u001b[0m\u001b[1;39m,\n",
      "        \u001b[0m\u001b[34;1m\"delegate\"\u001b[0m\u001b[1;39m: \u001b[0m\u001b[0;32m\"tz1KqTpEZ7Yob7QbPE4Hy4Wo8fHG8LhKxZSx\"\u001b[0m\u001b[1;39m,\n",
      "        \u001b[0m\u001b[34;1m\"level\"\u001b[0m\u001b[1;39m: \u001b[0m\u001b[0;39m0\u001b[0m\u001b[1;39m,\n",
      "        \u001b[0m\u001b[34;1m\"change\"\u001b[0m\u001b[1;39m: \u001b[0m\u001b[0;32m\"16000000\"\u001b[0m\u001b[1;39m\n",
      "      \u001b[1;39m}\u001b[0m\u001b[1;39m\n",
      "    \u001b[1;39m]\u001b[0m\u001b[1;39m\n",
      "  \u001b[1;39m}\u001b[0m\u001b[1;39m,\n",
      "  \u001b[0m\u001b[34;1m\"operations\"\u001b[0m\u001b[1;39m: \u001b[0m\u001b[1;39m[\n",
      "    \u001b[1;39m[]\u001b[0m\u001b[1;39m,\n",
      "    \u001b[1;39m[]\u001b[0m\u001b[1;39m,\n",
      "    \u001b[1;39m[]\u001b[0m\u001b[1;39m,\n",
      "    \u001b[1;39m[\n",
      "      \u001b[1;39m{\n",
      "        \u001b[0m\u001b[34;1m\"protocol\"\u001b[0m\u001b[1;39m: \u001b[0m\u001b[0;32m\"PsddFKi32cMJ2qPjf43Qv5GDWLDPZb3T3bF6fLKiF5HtvHNU7aP\"\u001b[0m\u001b[1;39m,\n",
      "        \u001b[0m\u001b[34;1m\"chain_id\"\u001b[0m\u001b[1;39m: \u001b[0m\u001b[0;32m\"NetXgtSLGNJvNye\"\u001b[0m\u001b[1;39m,\n",
      "        \u001b[0m\u001b[34;1m\"hash\"\u001b[0m\u001b[1;39m: \u001b[0m\u001b[0;32m\"onpAzXy37qXDS2i7Wkr1WyxjtbSmmcqUdJA5nEcsiQMFwaTrkLm\"\u001b[0m\u001b[1;39m,\n",
      "        \u001b[0m\u001b[34;1m\"branch\"\u001b[0m\u001b[1;39m: \u001b[0m\u001b[0;32m\"BLR69XUokbQwjmYxqB8yzTANJcZzMFg97uti2v6PnjLnn1wigUG\"\u001b[0m\u001b[1;39m,\n",
      "        \u001b[0m\u001b[34;1m\"contents\"\u001b[0m\u001b[1;39m: \u001b[0m\u001b[1;39m[\n",
      "          \u001b[1;39m{\n",
      "            \u001b[0m\u001b[34;1m\"kind\"\u001b[0m\u001b[1;39m: \u001b[0m\u001b[0;32m\"transaction\"\u001b[0m\u001b[1;39m,\n",
      "            \u001b[0m\u001b[34;1m\"source\"\u001b[0m\u001b[1;39m: \u001b[0m\u001b[0;32m\"tz1ZxEjWfMDsdrHxQJF26DHZ3xsaTGDveXcH\"\u001b[0m\u001b[1;39m,\n",
      "            \u001b[0m\u001b[34;1m\"fee\"\u001b[0m\u001b[1;39m: \u001b[0m\u001b[0;32m\"1807\"\u001b[0m\u001b[1;39m,\n",
      "            \u001b[0m\u001b[34;1m\"counter\"\u001b[0m\u001b[1;39m: \u001b[0m\u001b[0;32m\"4\"\u001b[0m\u001b[1;39m,\n",
      "            \u001b[0m\u001b[34;1m\"gas_limit\"\u001b[0m\u001b[1;39m: \u001b[0m\u001b[0;32m\"15478\"\u001b[0m\u001b[1;39m,\n",
      "            \u001b[0m\u001b[34;1m\"storage_limit\"\u001b[0m\u001b[1;39m: \u001b[0m\u001b[0;32m\"0\"\u001b[0m\u001b[1;39m,\n",
      "            \u001b[0m\u001b[34;1m\"amount\"\u001b[0m\u001b[1;39m: \u001b[0m\u001b[0;32m\"0\"\u001b[0m\u001b[1;39m,\n",
      "            \u001b[0m\u001b[34;1m\"destination\"\u001b[0m\u001b[1;39m: \u001b[0m\u001b[0;32m\"KT1Qa9KsiLMGX8mfxUYx33x3SoKDFa5MsLxT\"\u001b[0m\u001b[1;39m,\n",
      "            \u001b[0m\u001b[34;1m\"parameters\"\u001b[0m\u001b[1;39m: \u001b[0m\u001b[1;39m{\n",
      "              \u001b[0m\u001b[34;1m\"prim\"\u001b[0m\u001b[1;39m: \u001b[0m\u001b[0;32m\"Left\"\u001b[0m\u001b[1;39m,\n",
      "              \u001b[0m\u001b[34;1m\"args\"\u001b[0m\u001b[1;39m: \u001b[0m\u001b[1;39m[\n",
      "                \u001b[1;39m{\n",
      "                  \u001b[0m\u001b[34;1m\"int\"\u001b[0m\u001b[1;39m: \u001b[0m\u001b[0;32m\"10\"\u001b[0m\u001b[1;39m\n",
      "                \u001b[1;39m}\u001b[0m\u001b[1;39m\n",
      "              \u001b[1;39m]\u001b[0m\u001b[1;39m\n",
      "            \u001b[1;39m}\u001b[0m\u001b[1;39m,\n",
      "            \u001b[0m\u001b[34;1m\"metadata\"\u001b[0m\u001b[1;39m: \u001b[0m\u001b[1;39m{\n",
      "              \u001b[0m\u001b[34;1m\"balance_updates\"\u001b[0m\u001b[1;39m: \u001b[0m\u001b[1;39m[\n",
      "                \u001b[1;39m{\n",
      "                  \u001b[0m\u001b[34;1m\"kind\"\u001b[0m\u001b[1;39m: \u001b[0m\u001b[0;32m\"contract\"\u001b[0m\u001b[1;39m,\n",
      "                  \u001b[0m\u001b[34;1m\"contract\"\u001b[0m\u001b[1;39m: \u001b[0m\u001b[0;32m\"tz1ZxEjWfMDsdrHxQJF26DHZ3xsaTGDveXcH\"\u001b[0m\u001b[1;39m,\n",
      "                  \u001b[0m\u001b[34;1m\"change\"\u001b[0m\u001b[1;39m: \u001b[0m\u001b[0;32m\"-1807\"\u001b[0m\u001b[1;39m\n",
      "                \u001b[1;39m}\u001b[0m\u001b[1;39m,\n",
      "                \u001b[1;39m{\n",
      "                  \u001b[0m\u001b[34;1m\"kind\"\u001b[0m\u001b[1;39m: \u001b[0m\u001b[0;32m\"freezer\"\u001b[0m\u001b[1;39m,\n",
      "                  \u001b[0m\u001b[34;1m\"category\"\u001b[0m\u001b[1;39m: \u001b[0m\u001b[0;32m\"fees\"\u001b[0m\u001b[1;39m,\n",
      "                  \u001b[0m\u001b[34;1m\"delegate\"\u001b[0m\u001b[1;39m: \u001b[0m\u001b[0;32m\"tz1KqTpEZ7Yob7QbPE4Hy4Wo8fHG8LhKxZSx\"\u001b[0m\u001b[1;39m,\n",
      "                  \u001b[0m\u001b[34;1m\"level\"\u001b[0m\u001b[1;39m: \u001b[0m\u001b[0;39m0\u001b[0m\u001b[1;39m,\n",
      "                  \u001b[0m\u001b[34;1m\"change\"\u001b[0m\u001b[1;39m: \u001b[0m\u001b[0;32m\"1807\"\u001b[0m\u001b[1;39m\n",
      "                \u001b[1;39m}\u001b[0m\u001b[1;39m\n",
      "              \u001b[1;39m]\u001b[0m\u001b[1;39m,\n",
      "              \u001b[0m\u001b[34;1m\"operation_result\"\u001b[0m\u001b[1;39m: \u001b[0m\u001b[1;39m{\n",
      "                \u001b[0m\u001b[34;1m\"status\"\u001b[0m\u001b[1;39m: \u001b[0m\u001b[0;32m\"applied\"\u001b[0m\u001b[1;39m,\n",
      "                \u001b[0m\u001b[34;1m\"storage\"\u001b[0m\u001b[1;39m: \u001b[0m\u001b[1;39m{\n",
      "                  \u001b[0m\u001b[34;1m\"int\"\u001b[0m\u001b[1;39m: \u001b[0m\u001b[0;32m\"11\"\u001b[0m\u001b[1;39m\n",
      "                \u001b[1;39m}\u001b[0m\u001b[1;39m,\n",
      "                \u001b[0m\u001b[34;1m\"consumed_gas\"\u001b[0m\u001b[1;39m: \u001b[0m\u001b[0;32m\"15378\"\u001b[0m\u001b[1;39m,\n",
      "                \u001b[0m\u001b[34;1m\"storage_size\"\u001b[0m\u001b[1;39m: \u001b[0m\u001b[0;32m\"298\"\u001b[0m\u001b[1;39m\n"
     ]
    },
    {
     "name": "stdout",
     "output_type": "stream",
     "text": [
      "              \u001b[1;39m}\u001b[0m\u001b[1;39m\n",
      "            \u001b[1;39m}\u001b[0m\u001b[1;39m\n",
      "          \u001b[1;39m}\u001b[0m\u001b[1;39m\n",
      "        \u001b[1;39m]\u001b[0m\u001b[1;39m,\n",
      "        \u001b[0m\u001b[34;1m\"signature\"\u001b[0m\u001b[1;39m: \u001b[0m\u001b[0;32m\"sigsqbjBDEinKCeRGCa1UpYPV8JrMcN1d441hqJCrRk1AjCntoMy9i1TfmozGRCmss8DGfchWmfC6qfcamsKw5vPGKvMzgx3\"\u001b[0m\u001b[1;39m\n",
      "      \u001b[1;39m}\u001b[0m\u001b[1;39m\n",
      "    \u001b[1;39m]\u001b[0m\u001b[1;39m\n",
      "  \u001b[1;39m]\u001b[0m\u001b[1;39m\n",
      "\u001b[1;39m}\u001b[0m\n"
     ]
    }
   ],
   "source": [
    "curl -s http://$TEZOS_NODE_URL/chains/main/blocks/head | jq"
   ]
  },
  {
   "cell_type": "markdown",
   "metadata": {},
   "source": [
    "## Implementation of application front-end\n",
    "TBD"
   ]
  },
  {
   "cell_type": "code",
   "execution_count": null,
   "metadata": {},
   "outputs": [],
   "source": [
    "tezos-client transfer 1000 from bootstrap1 to tz1hzTqcG8EqWGPM6pkNWs9Bd3FfwuWHE9iX"
   ]
  },
  {
   "cell_type": "markdown",
   "metadata": {},
   "source": [
    "## Sandbox Clean-up"
   ]
  },
  {
   "cell_type": "markdown",
   "metadata": {},
   "source": [
    "Command to terminate sandbox blockchain running in the background"
   ]
  },
  {
   "cell_type": "code",
   "execution_count": null,
   "metadata": {},
   "outputs": [],
   "source": [
    "kill $(<$TEZOS_HOME/tezos_sandbox_pid.txt)"
   ]
  }
 ],
 "metadata": {
  "kernelspec": {
   "display_name": "Bash",
   "language": "bash",
   "name": "bash"
  },
  "language_info": {
   "codemirror_mode": "shell",
   "file_extension": ".sh",
   "mimetype": "text/x-sh",
   "name": "bash"
  }
 },
 "nbformat": 4,
 "nbformat_minor": 2
}
