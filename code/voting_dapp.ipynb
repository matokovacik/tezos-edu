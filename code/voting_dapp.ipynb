{
 "cells": [
  {
   "cell_type": "markdown",
   "metadata": {},
   "source": [
    "# Voting Sample\n",
    "This sample will guide throught the whole process of implementing, deploying and calling contract in tezos. Not all steps are elaborated in detail. For more detail focus on step and tezos commands, please consult [calculator sample](calculator_dapp.ipynb).\n",
    "\n",
    "As a prerequisite it's required to have [source build of tezos and liquidity](../setup/source_install.ipynb)."
   ]
  },
  {
   "cell_type": "markdown",
   "metadata": {},
   "source": [
    "## Preparation of environment\n",
    "In this sample, we will use both alphanet and sandbox. Usage of environment can be configured using following commands.\n",
    "\n",
    "For more info on sandbox mode, please consult [tezos documentation on sandbox](http://tezos.gitlab.io/mainnet/introduction/various.html#use-sandboxed-mode) or check [calculator dapp](calculator-dapp.ipynb)"
   ]
  },
  {
   "cell_type": "code",
   "execution_count": 1,
   "metadata": {},
   "outputs": [],
   "source": [
    "export TEZOS_HOME=~/tezos-dev/tezos\n",
    "\n",
    "#During the sample we will reference the variable to configure, if the contract should go to alphanet or sandbox.\n",
    "export USE_ALPHANET=no\n",
    "\n",
    "if [ \"$USE_ALPHANET\" = \"yes\" ]; then\n",
    "    export TEZOS_HOST=127.0.0.1\n",
    "    export TEZOS_PORT=8731\n",
    "else \n",
    "    export TEZOS_HOST=127.0.0.1\n",
    "    export TEZOS_PORT=18731\n",
    "fi\n",
    "export TEZOS_NODE_URL=\"$TEZOS_HOST:$TEZOS_PORT\"\n",
    "\n",
    "\n",
    "# This variable will disable disclaimer about used tezos network. For this guide we will \n",
    "# disable it to make command outputs less cluttered. \n",
    "export TEZOS_CLIENT_UNSAFE_DISABLE_DISCLAIMER=yes"
   ]
  },
  {
   "cell_type": "markdown",
   "metadata": {},
   "source": [
    "For alphanet we will create alias, for sandbox we will start node and initialize client."
   ]
  },
  {
   "cell_type": "code",
   "execution_count": 2,
   "metadata": {},
   "outputs": [
    {
     "name": "stdout",
     "output_type": "stream",
     "text": [
      "[1] 80793\n",
      "## Tezos address added: tz1KqTpEZ7Yob7QbPE4Hy4Wo8fHG8LhKxZSx\n",
      "## Tezos address added: tz1gjaF81ZRRvdzjobyfVNsAeSC6PScjfQwN\n",
      "## Tezos address added: tz1faswCTDciRzE4oJ9jn2Vm2dvjeyA9fUzU\n",
      "## Tezos address added: tz1b7tUupMgCNw2cCLpKTkSD1NZzB5TkP2sv\n",
      "## Tezos address added: tz1ddb9NMYHZi5UzPdzTZMYQQZoMub195zgv\n",
      "## Tezos address added: tz1TGu6TN5GSez2ndXXeDX6LgUDvLzPLqgYV\n",
      "## \n",
      "## The client is now properly initialized. In the rest of this shell\n",
      "## session, you might now run `tezos-client` to communicate with a\n",
      "## tezos node launched with `launch-sandboxed-node 1`. For instance:\n",
      "## \n",
      "##   tezos-client rpc get /chains/main/blocks/head/metadata\n",
      "## \n",
      "## Note: if the current protocol version, as reported by the previous\n",
      "## command, is \"Ps6mwMrF2ER2s51cp9yYpjDcuzQjsc2yAz8bQsRgdaRxw4Fk95H\", you\n",
      "## may have to activate in your \"sandboxed network\" the same economic\n",
      "## protocol than used by the alphanet by running:\n",
      "## \n",
      "##   tezos-activate-alpha\n",
      "## \n",
      "## Warning: all the client data will be removed when you close this shell\n",
      "## or if you run this command a second time.\n",
      "## \n",
      "## Activate tab completion by running:\n",
      "## \n",
      "##   tezos-autocomplete\n",
      "## \n"
     ]
    }
   ],
   "source": [
    "if [ \"$USE_ALPHANET\" = \"yes\" ]; then\n",
    "    alias tezos-client=\"$TEZOS_HOME/tezos-client --addr $TEZOS_HOST --port $TEZOS_PORT\"\n",
    "else\n",
    "    cd $TEZOS_HOME\n",
    "    ./src/bin_node/tezos-sandboxed-node.sh 1 --connections 1  1>tezos_sandbox_log.txt 2>&1 &\n",
    "    export NODE_PID=$!\n",
    "    echo $NODE_PID > tezos_sandbox_pid.txt\n",
    "    sleep 5\n",
    "    \n",
    "    #Initialization of the client\n",
    "    eval `./src/bin_client/tezos-init-sandboxed-client.sh 1`\n",
    "fi"
   ]
  },
  {
   "cell_type": "code",
   "execution_count": 3,
   "metadata": {},
   "outputs": [
    {
     "name": "stdout",
     "output_type": "stream",
     "text": [
      "Injected BLwFk7m6GW2X\n",
      "Injected block BLR6rg4ahCsU\n"
     ]
    }
   ],
   "source": [
    "if [ \"$USE_ALPHANET\" != \"yes\" ]; then\n",
    "    tezos-activate-alpha\n",
    "    tezos-client bake for bootstrap1\n",
    "fi\n"
   ]
  },
  {
   "cell_type": "markdown",
   "metadata": {},
   "source": [
    "### Initialization of account\n",
    "**Tezos sandbox is comming with bootstrap accounts, that have sufficient amount of tez required for testing. In alphanet it's required to get the wallet with tez loaded from [faucet](https://faucet.tzalpha.net).**\n",
    "\n",
    "This will provide a wallet in the form of a JSON file tz1__xxxxxxxxx__.json. To continue with tutorial, please download the wallet and place the file into `tz1__*.json` into `~/tezos-dev` folder. For sandbox we will transfer some tez from bootstrap accounts."
   ]
  },
  {
   "cell_type": "code",
   "execution_count": 4,
   "metadata": {
    "scrolled": true
   },
   "outputs": [
    {
     "name": "stdout",
     "output_type": "stream",
     "text": [
      "[2] 80841\n",
      "Injected block BMDfYaD6DFXD\n",
      "[2]+  Done                    tezos-client transfer 1000 from bootstrap5 to test_account --burn-cap 1 > output.txt\n",
      "Node is bootstrapped, ready for injecting operations.\n",
      "Estimated gas: 10100 units (will add 100 for safety)\n",
      "Estimated storage: 257 bytes added (will add 20 for safety)\n",
      "Operation successfully injected in the node.\n",
      "Operation hash: oodLXgG5JEiwzAytfeXbFzoAUFeEwRrL2vNBNuj9NgWrH61Qsym\n",
      "Waiting for the operation to be included...\n",
      "Operation found in block: BLJxZMpakdpzGNGhZuFEcWGMoew4yx3NRRQ3P4t2ekSsWHW5HTL (pass: 3, offset: 0)\n",
      "This sequence of operations was run:\n",
      "  Manager signed operations:\n",
      "    From: tz1ddb9NMYHZi5UzPdzTZMYQQZoMub195zgv\n",
      "    Fee to the baker: ꜩ0.001275\n",
      "    Expected counter: 1\n",
      "    Gas limit: 10200\n",
      "    Storage limit: 277 bytes\n",
      "    Balance updates:\n",
      "      tz1ddb9NMYHZi5UzPdzTZMYQQZoMub195zgv ........... -ꜩ0.001275\n",
      "      fees(tz1KqTpEZ7Yob7QbPE4Hy4Wo8fHG8LhKxZSx,0) ... +ꜩ0.001275\n",
      "    Transaction:\n",
      "      Amount: ꜩ1000\n",
      "      From: tz1ddb9NMYHZi5UzPdzTZMYQQZoMub195zgv\n",
      "      To: tz1iH2DD3JRBRFsXUvMPNQ4HVKMoGwyBsAmm\n",
      "      This transaction was successfully applied\n",
      "      Consumed gas: 10100\n",
      "      Balance updates:\n",
      "        tz1ddb9NMYHZi5UzPdzTZMYQQZoMub195zgv ... -ꜩ1000\n",
      "        tz1iH2DD3JRBRFsXUvMPNQ4HVKMoGwyBsAmm ... +ꜩ1000\n",
      "        tz1ddb9NMYHZi5UzPdzTZMYQQZoMub195zgv ... -ꜩ0.257\n",
      "\n",
      "The operation has only been included 0 blocks ago.\n",
      "We recommend to wait more.\n",
      "Use command\n",
      "  tezos-client wait for oodLXgG5JEiwzAytfeXbFzoAUFeEwRrL2vNBNuj9NgWrH61Qsym to be included --confirmations 30\n",
      "and/or an external block explorer.\n"
     ]
    }
   ],
   "source": [
    "if [ \"$USE_ALPHANET\" = \"yes\" ]; then\n",
    "    tezos-client activate account test_account with $TEZOS_HOME/../tz1__*.json\n",
    "else\n",
    "    tezos-client gen keys test_account\n",
    "    tezos-client transfer 1000 from bootstrap5 to test_account --burn-cap 1 > output.txt &\n",
    "    export PROCESS_PID=$!\n",
    "    tezos-client bake for bootstrap1\n",
    "    tezos-client bake for bootstrap1\n",
    "    wait $PROCESS_PID && cat output.txt\n",
    "fi"
   ]
  },
  {
   "cell_type": "markdown",
   "metadata": {},
   "source": [
    "Afterwards we can verify balance on test_account."
   ]
  },
  {
   "cell_type": "code",
   "execution_count": 5,
   "metadata": {},
   "outputs": [
    {
     "name": "stdout",
     "output_type": "stream",
     "text": [
      "Balance for test_account: 1000 ꜩ\n"
     ]
    }
   ],
   "source": [
    "echo \"Balance for test_account: $(tezos-client get balance for test_account)\""
   ]
  },
  {
   "cell_type": "markdown",
   "metadata": {},
   "source": [
    "During the guide we are using aliases registered within `tezos-client` for convenience reasons. It's possible to use also account hash/address as well. Following two commands are refering to the same account. "
   ]
  },
  {
   "cell_type": "markdown",
   "metadata": {},
   "source": [
    "## Development of Smart Contract\n",
    "\n",
    "Liquidity is a language heavily inspired by the OCaml language. Before starting working with Liquidity we advise \n",
    "to check some OCaml, F# or ReasonML tutorials to familiarize with language syntax (eg. https://try.ocamlpro.com).\n",
    "\n",
    "To learn more about Liquidity, refer to [Liquidity website](http://www.liquidity-lang.org).\n",
    "\n",
    "### Sample Voting Contract\n",
    "```ocaml\n",
    "[%%version 0.4]\n",
    "  \n",
    "type storage = {\n",
    "  candidates : (string, int) map;\n",
    "  voters : (address, bool) map;\n",
    "}\n",
    "\n",
    "(* Initially we will provide names of candidates *)\n",
    "let%init init_candidates (candidate_names : string list) =\n",
    "  let candidates = List.fold (fun (elt, map) -> Map.add elt 0 map) candidate_names\n",
    "    (Map[] : (string, int) map) in\n",
    "  { candidates = candidates; voters = (Map : (address, bool) map) }\n",
    "\n",
    "(* During vote user can select one candidate. His address is stored in map voters and vote is *)\n",
    "(* incremented in map candidates *)\n",
    "let%entry main (candidate_name : string) (storage : storage) =\n",
    "  let addr = Current.source() in\n",
    "  let storage =\n",
    "    storage.voters <- match Map.find addr storage.voters with\n",
    "    | None -> Map.add addr true storage.voters\n",
    "    | Some x -> failwith (\"Voter has already voted\", addr)\n",
    "  in\n",
    "\n",
    "  let storage =\n",
    "    storage.candidates <- match Map.find candidate_name storage.candidates with\n",
    "    | None -> failwith(\"Candidate is not valid\", candidate_name)\n",
    "    | Some x -> Map.add candidate_name (x + 1) storage.candidates ;\n",
    "  in\n",
    "  (([] : operation list), storage)\n",
    "```"
   ]
  },
  {
   "cell_type": "code",
   "execution_count": 6,
   "metadata": {},
   "outputs": [],
   "source": [
    "mkdir -p ~/tezos-dev/voting-dapp\n",
    "cd ~/tezos-dev/voting-dapp\n",
    "\n",
    "/bin/cat <<EOM >Voting.liq\n",
    "[%%version 0.4]\n",
    "\n",
    "type storage = {\n",
    "  candidates : (string, int) map;\n",
    "  voters : (address, bool) map;\n",
    "}\n",
    "\n",
    "let%init init_candidates (candidate_names : string list) =\n",
    "  let candidates = List.fold (fun (elt, map) -> Map.add elt 0 map) candidate_names\n",
    "    (Map[] : (string, int) map) in\n",
    "  { candidates = candidates; voters = (Map : (address, bool) map) }\n",
    "\n",
    "let%entry main (candidate_name : string) (storage : storage) =\n",
    "  let addr = Current.source() in\n",
    "  let storage =\n",
    "    storage.voters <- match Map.find addr storage.voters with\n",
    "    | None -> Map.add addr true storage.voters\n",
    "    | Some x -> failwith (\"Voter has already voted\", addr)\n",
    "  in\n",
    "\n",
    "  let storage =\n",
    "    storage.candidates <- match Map.find candidate_name storage.candidates with\n",
    "    | None -> failwith(\"Candidate is not valid\", candidate_name)\n",
    "    | Some x -> Map.add candidate_name (x + 1) storage.candidates ;\n",
    "  in\n",
    "  (([] : operation list), storage)\n",
    "EOM\n",
    "\n"
   ]
  },
  {
   "cell_type": "markdown",
   "metadata": {},
   "source": [
    "### Contract Simulation and Deployment\n",
    "#### Running Simulation of Contract using Liquidity\n",
    "Tezos node can execute the script in Michelson and return result even without storage to blockchain. This can be used to simulate contract call during testing and development.\n",
    "\n",
    "Liquidity can handle transpilation to Michelson and correct call of the script on our behalf. \n",
    "\n",
    "During the simulation, it's required to prepare storage structure before calling the contract entry point.\n",
    "This can be achieved using following command."
   ]
  },
  {
   "cell_type": "code",
   "execution_count": 7,
   "metadata": {},
   "outputs": [
    {
     "name": "stdout",
     "output_type": "stream",
     "text": [
      "Main contract Voting\n",
      "Voting.liq:18.6-18.12: Warning: unused variable \"x\"\n",
      "Evaluated initial storage: { candidates = (Map [(\"Peter\", 0); (\"Bob\", 0); (\"Anna\", 0)]); voters = Map }\n",
      "Constant initial storage generated in \"voting.liq.init.tz\"\n"
     ]
    }
   ],
   "source": [
    "liquidity --tezos-node $TEZOS_NODE_URL \\\n",
    " Voting.liq \\\n",
    " --init-storage '[\"Anna\"; \"Peter\"; \"Bob\"]'"
   ]
  },
  {
   "cell_type": "markdown",
   "metadata": {},
   "source": [
    "This command will call storage function (function where declaration starts with let%init) and pass arguments after --init-storage parameter. Result of the call is evaluated storage as it will be stored to blockchain, but still in Liquidity. Resulting storage in Michelson format will be stored in *.init.tz file.\n",
    "\n",
    "Liquidity storage:\n",
    "\n",
    "    Evaluated initial storage: *1*\n",
    "\n",
    "Michelson storage:"
   ]
  },
  {
   "cell_type": "code",
   "execution_count": 8,
   "metadata": {},
   "outputs": [
    {
     "name": "stdout",
     "output_type": "stream",
     "text": [
      "(Pair { Elt  \"Anna\" 0 ; Elt  \"Bob\" 0 ; Elt  \"Peter\" 0} {})"
     ]
    }
   ],
   "source": [
    "cat voting.liq.init.tz"
   ]
  },
  {
   "cell_type": "markdown",
   "metadata": {},
   "source": [
    "Now we have all required to run contract simulation using liquidity. Following command will execute liquidity script using tezos node."
   ]
  },
  {
   "cell_type": "code",
   "execution_count": 10,
   "metadata": {},
   "outputs": [
    {
     "name": "stdout",
     "output_type": "stream",
     "text": [
      "Main contract Voting\n",
      "Voting.liq:18.6-18.12: Warning: unused variable \"x\"\n",
      "{\n",
      "  candidates = (Map [(\"Peter\", 0); (\"Bob\", 0); (\"Anna\", 1)]);\n",
      "  voters = (Map [(KT1BEqzn5Wx8uJrZNvuS9DVHmLvG9td3fDLi, true)])\n",
      "}\n",
      "# Internal operations: 0\n"
     ]
    }
   ],
   "source": [
    "# in --run add 1 1 first parameter is name of entry point, \n",
    "# second represents input to the entry point, \n",
    "# third parameter represents storage\n",
    "liquidity --tezos-node $TEZOS_NODE_URL \\\n",
    " Voting.liq \\\n",
    " --run main '\"Anna\"' '{ candidates = (Map [(\"Peter\", 0); (\"Bob\", 0); (\"Anna\", 0)]); voters = Map }'\n"
   ]
  },
  {
   "cell_type": "code",
   "execution_count": 11,
   "metadata": {},
   "outputs": [
    {
     "name": "stdout",
     "output_type": "stream",
     "text": [
      "Main contract Voting\n",
      "Voting.liq:18.6-18.12: Warning: unused variable \"x\"\n",
      "Voting.liq:18.16-18.58: Runtime error: in /chains/main/blocks/head/helpers/scripts/run_code\n",
      "- proto.003-PsddFKi3.scriptRejectedRuntimeError\n"
     ]
    },
    {
     "ename": "",
     "evalue": "1",
     "output_type": "error",
     "traceback": []
    }
   ],
   "source": [
    "#Voting second time should fail.\n",
    "liquidity --tezos-node $TEZOS_NODE_URL \\\n",
    " Voting.liq \\\n",
    " --run main '\"Anna\"' '{\n",
    "  candidates = (Map [(\"Peter\", 0); (\"Bob\", 0); (\"Anna\", 1)]);\n",
    "  voters = (Map [(KT1BEqzn5Wx8uJrZNvuS9DVHmLvG9td3fDLi, true)])\n",
    "}'\n",
    "\n"
   ]
  },
  {
   "cell_type": "markdown",
   "metadata": {},
   "source": [
    "### Running of Contract Using Tezos Client\n",
    "For this section we will use `liquidity` as a compiler only. When calling the command with the liquidity program, it will compile the code into the Michelson program. \n"
   ]
  },
  {
   "cell_type": "markdown",
   "metadata": {},
   "source": [
    "#### Compilation of Contract to Michelson\n",
    "Liquidity is hiding lot of complexity, however in some scenarios it is required to use Michelson. Following sample is showing how to use liquidity in order to create michelson script.\n",
    "\n",
    "When liquidity script is compiled, storage initialization and contract entry points are provided separately. "
   ]
  },
  {
   "cell_type": "code",
   "execution_count": 17,
   "metadata": {},
   "outputs": [
    {
     "name": "stdout",
     "output_type": "stream",
     "text": [
      "Main contract Voting\n",
      "Voting.liq:18.6-18.12: Warning: unused variable \"x\"\n",
      "Storage initializer generated in \"./voting.liq.initializer.tz\"\n",
      "File \"./voting.liq.tz\" generated\n",
      "If tezos is compiled, you may want to typecheck with:\n",
      "  tezos-client typecheck script ./voting.liq.tz\n",
      "------\n",
      "parameter string;\n",
      "storage (pair :storage (map %candidates string int) (map %voters address bool));\n",
      "code { DUP ;\n",
      "       DIP { CDR @storage_slash_1 } ;\n",
      "       CAR @candidate_name_slash_2 ;\n",
      "       SOURCE @addr ;\n",
      "       DUUUP @storage ;\n",
      "       CAR %candidates ;\n",
      "       DUUUUP @storage ;\n",
      "       CDR %voters ;\n",
      "       DUUUP @addr ;\n",
      "       GET ;\n",
      "       IF_NONE\n",
      "         { DUUUUP @storage ;\n",
      "           CDR %voters ;\n",
      "           PUSH bool True ;\n",
      "           DUUUUP @addr ;\n",
      "           DIP { SOME } ;\n",
      "           UPDATE }\n",
      "         { DUUUP @addr ; PUSH string \"Voter has already voted\" ; PAIR ; FAILWITH } ;\n",
      "       SWAP ;\n",
      "       PAIR @storage %candidates %voters ;\n",
      "       DUP @storage ;\n",
      "       CDR %voters ;\n",
      "       DUUP @storage ;\n",
      "       CAR %candidates ;\n",
      "       DUUUUUP @candidate_name ;\n",
      "       GET ;\n",
      "       IF_NONE\n",
      "         { DUUUUP @candidate_name ;\n",
      "           PUSH string \"Candidate is not valid\" ;\n",
      "           PAIR ;\n",
      "           FAILWITH }\n",
      "         { DUUUP @storage ;\n",
      "           CAR %candidates ;\n",
      "           PUSH int 1 ;\n",
      "           DUUUP @x ;\n",
      "           ADD ;\n",
      "           DUUUUUUUP @candidate_name ;\n",
      "           DIP { SOME } ;\n",
      "           DIIIP { DROP } ;\n",
      "           UPDATE } ;\n",
      "       DIIP { DROP ; DROP ; DROP ; DROP } ;\n",
      "       PAIR @storage %candidates %voters ;\n",
      "       NIL operation ;\n",
      "       PAIR };\n",
      "------\n",
      "parameter (list string);\n",
      "storage (pair :storage (map %candidates string int) (map %voters address bool));\n",
      "code { DUP ;\n",
      "       DIP { CDR @_storage } ;\n",
      "       CAR @_parameter ;\n",
      "       DUP ;\n",
      "       PUSH (map string int) {} ;\n",
      "       { DIP { DUP @candidate_names } ; SWAP } ;\n",
      "       ITER { RENAME @_elt_map_slash_9 ;\n",
      "              DIP { DUP } ;\n",
      "              PAIR ;\n",
      "              DUP ;\n",
      "              CAR @elt ;\n",
      "              { DIP { DUP } ; SWAP } ;\n",
      "              CDR @map ;\n",
      "              DUP @map ;\n",
      "              PUSH int 0 ;\n",
      "              { DIP { { DIP { { DIP { DUP @elt } ; SWAP } } ; SWAP } } ;\n",
      "                SWAP } ;\n",
      "              DIP { SOME } ;\n",
      "              UPDATE ;\n",
      "              DIP { DROP } ;\n",
      "              DIP { DROP } ;\n",
      "              DIP { DROP ; DROP } } ;\n",
      "       RENAME @candidates ;\n",
      "       PUSH (map address bool) {} ;\n",
      "       { DIP { DUP @candidates } ; SWAP } ;\n",
      "       PAIR %candidates %voters ;\n",
      "       DIP { DROP } ;\n",
      "       DIP { DROP } ;\n",
      "       NIL operation ;\n",
      "       PAIR ;\n",
      "       DIP { DROP ; DROP } };\n"
     ]
    }
   ],
   "source": [
    "liquidity --tezos-node $TEZOS_NODE_URL \\\n",
    " Voting.liq\n",
    " \n",
    "echo ------\n",
    "\n",
    "cat Voting.liq.tz\n",
    "\n",
    "echo ------\n",
    "\n",
    "cat Voting.liq.initializer.tz"
   ]
  },
  {
   "cell_type": "markdown",
   "metadata": {},
   "source": [
    "Liquidity is providing compilation also for method invocations. This way it simplifies creation of required michelson statements."
   ]
  },
  {
   "cell_type": "code",
   "execution_count": 16,
   "metadata": {},
   "outputs": [
    {
     "name": "stdout",
     "output_type": "stream",
     "text": [
      "Main contract Voting\n",
      "Voting.liq:18.6-18.12: Warning: unused variable \"x\"\n",
      "Evaluated initial storage: { candidates = (Map [(\"Jenny\", 0); (\"Bob\", 0); (\"Anna\", 0)]); voters = Map }\n",
      "Constant initial storage generated in \"voting.liq.init.tz\"\n",
      "------\n",
      "vote Anna\n",
      "Main contract Voting\n",
      "\"Anna\"\n"
     ]
    }
   ],
   "source": [
    "# Evaluation of the storage structure - calling of storage function and resulting storage structure is outputed\n",
    "liquidity --tezos-node $TEZOS_NODE_URL \\\n",
    " Voting.liq \\\n",
    " --init-storage '[\"Anna\"; \"Bob\"; \"Jenny\"]'\n",
    "\n",
    "echo ------\n",
    "echo vote Anna\n",
    "# Compilation of function call - calling of add entry point with argument \"1\"\n",
    "liquidity --tezos-node $TEZOS_NODE_URL \\\n",
    " Voting.liq \\\n",
    " --data main '\"Anna\"'"
   ]
  },
  {
   "cell_type": "markdown",
   "metadata": {},
   "source": [
    "Now it's possible to simulate the contract directly in Michelson."
   ]
  },
  {
   "cell_type": "code",
   "execution_count": 27,
   "metadata": {},
   "outputs": [
    {
     "name": "stdout",
     "output_type": "stream",
     "text": [
      "Calling vote Anna, initial storage [Anna; Bob; Jenny]\n",
      "storage\n",
      "  (Pair { Elt \"Anna\" 1 ; Elt \"Bob\" 0 ; Elt \"Jenny\" 0 }\n",
      "        { Elt \"KT1BEqzn5Wx8uJrZNvuS9DVHmLvG9td3fDLi\" True })\n",
      "emitted operations\n",
      "  \n",
      "\n",
      "\n",
      "Calling vote Anna again, reusing initial storage from previous call\n",
      "Runtime error in contract KT1BEqzn5Wx8uJrZNvuS9DVHmLvG9td3fDLi:\n",
      "  01: parameter string;\n",
      "  02: storage (pair :storage (map %candidates string int) (map %voters address bool));\n",
      "  03: code { DUP ;\n",
      "  04:        DIP { CDR @storage_slash_1 } ;\n",
      "  05:        CAR @candidate_name_slash_2 ;\n",
      "  06:        SOURCE @addr ;\n",
      "  07:        DUUUP @storage ;\n",
      "  08:        CAR %candidates ;\n",
      "  09:        DUUUUP @storage ;\n",
      "  10:        CDR %voters ;\n",
      "  11:        DUUUP @addr ;\n",
      "  12:        GET ;\n",
      "  13:        IF_NONE\n",
      "  14:          { DUUUUP @storage ;\n",
      "  15:            CDR %voters ;\n",
      "  16:            PUSH bool True ;\n",
      "  17:            DUUUUP @addr ;\n",
      "  18:            DIP { SOME } ;\n",
      "  19:            UPDATE }\n",
      "  20:          { DUUUP @addr ; PUSH string \"Voter has already voted\" ; PAIR ; FAILWITH } ;\n",
      "  21:        SWAP ;\n",
      "  22:        PAIR @storage %candidates %voters ;\n",
      "  23:        DUP @storage ;\n",
      "  24:        CDR %voters ;\n",
      "  25:        DUUP @storage ;\n",
      "  26:        CAR %candidates ;\n",
      "  27:        DUUUUUP @candidate_name ;\n",
      "  28:        GET ;\n",
      "  29:        IF_NONE\n",
      "  30:          { DUUUUP @candidate_name ;\n",
      "  31:            PUSH string \"Candidate is not valid\" ;\n",
      "  32:            PAIR ;\n",
      "  33:            FAILWITH }\n",
      "  34:          { DUUUP @storage ;\n",
      "  35:            CAR %candidates ;\n",
      "  36:            PUSH int 1 ;\n",
      "  37:            DUUUP @x ;\n",
      "  38:            ADD ;\n",
      "  39:            DUUUUUUUP @candidate_name ;\n",
      "  40:            DIP { SOME } ;\n",
      "  41:            DIIIP { DROP } ;\n",
      "  42:            UPDATE } ;\n",
      "  43:        DIIP { DROP ; DROP ; DROP ; DROP } ;\n",
      "  44:        PAIR @storage %candidates %voters ;\n",
      "  45:        NIL operation ;\n",
      "  46:        PAIR };\n",
      "  47: \n",
      "At line 20 characters 72 to 80,\n",
      "script reached FAILWITH instruction\n",
      "with\n",
      "  (Pair \"Voter has already voted\" 0x011d23c1d3d2f8a4ea5e8784b8f7ecf2ad304c0fe600)\n",
      "\u001b[0m\u001b[31;1;4m\u001b[0m\u001b[31;1;4mFatal error:\u001b[0m\u001b[0m\u001b[31;1;4m\u001b[0m\u001b[0m\n",
      "  error running script\n"
     ]
    },
    {
     "ename": "",
     "evalue": "1",
     "output_type": "error",
     "traceback": []
    }
   ],
   "source": [
    "echo \"Calling vote Anna, initial storage [\"Anna\"; \"Bob\"; \"Jenny\"]\"\n",
    "tezos-client run script voting.liq.tz on storage \"$(<voting.liq.init.tz)\" and input '\"Anna\"'\n",
    "\n",
    "echo \"Calling vote Anna again, reusing initial storage from previous call\" \n",
    "tezos-client run script voting.liq.tz \\\n",
    "  on storage \\\n",
    "  '(Pair { Elt \"Anna\" 1 ; Elt \"Bob\" 0 ; Elt \"Jenny\" 0 } { Elt \"KT1BEqzn5Wx8uJrZNvuS9DVHmLvG9td3fDLi\" True })' \\\n",
    "  and input '\"Anna\"'\n"
   ]
  },
  {
   "cell_type": "markdown",
   "metadata": {},
   "source": [
    "#### Deployment of Contract using Tezos Client\n",
    "For deployment we need to create originated account. This can be achieved using `tezos-client originate contract...` call. During the origination it's required to provide our private/secret key ([command to retrieve](#Testing-account-creation))."
   ]
  },
  {
   "cell_type": "code",
   "execution_count": 39,
   "metadata": {},
   "outputs": [
    {
     "name": "stdout",
     "output_type": "stream",
     "text": [
      "[2] 81460\n",
      "Injected block BLUWcj1fdeHN\n",
      "[2]+  Done                    tezos-client originate contract Voting1 for test_account transferring 1 from test_account running voting.liq.tz --init \"$(<voting.liq.init.tz)\" --burn-cap 1.358 > contract_output.txt\n",
      "Node is bootstrapped, ready for injecting operations.\n",
      "Estimated gas: 35661 units (will add 100 for safety)\n",
      "Estimated storage: 1358 bytes added (will add 20 for safety)\n",
      "Operation successfully injected in the node.\n",
      "Operation hash: opSBa2T9iq7cZytERrshzfVrb898VShZbqj8LK2KFwZxm5zPJYh\n",
      "Waiting for the operation to be included...\n",
      "Operation found in block: BLUWcj1fdeHNfvTi6qdBLk5ttAAHmPSRFyFCFkK7brgAdmnKVWv (pass: 3, offset: 0)\n",
      "This sequence of operations was run:\n",
      "  Manager signed operations:\n",
      "    From: tz1iH2DD3JRBRFsXUvMPNQ4HVKMoGwyBsAmm\n",
      "    Fee to the baker: ꜩ0.004933\n",
      "    Expected counter: 5\n",
      "    Gas limit: 35761\n",
      "    Storage limit: 1378 bytes\n",
      "    Balance updates:\n",
      "      tz1iH2DD3JRBRFsXUvMPNQ4HVKMoGwyBsAmm ........... -ꜩ0.004933\n",
      "      fees(tz1KqTpEZ7Yob7QbPE4Hy4Wo8fHG8LhKxZSx,1) ... +ꜩ0.004933\n",
      "    Origination:\n",
      "      From: tz1iH2DD3JRBRFsXUvMPNQ4HVKMoGwyBsAmm\n",
      "      For: tz1iH2DD3JRBRFsXUvMPNQ4HVKMoGwyBsAmm\n",
      "      Credit: ꜩ1\n",
      "      Script:\n",
      "        { parameter string ;\n",
      "          storage (pair :storage (map %candidates string int) (map %voters address bool)) ;\n",
      "          code { DUP ;\n",
      "                 DIP { CDR @storage_slash_1 } ;\n",
      "                 CAR @candidate_name_slash_2 ;\n",
      "                 SOURCE @addr ;\n",
      "                 { DIP { DIP { DUP @storage } ; SWAP } ; SWAP } ;\n",
      "                 CAR %candidates ;\n",
      "                 { DIP { DIP { DIP { DUP @storage } ; SWAP } ; SWAP } ; SWAP } ;\n",
      "                 CDR %voters ;\n",
      "                 { DIP { DIP { DUP @addr } ; SWAP } ; SWAP } ;\n",
      "                 GET ;\n",
      "                 IF_NONE\n",
      "                   { { DIP { DIP { DIP { DUP @storage } ; SWAP } ; SWAP } ; SWAP } ;\n",
      "                     CDR %voters ;\n",
      "                     PUSH bool True ;\n",
      "                     { DIP { DIP { DIP { DUP @addr } ; SWAP } ; SWAP } ; SWAP } ;\n",
      "                     DIP { SOME } ;\n",
      "                     UPDATE }\n",
      "                   { { DIP { DIP { DUP @addr } ; SWAP } ; SWAP } ;\n",
      "                     PUSH string \"Voter has already voted\" ;\n",
      "                     PAIR ;\n",
      "                     FAILWITH } ;\n",
      "                 SWAP ;\n",
      "                 PAIR @storage %candidates %voters ;\n",
      "                 DUP @storage ;\n",
      "                 CDR %voters ;\n",
      "                 { DIP { DUP @storage } ; SWAP } ;\n",
      "                 CAR %candidates ;\n",
      "                 { DIP { DIP { DIP { DIP { DUP @candidate_name } ; SWAP } ; SWAP } ;\n",
      "                         SWAP } ;\n",
      "                   SWAP } ;\n",
      "                 GET ;\n",
      "                 IF_NONE\n",
      "                   { { DIP { DIP { DIP { DUP @candidate_name } ; SWAP } ; SWAP } ;\n",
      "                       SWAP } ;\n",
      "                     PUSH string \"Candidate is not valid\" ;\n",
      "                     PAIR ;\n",
      "                     FAILWITH }\n",
      "                   { { DIP { DIP { DUP @storage } ; SWAP } ; SWAP } ;\n",
      "                     CAR %candidates ;\n",
      "                     PUSH int 1 ;\n",
      "                     { DIP { DIP { DUP @x } ; SWAP } ; SWAP } ;\n",
      "                     ADD ;\n",
      "                     { DIP { DIP { DIP { DIP { DIP { DIP { DUP @candidate_name } ; SWAP } ; SWAP } ;\n",
      "                                         SWAP } ;\n",
      "                                   SWAP } ;\n",
      "                             SWAP } ;\n",
      "                       SWAP } ;\n",
      "                     DIP { SOME } ;\n",
      "                     DIIIP { DROP } ;\n",
      "                     UPDATE } ;\n",
      "                 DIIP { DROP ; DROP ; DROP ; DROP } ;\n",
      "                 PAIR @storage %candidates %voters ;\n",
      "                 NIL operation ;\n",
      "                 PAIR } }\n",
      "        Initial storage:\n",
      "          (Pair { Elt \"Anna\" 0 ; Elt \"Bob\" 0 ; Elt \"Jenny\" 0 } {})\n",
      "        No delegate for this contract\n",
      "        This origination was successfully applied\n",
      "        Originated contracts:\n",
      "          KT1KzwTCCrpYmpzxoSXgRAMsg2Av6pVrzntf\n",
      "        Storage size: 1101 bytes\n",
      "        Paid storage size diff: 1101 bytes\n",
      "        Consumed gas: 35661\n",
      "        Balance updates:\n",
      "          tz1iH2DD3JRBRFsXUvMPNQ4HVKMoGwyBsAmm ... -ꜩ1.101\n",
      "          tz1iH2DD3JRBRFsXUvMPNQ4HVKMoGwyBsAmm ... -ꜩ0.257\n",
      "          tz1iH2DD3JRBRFsXUvMPNQ4HVKMoGwyBsAmm ... -ꜩ1\n",
      "          KT1KzwTCCrpYmpzxoSXgRAMsg2Av6pVrzntf ... +ꜩ1\n",
      "\n",
      "New contract KT1KzwTCCrpYmpzxoSXgRAMsg2Av6pVrzntf originated.\n",
      "The operation has only been included 0 blocks ago.\n",
      "We recommend to wait more.\n",
      "Use command\n",
      "  tezos-client wait for opSBa2T9iq7cZytERrshzfVrb898VShZbqj8LK2KFwZxm5zPJYh to be included --confirmations 30\n",
      "and/or an external block explorer.\n",
      "Contract memorized as Voting1.\n"
     ]
    }
   ],
   "source": [
    "# We are creating new originated contract and registring it's alias Calculator with our tezos-client.\n",
    "tezos-client originate contract Voting1 \\\n",
    " for test_account \\\n",
    " transferring 1 from test_account \\\n",
    " running voting.liq.tz \\\n",
    " --init \"$(<voting.liq.init.tz)\" \\\n",
    " --burn-cap 1.358 > contract_output.txt &\n",
    "\n",
    "export PROCESS_PID=$!\n",
    "\n",
    "[ \"$USE_ALPHANET\" != \"yes\" ] && tezos-client bake for bootstrap1\n",
    "\n",
    "wait $PROCESS_PID\n",
    "cat contract_output.txt"
   ]
  },
  {
   "cell_type": "markdown",
   "metadata": {},
   "source": [
    "Operation is not reflected in tezos blockchain until new block is baked. "
   ]
  },
  {
   "cell_type": "markdown",
   "metadata": {},
   "source": [
    "`tezos-client` registers alias for newly created contract. The alias is matching hash outputed in the originate call above.\n"
   ]
  },
  {
   "cell_type": "code",
   "execution_count": 32,
   "metadata": {},
   "outputs": [
    {
     "name": "stdout",
     "output_type": "stream",
     "text": [
      "Contract Hash KT1PMFwJyYrisEaR9WXAw6MqqUFTkB6Bzuqj\n",
      "------\n",
      "Calculator listed among aliases\n",
      "Voting: KT1PMFwJyYrisEaR9WXAw6MqqUFTkB6Bzuqj\n",
      "test_account: tz1iH2DD3JRBRFsXUvMPNQ4HVKMoGwyBsAmm\n",
      "activator: tz1TGu6TN5GSez2ndXXeDX6LgUDvLzPLqgYV\n",
      "bootstrap5: tz1ddb9NMYHZi5UzPdzTZMYQQZoMub195zgv\n",
      "bootstrap4: tz1b7tUupMgCNw2cCLpKTkSD1NZzB5TkP2sv\n",
      "bootstrap3: tz1faswCTDciRzE4oJ9jn2Vm2dvjeyA9fUzU\n",
      "bootstrap2: tz1gjaF81ZRRvdzjobyfVNsAeSC6PScjfQwN\n",
      "bootstrap1: tz1KqTpEZ7Yob7QbPE4Hy4Wo8fHG8LhKxZSx\n"
     ]
    }
   ],
   "source": [
    "CONTRACT_HASH=$(grep \"New contract KT\" contract_output.txt | cut -d\" \" -f3)\n",
    "echo \"Contract Hash $CONTRACT_HASH\"\n",
    "echo ------\n",
    "echo \"Voting listed among aliases\"\n",
    "tezos-client list known contracts"
   ]
  },
  {
   "cell_type": "markdown",
   "metadata": {},
   "source": [
    "### Call of contract using tezos-client\n",
    "Calling of smart contract is the same as transfering balance. When calling smart contract we are providing additional arguments, that should be in Michelson - refer to [Michelson compilation](#Compilation-of-Contract-to-Michelson) for sample how to get to Michelson function call for liquidity function."
   ]
  },
  {
   "cell_type": "code",
   "execution_count": 34,
   "metadata": {},
   "outputs": [
    {
     "name": "stdout",
     "output_type": "stream",
     "text": [
      "[2] 80966\n",
      "Injected block BLxADxv3iw24\n",
      "[2]+  Done                    tezos-client transfer 0 from test_account to $CONTRACT_HASH --arg '\"Anna\"' --burn-cap 1 > output.txt\n",
      "Node is bootstrapped, ready for injecting operations.\n",
      "Estimated gas: 31204 units (will add 100 for safety)\n",
      "Estimated storage: 31 bytes added (will add 20 for safety)\n",
      "Operation successfully injected in the node.\n",
      "Operation hash: onmTiE2Ns7hxU3hQPCQSJreqATrAiBad7c1WqYAo7aiTEAP5uAB\n",
      "Waiting for the operation to be included...\n",
      "Operation found in block: BLxADxv3iw24ye5TrbpeaS75fzxZF2WQXXnQyDZZrmgGHm9jfST (pass: 3, offset: 0)\n",
      "This sequence of operations was run:\n",
      "  Manager signed operations:\n",
      "    From: tz1iH2DD3JRBRFsXUvMPNQ4HVKMoGwyBsAmm\n",
      "    Fee to the baker: ꜩ0.003395\n",
      "    Expected counter: 4\n",
      "    Gas limit: 31304\n",
      "    Storage limit: 51 bytes\n",
      "    Balance updates:\n",
      "      tz1iH2DD3JRBRFsXUvMPNQ4HVKMoGwyBsAmm ........... -ꜩ0.003395\n",
      "      fees(tz1KqTpEZ7Yob7QbPE4Hy4Wo8fHG8LhKxZSx,1) ... +ꜩ0.003395\n",
      "    Transaction:\n",
      "      Amount: ꜩ0\n",
      "      From: tz1iH2DD3JRBRFsXUvMPNQ4HVKMoGwyBsAmm\n",
      "      To: KT1PMFwJyYrisEaR9WXAw6MqqUFTkB6Bzuqj\n",
      "      Parameter: \"Anna\"\n",
      "      This transaction was successfully applied\n",
      "      Updated storage:\n",
      "        (Pair { Elt \"Anna\" 1 ; Elt \"Bob\" 0 ; Elt \"Jenny\" 0 }\n",
      "              { Elt 0x0000f851c19182bd9ea355fe2a4991793f7c8a341e00 True })\n",
      "      Storage size: 1132 bytes\n",
      "      Paid storage size diff: 31 bytes\n",
      "      Consumed gas: 31204\n",
      "      Balance updates:\n",
      "        tz1iH2DD3JRBRFsXUvMPNQ4HVKMoGwyBsAmm ... -ꜩ0.031\n",
      "\n",
      "The operation has only been included 0 blocks ago.\n",
      "We recommend to wait more.\n",
      "Use command\n",
      "  tezos-client wait for onmTiE2Ns7hxU3hQPCQSJreqATrAiBad7c1WqYAo7aiTEAP5uAB to be included --confirmations 30\n",
      "and/or an external block explorer.\n"
     ]
    }
   ],
   "source": [
    "#Calling our contract, entry point add (using parameter generated by liquidity compiled function call)\n",
    "tezos-client \\\n",
    " transfer 0 from test_account to $CONTRACT_HASH --arg '\"Anna\"' --burn-cap 1 > output.txt &\n",
    "PROCESS_PID=$!\n",
    "\n",
    "#Baking manually\n",
    "[ \"$USE_ALPHANET\" != \"yes\"] && tezos-client bake for bootstrap1  #baking the block\n",
    "wait $PROCESS_PID\n",
    "cat output.txt"
   ]
  },
  {
   "cell_type": "markdown",
   "metadata": {},
   "source": [
    "We can verify contract call by querying storage in blockchain directly."
   ]
  },
  {
   "cell_type": "code",
   "execution_count": 35,
   "metadata": {},
   "outputs": [
    {
     "name": "stdout",
     "output_type": "stream",
     "text": [
      "Pair { Elt \"Anna\" 1 ; Elt \"Bob\" 0 ; Elt \"Jenny\" 0 }\n",
      "     { Elt \"tz1iH2DD3JRBRFsXUvMPNQ4HVKMoGwyBsAmm\" True }\n"
     ]
    }
   ],
   "source": [
    "tezos-client get script storage for Voting\n",
    "# curl -s http://$TEZOS_NODE_URL/chains/main/blocks/head/context/contracts/$CONTRACT_HASH/storage | jq"
   ]
  },
  {
   "cell_type": "markdown",
   "metadata": {},
   "source": [
    "Alternatively we can check the block in which the operation was included."
   ]
  },
  {
   "cell_type": "code",
   "execution_count": 36,
   "metadata": {},
   "outputs": [
    {
     "name": "stdout",
     "output_type": "stream",
     "text": [
      "\u001b[1;39m{\n",
      "  \u001b[0m\u001b[34;1m\"protocol\"\u001b[0m\u001b[1;39m: \u001b[0m\u001b[0;32m\"PsddFKi32cMJ2qPjf43Qv5GDWLDPZb3T3bF6fLKiF5HtvHNU7aP\"\u001b[0m\u001b[1;39m,\n",
      "  \u001b[0m\u001b[34;1m\"chain_id\"\u001b[0m\u001b[1;39m: \u001b[0m\u001b[0;32m\"NetXgtSLGNJvNye\"\u001b[0m\u001b[1;39m,\n",
      "  \u001b[0m\u001b[34;1m\"hash\"\u001b[0m\u001b[1;39m: \u001b[0m\u001b[0;32m\"BLxADxv3iw24ye5TrbpeaS75fzxZF2WQXXnQyDZZrmgGHm9jfST\"\u001b[0m\u001b[1;39m,\n",
      "  \u001b[0m\u001b[34;1m\"header\"\u001b[0m\u001b[1;39m: \u001b[0m\u001b[1;39m{\n",
      "    \u001b[0m\u001b[34;1m\"level\"\u001b[0m\u001b[1;39m: \u001b[0m\u001b[0;39m10\u001b[0m\u001b[1;39m,\n",
      "    \u001b[0m\u001b[34;1m\"proto\"\u001b[0m\u001b[1;39m: \u001b[0m\u001b[0;39m1\u001b[0m\u001b[1;39m,\n",
      "    \u001b[0m\u001b[34;1m\"predecessor\"\u001b[0m\u001b[1;39m: \u001b[0m\u001b[0;32m\"BM4hjkTD52a85a2UZFYnMoTTrhF6DBkrSZ2KAjimU7uPkh26BXo\"\u001b[0m\u001b[1;39m,\n",
      "    \u001b[0m\u001b[34;1m\"timestamp\"\u001b[0m\u001b[1;39m: \u001b[0m\u001b[0;32m\"2018-12-28T15:44:56Z\"\u001b[0m\u001b[1;39m,\n",
      "    \u001b[0m\u001b[34;1m\"validation_pass\"\u001b[0m\u001b[1;39m: \u001b[0m\u001b[0;39m4\u001b[0m\u001b[1;39m,\n",
      "    \u001b[0m\u001b[34;1m\"operations_hash\"\u001b[0m\u001b[1;39m: \u001b[0m\u001b[0;32m\"LLoae3UHQqL4fTKG4PHjWxaa3zApAV6SG7mjAs1AY4apdZY9K7865\"\u001b[0m\u001b[1;39m,\n",
      "    \u001b[0m\u001b[34;1m\"fitness\"\u001b[0m\u001b[1;39m: \u001b[0m\u001b[1;39m[\n",
      "      \u001b[0;32m\"00\"\u001b[0m\u001b[1;39m,\n",
      "      \u001b[0;32m\"000000000000000a\"\u001b[0m\u001b[1;39m\n",
      "    \u001b[1;39m]\u001b[0m\u001b[1;39m,\n",
      "    \u001b[0m\u001b[34;1m\"context\"\u001b[0m\u001b[1;39m: \u001b[0m\u001b[0;32m\"CoUi9YvevpP8nB8AN9UYPJwMuA8i8eZtGd5ErderZvoWUecP1YRD\"\u001b[0m\u001b[1;39m,\n",
      "    \u001b[0m\u001b[34;1m\"priority\"\u001b[0m\u001b[1;39m: \u001b[0m\u001b[0;39m3\u001b[0m\u001b[1;39m,\n",
      "    \u001b[0m\u001b[34;1m\"proof_of_work_nonce\"\u001b[0m\u001b[1;39m: \u001b[0m\u001b[0;32m\"0000000369097db7\"\u001b[0m\u001b[1;39m,\n",
      "    \u001b[0m\u001b[34;1m\"signature\"\u001b[0m\u001b[1;39m: \u001b[0m\u001b[0;32m\"sigpuaMpF3VKUCtSrFZfSThcQNTph28aQnGkTSWVyzGHv3xxuP56XhaxiRRZR6EpM9tKtceKh8cGAVRzm7KkGw6KGMrnhm9V\"\u001b[0m\u001b[1;39m\n",
      "  \u001b[1;39m}\u001b[0m\u001b[1;39m,\n",
      "  \u001b[0m\u001b[34;1m\"metadata\"\u001b[0m\u001b[1;39m: \u001b[0m\u001b[1;39m{\n",
      "    \u001b[0m\u001b[34;1m\"protocol\"\u001b[0m\u001b[1;39m: \u001b[0m\u001b[0;32m\"PsddFKi32cMJ2qPjf43Qv5GDWLDPZb3T3bF6fLKiF5HtvHNU7aP\"\u001b[0m\u001b[1;39m,\n",
      "    \u001b[0m\u001b[34;1m\"next_protocol\"\u001b[0m\u001b[1;39m: \u001b[0m\u001b[0;32m\"PsddFKi32cMJ2qPjf43Qv5GDWLDPZb3T3bF6fLKiF5HtvHNU7aP\"\u001b[0m\u001b[1;39m,\n",
      "    \u001b[0m\u001b[34;1m\"test_chain_status\"\u001b[0m\u001b[1;39m: \u001b[0m\u001b[1;39m{\n",
      "      \u001b[0m\u001b[34;1m\"status\"\u001b[0m\u001b[1;39m: \u001b[0m\u001b[0;32m\"not_running\"\u001b[0m\u001b[1;39m\n",
      "    \u001b[1;39m}\u001b[0m\u001b[1;39m,\n",
      "    \u001b[0m\u001b[34;1m\"max_operations_ttl\"\u001b[0m\u001b[1;39m: \u001b[0m\u001b[0;39m10\u001b[0m\u001b[1;39m,\n",
      "    \u001b[0m\u001b[34;1m\"max_operation_data_length\"\u001b[0m\u001b[1;39m: \u001b[0m\u001b[0;39m16384\u001b[0m\u001b[1;39m,\n",
      "    \u001b[0m\u001b[34;1m\"max_block_header_length\"\u001b[0m\u001b[1;39m: \u001b[0m\u001b[0;39m238\u001b[0m\u001b[1;39m,\n",
      "    \u001b[0m\u001b[34;1m\"max_operation_list_length\"\u001b[0m\u001b[1;39m: \u001b[0m\u001b[1;39m[\n",
      "      \u001b[1;39m{\n",
      "        \u001b[0m\u001b[34;1m\"max_size\"\u001b[0m\u001b[1;39m: \u001b[0m\u001b[0;39m32768\u001b[0m\u001b[1;39m,\n",
      "        \u001b[0m\u001b[34;1m\"max_op\"\u001b[0m\u001b[1;39m: \u001b[0m\u001b[0;39m32\u001b[0m\u001b[1;39m\n",
      "      \u001b[1;39m}\u001b[0m\u001b[1;39m,\n",
      "      \u001b[1;39m{\n",
      "        \u001b[0m\u001b[34;1m\"max_size\"\u001b[0m\u001b[1;39m: \u001b[0m\u001b[0;39m32768\u001b[0m\u001b[1;39m\n",
      "      \u001b[1;39m}\u001b[0m\u001b[1;39m,\n",
      "      \u001b[1;39m{\n",
      "        \u001b[0m\u001b[34;1m\"max_size\"\u001b[0m\u001b[1;39m: \u001b[0m\u001b[0;39m135168\u001b[0m\u001b[1;39m,\n",
      "        \u001b[0m\u001b[34;1m\"max_op\"\u001b[0m\u001b[1;39m: \u001b[0m\u001b[0;39m132\u001b[0m\u001b[1;39m\n",
      "      \u001b[1;39m}\u001b[0m\u001b[1;39m,\n",
      "      \u001b[1;39m{\n",
      "        \u001b[0m\u001b[34;1m\"max_size\"\u001b[0m\u001b[1;39m: \u001b[0m\u001b[0;39m524288\u001b[0m\u001b[1;39m\n",
      "      \u001b[1;39m}\u001b[0m\u001b[1;39m\n",
      "    \u001b[1;39m]\u001b[0m\u001b[1;39m,\n",
      "    \u001b[0m\u001b[34;1m\"baker\"\u001b[0m\u001b[1;39m: \u001b[0m\u001b[0;32m\"tz1KqTpEZ7Yob7QbPE4Hy4Wo8fHG8LhKxZSx\"\u001b[0m\u001b[1;39m,\n",
      "    \u001b[0m\u001b[34;1m\"level\"\u001b[0m\u001b[1;39m: \u001b[0m\u001b[1;39m{\n",
      "      \u001b[0m\u001b[34;1m\"level\"\u001b[0m\u001b[1;39m: \u001b[0m\u001b[0;39m10\u001b[0m\u001b[1;39m,\n",
      "      \u001b[0m\u001b[34;1m\"level_position\"\u001b[0m\u001b[1;39m: \u001b[0m\u001b[0;39m9\u001b[0m\u001b[1;39m,\n",
      "      \u001b[0m\u001b[34;1m\"cycle\"\u001b[0m\u001b[1;39m: \u001b[0m\u001b[0;39m1\u001b[0m\u001b[1;39m,\n",
      "      \u001b[0m\u001b[34;1m\"cycle_position\"\u001b[0m\u001b[1;39m: \u001b[0m\u001b[0;39m1\u001b[0m\u001b[1;39m,\n",
      "      \u001b[0m\u001b[34;1m\"voting_period\"\u001b[0m\u001b[1;39m: \u001b[0m\u001b[0;39m0\u001b[0m\u001b[1;39m,\n",
      "      \u001b[0m\u001b[34;1m\"voting_period_position\"\u001b[0m\u001b[1;39m: \u001b[0m\u001b[0;39m9\u001b[0m\u001b[1;39m,\n",
      "      \u001b[0m\u001b[34;1m\"expected_commitment\"\u001b[0m\u001b[1;39m: \u001b[0m\u001b[0;39mfalse\u001b[0m\u001b[1;39m\n",
      "    \u001b[1;39m}\u001b[0m\u001b[1;39m,\n",
      "    \u001b[0m\u001b[34;1m\"voting_period_kind\"\u001b[0m\u001b[1;39m: \u001b[0m\u001b[0;32m\"proposal\"\u001b[0m\u001b[1;39m,\n",
      "    \u001b[0m\u001b[34;1m\"nonce_hash\"\u001b[0m\u001b[1;39m: \u001b[0m\u001b[1;30mnull\u001b[0m\u001b[1;39m,\n",
      "    \u001b[0m\u001b[34;1m\"consumed_gas\"\u001b[0m\u001b[1;39m: \u001b[0m\u001b[0;32m\"31211\"\u001b[0m\u001b[1;39m,\n",
      "    \u001b[0m\u001b[34;1m\"deactivated\"\u001b[0m\u001b[1;39m: \u001b[0m\u001b[1;39m[]\u001b[0m\u001b[1;39m,\n",
      "    \u001b[0m\u001b[34;1m\"balance_updates\"\u001b[0m\u001b[1;39m: \u001b[0m\u001b[1;39m[\n",
      "      \u001b[1;39m{\n",
      "        \u001b[0m\u001b[34;1m\"kind\"\u001b[0m\u001b[1;39m: \u001b[0m\u001b[0;32m\"contract\"\u001b[0m\u001b[1;39m,\n",
      "        \u001b[0m\u001b[34;1m\"contract\"\u001b[0m\u001b[1;39m: \u001b[0m\u001b[0;32m\"tz1KqTpEZ7Yob7QbPE4Hy4Wo8fHG8LhKxZSx\"\u001b[0m\u001b[1;39m,\n",
      "        \u001b[0m\u001b[34;1m\"change\"\u001b[0m\u001b[1;39m: \u001b[0m\u001b[0;32m\"-512000000\"\u001b[0m\u001b[1;39m\n",
      "      \u001b[1;39m}\u001b[0m\u001b[1;39m,\n",
      "      \u001b[1;39m{\n",
      "        \u001b[0m\u001b[34;1m\"kind\"\u001b[0m\u001b[1;39m: \u001b[0m\u001b[0;32m\"freezer\"\u001b[0m\u001b[1;39m,\n",
      "        \u001b[0m\u001b[34;1m\"category\"\u001b[0m\u001b[1;39m: \u001b[0m\u001b[0;32m\"deposits\"\u001b[0m\u001b[1;39m,\n",
      "        \u001b[0m\u001b[34;1m\"delegate\"\u001b[0m\u001b[1;39m: \u001b[0m\u001b[0;32m\"tz1KqTpEZ7Yob7QbPE4Hy4Wo8fHG8LhKxZSx\"\u001b[0m\u001b[1;39m,\n",
      "        \u001b[0m\u001b[34;1m\"level\"\u001b[0m\u001b[1;39m: \u001b[0m\u001b[0;39m1\u001b[0m\u001b[1;39m,\n",
      "        \u001b[0m\u001b[34;1m\"change\"\u001b[0m\u001b[1;39m: \u001b[0m\u001b[0;32m\"512000000\"\u001b[0m\u001b[1;39m\n",
      "      \u001b[1;39m}\u001b[0m\u001b[1;39m,\n",
      "      \u001b[1;39m{\n",
      "        \u001b[0m\u001b[34;1m\"kind\"\u001b[0m\u001b[1;39m: \u001b[0m\u001b[0;32m\"freezer\"\u001b[0m\u001b[1;39m,\n",
      "        \u001b[0m\u001b[34;1m\"category\"\u001b[0m\u001b[1;39m: \u001b[0m\u001b[0;32m\"rewards\"\u001b[0m\u001b[1;39m,\n",
      "        \u001b[0m\u001b[34;1m\"delegate\"\u001b[0m\u001b[1;39m: \u001b[0m\u001b[0;32m\"tz1KqTpEZ7Yob7QbPE4Hy4Wo8fHG8LhKxZSx\"\u001b[0m\u001b[1;39m,\n",
      "        \u001b[0m\u001b[34;1m\"level\"\u001b[0m\u001b[1;39m: \u001b[0m\u001b[0;39m1\u001b[0m\u001b[1;39m,\n",
      "        \u001b[0m\u001b[34;1m\"change\"\u001b[0m\u001b[1;39m: \u001b[0m\u001b[0;32m\"16000000\"\u001b[0m\u001b[1;39m\n",
      "      \u001b[1;39m}\u001b[0m\u001b[1;39m\n",
      "    \u001b[1;39m]\u001b[0m\u001b[1;39m\n",
      "  \u001b[1;39m}\u001b[0m\u001b[1;39m,\n",
      "  \u001b[0m\u001b[34;1m\"operations\"\u001b[0m\u001b[1;39m: \u001b[0m\u001b[1;39m[\n",
      "    \u001b[1;39m[]\u001b[0m\u001b[1;39m,\n",
      "    \u001b[1;39m[]\u001b[0m\u001b[1;39m,\n",
      "    \u001b[1;39m[]\u001b[0m\u001b[1;39m,\n",
      "    \u001b[1;39m[\n",
      "      \u001b[1;39m{\n",
      "        \u001b[0m\u001b[34;1m\"protocol\"\u001b[0m\u001b[1;39m: \u001b[0m\u001b[0;32m\"PsddFKi32cMJ2qPjf43Qv5GDWLDPZb3T3bF6fLKiF5HtvHNU7aP\"\u001b[0m\u001b[1;39m,\n",
      "        \u001b[0m\u001b[34;1m\"chain_id\"\u001b[0m\u001b[1;39m: \u001b[0m\u001b[0;32m\"NetXgtSLGNJvNye\"\u001b[0m\u001b[1;39m,\n",
      "        \u001b[0m\u001b[34;1m\"hash\"\u001b[0m\u001b[1;39m: \u001b[0m\u001b[0;32m\"onmTiE2Ns7hxU3hQPCQSJreqATrAiBad7c1WqYAo7aiTEAP5uAB\"\u001b[0m\u001b[1;39m,\n",
      "        \u001b[0m\u001b[34;1m\"branch\"\u001b[0m\u001b[1;39m: \u001b[0m\u001b[0;32m\"BM4hjkTD52a85a2UZFYnMoTTrhF6DBkrSZ2KAjimU7uPkh26BXo\"\u001b[0m\u001b[1;39m,\n",
      "        \u001b[0m\u001b[34;1m\"contents\"\u001b[0m\u001b[1;39m: \u001b[0m\u001b[1;39m[\n",
      "          \u001b[1;39m{\n",
      "            \u001b[0m\u001b[34;1m\"kind\"\u001b[0m\u001b[1;39m: \u001b[0m\u001b[0;32m\"transaction\"\u001b[0m\u001b[1;39m,\n",
      "            \u001b[0m\u001b[34;1m\"source\"\u001b[0m\u001b[1;39m: \u001b[0m\u001b[0;32m\"tz1iH2DD3JRBRFsXUvMPNQ4HVKMoGwyBsAmm\"\u001b[0m\u001b[1;39m,\n",
      "            \u001b[0m\u001b[34;1m\"fee\"\u001b[0m\u001b[1;39m: \u001b[0m\u001b[0;32m\"3395\"\u001b[0m\u001b[1;39m,\n",
      "            \u001b[0m\u001b[34;1m\"counter\"\u001b[0m\u001b[1;39m: \u001b[0m\u001b[0;32m\"4\"\u001b[0m\u001b[1;39m,\n",
      "            \u001b[0m\u001b[34;1m\"gas_limit\"\u001b[0m\u001b[1;39m: \u001b[0m\u001b[0;32m\"31304\"\u001b[0m\u001b[1;39m,\n",
      "            \u001b[0m\u001b[34;1m\"storage_limit\"\u001b[0m\u001b[1;39m: \u001b[0m\u001b[0;32m\"51\"\u001b[0m\u001b[1;39m,\n",
      "            \u001b[0m\u001b[34;1m\"amount\"\u001b[0m\u001b[1;39m: \u001b[0m\u001b[0;32m\"0\"\u001b[0m\u001b[1;39m,\n",
      "            \u001b[0m\u001b[34;1m\"destination\"\u001b[0m\u001b[1;39m: \u001b[0m\u001b[0;32m\"KT1PMFwJyYrisEaR9WXAw6MqqUFTkB6Bzuqj\"\u001b[0m\u001b[1;39m,\n",
      "            \u001b[0m\u001b[34;1m\"parameters\"\u001b[0m\u001b[1;39m: \u001b[0m\u001b[1;39m{\n",
      "              \u001b[0m\u001b[34;1m\"string\"\u001b[0m\u001b[1;39m: \u001b[0m\u001b[0;32m\"Anna\"\u001b[0m\u001b[1;39m\n",
      "            \u001b[1;39m}\u001b[0m\u001b[1;39m,\n",
      "            \u001b[0m\u001b[34;1m\"metadata\"\u001b[0m\u001b[1;39m: \u001b[0m\u001b[1;39m{\n",
      "              \u001b[0m\u001b[34;1m\"balance_updates\"\u001b[0m\u001b[1;39m: \u001b[0m\u001b[1;39m[\n",
      "                \u001b[1;39m{\n",
      "                  \u001b[0m\u001b[34;1m\"kind\"\u001b[0m\u001b[1;39m: \u001b[0m\u001b[0;32m\"contract\"\u001b[0m\u001b[1;39m,\n",
      "                  \u001b[0m\u001b[34;1m\"contract\"\u001b[0m\u001b[1;39m: \u001b[0m\u001b[0;32m\"tz1iH2DD3JRBRFsXUvMPNQ4HVKMoGwyBsAmm\"\u001b[0m\u001b[1;39m,\n",
      "                  \u001b[0m\u001b[34;1m\"change\"\u001b[0m\u001b[1;39m: \u001b[0m\u001b[0;32m\"-3395\"\u001b[0m\u001b[1;39m\n",
      "                \u001b[1;39m}\u001b[0m\u001b[1;39m,\n",
      "                \u001b[1;39m{\n",
      "                  \u001b[0m\u001b[34;1m\"kind\"\u001b[0m\u001b[1;39m: \u001b[0m\u001b[0;32m\"freezer\"\u001b[0m\u001b[1;39m,\n",
      "                  \u001b[0m\u001b[34;1m\"category\"\u001b[0m\u001b[1;39m: \u001b[0m\u001b[0;32m\"fees\"\u001b[0m\u001b[1;39m,\n",
      "                  \u001b[0m\u001b[34;1m\"delegate\"\u001b[0m\u001b[1;39m: \u001b[0m\u001b[0;32m\"tz1KqTpEZ7Yob7QbPE4Hy4Wo8fHG8LhKxZSx\"\u001b[0m\u001b[1;39m,\n",
      "                  \u001b[0m\u001b[34;1m\"level\"\u001b[0m\u001b[1;39m: \u001b[0m\u001b[0;39m1\u001b[0m\u001b[1;39m,\n",
      "                  \u001b[0m\u001b[34;1m\"change\"\u001b[0m\u001b[1;39m: \u001b[0m\u001b[0;32m\"3395\"\u001b[0m\u001b[1;39m\n",
      "                \u001b[1;39m}\u001b[0m\u001b[1;39m\n",
      "              \u001b[1;39m]\u001b[0m\u001b[1;39m,\n",
      "              \u001b[0m\u001b[34;1m\"operation_result\"\u001b[0m\u001b[1;39m: \u001b[0m\u001b[1;39m{\n",
      "                \u001b[0m\u001b[34;1m\"status\"\u001b[0m\u001b[1;39m: \u001b[0m\u001b[0;32m\"applied\"\u001b[0m\u001b[1;39m,\n",
      "                \u001b[0m\u001b[34;1m\"storage\"\u001b[0m\u001b[1;39m: \u001b[0m\u001b[1;39m{\n",
      "                  \u001b[0m\u001b[34;1m\"prim\"\u001b[0m\u001b[1;39m: \u001b[0m\u001b[0;32m\"Pair\"\u001b[0m\u001b[1;39m,\n",
      "                  \u001b[0m\u001b[34;1m\"args\"\u001b[0m\u001b[1;39m: \u001b[0m\u001b[1;39m[\n",
      "                    \u001b[1;39m[\n",
      "                      \u001b[1;39m{\n",
      "                        \u001b[0m\u001b[34;1m\"prim\"\u001b[0m\u001b[1;39m: \u001b[0m\u001b[0;32m\"Elt\"\u001b[0m\u001b[1;39m,\n",
      "                        \u001b[0m\u001b[34;1m\"args\"\u001b[0m\u001b[1;39m: \u001b[0m\u001b[1;39m[\n",
      "                          \u001b[1;39m{\n",
      "                            \u001b[0m\u001b[34;1m\"string\"\u001b[0m\u001b[1;39m: \u001b[0m\u001b[0;32m\"Anna\"\u001b[0m\u001b[1;39m\n"
     ]
    },
    {
     "name": "stdout",
     "output_type": "stream",
     "text": [
      "                          \u001b[1;39m}\u001b[0m\u001b[1;39m,\n",
      "                          \u001b[1;39m{\n",
      "                            \u001b[0m\u001b[34;1m\"int\"\u001b[0m\u001b[1;39m: \u001b[0m\u001b[0;32m\"1\"\u001b[0m\u001b[1;39m\n",
      "                          \u001b[1;39m}\u001b[0m\u001b[1;39m\n",
      "                        \u001b[1;39m]\u001b[0m\u001b[1;39m\n",
      "                      \u001b[1;39m}\u001b[0m\u001b[1;39m,\n",
      "                      \u001b[1;39m{\n",
      "                        \u001b[0m\u001b[34;1m\"prim\"\u001b[0m\u001b[1;39m: \u001b[0m\u001b[0;32m\"Elt\"\u001b[0m\u001b[1;39m,\n",
      "                        \u001b[0m\u001b[34;1m\"args\"\u001b[0m\u001b[1;39m: \u001b[0m\u001b[1;39m[\n",
      "                          \u001b[1;39m{\n",
      "                            \u001b[0m\u001b[34;1m\"string\"\u001b[0m\u001b[1;39m: \u001b[0m\u001b[0;32m\"Bob\"\u001b[0m\u001b[1;39m\n",
      "                          \u001b[1;39m}\u001b[0m\u001b[1;39m,\n",
      "                          \u001b[1;39m{\n",
      "                            \u001b[0m\u001b[34;1m\"int\"\u001b[0m\u001b[1;39m: \u001b[0m\u001b[0;32m\"0\"\u001b[0m\u001b[1;39m\n",
      "                          \u001b[1;39m}\u001b[0m\u001b[1;39m\n",
      "                        \u001b[1;39m]\u001b[0m\u001b[1;39m\n",
      "                      \u001b[1;39m}\u001b[0m\u001b[1;39m,\n",
      "                      \u001b[1;39m{\n",
      "                        \u001b[0m\u001b[34;1m\"prim\"\u001b[0m\u001b[1;39m: \u001b[0m\u001b[0;32m\"Elt\"\u001b[0m\u001b[1;39m,\n",
      "                        \u001b[0m\u001b[34;1m\"args\"\u001b[0m\u001b[1;39m: \u001b[0m\u001b[1;39m[\n",
      "                          \u001b[1;39m{\n",
      "                            \u001b[0m\u001b[34;1m\"string\"\u001b[0m\u001b[1;39m: \u001b[0m\u001b[0;32m\"Jenny\"\u001b[0m\u001b[1;39m\n",
      "                          \u001b[1;39m}\u001b[0m\u001b[1;39m,\n",
      "                          \u001b[1;39m{\n",
      "                            \u001b[0m\u001b[34;1m\"int\"\u001b[0m\u001b[1;39m: \u001b[0m\u001b[0;32m\"0\"\u001b[0m\u001b[1;39m\n",
      "                          \u001b[1;39m}\u001b[0m\u001b[1;39m\n",
      "                        \u001b[1;39m]\u001b[0m\u001b[1;39m\n",
      "                      \u001b[1;39m}\u001b[0m\u001b[1;39m\n",
      "                    \u001b[1;39m]\u001b[0m\u001b[1;39m,\n",
      "                    \u001b[1;39m[\n",
      "                      \u001b[1;39m{\n",
      "                        \u001b[0m\u001b[34;1m\"prim\"\u001b[0m\u001b[1;39m: \u001b[0m\u001b[0;32m\"Elt\"\u001b[0m\u001b[1;39m,\n",
      "                        \u001b[0m\u001b[34;1m\"args\"\u001b[0m\u001b[1;39m: \u001b[0m\u001b[1;39m[\n",
      "                          \u001b[1;39m{\n",
      "                            \u001b[0m\u001b[34;1m\"bytes\"\u001b[0m\u001b[1;39m: \u001b[0m\u001b[0;32m\"0000f851c19182bd9ea355fe2a4991793f7c8a341e00\"\u001b[0m\u001b[1;39m\n",
      "                          \u001b[1;39m}\u001b[0m\u001b[1;39m,\n",
      "                          \u001b[1;39m{\n",
      "                            \u001b[0m\u001b[34;1m\"prim\"\u001b[0m\u001b[1;39m: \u001b[0m\u001b[0;32m\"True\"\u001b[0m\u001b[1;39m\n",
      "                          \u001b[1;39m}\u001b[0m\u001b[1;39m\n",
      "                        \u001b[1;39m]\u001b[0m\u001b[1;39m\n",
      "                      \u001b[1;39m}\u001b[0m\u001b[1;39m\n",
      "                    \u001b[1;39m]\u001b[0m\u001b[1;39m\n",
      "                  \u001b[1;39m]\u001b[0m\u001b[1;39m\n",
      "                \u001b[1;39m}\u001b[0m\u001b[1;39m,\n",
      "                \u001b[0m\u001b[34;1m\"balance_updates\"\u001b[0m\u001b[1;39m: \u001b[0m\u001b[1;39m[\n",
      "                  \u001b[1;39m{\n",
      "                    \u001b[0m\u001b[34;1m\"kind\"\u001b[0m\u001b[1;39m: \u001b[0m\u001b[0;32m\"contract\"\u001b[0m\u001b[1;39m,\n",
      "                    \u001b[0m\u001b[34;1m\"contract\"\u001b[0m\u001b[1;39m: \u001b[0m\u001b[0;32m\"tz1iH2DD3JRBRFsXUvMPNQ4HVKMoGwyBsAmm\"\u001b[0m\u001b[1;39m,\n",
      "                    \u001b[0m\u001b[34;1m\"change\"\u001b[0m\u001b[1;39m: \u001b[0m\u001b[0;32m\"-31000\"\u001b[0m\u001b[1;39m\n",
      "                  \u001b[1;39m}\u001b[0m\u001b[1;39m\n",
      "                \u001b[1;39m]\u001b[0m\u001b[1;39m,\n",
      "                \u001b[0m\u001b[34;1m\"consumed_gas\"\u001b[0m\u001b[1;39m: \u001b[0m\u001b[0;32m\"31204\"\u001b[0m\u001b[1;39m,\n",
      "                \u001b[0m\u001b[34;1m\"storage_size\"\u001b[0m\u001b[1;39m: \u001b[0m\u001b[0;32m\"1132\"\u001b[0m\u001b[1;39m,\n",
      "                \u001b[0m\u001b[34;1m\"paid_storage_size_diff\"\u001b[0m\u001b[1;39m: \u001b[0m\u001b[0;32m\"31\"\u001b[0m\u001b[1;39m\n",
      "              \u001b[1;39m}\u001b[0m\u001b[1;39m\n",
      "            \u001b[1;39m}\u001b[0m\u001b[1;39m\n",
      "          \u001b[1;39m}\u001b[0m\u001b[1;39m\n",
      "        \u001b[1;39m]\u001b[0m\u001b[1;39m,\n",
      "        \u001b[0m\u001b[34;1m\"signature\"\u001b[0m\u001b[1;39m: \u001b[0m\u001b[0;32m\"sigjYSBEYxpDLqWUQ3sYbAGimLN6kEJLp6PuRJH72qSXUFtgZoSLXQ9b9wyxwsKsGzP5cowrxsypRaNHsEdR5rkMFyL11yub\"\u001b[0m\u001b[1;39m\n",
      "      \u001b[1;39m}\u001b[0m\u001b[1;39m\n",
      "    \u001b[1;39m]\u001b[0m\u001b[1;39m\n",
      "  \u001b[1;39m]\u001b[0m\u001b[1;39m\n",
      "\u001b[1;39m}\u001b[0m\n"
     ]
    }
   ],
   "source": [
    "curl -s http://$TEZOS_NODE_URL/chains/main/blocks/head | jq"
   ]
  },
  {
   "cell_type": "markdown",
   "metadata": {},
   "source": [
    "## Implementation of application front-end\n",
    "TBD"
   ]
  },
  {
   "cell_type": "code",
   "execution_count": null,
   "metadata": {},
   "outputs": [],
   "source": [
    "tezos-client transfer 1000 from bootstrap1 to tz1hzTqcG8EqWGPM6pkNWs9Bd3FfwuWHE9iX"
   ]
  },
  {
   "cell_type": "markdown",
   "metadata": {},
   "source": [
    "## Sandbox Clean-up"
   ]
  },
  {
   "cell_type": "markdown",
   "metadata": {},
   "source": [
    "Command to terminate sandbox blockchain running in the background"
   ]
  },
  {
   "cell_type": "code",
   "execution_count": null,
   "metadata": {},
   "outputs": [],
   "source": [
    "kill $(<$TEZOS_HOME/tezos_sandbox_pid.txt)"
   ]
  },
  {
   "cell_type": "code",
   "execution_count": null,
   "metadata": {},
   "outputs": [],
   "source": []
  }
 ],
 "metadata": {
  "kernelspec": {
   "display_name": "Bash",
   "language": "bash",
   "name": "bash"
  },
  "language_info": {
   "codemirror_mode": "shell",
   "file_extension": ".sh",
   "mimetype": "text/x-sh",
   "name": "bash"
  }
 },
 "nbformat": 4,
 "nbformat_minor": 2
}
