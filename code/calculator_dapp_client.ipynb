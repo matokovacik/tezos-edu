{
 "cells": [
  {
   "cell_type": "markdown",
   "metadata": {},
   "source": [
    "# Calculator Sample Client\n",
    "This sample is focusing purely on building the client using [EZTZ](https://github.com/TezTech/eztz) Javascript library. Contract and all instrumentation code is inherited from [Calculator Dapp sample](calculator_dapp.ipynb), however commentary is skipped to reduce noice. To get more details on instrumentation please consult mentioned sample.\n",
    "\n",
    "## Sandbox Environment Preparation"
   ]
  },
  {
   "cell_type": "code",
   "execution_count": 1,
   "metadata": {},
   "outputs": [
    {
     "name": "stdout",
     "output_type": "stream",
     "text": [
      "[1] 51714\n"
     ]
    }
   ],
   "source": [
    "# Initialisation of variables to be used later in tutorial\n",
    "export TEZOS_HOME=~/tezos-dev/tezos\n",
    "export TEZOS_NODE_URL=\"127.0.0.1:18731\"\n",
    "\n",
    "# This variable will disable disclaimer about used tezos network. For this guide we will \n",
    "# disable it to make command outputs less cluttered. However we strongly discourage to \n",
    "# use this setting for your regular work. (source : Tezos Source code reverse engineering)\n",
    "export TEZOS_CLIENT_UNSAFE_DISABLE_DISCLAIMER=yes\n",
    "cd $TEZOS_HOME\n",
    "\n",
    "./src/bin_node/tezos-sandboxed-node.sh \\\n",
    "  1 \\\n",
    "  --cors-header=\"*\" \\\n",
    "  --cors-origin=\"*\" \\\n",
    "  --connections 1 \\\n",
    "  1>tezos_sandbox_log.txt 2>&1 &\n",
    "\n",
    "#Exporting node pid so we can terminate the sandbox node after the tutorial.\n",
    "export NODE_PID=$! \n",
    "echo $NODE_PID > tezos_sandbox_pid.txt"
   ]
  },
  {
   "cell_type": "code",
   "execution_count": 2,
   "metadata": {},
   "outputs": [
    {
     "name": "stdout",
     "output_type": "stream",
     "text": [
      "## Tezos address added: tz1KqTpEZ7Yob7QbPE4Hy4Wo8fHG8LhKxZSx\n",
      "## Tezos address added: tz1gjaF81ZRRvdzjobyfVNsAeSC6PScjfQwN\n",
      "## Tezos address added: tz1faswCTDciRzE4oJ9jn2Vm2dvjeyA9fUzU\n",
      "## Tezos address added: tz1b7tUupMgCNw2cCLpKTkSD1NZzB5TkP2sv\n",
      "## Tezos address added: tz1ddb9NMYHZi5UzPdzTZMYQQZoMub195zgv\n",
      "## Tezos address added: tz1TGu6TN5GSez2ndXXeDX6LgUDvLzPLqgYV\n",
      "## \n",
      "## The client is now properly initialized. In the rest of this shell\n",
      "## session, you might now run `tezos-client` to communicate with a\n",
      "## tezos node launched with `launch-sandboxed-node 1`. For instance:\n",
      "## \n",
      "##   tezos-client rpc get /chains/main/blocks/head/metadata\n",
      "## \n",
      "## Note: if the current protocol version, as reported by the previous\n",
      "## command, is \"Ps6mwMrF2ER2s51cp9yYpjDcuzQjsc2yAz8bQsRgdaRxw4Fk95H\", you\n",
      "## may have to activate in your \"sandboxed network\" the same economic\n",
      "## protocol than used by the alphanet by running:\n",
      "## \n",
      "##   tezos-activate-alpha\n",
      "## \n",
      "## Warning: all the client data will be removed when you close this shell\n",
      "## or if you run this command a second time.\n",
      "## \n",
      "## Activate tab completion by running:\n",
      "## \n",
      "##   tezos-autocomplete\n",
      "## \n"
     ]
    }
   ],
   "source": [
    "#It is required to run following script with the same parameter as the sandbox node was executed (in our case 1)\n",
    "cd $TEZOS_HOME\n",
    "eval `./src/bin_client/tezos-init-sandboxed-client.sh 1`"
   ]
  },
  {
   "cell_type": "code",
   "execution_count": 3,
   "metadata": {
    "scrolled": true
   },
   "outputs": [
    {
     "name": "stdout",
     "output_type": "stream",
     "text": [
      "Injected BMJBxBKS7zLM\n",
      "Injected block BMMhusR4mEF5\n"
     ]
    }
   ],
   "source": [
    "tezos-activate-alpha \n",
    "\n",
    "tezos-client bake for bootstrap1"
   ]
  },
  {
   "cell_type": "markdown",
   "metadata": {},
   "source": [
    "## EZTZ Client Library Environment\n",
    "For the sample we will use [EZTZ Javascript Library](https://github.com/TezTech/eztz). You can find documentation [here](https://github.com/TezTech/eztz/wiki/Documentation#eztz.crypto). EZTZ library is able to communicate with Tezos RPC and also provides crypto functions for signing.\n",
    "\n",
    "At the time of writing this guide, EZTZ is not exported as NPM model. To make it work we need to prepare the project manually and fetch the library directly from github.\n",
    "\n",
    "Following steps are required when running EZTZ using nodejs. When embedding EZTZ in browser, it is required to embedd [eztz.min.js](https://github.com/TezTech/eztz/raw/master/dist/eztz.min.js) file.\n"
   ]
  },
  {
   "cell_type": "code",
   "execution_count": 4,
   "metadata": {},
   "outputs": [
    {
     "name": "stdout",
     "output_type": "stream",
     "text": [
      "Wrote to /Users/martinkovacik/tezos-dev/calculator_dapp_client/package.json:\n",
      "\n",
      "{\n",
      "  \"name\": \"calculator_dapp_client\",\n",
      "  \"version\": \"1.0.0\",\n",
      "  \"main\": \"index.js\",\n",
      "  \"scripts\": {\n",
      "    \"test\": \"echo \\\"Error: no test specified\\\" && exit 1\"\n",
      "  },\n",
      "  \"keywords\": [],\n",
      "  \"author\": \"\",\n",
      "  \"license\": \"ISC\",\n",
      "  \"dependencies\": {\n",
      "    \"bignumber.js\": \"^8.0.2\",\n",
      "    \"bip39\": \"^2.5.0\",\n",
      "    \"bs58check\": \"^2.1.2\",\n",
      "    \"libsodium-wrappers\": \"^0.7.4\",\n",
      "    \"xhr2\": \"^0.1.4\"\n",
      "  },\n",
      "  \"devDependencies\": {},\n",
      "  \"description\": \"\"\n",
      "}\n",
      "\n",
      "\n",
      "\u001b[K\u001b[?25h\u001b[37;40mnpm\u001b[0m \u001b[0m\u001b[30;43mWARN\u001b[0m\u001b[35m\u001b[0m calculator_dapp_client@1.0.0 No descriptionpostinstall: xhr2\u001b[0m\u001b[K\u001b[K\n",
      "\u001b[0m\u001b[37;40mnpm\u001b[0m \u001b[0m\u001b[30;43mWARN\u001b[0m\u001b[35m\u001b[0m calculator_dapp_client@1.0.0 No repository field.\n",
      "\u001b[0m\n",
      "\u001b[K\u001b[?25h+ bignumber.js@8.0.2░░░░\u001b[0m⸩ ⠏ postinstall: \u001b[30;43mWARN\u001b[0m calculator_dapp_client@1.0.0 No reposi\u001b[0m\u001b[K[0m\u001b[K\n",
      "+ libsodium-wrappers@0.7.4\n",
      "+ bip39@2.5.0\n",
      "+ bs58check@2.1.2\n",
      "+ xhr2@0.1.4\n",
      "updated 5 packages and audited 114 packages in 6.05s\n",
      "found \u001b[92m0\u001b[0m vulnerabilities\n",
      "\n",
      "--2019-01-26 22:02:24--  https://github.com/TezTech/eztz/raw/master/src/main.js\n",
      "Resolving github.com (github.com)... 140.82.118.4, 140.82.118.3\n",
      "Prip'ajanie k github.com (github.com)|140.82.118.4|:443... connected.\n",
      "HTTP request sent, awaiting response... 302 Found\n",
      "Location: https://raw.githubusercontent.com/TezTech/eztz/master/src/main.js [following]\n",
      "--2019-01-26 22:02:25--  https://raw.githubusercontent.com/TezTech/eztz/master/src/main.js\n",
      "Resolving raw.githubusercontent.com (raw.githubusercontent.com)... 151.101.0.133, 151.101.64.133, 151.101.128.133, ...\n",
      "Prip'ajanie k raw.githubusercontent.com (raw.githubusercontent.com)|151.101.0.133|:443... connected.\n",
      "HTTP request sent, awaiting response... 200 OK\n",
      "Length: 43283 (42K) [text/plain]\n",
      "Uklad'a sa do: \"eztz.js\"\n",
      "\n",
      "eztz.js             100%[===================>]  42.27K  --.-KB/s    za 0.03s   \n",
      "\n",
      "2019-01-26 22:02:25 (1.31 MB/s) - \"eztz.js\" ulozen'e [43283/43283]\n",
      "\n"
     ]
    }
   ],
   "source": [
    "mkdir -p ~/tezos-dev/calculator_dapp_client && cd ~/tezos-dev/calculator_dapp_client\n",
    "\n",
    "# Fetch of dependencies for \n",
    "npm init -y\n",
    "npm install --save bs58check libsodium-wrappers bip39 xhr2 bignumber.js\n",
    "\n",
    "wget https://github.com/TezTech/eztz/raw/master/src/main.js -O eztz.js"
   ]
  },
  {
   "cell_type": "markdown",
   "metadata": {},
   "source": [
    "## Preparation of Test Account to be used by EZTZ\n",
    "When interacting with tezos, it is required to have private/public key pair. This represents account, where we can move some tez and later to communicate with our smart contract.\n",
    "\n",
    "Following code is equivalent to calling `tezos-client gen keys ...` command ([sample](calculator_dapp.ipynb#Testing-account-creation)). \n",
    "\n",
    "**WORKING NOTE: At the time of writing this guide, we were not able to use `tezos-client` generated keys in EZTZ, however keys generated by EZTZ work with tezos-client**.\n",
    "\n",
    "Following call will generate private/public key, that we will later use for moving tez to this account and also to originate and call testing contract."
   ]
  },
  {
   "cell_type": "code",
   "execution_count": 5,
   "metadata": {},
   "outputs": [
    {
     "name": "stdout",
     "output_type": "stream",
     "text": [
      "{\"sk\":\"edskRukRLGC2N3Zsptz1NB2xstC7sG1j5xvtMZ6ugUHtgeGwAcsnkLRc2TcNq7HkiBJqaWun81DvQHQmkXDEPayRpCgGPG5KAp\",\"pk\":\"edpkuFS8rHXMZxsUNxhZoM9jomkTBYtJrK1PinESSuWojQ66rToHiV\",\"pkh\":\"tz1RmU5xid1hMMTubCEhv9raAttiRx7Xmprs\"}\n"
     ]
    }
   ],
   "source": [
    "node <<EOM 2>/dev/null | tee keys.json\n",
    "require('./eztz.js');\n",
    "\n",
    "var node_address ='$TEZOS_NODE_URL';\n",
    "\n",
    "(async() => {\n",
    "    await eztz.library.sodium.ready;\n",
    "\n",
    "    eztz.node.setProvider(node_address);\n",
    "\n",
    "    var keys = eztz.crypto.generateKeysNoSeed()\n",
    "    console.log(JSON.stringify(keys));\n",
    "})();\n",
    "EOM\n",
    "\n",
    "export SECRET_KEY=unencrypted:$(jq -r \".sk\" <keys.json)\n",
    "export PUBLIC_KEY=$(jq -r \".pk\" <keys.json)\n",
    "export PUBLIC_KEY_HASH=$(jq -r \".pkh\" <keys.json)"
   ]
  },
  {
   "cell_type": "markdown",
   "metadata": {},
   "source": [
    "For convenience we will register given key pair with tezos-client. After registering the key we can validate, that generated public key and hash are the same as values provided by EZTZ."
   ]
  },
  {
   "cell_type": "code",
   "execution_count": 7,
   "metadata": {},
   "outputs": [
    {
     "name": "stdout",
     "output_type": "stream",
     "text": [
      "\u001b[0m\u001b[31;1;4m\u001b[0m\u001b[31;1;4mError:\u001b[0m\u001b[0m\u001b[31;1;4m\u001b[0m\u001b[0m\n",
      "  The secret_key alias client_account already exists.\n",
      "    The current value is unencrypted:edskRukRLGC2N3Zsptz1NB2xstC7sG1j5xvtMZ6ugUHtgeGwAcsnkLRc2TcNq7HkiBJqaWun81DvQHQmkXDEPayRpCgGPG5KAp.\n",
      "    Use --force to update\n",
      "----\n",
      "Tezos-client registered keys:\n",
      "Hash: tz1RmU5xid1hMMTubCEhv9raAttiRx7Xmprs\n",
      "Public Key: edpkuFS8rHXMZxsUNxhZoM9jomkTBYtJrK1PinESSuWojQ66rToHiV\n",
      "Secret Key: unencrypted:edskRukRLGC2N3Zsptz1NB2xstC7sG1j5xvtMZ6ugUHtgeGwAcsnkLRc2TcNq7HkiBJqaWun81DvQHQmkXDEPayRpCgGPG5KAp\n",
      "----\n",
      "EZTZ Generated keys:\n",
      "\u001b[1;39m{\n",
      "  \u001b[0m\u001b[34;1m\"sk\"\u001b[0m\u001b[1;39m: \u001b[0m\u001b[0;32m\"edskRukRLGC2N3Zsptz1NB2xstC7sG1j5xvtMZ6ugUHtgeGwAcsnkLRc2TcNq7HkiBJqaWun81DvQHQmkXDEPayRpCgGPG5KAp\"\u001b[0m\u001b[1;39m,\n",
      "  \u001b[0m\u001b[34;1m\"pk\"\u001b[0m\u001b[1;39m: \u001b[0m\u001b[0;32m\"edpkuFS8rHXMZxsUNxhZoM9jomkTBYtJrK1PinESSuWojQ66rToHiV\"\u001b[0m\u001b[1;39m,\n",
      "  \u001b[0m\u001b[34;1m\"pkh\"\u001b[0m\u001b[1;39m: \u001b[0m\u001b[0;32m\"tz1RmU5xid1hMMTubCEhv9raAttiRx7Xmprs\"\u001b[0m\u001b[1;39m\n",
      "\u001b[1;39m}\u001b[0m\n"
     ]
    }
   ],
   "source": [
    "tezos-client import secret key client_account $SECRET_KEY \n",
    "echo ----\n",
    "echo Tezos-client registered keys:\n",
    "tezos-client show address client_account -S\n",
    "echo ----\n",
    "echo EZTZ Generated keys:\n",
    "jq <keys.json"
   ]
  },
  {
   "cell_type": "markdown",
   "metadata": {},
   "source": [
    "We will move some tez to our newly created account. These will be later used to pay fees for running our smart contract."
   ]
  },
  {
   "cell_type": "code",
   "execution_count": 9,
   "metadata": {},
   "outputs": [
    {
     "name": "stdout",
     "output_type": "stream",
     "text": [
      "[2] 51807\n",
      "Injected block BLyBZ3SbmMDR\n",
      "[2]+  Done                    tezos-client transfer 1000 from bootstrap5 to client_account --burn-cap 0.257 > output.txt\n",
      "Node is bootstrapped, ready for injecting operations.\n",
      "Estimated gas: 10100 units (will add 100 for safety)\n",
      "Estimated storage: 257 bytes added (will add 20 for safety)\n",
      "Operation successfully injected in the node.\n",
      "Operation hash: ooHf4Ykomvjxtk4J7tPqHr9H3xxw2CkPbnggRPycpTM91eHLGHv\n",
      "Waiting for the operation to be included...\n",
      "Operation found in block: BLyBZ3SbmMDRBN533Y92CetwSLRL3DUFa8waW6KnQQpsYWZs4rA (pass: 3, offset: 0)\n",
      "This sequence of operations was run:\n",
      "  Manager signed operations:\n",
      "    From: tz1ddb9NMYHZi5UzPdzTZMYQQZoMub195zgv\n",
      "    Fee to the baker: ꜩ0.001275\n",
      "    Expected counter: 1\n",
      "    Gas limit: 10200\n",
      "    Storage limit: 277 bytes\n",
      "    Balance updates:\n",
      "      tz1ddb9NMYHZi5UzPdzTZMYQQZoMub195zgv ........... -ꜩ0.001275\n",
      "      fees(tz1KqTpEZ7Yob7QbPE4Hy4Wo8fHG8LhKxZSx,0) ... +ꜩ0.001275\n",
      "    Transaction:\n",
      "      Amount: ꜩ1000\n",
      "      From: tz1ddb9NMYHZi5UzPdzTZMYQQZoMub195zgv\n",
      "      To: tz1RmU5xid1hMMTubCEhv9raAttiRx7Xmprs\n",
      "      This transaction was successfully applied\n",
      "      Consumed gas: 10100\n",
      "      Balance updates:\n",
      "        tz1ddb9NMYHZi5UzPdzTZMYQQZoMub195zgv ... -ꜩ1000\n",
      "        tz1RmU5xid1hMMTubCEhv9raAttiRx7Xmprs ... +ꜩ1000\n",
      "        tz1ddb9NMYHZi5UzPdzTZMYQQZoMub195zgv ... -ꜩ0.257\n",
      "\n",
      "The operation has only been included 0 blocks ago.\n",
      "We recommend to wait more.\n",
      "Use command\n",
      "  tezos-client wait for ooHf4Ykomvjxtk4J7tPqHr9H3xxw2CkPbnggRPycpTM91eHLGHv to be included --confirmations 30\n",
      "and/or an external block explorer.\n"
     ]
    }
   ],
   "source": [
    "tezos-client transfer 1000 from bootstrap5 to client_account --burn-cap 0.257 > output.txt &\n",
    "PROCESS_PID=$!\n",
    "\n",
    "tezos-client bake for bootstrap1\n",
    "wait $PROCESS_PID\n",
    "cat output.txt"
   ]
  },
  {
   "cell_type": "markdown",
   "metadata": {},
   "source": [
    "After the transfer we can verify balance. Following code demonstrate checking of balance using EZTZ. EZTZ library is showing balance in mutez (1000000 mutez = 1 tez)."
   ]
  },
  {
   "cell_type": "code",
   "execution_count": 11,
   "metadata": {},
   "outputs": [
    {
     "name": "stdout",
     "output_type": "stream",
     "text": [
      "EZTZ\n",
      "----\n",
      "Balance is : 1000000000 mutez\n",
      "\n",
      "tezos-client\n",
      "----\n",
      "1000 ꜩ\n"
     ]
    }
   ],
   "source": [
    "echo EZTZ\n",
    "echo ----\n",
    "node <<EOM \n",
    "require('./eztz.js');\n",
    "\n",
    "var pkh = '$PUBLIC_KEY_HASH';\n",
    "var node_address = 'http://$TEZOS_NODE_URL';\n",
    "\n",
    "(async() => {\n",
    "    await eztz.library.sodium.ready;\n",
    "\n",
    "    eztz.node.setProvider(node_address);\n",
    "\n",
    "    eztz.rpc.getBalance(pkh)\n",
    "        .then(balance => {\n",
    "            console.log(\"Balance is : \" + balance + \" mutez\");    \n",
    "    }\n",
    "    );\n",
    "})();\n",
    "EOM\n",
    "echo\n",
    "echo tezos-client\n",
    "echo ----\n",
    "## call above is equivalent to \n",
    "tezos-client get balance for client_account"
   ]
  },
  {
   "cell_type": "markdown",
   "metadata": {},
   "source": [
    "## Preparation of smart contract\n"
   ]
  },
  {
   "cell_type": "code",
   "execution_count": 23,
   "metadata": {},
   "outputs": [],
   "source": [
    "#Sample preparation\n",
    "cd ~/tezos-dev/calculator_dapp_client\n",
    "\n",
    "/bin/cat <<EOM >Calculator.liq\n",
    "[%%version 0.4]\n",
    "  \n",
    "type storage = int\n",
    "\n",
    "let%init storage (init_storage : int) =\n",
    "  init_storage\n",
    "  \n",
    "let%entry add (parameter : int) storage =\n",
    "  ( ([] : operation list), storage + parameter )\n",
    "  \n",
    "let%entry subtract (parameter : int) storage =\n",
    "  ( ([] : operation list), storage - parameter )\n",
    "EOM"
   ]
  },
  {
   "cell_type": "markdown",
   "metadata": {},
   "source": [
    "We will deploy the contract using using bootstrap1 account."
   ]
  },
  {
   "cell_type": "code",
   "execution_count": 24,
   "metadata": {},
   "outputs": [
    {
     "name": "stdout",
     "output_type": "stream",
     "text": [
      "Main contract Calculator\n",
      "Main contract Calculator\n",
      "Evaluated initial storage: 0\n",
      "New contract KT1U1kUzvZvroFTUZ6G4CkmQS76YB4hAnUa6 deployed in operation onhentPom7pVgMtJJHe1gLiGVJzRjbVRjF6N7uzTsJLSWRNVS3w\n",
      "Injected block BLUKDWjKe6Sy\n"
     ]
    }
   ],
   "source": [
    "BS1_HASH=$(tezos-client show address bootstrap1 --show-secret | grep Hash | cut -d\" \" -f2)\n",
    "BS1_SECRET=$(tezos-client show address bootstrap1 --show-secret | grep Secret | cut -d\":\" -f3)\n",
    "\n",
    "liquidity \\\n",
    "  --tezos-node $TEZOS_NODE_URL \\\n",
    "  --source $BS1_HASH \\\n",
    "  --private-key $BS1_SECRET \\\n",
    "  --fee 1tz \\\n",
    "  --amount 3tz \\\n",
    "  Calculator.liq \\\n",
    "  --deploy '0' | tee contract_deploy_output.txt\n",
    "  \n",
    "tezos-client bake for bootstrap1\n",
    "  \n",
    "export CONTRACT_HASH=$(grep \"New contract\" contract_deploy_output.txt | cut -d\" \" -f3)\n",
    "export OPERATION_HASH=$(grep \"New contract\" contract_deploy_output.txt | cut -d\" \" -f7)"
   ]
  },
  {
   "cell_type": "markdown",
   "metadata": {},
   "source": [
    "### Running of Contract Using EZTZ\n",
    "\n",
    "Checking of contract parameters."
   ]
  },
  {
   "cell_type": "code",
   "execution_count": 32,
   "metadata": {},
   "outputs": [
    {
     "name": "stdout",
     "output_type": "stream",
     "text": [
      "Balance of contract KT1U1kUzvZvroFTUZ6G4CkmQS76YB4hAnUa6 is 3000000\n",
      "Storage of contract KT1U1kUzvZvroFTUZ6G4CkmQS76YB4hAnUa6 is : {\"int\":\"0\"} mutez\n",
      "{ manager: \u001b[32m'tz1KqTpEZ7Yob7QbPE4Hy4Wo8fHG8LhKxZSx'\u001b[39m,\n",
      "  balance: \u001b[32m'3000000'\u001b[39m,\n",
      "  spendable: \u001b[33mfalse\u001b[39m,\n",
      "  delegate: { setable: \u001b[33mfalse\u001b[39m },\n",
      "  script:\n",
      "   { code:\n",
      "      [ { prim: \u001b[32m'parameter'\u001b[39m,\n",
      "          args:\n",
      "           [ { prim: \u001b[32m'or'\u001b[39m,\n",
      "               args:\n",
      "                [ { prim: \u001b[32m'int'\u001b[39m, annots: [ \u001b[32m'%_Liq_entry_add'\u001b[39m ] },\n",
      "                  { prim: \u001b[32m'int'\u001b[39m, annots: [ \u001b[32m'%_Liq_entry_subtract'\u001b[39m ] } ],\n",
      "               annots: [ \u001b[32m':_entries'\u001b[39m ] } ] },\n",
      "        { prim: \u001b[32m'storage'\u001b[39m, args: [ { prim: \u001b[32m'int'\u001b[39m } ] },\n",
      "        { prim: \u001b[32m'code'\u001b[39m,\n",
      "          args:\n",
      "           [ [ { prim: \u001b[32m'DUP'\u001b[39m },\n",
      "               { prim: \u001b[32m'DIP'\u001b[39m,\n",
      "                 args: [ [ { prim: \u001b[32m'CDR'\u001b[39m, annots: [ \u001b[32m'@storage_slash_1'\u001b[39m ] } ] ] },\n",
      "               { prim: \u001b[32m'CAR'\u001b[39m, annots: [ \u001b[32m'@parameter_slash_2'\u001b[39m ] },\n",
      "               { prim: \u001b[32m'DUP'\u001b[39m, annots: [ \u001b[32m'@parameter'\u001b[39m ] },\n",
      "               { prim: \u001b[32m'IF_LEFT'\u001b[39m,\n",
      "                 args:\n",
      "                  [ [ { prim: \u001b[32m'RENAME'\u001b[39m, annots: [ \u001b[32m'@parameter_slash_3'\u001b[39m ] },\n",
      "                      [ { prim: \u001b[32m'DIP'\u001b[39m,\n",
      "                          args:\n",
      "                           [ [ [ { prim: \u001b[32m'DIP'\u001b[39m, args: [ [ { prim: \u001b[32m'DUP'\u001b[39m } ] ] },\n",
      "                                 { prim: \u001b[32m'SWAP'\u001b[39m } ] ] ] },\n",
      "                        { prim: \u001b[32m'SWAP'\u001b[39m } ],\n",
      "                      { prim: \u001b[32m'ADD'\u001b[39m },\n",
      "                      { prim: \u001b[32m'NIL'\u001b[39m, args: [ { prim: \u001b[32m'operation'\u001b[39m } ] },\n",
      "                      { prim: \u001b[32m'PAIR'\u001b[39m } ],\n",
      "                    [ { prim: \u001b[32m'RENAME'\u001b[39m, annots: [ \u001b[32m'@parameter_slash_5'\u001b[39m ] },\n",
      "                      [ { prim: \u001b[32m'DIP'\u001b[39m,\n",
      "                          args:\n",
      "                           [ [ [ { prim: \u001b[32m'DIP'\u001b[39m, args: [ [ { prim: \u001b[32m'DUP'\u001b[39m } ] ] },\n",
      "                                 { prim: \u001b[32m'SWAP'\u001b[39m } ] ] ] },\n",
      "                        { prim: \u001b[32m'SWAP'\u001b[39m } ],\n",
      "                      { prim: \u001b[32m'SUB'\u001b[39m },\n",
      "                      { prim: \u001b[32m'NIL'\u001b[39m, args: [ { prim: \u001b[32m'operation'\u001b[39m } ] },\n",
      "                      { prim: \u001b[32m'PAIR'\u001b[39m } ] ] },\n",
      "               { prim: \u001b[32m'DIP'\u001b[39m,\n",
      "                 args: [ [ { prim: \u001b[32m'DROP'\u001b[39m }, { prim: \u001b[32m'DROP'\u001b[39m } ] ] } ] ] } ],\n",
      "     storage: { int: \u001b[32m'0'\u001b[39m } },\n",
      "  counter: \u001b[32m'0'\u001b[39m }\n"
     ]
    }
   ],
   "source": [
    "node <<EOM \n",
    "require('./eztz.js');\n",
    "\n",
    "var client_pkh = '$PUBLIC_KEY_HASH';\n",
    "var client_sk = '$SECRET_KEY';\n",
    "var contract_pkh = '$CONTRACT_HASH';\n",
    "var node_address = 'http://$TEZOS_NODE_URL';\n",
    "\n",
    "(async() => {\n",
    "    await eztz.library.sodium.ready;\n",
    "\n",
    "    eztz.node.setProvider(node_address);\n",
    "    \n",
    "    \n",
    "    //Retrieving balance of the account\n",
    "    eztz.rpc.getBalance(contract_pkh)\n",
    "        .then(balance => {\n",
    "            console.log(\"Balance of contract \"+contract_pkh+\" is \"+ balance);\n",
    "        });\n",
    "    \n",
    "    //Retrieving storage of the account\n",
    "    eztz.contract.storage(contract_pkh)\n",
    "        .then(storage => {\n",
    "            console.log(\"Storage of contract \"+contract_pkh+\" is : \" + JSON.stringify(storage) + \" mutez\");  \n",
    "        });\n",
    "    \n",
    "    //Retrieving contract object - containing all information about smart contract\n",
    "    eztz.contract.load(contract_pkh)\n",
    "        .then(storage => {\n",
    "            console.log(storage);\n",
    "        });\n",
    "})();\n",
    "EOM"
   ]
  },
  {
   "cell_type": "markdown",
   "metadata": {},
   "source": [
    "When communicating with smart contract, it's required to use Michelson. To get code required to compile method call to Michelson.\n"
   ]
  },
  {
   "cell_type": "code",
   "execution_count": 36,
   "metadata": {},
   "outputs": [
    {
     "name": "stdout",
     "output_type": "stream",
     "text": [
      "Main contract Calculator\n",
      "(Left 1)\n"
     ]
    }
   ],
   "source": [
    "liquidity --tezos-node $TEZOS_NODE_URL \\\n",
    " Calculator.liq \\\n",
    " --data add '1'"
   ]
  },
  {
   "cell_type": "markdown",
   "metadata": {},
   "source": [
    "We can adjust resulting Michelson code and use it in our Javascript code.\n",
    "\n",
    "**WORKING NOTE: At the time of writing EZTZ was not working when using send operation. Comparing to call with liquidity it's sending also reveal operation. It seems, that RPC call fails on reveal operation. When adjusted library manually, it was able to do the RPC call, however crashed internally**"
   ]
  },
  {
   "cell_type": "code",
   "execution_count": 56,
   "metadata": {},
   "outputs": [
    {
     "name": "stdout",
     "output_type": "stream",
     "text": [
      "FORGE VALIDATION TEST START\n",
      "{ branch: \u001b[32m'BMXRygwzgU6zCeHweFNTX3jYSr4ctckUdmMF4dY1xRsp4qqfpa6'\u001b[39m,\n",
      "  contents:\n",
      "   [ { kind: \u001b[32m'transaction'\u001b[39m,\n",
      "       fee: \u001b[32m'0100000'\u001b[39m,\n",
      "       gas_limit: \u001b[32m'100000'\u001b[39m,\n",
      "       storage_limit: \u001b[32m'100000'\u001b[39m,\n",
      "       amount: \u001b[32m'0'\u001b[39m,\n",
      "       destination: \u001b[32m'KT1U1kUzvZvroFTUZ6G4CkmQS76YB4hAnUa6'\u001b[39m,\n",
      "       parameters: { prim: \u001b[32m'Left'\u001b[39m, args: [ { int: \u001b[32m'1'\u001b[39m } ] },\n",
      "       source: \u001b[32m'tz1RmU5xid1hMMTubCEhv9raAttiRx7Xmprs'\u001b[39m,\n",
      "       counter: \u001b[32m'2'\u001b[39m } ] }\n",
      "eec0f1e8749d425535a94ebc1fe91f300aa9d81860f84add40ab9253c0e00d130800004338dd38346932ec58318fd03801d24a9149a3fca08d0602a08d06a08d060001d523e2b5c073a12bd2f2a5cc1d5bb7abcf341bc600ff0000000405050001\n",
      "eec0f1e8749d425535a94ebc1fe91f300aa9d81860f84add40ab9253c0e00d130800004338dd38346932ec58318fd03801d24a9149a3fca08d0602a08d06a08d060001d523e2b5c073a12bd2f2a5cc1d5bb7abcf341bc600ff0000000405050001\n",
      "FORGE VALIDATION TEST END\n",
      "(node:52329) UnhandledPromiseRejectionWarning: TypeError: Expected String\n",
      "    at decodeUnsafe (/Users/martinkovacik/tezos-dev/calculator_dapp_client/node_modules/base-x/index.js:78:43)\n",
      "    at Object.decode (/Users/martinkovacik/tezos-dev/calculator_dapp_client/node_modules/base-x/index.js:139:20)\n",
      "    at Object.decode (/Users/martinkovacik/tezos-dev/calculator_dapp_client/node_modules/bs58check/base.js:39:25)\n",
      "    at Object.b58cdecode (/Users/martinkovacik/tezos-dev/calculator_dapp_client/eztz.js:72:64)\n",
      "    at Object.sign (/Users/martinkovacik/tezos-dev/calculator_dapp_client/eztz.js:366:104)\n",
      "    at /Users/martinkovacik/tezos-dev/calculator_dapp_client/eztz.js:547:31\n",
      "    at process.internalTickCallback (internal/process/next_tick.js:77:7)\n",
      "(node:52329) UnhandledPromiseRejectionWarning: Unhandled promise rejection. This error originated either by throwing inside of an async function without a catch block, or by rejecting a promise which was not handled with .catch(). (rejection id: 1)\n",
      "(node:52329) [DEP0018] DeprecationWarning: Unhandled promise rejections are deprecated. In the future, promise rejections that are not handled will terminate the Node.js process with a non-zero exit code.\n"
     ]
    }
   ],
   "source": [
    "node <<EOM \n",
    "require('./eztz.js');\n",
    "\n",
    "var client_pk = '$PUBLIC_KEY';\n",
    "var client_pkh = '$PUBLIC_KEY_HASH';\n",
    "var client_sk = '$SECRET_KEY';\n",
    "var contract_pkh = '$CONTRACT_HASH';\n",
    "// var node_address = 'http://$TEZOS_NODE_URL';\n",
    " var node_address = 'http://localhost:18732';\n",
    "\n",
    "(async() => {\n",
    "    await eztz.library.sodium.ready;\n",
    "\n",
    "    eztz.node.setProvider(node_address);\n",
    "    \n",
    "    //Retrieving contract object - containing all information about smart contract\n",
    "    eztz.contract.send(contract_pkh, client_pkh, client_sk, 0, \"(Left 1)\", \"0100000\",100000,100000)\n",
    "        .then(storage => {\n",
    "            console.log(storage);\n",
    "        });\n",
    "})();\n",
    "EOM"
   ]
  },
  {
   "cell_type": "markdown",
   "metadata": {},
   "source": [
    "## Sandbox Clean-up"
   ]
  },
  {
   "cell_type": "markdown",
   "metadata": {},
   "source": [
    "Command to terminate sandbox blockchain running in the background"
   ]
  },
  {
   "cell_type": "code",
   "execution_count": null,
   "metadata": {},
   "outputs": [],
   "source": [
    "kill $(<$TEZOS_HOME/tezos_sandbox_pid.txt)"
   ]
  },
  {
   "cell_type": "code",
   "execution_count": null,
   "metadata": {},
   "outputs": [],
   "source": []
  }
 ],
 "metadata": {
  "kernelspec": {
   "display_name": "Bash",
   "language": "bash",
   "name": "bash"
  },
  "language_info": {
   "codemirror_mode": "shell",
   "file_extension": ".sh",
   "mimetype": "text/x-sh",
   "name": "bash"
  }
 },
 "nbformat": 4,
 "nbformat_minor": 2
}
