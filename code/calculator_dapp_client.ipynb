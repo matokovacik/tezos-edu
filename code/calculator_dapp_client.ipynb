{
 "cells": [
  {
   "cell_type": "markdown",
   "metadata": {},
   "source": [
    "# Calculator Sample Client\n",
    "This sample is focusing purely on building the client using [EZTZ](https://github.com/TezTech/eztz) Javascript library. Contract and all instrumentation code is inherited from [Calculator Dapp sample](calculator_dapp.ipynb), however commentary is skipped to reduce noice. To get more details on instrumentation please consult mentioned sample.\n",
    "\n",
    "## Sandbox Environment Preparation"
   ]
  },
  {
   "cell_type": "code",
   "execution_count": 1,
   "metadata": {},
   "outputs": [
    {
     "name": "stdout",
     "output_type": "stream",
     "text": [
      "[1] 49730\n"
     ]
    }
   ],
   "source": [
    "# Initialisation of variables to be used later in tutorial\n",
    "export TEZOS_HOME=~/tezos-dev/tezos\n",
    "export TEZOS_NODE_URL=\"127.0.0.1:18731\"\n",
    "\n",
    "# This variable will disable disclaimer about used tezos network. For this guide we will \n",
    "# disable it to make command outputs less cluttered. However we strongly discourage to \n",
    "# use this setting for your regular work. (source : Tezos Source code reverse engineering)\n",
    "export TEZOS_CLIENT_UNSAFE_DISABLE_DISCLAIMER=yes\n",
    "cd $TEZOS_HOME\n",
    "\n",
    "./src/bin_node/tezos-sandboxed-node.sh \\\n",
    "  1 \\\n",
    "  --cors-header=\"*\" \\\n",
    "  --cors-origin=\"*\" \\\n",
    "  --connections 1 \\\n",
    "  1>tezos_sandbox_log.txt 2>&1 &\n",
    "\n",
    "#Exporting node pid so we can terminate the sandbox node after the tutorial.\n",
    "export NODE_PID=$! \n",
    "echo $NODE_PID > tezos_sandbox_pid.txt"
   ]
  },
  {
   "cell_type": "code",
   "execution_count": 2,
   "metadata": {},
   "outputs": [
    {
     "name": "stdout",
     "output_type": "stream",
     "text": [
      "## Tezos address added: tz1KqTpEZ7Yob7QbPE4Hy4Wo8fHG8LhKxZSx\n",
      "## Tezos address added: tz1gjaF81ZRRvdzjobyfVNsAeSC6PScjfQwN\n",
      "## Tezos address added: tz1faswCTDciRzE4oJ9jn2Vm2dvjeyA9fUzU\n",
      "## Tezos address added: tz1b7tUupMgCNw2cCLpKTkSD1NZzB5TkP2sv\n",
      "## Tezos address added: tz1ddb9NMYHZi5UzPdzTZMYQQZoMub195zgv\n",
      "## Tezos address added: tz1TGu6TN5GSez2ndXXeDX6LgUDvLzPLqgYV\n",
      "## \n",
      "## The client is now properly initialized. In the rest of this shell\n",
      "## session, you might now run `tezos-client` to communicate with a\n",
      "## tezos node launched with `launch-sandboxed-node 1`. For instance:\n",
      "## \n",
      "##   tezos-client rpc get /chains/main/blocks/head/metadata\n",
      "## \n",
      "## Note: if the current protocol version, as reported by the previous\n",
      "## command, is \"Ps6mwMrF2ER2s51cp9yYpjDcuzQjsc2yAz8bQsRgdaRxw4Fk95H\", you\n",
      "## may have to activate in your \"sandboxed network\" the same economic\n",
      "## protocol than used by the alphanet by running:\n",
      "## \n",
      "##   tezos-activate-alpha\n",
      "## \n",
      "## Warning: all the client data will be removed when you close this shell\n",
      "## or if you run this command a second time.\n",
      "## \n",
      "## Activate tab completion by running:\n",
      "## \n",
      "##   tezos-autocomplete\n",
      "## \n"
     ]
    }
   ],
   "source": [
    "#It is required to run following script with the same parameter as the sandbox node was executed (in our case 1)\n",
    "cd $TEZOS_HOME\n",
    "eval `./src/bin_client/tezos-init-sandboxed-client.sh 1`"
   ]
  },
  {
   "cell_type": "code",
   "execution_count": 3,
   "metadata": {
    "scrolled": true
   },
   "outputs": [
    {
     "name": "stdout",
     "output_type": "stream",
     "text": [
      "Injected BLwhGxwuhomi\n",
      "Injected block BL7RGw64d1Ak\n"
     ]
    }
   ],
   "source": [
    "tezos-activate-alpha \n",
    "\n",
    "tezos-client bake for bootstrap1"
   ]
  },
  {
   "cell_type": "markdown",
   "metadata": {},
   "source": [
    "## EZTZ Client Library Environment\n",
    "For the sample we will use [EZTZ Javascript Library](https://github.com/TezTech/eztz). You can find documentation [here](https://github.com/TezTech/eztz/wiki/Documentation#eztz.crypto). EZTZ library is able to communicate with Tezos RPC and also provides crypto functions for signing.\n",
    "\n",
    "At the time of writing this guide, EZTZ is not exported as NPM model. To make it work we need to prepare the project manually and fetch the library directly from github.\n",
    "\n",
    "Following steps are required when running EZTZ using nodejs. When embedding EZTZ in browser, it is required to embedd [eztz.min.js](https://github.com/TezTech/eztz/raw/master/dist/eztz.min.js) file.\n"
   ]
  },
  {
   "cell_type": "code",
   "execution_count": 4,
   "metadata": {},
   "outputs": [
    {
     "name": "stdout",
     "output_type": "stream",
     "text": [
      "Wrote to /Users/martinkovacik/tezos-dev/calculator_dapp_client/package.json:\n",
      "\n",
      "{\n",
      "  \"name\": \"calculator_dapp_client\",\n",
      "  \"version\": \"1.0.0\",\n",
      "  \"main\": \"index.js\",\n",
      "  \"scripts\": {\n",
      "    \"test\": \"echo \\\"Error: no test specified\\\" && exit 1\"\n",
      "  },\n",
      "  \"keywords\": [],\n",
      "  \"author\": \"\",\n",
      "  \"license\": \"ISC\",\n",
      "  \"dependencies\": {\n",
      "    \"bignumber.js\": \"^8.0.2\",\n",
      "    \"bip39\": \"^2.5.0\",\n",
      "    \"bs58check\": \"^2.1.2\",\n",
      "    \"libsodium-wrappers\": \"^0.7.4\",\n",
      "    \"xhr2\": \"^0.1.4\"\n",
      "  },\n",
      "  \"devDependencies\": {},\n",
      "  \"description\": \"\"\n",
      "}\n",
      "\n",
      "\n",
      "\u001b[K\u001b[?25h\u001b[37;40mnpm\u001b[0m \u001b[0m\u001b[30;43mWARN\u001b[0m\u001b[35m\u001b[0m calculator_dapp_client@1.0.0 No description0m\u001b[Kinkovacik/.npm/\u001b[0m\u001b[K\n",
      "\u001b[0m\u001b[37;40mnpm\u001b[0m \u001b[0m\u001b[30;43mWARN\u001b[0m\u001b[35m\u001b[0m calculator_dapp_client@1.0.0 No repository field.\n",
      "\u001b[0m\n",
      "+ xhr2@0.1.4\n",
      "+ bs58check@2.1.2\n",
      "+ bip39@2.5.0\n",
      "+ libsodium-wrappers@0.7.4\n",
      "+ bignumber.js@8.0.2\n",
      "updated 5 packages and audited 114 packages in 1.075s\n",
      "found \u001b[92m0\u001b[0m vulnerabilities\n",
      "\n",
      "--2019-01-24 21:39:32--  https://github.com/TezTech/eztz/raw/master/src/main.js\n",
      "Resolving github.com (github.com)... 140.82.118.4, 140.82.118.3\n",
      "Prip'ajanie k github.com (github.com)|140.82.118.4|:443... connected.\n",
      "HTTP request sent, awaiting response... 302 Found\n",
      "Location: https://raw.githubusercontent.com/TezTech/eztz/master/src/main.js [following]\n",
      "--2019-01-24 21:39:32--  https://raw.githubusercontent.com/TezTech/eztz/master/src/main.js\n",
      "Resolving raw.githubusercontent.com (raw.githubusercontent.com)... 151.101.64.133, 151.101.128.133, 151.101.192.133, ...\n",
      "Prip'ajanie k raw.githubusercontent.com (raw.githubusercontent.com)|151.101.64.133|:443... connected.\n",
      "HTTP request sent, awaiting response... 200 OK\n",
      "Length: 43283 (42K) [text/plain]\n",
      "Uklad'a sa do: \"eztz.js\"\n",
      "\n",
      "eztz.js             100%[===================>]  42.27K   103KB/s    za 0.4s    \n",
      "\n",
      "2019-01-24 21:39:33 (103 KB/s) - \"eztz.js\" ulozen'e [43283/43283]\n",
      "\n"
     ]
    }
   ],
   "source": [
    "mkdir -p ~/tezos-dev/calculator_dapp_client && cd ~/tezos-dev/calculator_dapp_client\n",
    "\n",
    "# Fetch of dependencies for \n",
    "npm init -y\n",
    "npm install --save bs58check libsodium-wrappers bip39 xhr2 bignumber.js\n",
    "\n",
    "wget https://github.com/TezTech/eztz/raw/master/src/main.js -O eztz.js"
   ]
  },
  {
   "cell_type": "markdown",
   "metadata": {},
   "source": [
    "## Preparation of Test Account to be used by EZTZ\n",
    "When interacting with tezos, it is required to have private/public key pair. This represents account, where we can move some tez and later to communicate with our smart contract.\n",
    "\n",
    "Following code is equivalent to calling `tezos-client gen keys ...` command ([sample](calculator_dapp.ipynb#Testing-account-creation)). \n",
    "\n",
    "**WORKING NOTE: At the time of writing this guide, we were not able to use `tezos-client` generated keys in EZTZ, however keys generated by EZTZ work with tezos-client**.\n",
    "\n",
    "Following call will generate private/public key, that we will later use for moving tez to this account and also to originate and call testing contract."
   ]
  },
  {
   "cell_type": "code",
   "execution_count": 5,
   "metadata": {},
   "outputs": [
    {
     "name": "stdout",
     "output_type": "stream",
     "text": [
      "{\"sk\":\"edskS2khcc94XMGXnkxCB8S7LX9ALMgpKyGsCj1RnLWAcKfzqdENpoikiGSHnuJdbzVq7qxUsTvGUwHVnZqbHjsjXBTZ4kYWBm\",\"pk\":\"edpkuXpB6Cw8SjiYmqbNptNRi4gWignPh2m3ZUSWA7rdmB8bj9Pc13\",\"pkh\":\"tz1TA8Y8yWrtd2iFjJwd1vq9RnMtLDA1mGUA\"}\n"
     ]
    }
   ],
   "source": [
    "node <<EOM 2>/dev/null | tee keys.json\n",
    "require('./eztz.js');\n",
    "\n",
    "var node_address ='$TEZOS_NODE_URL';\n",
    "\n",
    "(async() => {\n",
    "    await eztz.library.sodium.ready;\n",
    "\n",
    "    eztz.node.setProvider(node_address);\n",
    "\n",
    "    var keys = eztz.crypto.generateKeysNoSeed()\n",
    "    console.log(JSON.stringify(keys));\n",
    "})();\n",
    "EOM\n",
    "\n",
    "export SECRET_KEY=unencrypted:$(jq -r \".sk\" <keys.json)\n",
    "export PUBLIC_KEY=$(jq -r \".pk\" <keys.json)\n",
    "export PUBLIC_KEY_HASH=$(jq -r \".pkh\" <keys.json)"
   ]
  },
  {
   "cell_type": "markdown",
   "metadata": {},
   "source": [
    "For convenience we will register given key pair with tezos-client. After registering the key we can validate, that generated public key and hash are the same as values provided by EZTZ."
   ]
  },
  {
   "cell_type": "code",
   "execution_count": 6,
   "metadata": {},
   "outputs": [
    {
     "name": "stdout",
     "output_type": "stream",
     "text": [
      "Tezos address added: tz1TA8Y8yWrtd2iFjJwd1vq9RnMtLDA1mGUA\n",
      "----\n",
      "Tezos-client registered keys:\n",
      "Hash: tz1TA8Y8yWrtd2iFjJwd1vq9RnMtLDA1mGUA\n",
      "Public Key: edpkuXpB6Cw8SjiYmqbNptNRi4gWignPh2m3ZUSWA7rdmB8bj9Pc13\n",
      "Secret Key: unencrypted:edskS2khcc94XMGXnkxCB8S7LX9ALMgpKyGsCj1RnLWAcKfzqdENpoikiGSHnuJdbzVq7qxUsTvGUwHVnZqbHjsjXBTZ4kYWBm\n",
      "----\n",
      "EZTZ Generated keys:\n",
      "\u001b[1;39m{\n",
      "  \u001b[0m\u001b[34;1m\"sk\"\u001b[0m\u001b[1;39m: \u001b[0m\u001b[0;32m\"edskS2khcc94XMGXnkxCB8S7LX9ALMgpKyGsCj1RnLWAcKfzqdENpoikiGSHnuJdbzVq7qxUsTvGUwHVnZqbHjsjXBTZ4kYWBm\"\u001b[0m\u001b[1;39m,\n",
      "  \u001b[0m\u001b[34;1m\"pk\"\u001b[0m\u001b[1;39m: \u001b[0m\u001b[0;32m\"edpkuXpB6Cw8SjiYmqbNptNRi4gWignPh2m3ZUSWA7rdmB8bj9Pc13\"\u001b[0m\u001b[1;39m,\n",
      "  \u001b[0m\u001b[34;1m\"pkh\"\u001b[0m\u001b[1;39m: \u001b[0m\u001b[0;32m\"tz1TA8Y8yWrtd2iFjJwd1vq9RnMtLDA1mGUA\"\u001b[0m\u001b[1;39m\n",
      "\u001b[1;39m}\u001b[0m\n"
     ]
    }
   ],
   "source": [
    "tezos-client import secret key test_account $SECRET_KEY \n",
    "echo ----\n",
    "echo Tezos-client registered keys:\n",
    "tezos-client show address test_account -S\n",
    "echo ----\n",
    "echo EZTZ Generated keys:\n",
    "jq <keys.json"
   ]
  },
  {
   "cell_type": "markdown",
   "metadata": {},
   "source": [
    "We will move some tez to our newly create account. These will be later used for origination of smart contract and subsequent calls."
   ]
  },
  {
   "cell_type": "code",
   "execution_count": 7,
   "metadata": {},
   "outputs": [
    {
     "name": "stdout",
     "output_type": "stream",
     "text": [
      "[2] 49796\n",
      "Injected block BLGEPS5E5cb6\n",
      "[2]+  Done                    tezos-client transfer 1000 from bootstrap5 to test_account --burn-cap 0.257 > output.txt\n",
      "Node is bootstrapped, ready for injecting operations.\n",
      "Estimated gas: 10100 units (will add 100 for safety)\n",
      "Estimated storage: 257 bytes added (will add 20 for safety)\n",
      "Operation successfully injected in the node.\n",
      "Operation hash: ooLVnrfxxJP6fiySJrNMRjKPYnJX8G5P3FWZvPoahc27PN9Dw12\n",
      "Waiting for the operation to be included...\n",
      "Operation found in block: BLGEPS5E5cb6ivjpV4gzXvpsSnfvjv4LWgttfFDQD2wgQzvMVBw (pass: 3, offset: 0)\n",
      "This sequence of operations was run:\n",
      "  Manager signed operations:\n",
      "    From: tz1ddb9NMYHZi5UzPdzTZMYQQZoMub195zgv\n",
      "    Fee to the baker: ꜩ0.001275\n",
      "    Expected counter: 1\n",
      "    Gas limit: 10200\n",
      "    Storage limit: 277 bytes\n",
      "    Balance updates:\n",
      "      tz1ddb9NMYHZi5UzPdzTZMYQQZoMub195zgv ........... -ꜩ0.001275\n",
      "      fees(tz1KqTpEZ7Yob7QbPE4Hy4Wo8fHG8LhKxZSx,0) ... +ꜩ0.001275\n",
      "    Transaction:\n",
      "      Amount: ꜩ1000\n",
      "      From: tz1ddb9NMYHZi5UzPdzTZMYQQZoMub195zgv\n",
      "      To: tz1TA8Y8yWrtd2iFjJwd1vq9RnMtLDA1mGUA\n",
      "      This transaction was successfully applied\n",
      "      Consumed gas: 10100\n",
      "      Balance updates:\n",
      "        tz1ddb9NMYHZi5UzPdzTZMYQQZoMub195zgv ... -ꜩ1000\n",
      "        tz1TA8Y8yWrtd2iFjJwd1vq9RnMtLDA1mGUA ... +ꜩ1000\n",
      "        tz1ddb9NMYHZi5UzPdzTZMYQQZoMub195zgv ... -ꜩ0.257\n",
      "\n",
      "The operation has only been included 0 blocks ago.\n",
      "We recommend to wait more.\n",
      "Use command\n",
      "  tezos-client wait for ooLVnrfxxJP6fiySJrNMRjKPYnJX8G5P3FWZvPoahc27PN9Dw12 to be included --confirmations 30\n",
      "and/or an external block explorer.\n"
     ]
    }
   ],
   "source": [
    "tezos-client transfer 1000 from bootstrap5 to test_account --burn-cap 0.257 > output.txt &\n",
    "PROCESS_PID=$!\n",
    "\n",
    "tezos-client bake for bootstrap1\n",
    "wait $PROCESS_PID\n",
    "cat output.txt"
   ]
  },
  {
   "cell_type": "markdown",
   "metadata": {},
   "source": [
    "After the transfer we can verify balance. Following code demonstrate checking of balance using EZTZ. EZTZ library is showing balance in mutez (1000000 mutez = 1 tez)."
   ]
  },
  {
   "cell_type": "code",
   "execution_count": 8,
   "metadata": {},
   "outputs": [
    {
     "name": "stdout",
     "output_type": "stream",
     "text": [
      "EZTZ\n",
      "----\n",
      "Balance is : 1000000000 mutez\n",
      "\n",
      "tezos-client\n",
      "----\n",
      "1000 ꜩ\n"
     ]
    }
   ],
   "source": [
    "echo EZTZ\n",
    "echo ----\n",
    "node <<EOM \n",
    "require('./eztz.js');\n",
    "\n",
    "var pkh = '$PUBLIC_KEY_HASH';\n",
    "var node_address = 'http://$TEZOS_NODE_URL';\n",
    "\n",
    "(async() => {\n",
    "    await eztz.library.sodium.ready;\n",
    "\n",
    "    eztz.node.setProvider(node_address);\n",
    "\n",
    "    eztz.rpc.getBalance(pkh)\n",
    "        .then(balance => {\n",
    "            console.log(\"Balance is : \" + balance + \" mutez\");    \n",
    "    }\n",
    "    );\n",
    "})();\n",
    "EOM\n",
    "echo\n",
    "echo tezos-client\n",
    "echo ----\n",
    "## call above is equivalent to \n",
    "tezos-client get balance for test_account"
   ]
  },
  {
   "cell_type": "markdown",
   "metadata": {},
   "source": [
    "## Preparation of smart contract\n"
   ]
  },
  {
   "cell_type": "code",
   "execution_count": 9,
   "metadata": {},
   "outputs": [],
   "source": [
    "#Sample preparation\n",
    "mkdir -p ~/tezos-dev/calculator-dapp\n",
    "cd ~/tezos-dev/calculator-dapp\n",
    "\n",
    "/bin/cat <<EOM >Calculator.liq\n",
    "[%%version 0.4]\n",
    "  \n",
    "type storage = int\n",
    "\n",
    "let%init storage (init_storage : int) =\n",
    "  init_storage\n",
    "  \n",
    "let%entry add (parameter : int) storage =\n",
    "  ( ([] : operation list), storage + parameter )\n",
    "  \n",
    "let%entry subtract (parameter : int) storage =\n",
    "  ( ([] : operation list), storage - parameter )\n",
    "EOM"
   ]
  },
  {
   "cell_type": "markdown",
   "metadata": {},
   "source": [
    "**WORKING NOTE: At the time of writing liquidity was not working with keys generated by EZTZ. For the guide we will continue using deployment using tezos-client.**"
   ]
  },
  {
   "cell_type": "code",
   "execution_count": 11,
   "metadata": {},
   "outputs": [
    {
     "name": "stdout",
     "output_type": "stream",
     "text": [
      "Response Error:\n",
      "deploy: Bad private key\n"
     ]
    }
   ],
   "source": [
    "#liquidity \\\n",
    "#  --tezos-node $TEZOS_NODE_URL \\\n",
    "#  --source $PUBLIC_KEY_HASH \\\n",
    "#  --private-key $SECRET_KEY \\\n",
    "#  --fee 1tz \\\n",
    "#  --amount 3tz \\\n",
    "#  Calculator.liq \\\n",
    "#  --deploy '0' | tee contract_deploy_output.txt\n",
    "  \n",
    "#export CONTRACT_HASH=$(grep \"New contract\" contract_deploy_output.txt | cut -d\" \" -f3)\n",
    "#export OPERATION_HASH=$(grep \"New contract\" contract_deploy_output.txt | cut -d\" \" -f7)"
   ]
  },
  {
   "cell_type": "code",
   "execution_count": 16,
   "metadata": {},
   "outputs": [
    {
     "name": "stdout",
     "output_type": "stream",
     "text": [
      "Compiling Calculator contract to michelson\n",
      "Main contract Calculator\n",
      "Storage initializer generated in \"./calculator.liq.initializer.tz\"\n",
      "File \"./calculator.liq.tz\" generated\n",
      "If tezos is compiled, you may want to typecheck with:\n",
      "  tezos-client typecheck script ./calculator.liq.tz\n",
      "----\n",
      "Compiling Calculator initial storage\n",
      "Main contract Calculator\n",
      "Evaluated initial storage: 0\n",
      "Constant initial storage generated in \"calculator.liq.init.tz\"\n",
      "------\n",
      "Resulting michelson code:\n",
      "parameter (or :_entries (int %_Liq_entry_add) (int %_Liq_entry_subtract));\n",
      "storage int;\n",
      "code { DUP ;\n",
      "       DIP { CDR @storage_slash_1 } ;\n",
      "       CAR @parameter_slash_2 ;\n",
      "       DUP @parameter ;\n",
      "       IF_LEFT\n",
      "         { RENAME @parameter_slash_3 ; DUUUP ; ADD ; NIL operation ; PAIR }\n",
      "         { RENAME @parameter_slash_5 ; DUUUP ; SUB ; NIL operation ; PAIR } ;\n",
      "       DIP { DROP ; DROP } };\n",
      "------\n",
      "Resulting storage:\n",
      "0"
     ]
    }
   ],
   "source": [
    "echo \"Compiling Calculator contract to michelson\"\n",
    "liquidity --tezos-node $TEZOS_NODE_URL \\\n",
    " Calculator.liq \n",
    "echo ----\n",
    "echo \"Compiling Calculator initial storage\"\n",
    "liquidity --tezos-node $TEZOS_NODE_URL \\\n",
    " Calculator.liq \\\n",
    " --init-storage 0\n",
    " \n",
    "echo ------\n",
    "echo Resulting michelson code:\n",
    "cat Calculator.liq.tz\n",
    "\n",
    "echo ------\n",
    "echo Resulting storage:\n",
    "cat Calculator.liq.init.tz"
   ]
  },
  {
   "cell_type": "code",
   "execution_count": null,
   "metadata": {},
   "outputs": [],
   "source": []
  },
  {
   "cell_type": "markdown",
   "metadata": {},
   "source": [
    "## Development of Smart Contracts\n",
    "At this point we have all prerequisites for preparing contract. \n",
    "\n",
    "Smart contracts for Tezos are implemented and using Michelson language. It's low-level stack-based language. We will refer to Michelson in other sections of this guide. We will implement sample contract using high level language Liquidity. Liquidity is provided with command line utility, that can be used to compile, deploy and manage the contracts developed using Liquidity language. Liquidity compiles into Michelson. All features, that are available in Michelson are possible in Liquidity as well.\n",
    "\n",
    "Liquidity is a language heavily inspired by the OCaml language. Before starting working with Liquidity we advise \n",
    "to check some OCaml, F# or ReasonML tutorials to familiarize with language syntax (eg. https://try.ocamlpro.com).\n",
    "\n",
    "To learn more about Liquidity, refer to [Liquidity website](http://www.liquidity-lang.org).\n",
    "\n",
    "### Sample Calculator Contract\n",
    "For beginning we will implement sample contract, that will be managing state and will enable add and subtract operations. Default operation will be add.\n",
    "\n",
    "Smart contracts are software programs that binds the parties involved in a transaction to an agreement with out any third party being involved. The smart contract on the blockchain guarantees that nothing can be changed about the agreement without the consent of all the parties.\n",
    "\n",
    "When you deploy smart contract into the blockchain it cannot be changed. It prescribes how it's internal storage should be ammended. When smart contract is called, all resulting storage changes are verified agains the smart contract code.\n",
    "\n",
    "Each smart contract in liquidity consists of four parts\n",
    "- version declaration (of liquidity)\n",
    "- storage definition\n",
    "- storage initialisation\n",
    "- entry functions (at least method main is required. This method is called when contract is executed)\n",
    "\n",
    "Following code shows structure of our initial version of contract.\n",
    "\n",
    "```ocaml\n",
    "[%%version 0.4]\n",
    "(* We will store current state of calculator *) \n",
    "type storage = int\n",
    "\n",
    "(* This function will initialise storage when originating contract *)\n",
    "let%init storage (init_storage : int) =\n",
    "  init_storage\n",
    "\n",
    "let%entry add (parameter : int) storage =\n",
    "  ( ([] : operation list), storage + parameter )\n",
    "  \n",
    "let%entry subtract (parameter : int) storage =\n",
    "  ( ([] : operation list), storage - parameter )\n",
    "```\n",
    "\n",
    "Storage block is defining data structure, that will be representing internal state of the contract. For our sample we will use simple structure of type ```int```.\n",
    "\n",
    "Function marked with `let%init` represents initialisation function for the storage. The function should return storage data structure (in this case int). Returned value would be used as a initial storage value.\n",
    "\n",
    "Function main is default entry point for contract. Entry points are taking parameters, storage and returning tuple with list of operations, that should be applied after the contract is executed and storage value after execution of the contract. In our case we are not returning any operations, just incrementing value of internal storage.\n",
    "\n"
   ]
  },
  {
   "cell_type": "markdown",
   "metadata": {},
   "source": [
    "#### Liquidity Development Tooling\n",
    "Currently there are not many tools, that support development of liquidity contracts. As the language is very similar to OCaml, we suggest to use editors with OCaml syntax highlighting.\n",
    "\n",
    "Other option is to use web [editor provided on liquidity website](http://www.liquidity-lang.org/edit/). This editor provides more advanced features like code formatting, code completion and comes also with lot of samples how to use liquidity."
   ]
  },
  {
   "cell_type": "markdown",
   "metadata": {},
   "source": [
    "### Contract Simulation and Deployment\n",
    "#### Running Simulation of Contract using Liquidity\n",
    "Tezos node can execute the script in Michelson and return result even without storage to blockchain. This can be used to simulate contract call during testing and development.\n",
    "\n",
    "Liquidity can handle transpilation to Michelson and correct call of the script on our behalf. \n",
    "\n",
    "During the simulation, it's required to prepare storage structure before calling the contract entry point.\n",
    "This can be achieved using following command."
   ]
  },
  {
   "cell_type": "code",
   "execution_count": null,
   "metadata": {},
   "outputs": [],
   "source": [
    "liquidity --tezos-node $TEZOS_NODE_URL \\\n",
    " Calculator.liq \\\n",
    " --init-storage '1'"
   ]
  },
  {
   "cell_type": "markdown",
   "metadata": {},
   "source": [
    "This command will call storage function (function where declaration starts with `let%init`) and pass arguments after `--init-storage` parameter. Result of the call is evaluated storage as it will be stored to blockchain, but still in Liquidity. Resulting storage in Michelson format will be stored in *.init.tz file.\n",
    "\n",
    "Liquidity storage:\n",
    "\n",
    "    Evaluated initial storage: *1*\n",
    "\n",
    "Michelson storage:"
   ]
  },
  {
   "cell_type": "code",
   "execution_count": null,
   "metadata": {},
   "outputs": [],
   "source": [
    "cat calculator.liq.init.tz"
   ]
  },
  {
   "cell_type": "markdown",
   "metadata": {},
   "source": [
    "Now we have all required to run contract simulation using liquidity. For continuing it's important to understand tezos node functionality. Tezos node is important for managing of the blockchain, but it also acts as an interpreter for the Michelson contracts. Execution of the contract, can be tested even without storing results into blockchain.\n",
    "\n",
    "Following command will execute liquidity script using tezos node."
   ]
  },
  {
   "cell_type": "code",
   "execution_count": null,
   "metadata": {},
   "outputs": [],
   "source": [
    "#in --run add 1 1 first parameter is name of entry point, \n",
    "# second represents input to the entry point, \n",
    "# third parameter represents storage\n",
    "liquidity --tezos-node $TEZOS_NODE_URL \\\n",
    " Calculator.liq \\\n",
    " --run add 1 1\n",
    " \n",
    "echo ------\n",
    "\n",
    "# call substract parameter:3 storage:10\n",
    "liquidity --tezos-node $TEZOS_NODE_URL \\\n",
    " Calculator.liq \\\n",
    " --run subtract 3 10"
   ]
  },
  {
   "cell_type": "markdown",
   "metadata": {},
   "source": [
    "\n",
    "#### Direct Liquidity Deployment\n",
    "***As of now both liquidity and [tezos-client deployment](#Running-of-Contract-Using-Tezos-Client) are working. Consider these two as alternatives. Tezos-client is following changes is in sync with tezos sources, so it is guaranteed to work.***\n",
    "\n",
    "To deploy the contract to tezos, we will use following command. As parameters we are passing source account and it's private key. In attribute deploy we will pass parameters required for storage initialisation."
   ]
  },
  {
   "cell_type": "markdown",
   "metadata": {},
   "source": [
    "Before continuing we need to bake the block with operation."
   ]
  },
  {
   "cell_type": "code",
   "execution_count": null,
   "metadata": {},
   "outputs": [],
   "source": [
    "tezos-client bake for bootstrap1 2>/dev/null"
   ]
  },
  {
   "cell_type": "markdown",
   "metadata": {},
   "source": [
    "To review storage of the contract we can use liquidity program with command --get-storage. As a parameter we are passing hash of the function."
   ]
  },
  {
   "cell_type": "code",
   "execution_count": null,
   "metadata": {},
   "outputs": [],
   "source": [
    "liquidity \\\n",
    " --tezos-node $TEZOS_NODE_URL \\\n",
    " Calculator.liq \\\n",
    " --get-storage $CONTRACT_HASH"
   ]
  },
  {
   "cell_type": "markdown",
   "metadata": {},
   "source": [
    "Now we can start working with the contract."
   ]
  },
  {
   "cell_type": "code",
   "execution_count": null,
   "metadata": {},
   "outputs": [],
   "source": [
    "liquidity \\\n",
    " --tezos-node $TEZOS_NODE_URL \\\n",
    " --private-key $TZ_SECRET \\\n",
    " Calculator.liq \\\n",
    " --call $CONTRACT_HASH add '10'"
   ]
  },
  {
   "cell_type": "markdown",
   "metadata": {},
   "source": [
    "After executing the command we still don't see results of our operation in storage. To see changes, we need to bake the block first. This is specific of sandbox environment. In Alphanet, baking will be handled by dedicated bakers."
   ]
  },
  {
   "cell_type": "code",
   "execution_count": null,
   "metadata": {},
   "outputs": [],
   "source": [
    "echo \"Storage before bake\"\n",
    "liquidity \\\n",
    " --tezos-node $TEZOS_NODE_URL \\\n",
    " Calculator.liq \\\n",
    " --get-storage $CONTRACT_HASH\n",
    " \n",
    "tezos-client bake for bootstrap1 2>/dev/null\n",
    "\n",
    "echo \"Storage after the block is baked\"\n",
    "liquidity \\\n",
    " --tezos-node localhost:18731 \\\n",
    " Calculator.liq \\\n",
    " --get-storage $CONTRACT_HASH"
   ]
  },
  {
   "cell_type": "markdown",
   "metadata": {},
   "source": [
    "### Running of Contract Using Tezos Client\n",
    "For this section we will use `liquidity` as a compiler only. When calling the command with the liquidity program, it will compile the code into the Michelson program. \n"
   ]
  },
  {
   "cell_type": "markdown",
   "metadata": {},
   "source": [
    "#### Compilation of Contract to Michelson\n",
    "Liquidity is hiding lot of complexity, however in some scenarios it is required to use Michelson. Following sample is showing how to use liquidity in order to create michelson script.\n",
    "\n",
    "When liquidity script is compiled, storage initialization and contract entry points are provided separately. "
   ]
  },
  {
   "cell_type": "markdown",
   "metadata": {},
   "source": [
    "Liquidity is providing compilation also for method invocations. This way it simplifies creation of required michelson statements."
   ]
  },
  {
   "cell_type": "code",
   "execution_count": null,
   "metadata": {},
   "outputs": [],
   "source": [
    "# Evaluation of the storage structure - calling of storage function and resulting storage structure is outputed\n",
    "liquidity --tezos-node $TEZOS_NODE_URL \\\n",
    " Calculator.liq \\\n",
    " --init-storage '1'\n",
    "\n",
    "echo ------\n",
    "echo add 1\n",
    "# Compilation of function call - calling of add entry point with argument \"1\"\n",
    "liquidity --tezos-node $TEZOS_NODE_URL \\\n",
    " Calculator.liq \\\n",
    " --data add '1'\n",
    " \n",
    "echo ------\n",
    "echo subtract 4\n",
    "# Compilation of function call - calling of subtract entry point with argument \"4\"\n",
    "liquidity --tezos-node $TEZOS_NODE_URL \\\n",
    " Calculator.liq \\\n",
    " --data subtract '4'"
   ]
  },
  {
   "cell_type": "markdown",
   "metadata": {},
   "source": [
    "Now it's possible to simulate the contract directly in Michelson."
   ]
  },
  {
   "cell_type": "code",
   "execution_count": null,
   "metadata": {},
   "outputs": [],
   "source": [
    "echo \"Calling add 10, initial storage 0 (calculator.liq.init.tz)\"\n",
    "tezos-client run script calculator.liq.tz on storage $(<calculator.liq.init.tz) and input '(Left 10)'\n",
    "\n",
    "echo \"Calling subtract 5, initial storage 3\"\n",
    "tezos-client run script calculator.liq.tz on storage 3 and input '(Right 5)'"
   ]
  },
  {
   "cell_type": "markdown",
   "metadata": {},
   "source": [
    "#### Deployment of Contract using Tezos Client\n",
    "For deployment we need to create originated account. This can be achieved using `tezos-client originate contract...` call. During the origination it's required to provide our private/secret key ([command to retrieve](#Testing-account-creation))."
   ]
  },
  {
   "cell_type": "code",
   "execution_count": null,
   "metadata": {},
   "outputs": [],
   "source": [
    "# We are creating new originated contract and registring it's alias Calculator with our tezos-client.\n",
    "tezos-client originate contract Calculator \\\n",
    " for test_account \\\n",
    " transferring 1 from test_account \\\n",
    " running calculator.liq.tz \\\n",
    " --init $(<calculator.liq.init.tz) \\\n",
    " --burn-cap 1 > contract_output.txt &\n",
    "\n",
    "PROCESS_PID=$!"
   ]
  },
  {
   "cell_type": "markdown",
   "metadata": {},
   "source": [
    "Operation is not reflected in tezos blockchain until new block is baked. "
   ]
  },
  {
   "cell_type": "code",
   "execution_count": null,
   "metadata": {},
   "outputs": [],
   "source": [
    "tezos-client bake for bootstrap1\n",
    "\n",
    "wait $PROCESS_PID\n",
    "cat contract_output.txt"
   ]
  },
  {
   "cell_type": "markdown",
   "metadata": {},
   "source": [
    "`tezos-client` registers alias for newly created contract. The alias is matching hash outputed in the originate call above.\n"
   ]
  },
  {
   "cell_type": "code",
   "execution_count": null,
   "metadata": {},
   "outputs": [],
   "source": [
    "CONTRACT_HASH=$(grep \"New contract KT\" contract_output.txt | cut -d\" \" -f3)\n",
    "echo \"Contract Hash $CONTRACT_HASH\"\n",
    "echo ------\n",
    "echo \"Calculator listed among aliases\"\n",
    "tezos-client list known contracts"
   ]
  },
  {
   "cell_type": "markdown",
   "metadata": {},
   "source": [
    "### Call of contract using tezos-client\n",
    "Calling of smart contract is the same as transfering balance. When calling smart contract we are providing additional arguments, that should be in Michelson - refer to [Michelson compilation](#Compilation-of-Contract-to-Michelson) for sample how to get to Michelson function call for liquidity function."
   ]
  },
  {
   "cell_type": "code",
   "execution_count": null,
   "metadata": {},
   "outputs": [],
   "source": [
    "#Calling our contract, entry point add (using parameter generated by liquidity compiled function call)\n",
    "tezos-client \\\n",
    " transfer 0 from test_account to $CONTRACT_HASH --arg \"(Left 10)\" > output.txt &\n",
    "PROCESS_PID=$!\n",
    "\n",
    "#Baking manually\n",
    "tezos-client bake for bootstrap1  #baking the block\n",
    "wait $PROCESS_PID\n",
    "cat output.txt"
   ]
  },
  {
   "cell_type": "markdown",
   "metadata": {},
   "source": [
    "We can verify contract call by querying storage in blockchain directly."
   ]
  },
  {
   "cell_type": "code",
   "execution_count": null,
   "metadata": {},
   "outputs": [],
   "source": [
    "tezos-client get script storage for Calculator\n",
    "# curl -s http://$TEZOS_NODE_URL/chains/main/blocks/head/context/contracts/$CONTRACT_HASH/storage | jq"
   ]
  },
  {
   "cell_type": "markdown",
   "metadata": {},
   "source": [
    "Alternatively we can check the block in which the operation was included."
   ]
  },
  {
   "cell_type": "code",
   "execution_count": null,
   "metadata": {},
   "outputs": [],
   "source": [
    "curl -s http://$TEZOS_NODE_URL/chains/main/blocks/head | jq"
   ]
  },
  {
   "cell_type": "markdown",
   "metadata": {},
   "source": [
    "## Implementation of application front-end\n",
    "For the implementation of front-end we will use Eztz library (https://github.com/TezTech/eztz). This library is implementing RPC communication with Tezos and also provides functionality for key generation, signing, verification, and contract interaction.\n",
    "\n",
    "For the sample we will fetch library from github (At the time of writing Eztz does not provide NPM package).\n",
    "\n"
   ]
  },
  {
   "cell_type": "code",
   "execution_count": null,
   "metadata": {},
   "outputs": [],
   "source": [
    "cd ~/tezos-dev/calculator-dapp\n",
    "\n",
    "#this will create default npm module\n",
    "npm init -y\n",
    "\n",
    "#this will download eztz library for CLI\n",
    "wget https://github.com/TezTech/eztz/raw/master/dist/eztz.cli.js\n",
    "\n",
    "#this will download eztz dependencies required for CLI\n",
    "npm install --save xmlhttprequest\n",
    "npm install --save bs58check\n",
    "npm install --save libsodium-wrappers\n",
    "npm install --save bip39"
   ]
  },
  {
   "cell_type": "markdown",
   "metadata": {},
   "source": [
    "To be able to interact with our smart contract, we need to have account - this is represented by private/public key pair. For the demo we will create account in JS application - this is the activity we did earlier as [Testing Account Creation](#Testing-account-creation)."
   ]
  },
  {
   "cell_type": "markdown",
   "metadata": {},
   "source": [
    "    TBD - continue with content"
   ]
  },
  {
   "cell_type": "markdown",
   "metadata": {},
   "source": [
    "## Sandbox Clean-up"
   ]
  },
  {
   "cell_type": "markdown",
   "metadata": {},
   "source": [
    "Command to terminate sandbox blockchain running in the background"
   ]
  },
  {
   "cell_type": "code",
   "execution_count": null,
   "metadata": {},
   "outputs": [],
   "source": [
    "kill $(<$TEZOS_HOME/tezos_sandbox_pid.txt)"
   ]
  },
  {
   "cell_type": "code",
   "execution_count": null,
   "metadata": {},
   "outputs": [],
   "source": []
  }
 ],
 "metadata": {
  "kernelspec": {
   "display_name": "Bash",
   "language": "bash",
   "name": "bash"
  },
  "language_info": {
   "codemirror_mode": "shell",
   "file_extension": ".sh",
   "mimetype": "text/x-sh",
   "name": "bash"
  }
 },
 "nbformat": 4,
 "nbformat_minor": 2
}
