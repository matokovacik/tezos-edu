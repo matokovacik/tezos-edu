{
 "cells": [
  {
   "cell_type": "markdown",
   "metadata": {},
   "source": [
    "# Working with Tezos Sandbox\n",
    "Please complete [Installation of tezos from sources](macos-tezos.ipynb) before.\n",
    "\n",
    "Tezos in sandbox is temporary. After terminating the node all data will be erased. This is usable for quick development and testing. During use, make sure you are saving your work as it might be erased afterwards.\n",
    "\n",
    "\n",
    "Execute tezos server in separate console (Jupyter don't support running multiple kernels in parallel natively)."
   ]
  },
  {
   "cell_type": "code",
   "execution_count": 3,
   "metadata": {},
   "outputs": [
    {
     "name": "stdout",
     "output_type": "stream",
     "text": [
      "[1] 9493\n"
     ]
    }
   ],
   "source": [
    "#cd ~/tezos-dev/tezos\n",
    "#./src/bin_node/tezos-sandboxed-node.sh 1 --connections 1 &"
   ]
  },
  {
   "cell_type": "markdown",
   "metadata": {},
   "source": [
    "## 1. Initialization of the tezos client\n",
    "Script will initialize variables. **The variables are present only in current shell. When opening other shell it's required to rerun the command.**"
   ]
  },
  {
   "cell_type": "code",
   "execution_count": 6,
   "metadata": {},
   "outputs": [
    {
     "name": "stdout",
     "output_type": "stream",
     "text": [
      "\u001b[0m\u001b[33;1;4m\u001b[0m\u001b[33;1;4mWarning:\u001b[0m\u001b[0m\u001b[33;1;4m\u001b[0m\u001b[0m\n",
      "  \n",
      "   The node you are connecting to claims to be running in a\n",
      "                    \u001b[0m\u001b[33;1;4mTezos TEST SANDBOX\u001b[0m\u001b[0m.\n",
      "      Do \u001b[0m\u001b[33;1;4mNOT\u001b[0m\u001b[0m use your fundraiser keys on this network.\n",
      "  You should not see this message if you are not a developer.\n",
      "\n",
      "## Tezos address added: tz1KqTpEZ7Yob7QbPE4Hy4Wo8fHG8LhKxZSx\n",
      "\u001b[0m\u001b[33;1;4m\u001b[0m\u001b[33;1;4mWarning:\u001b[0m\u001b[0m\u001b[33;1;4m\u001b[0m\u001b[0m\n",
      "  \n",
      "   The node you are connecting to claims to be running in a\n",
      "                    \u001b[0m\u001b[33;1;4mTezos TEST SANDBOX\u001b[0m\u001b[0m.\n",
      "      Do \u001b[0m\u001b[33;1;4mNOT\u001b[0m\u001b[0m use your fundraiser keys on this network.\n",
      "  You should not see this message if you are not a developer.\n",
      "\n",
      "## Tezos address added: tz1gjaF81ZRRvdzjobyfVNsAeSC6PScjfQwN\n",
      "\u001b[0m\u001b[33;1;4m\u001b[0m\u001b[33;1;4mWarning:\u001b[0m\u001b[0m\u001b[33;1;4m\u001b[0m\u001b[0m\n",
      "  \n",
      "   The node you are connecting to claims to be running in a\n",
      "                    \u001b[0m\u001b[33;1;4mTezos TEST SANDBOX\u001b[0m\u001b[0m.\n",
      "      Do \u001b[0m\u001b[33;1;4mNOT\u001b[0m\u001b[0m use your fundraiser keys on this network.\n",
      "  You should not see this message if you are not a developer.\n",
      "\n",
      "## Tezos address added: tz1faswCTDciRzE4oJ9jn2Vm2dvjeyA9fUzU\n",
      "\u001b[0m\u001b[33;1;4m\u001b[0m\u001b[33;1;4mWarning:\u001b[0m\u001b[0m\u001b[33;1;4m\u001b[0m\u001b[0m\n",
      "  \n",
      "   The node you are connecting to claims to be running in a\n",
      "                    \u001b[0m\u001b[33;1;4mTezos TEST SANDBOX\u001b[0m\u001b[0m.\n",
      "      Do \u001b[0m\u001b[33;1;4mNOT\u001b[0m\u001b[0m use your fundraiser keys on this network.\n",
      "  You should not see this message if you are not a developer.\n",
      "\n",
      "## Tezos address added: tz1b7tUupMgCNw2cCLpKTkSD1NZzB5TkP2sv\n",
      "\u001b[0m\u001b[33;1;4m\u001b[0m\u001b[33;1;4mWarning:\u001b[0m\u001b[0m\u001b[33;1;4m\u001b[0m\u001b[0m\n",
      "  \n",
      "   The node you are connecting to claims to be running in a\n",
      "                    \u001b[0m\u001b[33;1;4mTezos TEST SANDBOX\u001b[0m\u001b[0m.\n",
      "      Do \u001b[0m\u001b[33;1;4mNOT\u001b[0m\u001b[0m use your fundraiser keys on this network.\n",
      "  You should not see this message if you are not a developer.\n",
      "\n",
      "## Tezos address added: tz1ddb9NMYHZi5UzPdzTZMYQQZoMub195zgv\n",
      "\u001b[0m\u001b[33;1;4m\u001b[0m\u001b[33;1;4mWarning:\u001b[0m\u001b[0m\u001b[33;1;4m\u001b[0m\u001b[0m\n",
      "  \n",
      "   The node you are connecting to claims to be running in a\n",
      "                    \u001b[0m\u001b[33;1;4mTezos TEST SANDBOX\u001b[0m\u001b[0m.\n",
      "      Do \u001b[0m\u001b[33;1;4mNOT\u001b[0m\u001b[0m use your fundraiser keys on this network.\n",
      "  You should not see this message if you are not a developer.\n",
      "\n",
      "## Tezos address added: tz1TGu6TN5GSez2ndXXeDX6LgUDvLzPLqgYV\n",
      "## \n",
      "## The client is now properly initialized. In the rest of this shell\n",
      "## session, you might now run `tezos-client` to communicate with a\n",
      "## tezos node launched with `launch-sandboxed-node 1`. For instance:\n",
      "## \n",
      "##   tezos-client rpc get /chains/main/blocks/head/metadata\n",
      "## \n",
      "## Note: if the current protocol version, as reported by the previous\n",
      "## command, is \"Ps6mwMrF2ER2s51cp9yYpjDcuzQjsc2yAz8bQsRgdaRxw4Fk95H\", you\n",
      "## may have to activate in your \"sandboxed network\" the same economic\n",
      "## protocol than used by the alphanet by running:\n",
      "## \n",
      "##   tezos-activate-alpha\n",
      "## \n",
      "## Warning: all the client data will be removed when you close this shell\n",
      "## or if you run this command a second time.\n",
      "## \n",
      "## Activate tab completion by running:\n",
      "## \n",
      "##   tezos-autocomplete\n",
      "## \n"
     ]
    }
   ],
   "source": [
    "cd ~/tezos-dev/tezos\n",
    "eval `./src/bin_client/tezos-init-sandboxed-client.sh 1`"
   ]
  },
  {
   "cell_type": "markdown",
   "metadata": {},
   "source": [
    "## 2. Initiate blockchain - creation of genesis block"
   ]
  },
  {
   "cell_type": "code",
   "execution_count": 7,
   "metadata": {},
   "outputs": [
    {
     "name": "stdout",
     "output_type": "stream",
     "text": [
      "Injected BMDLXJtBAYco\n",
      "\u001b[0m\u001b[33;1;4m\u001b[0m\u001b[33;1;4mWarning:\u001b[0m\u001b[0m\u001b[33;1;4m\u001b[0m\u001b[0m\n",
      "  \n",
      "   The node you are connecting to claims to be running in a\n",
      "                    \u001b[0m\u001b[33;1;4mTezos TEST SANDBOX\u001b[0m\u001b[0m.\n",
      "      Do \u001b[0m\u001b[33;1;4mNOT\u001b[0m\u001b[0m use your fundraiser keys on this network.\n",
      "  You should not see this message if you are not a developer.\n",
      "\n",
      "Injected block BKombhrWwLUb\n"
     ]
    }
   ],
   "source": [
    "tezos-activate-alpha 2>/dev/null\n",
    "tezos-client bake for bootstrap1"
   ]
  },
  {
   "cell_type": "markdown",
   "metadata": {},
   "source": [
    "## 3. List available accounts"
   ]
  },
  {
   "cell_type": "markdown",
   "metadata": {},
   "source": [
    "By running this command, client will show you list of aliases for registered accounts with sandbox tezos."
   ]
  },
  {
   "cell_type": "code",
   "execution_count": 8,
   "metadata": {},
   "outputs": [
    {
     "name": "stdout",
     "output_type": "stream",
     "text": [
      "activator: tz1TGu6TN5GSez2ndXXeDX6LgUDvLzPLqgYV (unencrypted sk known)\n",
      "bootstrap5: tz1ddb9NMYHZi5UzPdzTZMYQQZoMub195zgv (unencrypted sk known)\n",
      "bootstrap4: tz1b7tUupMgCNw2cCLpKTkSD1NZzB5TkP2sv (unencrypted sk known)\n",
      "bootstrap3: tz1faswCTDciRzE4oJ9jn2Vm2dvjeyA9fUzU (unencrypted sk known)\n",
      "bootstrap2: tz1gjaF81ZRRvdzjobyfVNsAeSC6PScjfQwN (unencrypted sk known)\n",
      "bootstrap1: tz1KqTpEZ7Yob7QbPE4Hy4Wo8fHG8LhKxZSx (unencrypted sk known)\n"
     ]
    }
   ],
   "source": [
    "tezos-client list known addresses 2>/dev/null"
   ]
  },
  {
   "cell_type": "markdown",
   "metadata": {},
   "source": [
    "Referencing alias or has is equivalent when using tezos-client. Following commands can be used to retrieve balance on accounts."
   ]
  },
  {
   "cell_type": "code",
   "execution_count": 9,
   "metadata": {},
   "outputs": [
    {
     "name": "stdout",
     "output_type": "stream",
     "text": [
      "4000000 ꜩ\n"
     ]
    }
   ],
   "source": [
    "tezos-client get balance for tz1ddb9NMYHZi5UzPdzTZMYQQZoMub195zgv 2>/dev/null #bootstrap1"
   ]
  },
  {
   "cell_type": "code",
   "execution_count": 10,
   "metadata": {},
   "outputs": [
    {
     "name": "stdout",
     "output_type": "stream",
     "text": [
      "3999488 ꜩ\n"
     ]
    }
   ],
   "source": [
    "tezos-client get balance for bootstrap1 2>/dev/null"
   ]
  },
  {
   "cell_type": "markdown",
   "metadata": {},
   "source": [
    "## 4. Get account keys\n",
    "Following command will get account keys. This keys are later referenced when deploying contracts."
   ]
  },
  {
   "cell_type": "code",
   "execution_count": 11,
   "metadata": {
    "scrolled": true
   },
   "outputs": [
    {
     "name": "stdout",
     "output_type": "stream",
     "text": [
      "Hash: tz1KqTpEZ7Yob7QbPE4Hy4Wo8fHG8LhKxZSx\n",
      "Public Key: edpkuBknW28nW72KG6RoHtYW7p12T6GKc7nAbwYX5m8Wd9sDVC9yav\n",
      "Secret Key: unencrypted:edsk3gUfUPyBSfrS9CCgmCiQsTCHGkviBDusMxDJstFtojtc1zcpsh\n"
     ]
    }
   ],
   "source": [
    "tezos-client show address bootstrap1 --show-secret 2>/dev/null\n"
   ]
  },
  {
   "cell_type": "markdown",
   "metadata": {},
   "source": [
    "## 5. Deployment of testing liquidity contract\n"
   ]
  },
  {
   "cell_type": "markdown",
   "metadata": {},
   "source": [
    "Liquidity is a language heavily inspired by the OCaml language. Before starting working with Liquidity it is advised \n",
    "to check OCaml tutorial.\n",
    "\n",
    "Each liquidity file consist of three parts\n",
    "- version declaration\n",
    "- storage definition\n",
    "- entry functions \n",
    "  - at least method main is required. This method is called when contract is executed."
   ]
  },
  {
   "cell_type": "markdown",
   "metadata": {},
   "source": [
    "**add_contract.liq**\n",
    "```ocaml\n",
    "[%%version 0.4]\n",
    "  \n",
    "type storage = int\n",
    "\n",
    "let%init storage (init_storage : int) =\n",
    "  init_storage\n",
    "\n",
    "let%entry main (parameter : int) storage =\n",
    "  ( ([] : operation list), storage + parameter )\n",
    "```"
   ]
  },
  {
   "cell_type": "code",
   "execution_count": 12,
   "metadata": {},
   "outputs": [],
   "source": [
    "mkdir -p ~/tezos-dev/adding-dapp\n",
    "cd ~/tezos-dev/adding-dapp\n",
    "\n",
    "/bin/cat <<EOM >add.liq\n",
    "[%%version 0.4]\n",
    "  \n",
    "type storage = int\n",
    "\n",
    "let%init storage (init_storage : int) =\n",
    "  init_storage\n",
    "\n",
    "let%entry main (parameter : int) storage =\n",
    "  ( ([] : operation list), storage + parameter )\n",
    "  \n",
    "let%entry subtract (parameter : int) storage =\n",
    "  ( ([] : operation list), storage - parameter )\n",
    "EOM\n",
    "\n"
   ]
  },
  {
   "cell_type": "markdown",
   "metadata": {},
   "source": [
    "It's required to execute baking operation few times."
   ]
  },
  {
   "cell_type": "code",
   "execution_count": 13,
   "metadata": {},
   "outputs": [
    {
     "name": "stdout",
     "output_type": "stream",
     "text": [
      "Main contract Add\n",
      "Main contract Add\n",
      "Evaluated initial storage: 0\n",
      "New contract KT1T1bGD7JqsUsx2AsBJZydtSt22kbN1wW2i deployed in operation opAzeZ6dsSC5JQ6h47bjtjyxYimbEy7kLUbmgaVjTjrgGFKMj3Y\n"
     ]
    }
   ],
   "source": [
    "TZ_HASH=$(tezos-client show address bootstrap1 --show-secret 2>/dev/null | grep Hash | cut -d\" \" -f2)\n",
    "TZ_SECRET=$(tezos-client show address bootstrap1 --show-secret 2>/dev/null | grep Secret | cut -d\":\" -f3)\n",
    "\n",
    "liquidity \\\n",
    "  --tezos-node 127.0.0.1:18731 \\\n",
    "  --amount 2tz \\\n",
    "  --fee 0tz \\\n",
    "  --source $TZ_HASH \\\n",
    "  --private-key $TZ_SECRET \\\n",
    "  add.liq \\\n",
    "  --deploy '0' | tee contract_deploy_output.txt\n",
    "  \n",
    "export CONTRACT_HASH=$(grep \"New contract\" contract_deploy_output.txt | cut -d\" \" -f3)\n",
    "export OPERATION_HASH=$(grep \"New contract\" contract_deploy_output.txt | cut -d\" \" -f7)"
   ]
  },
  {
   "cell_type": "markdown",
   "metadata": {},
   "source": [
    "Bake needs to be called so the contract is included into the blockchain."
   ]
  },
  {
   "cell_type": "code",
   "execution_count": 16,
   "metadata": {},
   "outputs": [
    {
     "name": "stdout",
     "output_type": "stream",
     "text": [
      "Injected block BLcR9ipMqZaB\n"
     ]
    }
   ],
   "source": [
    "tezos-client bake for bootstrap1 2>/dev/null"
   ]
  },
  {
   "cell_type": "code",
   "execution_count": 14,
   "metadata": {},
   "outputs": [
    {
     "name": "stdout",
     "output_type": "stream",
     "text": [
      "\u001b[1;39m{\n",
      "  \u001b[0m\u001b[34;1m\"protocol\"\u001b[0m\u001b[1;39m: \u001b[0m\u001b[0;32m\"PsYLVpVvgbLhAhoqAkMFUo6gudkJ9weNXhUYCiLDzcUpFpkk8Wt\"\u001b[0m\u001b[1;39m,\n",
      "  \u001b[0m\u001b[34;1m\"chain_id\"\u001b[0m\u001b[1;39m: \u001b[0m\u001b[0;32m\"NetXZUqeBjDnWde\"\u001b[0m\u001b[1;39m,\n",
      "  \u001b[0m\u001b[34;1m\"hash\"\u001b[0m\u001b[1;39m: \u001b[0m\u001b[0;32m\"BLMbKrgTZyLopkCnVg354JuSK6usZrS7xhAHov7HFQBTA2ZPK71\"\u001b[0m\u001b[1;39m,\n",
      "  \u001b[0m\u001b[34;1m\"header\"\u001b[0m\u001b[1;39m: \u001b[0m\u001b[1;39m{\n",
      "    \u001b[0m\u001b[34;1m\"level\"\u001b[0m\u001b[1;39m: \u001b[0m\u001b[0;39m3\u001b[0m\u001b[1;39m,\n",
      "    \u001b[0m\u001b[34;1m\"proto\"\u001b[0m\u001b[1;39m: \u001b[0m\u001b[0;39m1\u001b[0m\u001b[1;39m,\n",
      "    \u001b[0m\u001b[34;1m\"predecessor\"\u001b[0m\u001b[1;39m: \u001b[0m\u001b[0;32m\"BMPKQtBvBriZwRDVRNa9ELWeGUWunM3pQ6fnzyLq5eaxFnDFbJJ\"\u001b[0m\u001b[1;39m,\n",
      "    \u001b[0m\u001b[34;1m\"timestamp\"\u001b[0m\u001b[1;39m: \u001b[0m\u001b[0;32m\"2018-12-04T17:58:08Z\"\u001b[0m\u001b[1;39m,\n",
      "    \u001b[0m\u001b[34;1m\"validation_pass\"\u001b[0m\u001b[1;39m: \u001b[0m\u001b[0;39m4\u001b[0m\u001b[1;39m,\n",
      "    \u001b[0m\u001b[34;1m\"operations_hash\"\u001b[0m\u001b[1;39m: \u001b[0m\u001b[0;32m\"LLoa3iypvUTAxsmLQpLFCMMe7s9jxrn217dTmepHaU7BZzpcVLLf7\"\u001b[0m\u001b[1;39m,\n",
      "    \u001b[0m\u001b[34;1m\"fitness\"\u001b[0m\u001b[1;39m: \u001b[0m\u001b[1;39m[\n",
      "      \u001b[0;32m\"00\"\u001b[0m\u001b[1;39m,\n",
      "      \u001b[0;32m\"0000000000000003\"\u001b[0m\u001b[1;39m\n",
      "    \u001b[1;39m]\u001b[0m\u001b[1;39m,\n",
      "    \u001b[0m\u001b[34;1m\"context\"\u001b[0m\u001b[1;39m: \u001b[0m\u001b[0;32m\"CoVyYxxzeHo8caHUHLAkYGzVk3mcaJnsJvx6kGyyHnkJei7WMEyJ\"\u001b[0m\u001b[1;39m,\n",
      "    \u001b[0m\u001b[34;1m\"priority\"\u001b[0m\u001b[1;39m: \u001b[0m\u001b[0;39m1\u001b[0m\u001b[1;39m,\n",
      "    \u001b[0m\u001b[34;1m\"proof_of_work_nonce\"\u001b[0m\u001b[1;39m: \u001b[0m\u001b[0;32m\"3733b5c5476e3b6a\"\u001b[0m\u001b[1;39m,\n",
      "    \u001b[0m\u001b[34;1m\"signature\"\u001b[0m\u001b[1;39m: \u001b[0m\u001b[0;32m\"sigrSfQqBa1F8dfWPV833E733x55SgcUHKvkqMWnb21Mmm95YgSxvKBceugkDvjzemWRP5Rej67Ax4Gho5JLo98C5WQ8xc2Y\"\u001b[0m\u001b[1;39m\n",
      "  \u001b[1;39m}\u001b[0m\u001b[1;39m,\n",
      "  \u001b[0m\u001b[34;1m\"metadata\"\u001b[0m\u001b[1;39m: \u001b[0m\u001b[1;39m{\n",
      "    \u001b[0m\u001b[34;1m\"protocol\"\u001b[0m\u001b[1;39m: \u001b[0m\u001b[0;32m\"PsYLVpVvgbLhAhoqAkMFUo6gudkJ9weNXhUYCiLDzcUpFpkk8Wt\"\u001b[0m\u001b[1;39m,\n",
      "    \u001b[0m\u001b[34;1m\"next_protocol\"\u001b[0m\u001b[1;39m: \u001b[0m\u001b[0;32m\"PsYLVpVvgbLhAhoqAkMFUo6gudkJ9weNXhUYCiLDzcUpFpkk8Wt\"\u001b[0m\u001b[1;39m,\n",
      "    \u001b[0m\u001b[34;1m\"test_chain_status\"\u001b[0m\u001b[1;39m: \u001b[0m\u001b[1;39m{\n",
      "      \u001b[0m\u001b[34;1m\"status\"\u001b[0m\u001b[1;39m: \u001b[0m\u001b[0;32m\"not_running\"\u001b[0m\u001b[1;39m\n",
      "    \u001b[1;39m}\u001b[0m\u001b[1;39m,\n",
      "    \u001b[0m\u001b[34;1m\"max_operations_ttl\"\u001b[0m\u001b[1;39m: \u001b[0m\u001b[0;39m3\u001b[0m\u001b[1;39m,\n",
      "    \u001b[0m\u001b[34;1m\"max_operation_data_length\"\u001b[0m\u001b[1;39m: \u001b[0m\u001b[0;39m16384\u001b[0m\u001b[1;39m,\n",
      "    \u001b[0m\u001b[34;1m\"max_block_header_length\"\u001b[0m\u001b[1;39m: \u001b[0m\u001b[0;39m238\u001b[0m\u001b[1;39m,\n",
      "    \u001b[0m\u001b[34;1m\"max_operation_list_length\"\u001b[0m\u001b[1;39m: \u001b[0m\u001b[1;39m[\n",
      "      \u001b[1;39m{\n",
      "        \u001b[0m\u001b[34;1m\"max_size\"\u001b[0m\u001b[1;39m: \u001b[0m\u001b[0;39m32768\u001b[0m\u001b[1;39m,\n",
      "        \u001b[0m\u001b[34;1m\"max_op\"\u001b[0m\u001b[1;39m: \u001b[0m\u001b[0;39m32\u001b[0m\u001b[1;39m\n",
      "      \u001b[1;39m}\u001b[0m\u001b[1;39m,\n",
      "      \u001b[1;39m{\n",
      "        \u001b[0m\u001b[34;1m\"max_size\"\u001b[0m\u001b[1;39m: \u001b[0m\u001b[0;39m32768\u001b[0m\u001b[1;39m\n",
      "      \u001b[1;39m}\u001b[0m\u001b[1;39m,\n",
      "      \u001b[1;39m{\n",
      "        \u001b[0m\u001b[34;1m\"max_size\"\u001b[0m\u001b[1;39m: \u001b[0m\u001b[0;39m135168\u001b[0m\u001b[1;39m,\n",
      "        \u001b[0m\u001b[34;1m\"max_op\"\u001b[0m\u001b[1;39m: \u001b[0m\u001b[0;39m132\u001b[0m\u001b[1;39m\n",
      "      \u001b[1;39m}\u001b[0m\u001b[1;39m,\n",
      "      \u001b[1;39m{\n",
      "        \u001b[0m\u001b[34;1m\"max_size\"\u001b[0m\u001b[1;39m: \u001b[0m\u001b[0;39m524288\u001b[0m\u001b[1;39m\n",
      "      \u001b[1;39m}\u001b[0m\u001b[1;39m\n",
      "    \u001b[1;39m]\u001b[0m\u001b[1;39m,\n",
      "    \u001b[0m\u001b[34;1m\"baker\"\u001b[0m\u001b[1;39m: \u001b[0m\u001b[0;32m\"tz1KqTpEZ7Yob7QbPE4Hy4Wo8fHG8LhKxZSx\"\u001b[0m\u001b[1;39m,\n",
      "    \u001b[0m\u001b[34;1m\"level\"\u001b[0m\u001b[1;39m: \u001b[0m\u001b[1;39m{\n",
      "      \u001b[0m\u001b[34;1m\"level\"\u001b[0m\u001b[1;39m: \u001b[0m\u001b[0;39m3\u001b[0m\u001b[1;39m,\n",
      "      \u001b[0m\u001b[34;1m\"level_position\"\u001b[0m\u001b[1;39m: \u001b[0m\u001b[0;39m2\u001b[0m\u001b[1;39m,\n",
      "      \u001b[0m\u001b[34;1m\"cycle\"\u001b[0m\u001b[1;39m: \u001b[0m\u001b[0;39m0\u001b[0m\u001b[1;39m,\n",
      "      \u001b[0m\u001b[34;1m\"cycle_position\"\u001b[0m\u001b[1;39m: \u001b[0m\u001b[0;39m2\u001b[0m\u001b[1;39m,\n",
      "      \u001b[0m\u001b[34;1m\"voting_period\"\u001b[0m\u001b[1;39m: \u001b[0m\u001b[0;39m0\u001b[0m\u001b[1;39m,\n",
      "      \u001b[0m\u001b[34;1m\"voting_period_position\"\u001b[0m\u001b[1;39m: \u001b[0m\u001b[0;39m2\u001b[0m\u001b[1;39m,\n",
      "      \u001b[0m\u001b[34;1m\"expected_commitment\"\u001b[0m\u001b[1;39m: \u001b[0m\u001b[0;39mfalse\u001b[0m\u001b[1;39m\n",
      "    \u001b[1;39m}\u001b[0m\u001b[1;39m,\n",
      "    \u001b[0m\u001b[34;1m\"voting_period_kind\"\u001b[0m\u001b[1;39m: \u001b[0m\u001b[0;32m\"proposal\"\u001b[0m\u001b[1;39m,\n",
      "    \u001b[0m\u001b[34;1m\"nonce_hash\"\u001b[0m\u001b[1;39m: \u001b[0m\u001b[1;30mnull\u001b[0m\u001b[1;39m,\n",
      "    \u001b[0m\u001b[34;1m\"consumed_gas\"\u001b[0m\u001b[1;39m: \u001b[0m\u001b[0;32m\"7740\"\u001b[0m\u001b[1;39m,\n",
      "    \u001b[0m\u001b[34;1m\"deactivated\"\u001b[0m\u001b[1;39m: \u001b[0m\u001b[1;39m[]\u001b[0m\u001b[1;39m,\n",
      "    \u001b[0m\u001b[34;1m\"balance_updates\"\u001b[0m\u001b[1;39m: \u001b[0m\u001b[1;39m[\n",
      "      \u001b[1;39m{\n",
      "        \u001b[0m\u001b[34;1m\"kind\"\u001b[0m\u001b[1;39m: \u001b[0m\u001b[0;32m\"contract\"\u001b[0m\u001b[1;39m,\n",
      "        \u001b[0m\u001b[34;1m\"contract\"\u001b[0m\u001b[1;39m: \u001b[0m\u001b[0;32m\"tz1KqTpEZ7Yob7QbPE4Hy4Wo8fHG8LhKxZSx\"\u001b[0m\u001b[1;39m,\n",
      "        \u001b[0m\u001b[34;1m\"change\"\u001b[0m\u001b[1;39m: \u001b[0m\u001b[0;32m\"-512000000\"\u001b[0m\u001b[1;39m\n",
      "      \u001b[1;39m}\u001b[0m\u001b[1;39m,\n",
      "      \u001b[1;39m{\n",
      "        \u001b[0m\u001b[34;1m\"kind\"\u001b[0m\u001b[1;39m: \u001b[0m\u001b[0;32m\"freezer\"\u001b[0m\u001b[1;39m,\n",
      "        \u001b[0m\u001b[34;1m\"category\"\u001b[0m\u001b[1;39m: \u001b[0m\u001b[0;32m\"deposits\"\u001b[0m\u001b[1;39m,\n",
      "        \u001b[0m\u001b[34;1m\"delegate\"\u001b[0m\u001b[1;39m: \u001b[0m\u001b[0;32m\"tz1KqTpEZ7Yob7QbPE4Hy4Wo8fHG8LhKxZSx\"\u001b[0m\u001b[1;39m,\n",
      "        \u001b[0m\u001b[34;1m\"level\"\u001b[0m\u001b[1;39m: \u001b[0m\u001b[0;39m0\u001b[0m\u001b[1;39m,\n",
      "        \u001b[0m\u001b[34;1m\"change\"\u001b[0m\u001b[1;39m: \u001b[0m\u001b[0;32m\"512000000\"\u001b[0m\u001b[1;39m\n",
      "      \u001b[1;39m}\u001b[0m\u001b[1;39m,\n",
      "      \u001b[1;39m{\n",
      "        \u001b[0m\u001b[34;1m\"kind\"\u001b[0m\u001b[1;39m: \u001b[0m\u001b[0;32m\"freezer\"\u001b[0m\u001b[1;39m,\n",
      "        \u001b[0m\u001b[34;1m\"category\"\u001b[0m\u001b[1;39m: \u001b[0m\u001b[0;32m\"rewards\"\u001b[0m\u001b[1;39m,\n",
      "        \u001b[0m\u001b[34;1m\"delegate\"\u001b[0m\u001b[1;39m: \u001b[0m\u001b[0;32m\"tz1KqTpEZ7Yob7QbPE4Hy4Wo8fHG8LhKxZSx\"\u001b[0m\u001b[1;39m,\n",
      "        \u001b[0m\u001b[34;1m\"level\"\u001b[0m\u001b[1;39m: \u001b[0m\u001b[0;39m0\u001b[0m\u001b[1;39m,\n",
      "        \u001b[0m\u001b[34;1m\"change\"\u001b[0m\u001b[1;39m: \u001b[0m\u001b[0;32m\"16000000\"\u001b[0m\u001b[1;39m\n",
      "      \u001b[1;39m}\u001b[0m\u001b[1;39m\n",
      "    \u001b[1;39m]\u001b[0m\u001b[1;39m\n",
      "  \u001b[1;39m}\u001b[0m\u001b[1;39m,\n",
      "  \u001b[0m\u001b[34;1m\"operations\"\u001b[0m\u001b[1;39m: \u001b[0m\u001b[1;39m[\n",
      "    \u001b[1;39m[]\u001b[0m\u001b[1;39m,\n",
      "    \u001b[1;39m[]\u001b[0m\u001b[1;39m,\n",
      "    \u001b[1;39m[]\u001b[0m\u001b[1;39m,\n",
      "    \u001b[1;39m[\n",
      "      \u001b[1;39m{\n",
      "        \u001b[0m\u001b[34;1m\"protocol\"\u001b[0m\u001b[1;39m: \u001b[0m\u001b[0;32m\"PsYLVpVvgbLhAhoqAkMFUo6gudkJ9weNXhUYCiLDzcUpFpkk8Wt\"\u001b[0m\u001b[1;39m,\n",
      "        \u001b[0m\u001b[34;1m\"chain_id\"\u001b[0m\u001b[1;39m: \u001b[0m\u001b[0;32m\"NetXZUqeBjDnWde\"\u001b[0m\u001b[1;39m,\n",
      "        \u001b[0m\u001b[34;1m\"hash\"\u001b[0m\u001b[1;39m: \u001b[0m\u001b[0;32m\"opB1d3uzGcSSEBBGHsJF7HfuQxoX5M9HbxaxUJj7SRwHaEoyQ9M\"\u001b[0m\u001b[1;39m,\n",
      "        \u001b[0m\u001b[34;1m\"branch\"\u001b[0m\u001b[1;39m: \u001b[0m\u001b[0;32m\"BMPKQtBvBriZwRDVRNa9ELWeGUWunM3pQ6fnzyLq5eaxFnDFbJJ\"\u001b[0m\u001b[1;39m,\n",
      "        \u001b[0m\u001b[34;1m\"contents\"\u001b[0m\u001b[1;39m: \u001b[0m\u001b[1;39m[\n",
      "          \u001b[1;39m{\n",
      "            \u001b[0m\u001b[34;1m\"kind\"\u001b[0m\u001b[1;39m: \u001b[0m\u001b[0;32m\"origination\"\u001b[0m\u001b[1;39m,\n",
      "            \u001b[0m\u001b[34;1m\"source\"\u001b[0m\u001b[1;39m: \u001b[0m\u001b[0;32m\"tz1KqTpEZ7Yob7QbPE4Hy4Wo8fHG8LhKxZSx\"\u001b[0m\u001b[1;39m,\n",
      "            \u001b[0m\u001b[34;1m\"fee\"\u001b[0m\u001b[1;39m: \u001b[0m\u001b[0;32m\"0\"\u001b[0m\u001b[1;39m,\n",
      "            \u001b[0m\u001b[34;1m\"counter\"\u001b[0m\u001b[1;39m: \u001b[0m\u001b[0;32m\"1\"\u001b[0m\u001b[1;39m,\n",
      "            \u001b[0m\u001b[34;1m\"gas_limit\"\u001b[0m\u001b[1;39m: \u001b[0m\u001b[0;32m\"400000\"\u001b[0m\u001b[1;39m,\n",
      "            \u001b[0m\u001b[34;1m\"storage_limit\"\u001b[0m\u001b[1;39m: \u001b[0m\u001b[0;32m\"60000\"\u001b[0m\u001b[1;39m,\n",
      "            \u001b[0m\u001b[34;1m\"managerPubkey\"\u001b[0m\u001b[1;39m: \u001b[0m\u001b[0;32m\"tz1KqTpEZ7Yob7QbPE4Hy4Wo8fHG8LhKxZSx\"\u001b[0m\u001b[1;39m,\n",
      "            \u001b[0m\u001b[34;1m\"balance\"\u001b[0m\u001b[1;39m: \u001b[0m\u001b[0;32m\"2000000\"\u001b[0m\u001b[1;39m,\n",
      "            \u001b[0m\u001b[34;1m\"spendable\"\u001b[0m\u001b[1;39m: \u001b[0m\u001b[0;39mfalse\u001b[0m\u001b[1;39m,\n",
      "            \u001b[0m\u001b[34;1m\"delegatable\"\u001b[0m\u001b[1;39m: \u001b[0m\u001b[0;39mfalse\u001b[0m\u001b[1;39m,\n",
      "            \u001b[0m\u001b[34;1m\"script\"\u001b[0m\u001b[1;39m: \u001b[0m\u001b[1;39m{\n",
      "              \u001b[0m\u001b[34;1m\"code\"\u001b[0m\u001b[1;39m: \u001b[0m\u001b[1;39m[\n",
      "                \u001b[1;39m{\n",
      "                  \u001b[0m\u001b[34;1m\"prim\"\u001b[0m\u001b[1;39m: \u001b[0m\u001b[0;32m\"parameter\"\u001b[0m\u001b[1;39m,\n",
      "                  \u001b[0m\u001b[34;1m\"args\"\u001b[0m\u001b[1;39m: \u001b[0m\u001b[1;39m[\n",
      "                    \u001b[1;39m{\n",
      "                      \u001b[0m\u001b[34;1m\"prim\"\u001b[0m\u001b[1;39m: \u001b[0m\u001b[0;32m\"or\"\u001b[0m\u001b[1;39m,\n",
      "                      \u001b[0m\u001b[34;1m\"args\"\u001b[0m\u001b[1;39m: \u001b[0m\u001b[1;39m[\n",
      "                        \u001b[1;39m{\n",
      "                          \u001b[0m\u001b[34;1m\"prim\"\u001b[0m\u001b[1;39m: \u001b[0m\u001b[0;32m\"int\"\u001b[0m\u001b[1;39m,\n",
      "                          \u001b[0m\u001b[34;1m\"annots\"\u001b[0m\u001b[1;39m: \u001b[0m\u001b[1;39m[\n",
      "                            \u001b[0;32m\"%_Liq_entry_main\"\u001b[0m\u001b[1;39m\n",
      "                          \u001b[1;39m]\u001b[0m\u001b[1;39m\n",
      "                        \u001b[1;39m}\u001b[0m\u001b[1;39m,\n",
      "                        \u001b[1;39m{\n",
      "                          \u001b[0m\u001b[34;1m\"prim\"\u001b[0m\u001b[1;39m: \u001b[0m\u001b[0;32m\"int\"\u001b[0m\u001b[1;39m,\n",
      "                          \u001b[0m\u001b[34;1m\"annots\"\u001b[0m\u001b[1;39m: \u001b[0m\u001b[1;39m[\n",
      "                            \u001b[0;32m\"%_Liq_entry_subtract\"\u001b[0m\u001b[1;39m\n",
      "                          \u001b[1;39m]\u001b[0m\u001b[1;39m\n",
      "                        \u001b[1;39m}\u001b[0m\u001b[1;39m\n",
      "                      \u001b[1;39m]\u001b[0m\u001b[1;39m,\n",
      "                      \u001b[0m\u001b[34;1m\"annots\"\u001b[0m\u001b[1;39m: \u001b[0m\u001b[1;39m[\n",
      "                        \u001b[0;32m\":_entries\"\u001b[0m\u001b[1;39m\n",
      "                      \u001b[1;39m]\u001b[0m\u001b[1;39m\n",
      "                    \u001b[1;39m}\u001b[0m\u001b[1;39m\n",
      "                  \u001b[1;39m]\u001b[0m\u001b[1;39m\n",
      "                \u001b[1;39m}\u001b[0m\u001b[1;39m,\n",
      "                \u001b[1;39m{\n",
      "                  \u001b[0m\u001b[34;1m\"prim\"\u001b[0m\u001b[1;39m: \u001b[0m\u001b[0;32m\"storage\"\u001b[0m\u001b[1;39m,\n",
      "                  \u001b[0m\u001b[34;1m\"args\"\u001b[0m\u001b[1;39m: \u001b[0m\u001b[1;39m[\n",
      "                    \u001b[1;39m{\n"
     ]
    },
    {
     "name": "stdout",
     "output_type": "stream",
     "text": [
      "                      \u001b[0m\u001b[34;1m\"prim\"\u001b[0m\u001b[1;39m: \u001b[0m\u001b[0;32m\"int\"\u001b[0m\u001b[1;39m\n",
      "                    \u001b[1;39m}\u001b[0m\u001b[1;39m\n",
      "                  \u001b[1;39m]\u001b[0m\u001b[1;39m\n",
      "                \u001b[1;39m}\u001b[0m\u001b[1;39m,\n",
      "                \u001b[1;39m{\n",
      "                  \u001b[0m\u001b[34;1m\"prim\"\u001b[0m\u001b[1;39m: \u001b[0m\u001b[0;32m\"code\"\u001b[0m\u001b[1;39m,\n",
      "                  \u001b[0m\u001b[34;1m\"args\"\u001b[0m\u001b[1;39m: \u001b[0m\u001b[1;39m[\n",
      "                    \u001b[1;39m[\n",
      "                      \u001b[1;39m{\n",
      "                        \u001b[0m\u001b[34;1m\"prim\"\u001b[0m\u001b[1;39m: \u001b[0m\u001b[0;32m\"DUP\"\u001b[0m\u001b[1;39m\n",
      "                      \u001b[1;39m}\u001b[0m\u001b[1;39m,\n",
      "                      \u001b[1;39m{\n",
      "                        \u001b[0m\u001b[34;1m\"prim\"\u001b[0m\u001b[1;39m: \u001b[0m\u001b[0;32m\"DIP\"\u001b[0m\u001b[1;39m,\n",
      "                        \u001b[0m\u001b[34;1m\"args\"\u001b[0m\u001b[1;39m: \u001b[0m\u001b[1;39m[\n",
      "                          \u001b[1;39m[\n",
      "                            \u001b[1;39m{\n",
      "                              \u001b[0m\u001b[34;1m\"prim\"\u001b[0m\u001b[1;39m: \u001b[0m\u001b[0;32m\"CDR\"\u001b[0m\u001b[1;39m,\n",
      "                              \u001b[0m\u001b[34;1m\"annots\"\u001b[0m\u001b[1;39m: \u001b[0m\u001b[1;39m[\n",
      "                                \u001b[0;32m\"@storage_slash_1\"\u001b[0m\u001b[1;39m\n",
      "                              \u001b[1;39m]\u001b[0m\u001b[1;39m\n",
      "                            \u001b[1;39m}\u001b[0m\u001b[1;39m\n",
      "                          \u001b[1;39m]\u001b[0m\u001b[1;39m\n",
      "                        \u001b[1;39m]\u001b[0m\u001b[1;39m\n",
      "                      \u001b[1;39m}\u001b[0m\u001b[1;39m,\n",
      "                      \u001b[1;39m{\n",
      "                        \u001b[0m\u001b[34;1m\"prim\"\u001b[0m\u001b[1;39m: \u001b[0m\u001b[0;32m\"CAR\"\u001b[0m\u001b[1;39m,\n",
      "                        \u001b[0m\u001b[34;1m\"annots\"\u001b[0m\u001b[1;39m: \u001b[0m\u001b[1;39m[\n",
      "                          \u001b[0;32m\"@parameter_slash_2\"\u001b[0m\u001b[1;39m\n",
      "                        \u001b[1;39m]\u001b[0m\u001b[1;39m\n",
      "                      \u001b[1;39m}\u001b[0m\u001b[1;39m,\n",
      "                      \u001b[1;39m{\n",
      "                        \u001b[0m\u001b[34;1m\"prim\"\u001b[0m\u001b[1;39m: \u001b[0m\u001b[0;32m\"DUP\"\u001b[0m\u001b[1;39m,\n",
      "                        \u001b[0m\u001b[34;1m\"annots\"\u001b[0m\u001b[1;39m: \u001b[0m\u001b[1;39m[\n",
      "                          \u001b[0;32m\"@parameter\"\u001b[0m\u001b[1;39m\n",
      "                        \u001b[1;39m]\u001b[0m\u001b[1;39m\n",
      "                      \u001b[1;39m}\u001b[0m\u001b[1;39m,\n",
      "                      \u001b[1;39m{\n",
      "                        \u001b[0m\u001b[34;1m\"prim\"\u001b[0m\u001b[1;39m: \u001b[0m\u001b[0;32m\"IF_LEFT\"\u001b[0m\u001b[1;39m,\n",
      "                        \u001b[0m\u001b[34;1m\"args\"\u001b[0m\u001b[1;39m: \u001b[0m\u001b[1;39m[\n",
      "                          \u001b[1;39m[\n",
      "                            \u001b[1;39m{\n",
      "                              \u001b[0m\u001b[34;1m\"prim\"\u001b[0m\u001b[1;39m: \u001b[0m\u001b[0;32m\"RENAME\"\u001b[0m\u001b[1;39m,\n",
      "                              \u001b[0m\u001b[34;1m\"annots\"\u001b[0m\u001b[1;39m: \u001b[0m\u001b[1;39m[\n",
      "                                \u001b[0;32m\"@parameter_slash_3\"\u001b[0m\u001b[1;39m\n",
      "                              \u001b[1;39m]\u001b[0m\u001b[1;39m\n",
      "                            \u001b[1;39m}\u001b[0m\u001b[1;39m,\n",
      "                            \u001b[1;39m[\n",
      "                              \u001b[1;39m{\n",
      "                                \u001b[0m\u001b[34;1m\"prim\"\u001b[0m\u001b[1;39m: \u001b[0m\u001b[0;32m\"DIP\"\u001b[0m\u001b[1;39m,\n",
      "                                \u001b[0m\u001b[34;1m\"args\"\u001b[0m\u001b[1;39m: \u001b[0m\u001b[1;39m[\n",
      "                                  \u001b[1;39m[\n",
      "                                    \u001b[1;39m[\n",
      "                                      \u001b[1;39m{\n",
      "                                        \u001b[0m\u001b[34;1m\"prim\"\u001b[0m\u001b[1;39m: \u001b[0m\u001b[0;32m\"DIP\"\u001b[0m\u001b[1;39m,\n",
      "                                        \u001b[0m\u001b[34;1m\"args\"\u001b[0m\u001b[1;39m: \u001b[0m\u001b[1;39m[\n",
      "                                          \u001b[1;39m[\n",
      "                                            \u001b[1;39m{\n",
      "                                              \u001b[0m\u001b[34;1m\"prim\"\u001b[0m\u001b[1;39m: \u001b[0m\u001b[0;32m\"DUP\"\u001b[0m\u001b[1;39m\n",
      "                                            \u001b[1;39m}\u001b[0m\u001b[1;39m\n",
      "                                          \u001b[1;39m]\u001b[0m\u001b[1;39m\n",
      "                                        \u001b[1;39m]\u001b[0m\u001b[1;39m\n",
      "                                      \u001b[1;39m}\u001b[0m\u001b[1;39m,\n",
      "                                      \u001b[1;39m{\n",
      "                                        \u001b[0m\u001b[34;1m\"prim\"\u001b[0m\u001b[1;39m: \u001b[0m\u001b[0;32m\"SWAP\"\u001b[0m\u001b[1;39m\n",
      "                                      \u001b[1;39m}\u001b[0m\u001b[1;39m\n",
      "                                    \u001b[1;39m]\u001b[0m\u001b[1;39m\n",
      "                                  \u001b[1;39m]\u001b[0m\u001b[1;39m\n",
      "                                \u001b[1;39m]\u001b[0m\u001b[1;39m\n",
      "                              \u001b[1;39m}\u001b[0m\u001b[1;39m,\n",
      "                              \u001b[1;39m{\n",
      "                                \u001b[0m\u001b[34;1m\"prim\"\u001b[0m\u001b[1;39m: \u001b[0m\u001b[0;32m\"SWAP\"\u001b[0m\u001b[1;39m\n",
      "                              \u001b[1;39m}\u001b[0m\u001b[1;39m\n",
      "                            \u001b[1;39m]\u001b[0m\u001b[1;39m,\n",
      "                            \u001b[1;39m{\n",
      "                              \u001b[0m\u001b[34;1m\"prim\"\u001b[0m\u001b[1;39m: \u001b[0m\u001b[0;32m\"ADD\"\u001b[0m\u001b[1;39m\n",
      "                            \u001b[1;39m}\u001b[0m\u001b[1;39m,\n",
      "                            \u001b[1;39m{\n",
      "                              \u001b[0m\u001b[34;1m\"prim\"\u001b[0m\u001b[1;39m: \u001b[0m\u001b[0;32m\"NIL\"\u001b[0m\u001b[1;39m,\n",
      "                              \u001b[0m\u001b[34;1m\"args\"\u001b[0m\u001b[1;39m: \u001b[0m\u001b[1;39m[\n",
      "                                \u001b[1;39m{\n",
      "                                  \u001b[0m\u001b[34;1m\"prim\"\u001b[0m\u001b[1;39m: \u001b[0m\u001b[0;32m\"operation\"\u001b[0m\u001b[1;39m\n",
      "                                \u001b[1;39m}\u001b[0m\u001b[1;39m\n",
      "                              \u001b[1;39m]\u001b[0m\u001b[1;39m\n",
      "                            \u001b[1;39m}\u001b[0m\u001b[1;39m,\n",
      "                            \u001b[1;39m{\n",
      "                              \u001b[0m\u001b[34;1m\"prim\"\u001b[0m\u001b[1;39m: \u001b[0m\u001b[0;32m\"PAIR\"\u001b[0m\u001b[1;39m\n",
      "                            \u001b[1;39m}\u001b[0m\u001b[1;39m\n",
      "                          \u001b[1;39m]\u001b[0m\u001b[1;39m,\n",
      "                          \u001b[1;39m[\n",
      "                            \u001b[1;39m{\n",
      "                              \u001b[0m\u001b[34;1m\"prim\"\u001b[0m\u001b[1;39m: \u001b[0m\u001b[0;32m\"RENAME\"\u001b[0m\u001b[1;39m,\n",
      "                              \u001b[0m\u001b[34;1m\"annots\"\u001b[0m\u001b[1;39m: \u001b[0m\u001b[1;39m[\n",
      "                                \u001b[0;32m\"@parameter_slash_5\"\u001b[0m\u001b[1;39m\n",
      "                              \u001b[1;39m]\u001b[0m\u001b[1;39m\n",
      "                            \u001b[1;39m}\u001b[0m\u001b[1;39m,\n",
      "                            \u001b[1;39m[\n",
      "                              \u001b[1;39m{\n",
      "                                \u001b[0m\u001b[34;1m\"prim\"\u001b[0m\u001b[1;39m: \u001b[0m\u001b[0;32m\"DIP\"\u001b[0m\u001b[1;39m,\n",
      "                                \u001b[0m\u001b[34;1m\"args\"\u001b[0m\u001b[1;39m: \u001b[0m\u001b[1;39m[\n",
      "                                  \u001b[1;39m[\n",
      "                                    \u001b[1;39m[\n",
      "                                      \u001b[1;39m{\n",
      "                                        \u001b[0m\u001b[34;1m\"prim\"\u001b[0m\u001b[1;39m: \u001b[0m\u001b[0;32m\"DIP\"\u001b[0m\u001b[1;39m,\n",
      "                                        \u001b[0m\u001b[34;1m\"args\"\u001b[0m\u001b[1;39m: \u001b[0m\u001b[1;39m[\n",
      "                                          \u001b[1;39m[\n",
      "                                            \u001b[1;39m{\n",
      "                                              \u001b[0m\u001b[34;1m\"prim\"\u001b[0m\u001b[1;39m: \u001b[0m\u001b[0;32m\"DUP\"\u001b[0m\u001b[1;39m\n",
      "                                            \u001b[1;39m}\u001b[0m\u001b[1;39m\n",
      "                                          \u001b[1;39m]\u001b[0m\u001b[1;39m\n",
      "                                        \u001b[1;39m]\u001b[0m\u001b[1;39m\n",
      "                                      \u001b[1;39m}\u001b[0m\u001b[1;39m,\n",
      "                                      \u001b[1;39m{\n",
      "                                        \u001b[0m\u001b[34;1m\"prim\"\u001b[0m\u001b[1;39m: \u001b[0m\u001b[0;32m\"SWAP\"\u001b[0m\u001b[1;39m\n",
      "                                      \u001b[1;39m}\u001b[0m\u001b[1;39m\n",
      "                                    \u001b[1;39m]\u001b[0m\u001b[1;39m\n",
      "                                  \u001b[1;39m]\u001b[0m\u001b[1;39m\n",
      "                                \u001b[1;39m]\u001b[0m\u001b[1;39m\n",
      "                              \u001b[1;39m}\u001b[0m\u001b[1;39m,\n",
      "                              \u001b[1;39m{\n",
      "                                \u001b[0m\u001b[34;1m\"prim\"\u001b[0m\u001b[1;39m: \u001b[0m\u001b[0;32m\"SWAP\"\u001b[0m\u001b[1;39m\n",
      "                              \u001b[1;39m}\u001b[0m\u001b[1;39m\n",
      "                            \u001b[1;39m]\u001b[0m\u001b[1;39m,\n",
      "                            \u001b[1;39m{\n",
      "                              \u001b[0m\u001b[34;1m\"prim\"\u001b[0m\u001b[1;39m: \u001b[0m\u001b[0;32m\"SUB\"\u001b[0m\u001b[1;39m\n",
      "                            \u001b[1;39m}\u001b[0m\u001b[1;39m,\n",
      "                            \u001b[1;39m{\n",
      "                              \u001b[0m\u001b[34;1m\"prim\"\u001b[0m\u001b[1;39m: \u001b[0m\u001b[0;32m\"NIL\"\u001b[0m\u001b[1;39m,\n",
      "                              \u001b[0m\u001b[34;1m\"args\"\u001b[0m\u001b[1;39m: \u001b[0m\u001b[1;39m[\n",
      "                                \u001b[1;39m{\n",
      "                                  \u001b[0m\u001b[34;1m\"prim\"\u001b[0m\u001b[1;39m: \u001b[0m\u001b[0;32m\"operation\"\u001b[0m\u001b[1;39m\n",
      "                                \u001b[1;39m}\u001b[0m\u001b[1;39m\n",
      "                              \u001b[1;39m]\u001b[0m\u001b[1;39m\n",
      "                            \u001b[1;39m}\u001b[0m\u001b[1;39m,\n",
      "                            \u001b[1;39m{\n",
      "                              \u001b[0m\u001b[34;1m\"prim\"\u001b[0m\u001b[1;39m: \u001b[0m\u001b[0;32m\"PAIR\"\u001b[0m\u001b[1;39m\n",
      "                            \u001b[1;39m}\u001b[0m\u001b[1;39m\n",
      "                          \u001b[1;39m]\u001b[0m\u001b[1;39m\n",
      "                        \u001b[1;39m]\u001b[0m\u001b[1;39m\n",
      "                      \u001b[1;39m}\u001b[0m\u001b[1;39m,\n",
      "                      \u001b[1;39m{\n",
      "                        \u001b[0m\u001b[34;1m\"prim\"\u001b[0m\u001b[1;39m: \u001b[0m\u001b[0;32m\"DIP\"\u001b[0m\u001b[1;39m,\n"
     ]
    },
    {
     "name": "stdout",
     "output_type": "stream",
     "text": [
      "                        \u001b[0m\u001b[34;1m\"args\"\u001b[0m\u001b[1;39m: \u001b[0m\u001b[1;39m[\n",
      "                          \u001b[1;39m[\n",
      "                            \u001b[1;39m{\n",
      "                              \u001b[0m\u001b[34;1m\"prim\"\u001b[0m\u001b[1;39m: \u001b[0m\u001b[0;32m\"DROP\"\u001b[0m\u001b[1;39m\n",
      "                            \u001b[1;39m}\u001b[0m\u001b[1;39m,\n",
      "                            \u001b[1;39m{\n",
      "                              \u001b[0m\u001b[34;1m\"prim\"\u001b[0m\u001b[1;39m: \u001b[0m\u001b[0;32m\"DROP\"\u001b[0m\u001b[1;39m\n",
      "                            \u001b[1;39m}\u001b[0m\u001b[1;39m\n",
      "                          \u001b[1;39m]\u001b[0m\u001b[1;39m\n",
      "                        \u001b[1;39m]\u001b[0m\u001b[1;39m\n",
      "                      \u001b[1;39m}\u001b[0m\u001b[1;39m\n",
      "                    \u001b[1;39m]\u001b[0m\u001b[1;39m\n",
      "                  \u001b[1;39m]\u001b[0m\u001b[1;39m\n",
      "                \u001b[1;39m}\u001b[0m\u001b[1;39m\n",
      "              \u001b[1;39m]\u001b[0m\u001b[1;39m,\n",
      "              \u001b[0m\u001b[34;1m\"storage\"\u001b[0m\u001b[1;39m: \u001b[0m\u001b[1;39m{\n",
      "                \u001b[0m\u001b[34;1m\"int\"\u001b[0m\u001b[1;39m: \u001b[0m\u001b[0;32m\"0\"\u001b[0m\u001b[1;39m\n",
      "              \u001b[1;39m}\u001b[0m\u001b[1;39m\n",
      "            \u001b[1;39m}\u001b[0m\u001b[1;39m,\n",
      "            \u001b[0m\u001b[34;1m\"metadata\"\u001b[0m\u001b[1;39m: \u001b[0m\u001b[1;39m{\n",
      "              \u001b[0m\u001b[34;1m\"balance_updates\"\u001b[0m\u001b[1;39m: \u001b[0m\u001b[1;39m[]\u001b[0m\u001b[1;39m,\n",
      "              \u001b[0m\u001b[34;1m\"operation_result\"\u001b[0m\u001b[1;39m: \u001b[0m\u001b[1;39m{\n",
      "                \u001b[0m\u001b[34;1m\"status\"\u001b[0m\u001b[1;39m: \u001b[0m\u001b[0;32m\"applied\"\u001b[0m\u001b[1;39m,\n",
      "                \u001b[0m\u001b[34;1m\"balance_updates\"\u001b[0m\u001b[1;39m: \u001b[0m\u001b[1;39m[\n",
      "                  \u001b[1;39m{\n",
      "                    \u001b[0m\u001b[34;1m\"kind\"\u001b[0m\u001b[1;39m: \u001b[0m\u001b[0;32m\"contract\"\u001b[0m\u001b[1;39m,\n",
      "                    \u001b[0m\u001b[34;1m\"contract\"\u001b[0m\u001b[1;39m: \u001b[0m\u001b[0;32m\"tz1KqTpEZ7Yob7QbPE4Hy4Wo8fHG8LhKxZSx\"\u001b[0m\u001b[1;39m,\n",
      "                    \u001b[0m\u001b[34;1m\"change\"\u001b[0m\u001b[1;39m: \u001b[0m\u001b[0;32m\"-566000\"\u001b[0m\u001b[1;39m\n",
      "                  \u001b[1;39m}\u001b[0m\u001b[1;39m,\n",
      "                  \u001b[1;39m{\n",
      "                    \u001b[0m\u001b[34;1m\"kind\"\u001b[0m\u001b[1;39m: \u001b[0m\u001b[0;32m\"contract\"\u001b[0m\u001b[1;39m,\n",
      "                    \u001b[0m\u001b[34;1m\"contract\"\u001b[0m\u001b[1;39m: \u001b[0m\u001b[0;32m\"tz1KqTpEZ7Yob7QbPE4Hy4Wo8fHG8LhKxZSx\"\u001b[0m\u001b[1;39m,\n",
      "                    \u001b[0m\u001b[34;1m\"change\"\u001b[0m\u001b[1;39m: \u001b[0m\u001b[0;32m\"-2000000\"\u001b[0m\u001b[1;39m\n",
      "                  \u001b[1;39m}\u001b[0m\u001b[1;39m,\n",
      "                  \u001b[1;39m{\n",
      "                    \u001b[0m\u001b[34;1m\"kind\"\u001b[0m\u001b[1;39m: \u001b[0m\u001b[0;32m\"contract\"\u001b[0m\u001b[1;39m,\n",
      "                    \u001b[0m\u001b[34;1m\"contract\"\u001b[0m\u001b[1;39m: \u001b[0m\u001b[0;32m\"KT194pubVP6uqb8cBjpbELjuH2iGayc1K45J\"\u001b[0m\u001b[1;39m,\n",
      "                    \u001b[0m\u001b[34;1m\"change\"\u001b[0m\u001b[1;39m: \u001b[0m\u001b[0;32m\"2000000\"\u001b[0m\u001b[1;39m\n",
      "                  \u001b[1;39m}\u001b[0m\u001b[1;39m\n",
      "                \u001b[1;39m]\u001b[0m\u001b[1;39m,\n",
      "                \u001b[0m\u001b[34;1m\"originated_contracts\"\u001b[0m\u001b[1;39m: \u001b[0m\u001b[1;39m[\n",
      "                  \u001b[0;32m\"KT194pubVP6uqb8cBjpbELjuH2iGayc1K45J\"\u001b[0m\u001b[1;39m\n",
      "                \u001b[1;39m]\u001b[0m\u001b[1;39m,\n",
      "                \u001b[0m\u001b[34;1m\"consumed_gas\"\u001b[0m\u001b[1;39m: \u001b[0m\u001b[0;32m\"6946\"\u001b[0m\u001b[1;39m,\n",
      "                \u001b[0m\u001b[34;1m\"storage_size\"\u001b[0m\u001b[1;39m: \u001b[0m\u001b[0;32m\"309\"\u001b[0m\u001b[1;39m,\n",
      "                \u001b[0m\u001b[34;1m\"paid_storage_size_diff\"\u001b[0m\u001b[1;39m: \u001b[0m\u001b[0;32m\"309\"\u001b[0m\u001b[1;39m\n",
      "              \u001b[1;39m}\u001b[0m\u001b[1;39m\n",
      "            \u001b[1;39m}\u001b[0m\u001b[1;39m\n",
      "          \u001b[1;39m}\u001b[0m\u001b[1;39m\n",
      "        \u001b[1;39m]\u001b[0m\u001b[1;39m,\n",
      "        \u001b[0m\u001b[34;1m\"signature\"\u001b[0m\u001b[1;39m: \u001b[0m\u001b[0;32m\"sigPe2gsPivgNVwY6aJZsy4vUYVFqzaiW3uBB9DqZH9CGfe8ocZKTFvUraX8Z94me1NX4dDPfhY9rUtJynYkYiZw4Satiy2S\"\u001b[0m\u001b[1;39m\n",
      "      \u001b[1;39m}\u001b[0m\u001b[1;39m\n",
      "    \u001b[1;39m]\u001b[0m\u001b[1;39m\n",
      "  \u001b[1;39m]\u001b[0m\u001b[1;39m\n",
      "\u001b[1;39m}\u001b[0m\n"
     ]
    }
   ],
   "source": [
    "curl -s http://127.0.0.1:18731/chains/main/blocks/head | jq "
   ]
  },
  {
   "cell_type": "markdown",
   "metadata": {},
   "source": [
    "After the contract is deployed, it's possible to test it."
   ]
  },
  {
   "cell_type": "code",
   "execution_count": 15,
   "metadata": {},
   "outputs": [
    {
     "name": "stdout",
     "output_type": "stream",
     "text": [
      "Main contract Add\n",
      "Successful call to contract KT194pubVP6uqb8cBjpbELjuH2iGayc1K45J in operation oo7HzbHVYGrTbaCQSqo9pYUGz3eQCg49ReQVPdArCbW1UN4avns\n",
      "Injected block BLZ7sDkqRypi\n"
     ]
    }
   ],
   "source": [
    "liquidity \\\n",
    "  --tezos-node localhost:18732 \\\n",
    "  --amount 5tz \\\n",
    "  --fee 0tz \\\n",
    "  --private-key $TZ_SECRET \\\n",
    "  --source $TZ_HASH \\\n",
    "  add.liq \\\n",
    "  --call $CONTRACT_HASH subtract '2'\n",
    "  \n",
    "tezos-client bake for bootstrap1 2>/dev/null"
   ]
  },
  {
   "cell_type": "markdown",
   "metadata": {},
   "source": [
    "### TODO\n",
    "- Forging of contract\n",
    "- clarification on spendable and delegatable contract"
   ]
  },
  {
   "cell_type": "markdown",
   "metadata": {},
   "source": [
    "## 4. Deployment of contract in Michelson"
   ]
  },
  {
   "cell_type": "code",
   "execution_count": 16,
   "metadata": {},
   "outputs": [
    {
     "name": "stdout",
     "output_type": "stream",
     "text": [
      "Main contract Add\n",
      "Storage initializer generated in \"./add.liq.initializer.tz\"\n",
      "File \"./add.liq.tz\" generated\n",
      "If tezos is compiled, you may want to typecheck with:\n",
      "  tezos-client typecheck script ./add.liq.tz\n"
     ]
    }
   ],
   "source": [
    "liquidity add.liq"
   ]
  },
  {
   "cell_type": "code",
   "execution_count": null,
   "metadata": {},
   "outputs": [],
   "source": [
    "tezos-client originate contract first_explosion for bootstrap1 \\\n",
    "             transferring 0 from bootstrap1 \\\n",
    "             running add.liq.tz -init 0"
   ]
  },
  {
   "cell_type": "code",
   "execution_count": null,
   "metadata": {},
   "outputs": [],
   "source": [
    "tezos-client transfer 0 from bootstrap1 to first_explosion -arg 5"
   ]
  }
 ],
 "metadata": {
  "kernelspec": {
   "display_name": "Bash",
   "language": "bash",
   "name": "bash"
  },
  "language_info": {
   "codemirror_mode": "shell",
   "file_extension": ".sh",
   "mimetype": "text/x-sh",
   "name": "bash"
  }
 },
 "nbformat": 4,
 "nbformat_minor": 2
}
