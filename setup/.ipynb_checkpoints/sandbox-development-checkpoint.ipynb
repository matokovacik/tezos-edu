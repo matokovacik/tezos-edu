{
 "cells": [
  {
   "cell_type": "markdown",
   "metadata": {},
   "source": [
    "# Working with Tezos Sandbox\n",
    "Please complete [Installation of tezos from sources](macos-tezos.ipynb) before.\n",
    "\n",
    "Tezos in sandbox is temporary. After terminating the node all data will be erased. This is usable for quick development and testing. During use, make sure you are saving your work as it might be erased afterwards.\n",
    "\n",
    "\n",
    "Execute tezos server in separate console (Jupyter don't support running multiple kernels in parallel natively)."
   ]
  },
  {
   "cell_type": "code",
   "execution_count": 3,
   "metadata": {},
   "outputs": [
    {
     "name": "stdout",
     "output_type": "stream",
     "text": [
      "[1] 9493\n"
     ]
    }
   ],
   "source": [
    "#cd ~/tezos-dev/tezos\n",
    "#./src/bin_node/tezos-sandboxed-node.sh 1 --connections 1 &"
   ]
  },
  {
   "cell_type": "markdown",
   "metadata": {},
   "source": [
    "## 1. Initialization of the tezos client\n",
    "Script will initialize variables. **The variables are present only in current shell. When opening other shell it's required to rerun the command.**"
   ]
  },
  {
   "cell_type": "code",
   "execution_count": 132,
   "metadata": {},
   "outputs": [
    {
     "name": "stdout",
     "output_type": "stream",
     "text": [
      "\u001b[0m\u001b[33;1;4m\u001b[0m\u001b[33;1;4mWarning:\u001b[0m\u001b[0m\u001b[33;1;4m\u001b[0m\u001b[0m\n",
      "  \n",
      "   The node you are connecting to claims to be running in a\n",
      "                    \u001b[0m\u001b[33;1;4mTezos TEST SANDBOX\u001b[0m\u001b[0m.\n",
      "      Do \u001b[0m\u001b[33;1;4mNOT\u001b[0m\u001b[0m use your fundraiser keys on this network.\n",
      "  You should not see this message if you are not a developer.\n",
      "\n",
      "## Tezos address added: tz1KqTpEZ7Yob7QbPE4Hy4Wo8fHG8LhKxZSx\n",
      "\u001b[0m\u001b[33;1;4m\u001b[0m\u001b[33;1;4mWarning:\u001b[0m\u001b[0m\u001b[33;1;4m\u001b[0m\u001b[0m\n",
      "  \n",
      "   The node you are connecting to claims to be running in a\n",
      "                    \u001b[0m\u001b[33;1;4mTezos TEST SANDBOX\u001b[0m\u001b[0m.\n",
      "      Do \u001b[0m\u001b[33;1;4mNOT\u001b[0m\u001b[0m use your fundraiser keys on this network.\n",
      "  You should not see this message if you are not a developer.\n",
      "\n",
      "## Tezos address added: tz1gjaF81ZRRvdzjobyfVNsAeSC6PScjfQwN\n",
      "\u001b[0m\u001b[33;1;4m\u001b[0m\u001b[33;1;4mWarning:\u001b[0m\u001b[0m\u001b[33;1;4m\u001b[0m\u001b[0m\n",
      "  \n",
      "   The node you are connecting to claims to be running in a\n",
      "                    \u001b[0m\u001b[33;1;4mTezos TEST SANDBOX\u001b[0m\u001b[0m.\n",
      "      Do \u001b[0m\u001b[33;1;4mNOT\u001b[0m\u001b[0m use your fundraiser keys on this network.\n",
      "  You should not see this message if you are not a developer.\n",
      "\n",
      "## Tezos address added: tz1faswCTDciRzE4oJ9jn2Vm2dvjeyA9fUzU\n",
      "\u001b[0m\u001b[33;1;4m\u001b[0m\u001b[33;1;4mWarning:\u001b[0m\u001b[0m\u001b[33;1;4m\u001b[0m\u001b[0m\n",
      "  \n",
      "   The node you are connecting to claims to be running in a\n",
      "                    \u001b[0m\u001b[33;1;4mTezos TEST SANDBOX\u001b[0m\u001b[0m.\n",
      "      Do \u001b[0m\u001b[33;1;4mNOT\u001b[0m\u001b[0m use your fundraiser keys on this network.\n",
      "  You should not see this message if you are not a developer.\n",
      "\n",
      "## Tezos address added: tz1b7tUupMgCNw2cCLpKTkSD1NZzB5TkP2sv\n",
      "\u001b[0m\u001b[33;1;4m\u001b[0m\u001b[33;1;4mWarning:\u001b[0m\u001b[0m\u001b[33;1;4m\u001b[0m\u001b[0m\n",
      "  \n",
      "   The node you are connecting to claims to be running in a\n",
      "                    \u001b[0m\u001b[33;1;4mTezos TEST SANDBOX\u001b[0m\u001b[0m.\n",
      "      Do \u001b[0m\u001b[33;1;4mNOT\u001b[0m\u001b[0m use your fundraiser keys on this network.\n",
      "  You should not see this message if you are not a developer.\n",
      "\n",
      "## Tezos address added: tz1ddb9NMYHZi5UzPdzTZMYQQZoMub195zgv\n",
      "\u001b[0m\u001b[33;1;4m\u001b[0m\u001b[33;1;4mWarning:\u001b[0m\u001b[0m\u001b[33;1;4m\u001b[0m\u001b[0m\n",
      "  \n",
      "   The node you are connecting to claims to be running in a\n",
      "                    \u001b[0m\u001b[33;1;4mTezos TEST SANDBOX\u001b[0m\u001b[0m.\n",
      "      Do \u001b[0m\u001b[33;1;4mNOT\u001b[0m\u001b[0m use your fundraiser keys on this network.\n",
      "  You should not see this message if you are not a developer.\n",
      "\n",
      "## Tezos address added: tz1TGu6TN5GSez2ndXXeDX6LgUDvLzPLqgYV\n",
      "## \n",
      "## The client is now properly initialized. In the rest of this shell\n",
      "## session, you might now run `tezos-client` to communicate with a\n",
      "## tezos node launched with `launch-sandboxed-node 1`. For instance:\n",
      "## \n",
      "##   tezos-client rpc get /chains/main/blocks/head/metadata\n",
      "## \n",
      "## Note: if the current protocol version, as reported by the previous\n",
      "## command, is \"Ps6mwMrF2ER2s51cp9yYpjDcuzQjsc2yAz8bQsRgdaRxw4Fk95H\", you\n",
      "## may have to activate in your \"sandboxed network\" the same economic\n",
      "## protocol than used by the alphanet by running:\n",
      "## \n",
      "##   tezos-activate-alpha\n",
      "## \n",
      "## Warning: all the client data will be removed when you close this shell\n",
      "## or if you run this command a second time.\n",
      "## \n",
      "## Activate tab completion by running:\n",
      "## \n",
      "##   tezos-autocomplete\n",
      "## \n"
     ]
    }
   ],
   "source": [
    "cd ~/tezos-dev/tezos\n",
    "eval `./src/bin_client/tezos-init-sandboxed-client.sh 1`"
   ]
  },
  {
   "cell_type": "markdown",
   "metadata": {},
   "source": [
    "## 2. Initiate blockchain - creation of genesis block"
   ]
  },
  {
   "cell_type": "code",
   "execution_count": 133,
   "metadata": {},
   "outputs": [
    {
     "name": "stdout",
     "output_type": "stream",
     "text": [
      "Injected BM9Ti9fuKQZo\n",
      "\u001b[0m\u001b[33;1;4m\u001b[0m\u001b[33;1;4mWarning:\u001b[0m\u001b[0m\u001b[33;1;4m\u001b[0m\u001b[0m\n",
      "  \n",
      "   The node you are connecting to claims to be running in a\n",
      "                    \u001b[0m\u001b[33;1;4mTezos TEST SANDBOX\u001b[0m\u001b[0m.\n",
      "      Do \u001b[0m\u001b[33;1;4mNOT\u001b[0m\u001b[0m use your fundraiser keys on this network.\n",
      "  You should not see this message if you are not a developer.\n",
      "\n",
      "Injected block BMAdiCDDfrwT\n"
     ]
    }
   ],
   "source": [
    "tezos-activate-alpha 2>/dev/null\n",
    "tezos-client bake for bootstrap1"
   ]
  },
  {
   "cell_type": "markdown",
   "metadata": {},
   "source": [
    "## 3. List available accounts"
   ]
  },
  {
   "cell_type": "markdown",
   "metadata": {},
   "source": [
    "By running this command, client will show you list of aliases for registered accounts with sandbox tezos."
   ]
  },
  {
   "cell_type": "code",
   "execution_count": 134,
   "metadata": {},
   "outputs": [
    {
     "name": "stdout",
     "output_type": "stream",
     "text": [
      "activator: tz1TGu6TN5GSez2ndXXeDX6LgUDvLzPLqgYV (unencrypted sk known)\n",
      "bootstrap5: tz1ddb9NMYHZi5UzPdzTZMYQQZoMub195zgv (unencrypted sk known)\n",
      "bootstrap4: tz1b7tUupMgCNw2cCLpKTkSD1NZzB5TkP2sv (unencrypted sk known)\n",
      "bootstrap3: tz1faswCTDciRzE4oJ9jn2Vm2dvjeyA9fUzU (unencrypted sk known)\n",
      "bootstrap2: tz1gjaF81ZRRvdzjobyfVNsAeSC6PScjfQwN (unencrypted sk known)\n",
      "bootstrap1: tz1KqTpEZ7Yob7QbPE4Hy4Wo8fHG8LhKxZSx (unencrypted sk known)\n"
     ]
    }
   ],
   "source": [
    "tezos-client list known addresses 2>/dev/null"
   ]
  },
  {
   "cell_type": "markdown",
   "metadata": {},
   "source": [
    "Referencing alias or has is equivalent when using tezos-client. Following commands can be used to retrieve balance on accounts."
   ]
  },
  {
   "cell_type": "code",
   "execution_count": 135,
   "metadata": {},
   "outputs": [
    {
     "name": "stdout",
     "output_type": "stream",
     "text": [
      "4000000 ꜩ\n"
     ]
    }
   ],
   "source": [
    "tezos-client get balance for tz1ddb9NMYHZi5UzPdzTZMYQQZoMub195zgv 2>/dev/null #bootstrap1"
   ]
  },
  {
   "cell_type": "code",
   "execution_count": 105,
   "metadata": {},
   "outputs": [
    {
     "name": "stdout",
     "output_type": "stream",
     "text": [
      "4000000 ꜩ\n"
     ]
    }
   ],
   "source": [
    "tezos-client get balance for bootstrap1 2>/dev/null"
   ]
  },
  {
   "cell_type": "markdown",
   "metadata": {},
   "source": [
    "## 4. Get account keys\n",
    "Following command will get account keys. This keys are later referenced when deploying contracts."
   ]
  },
  {
   "cell_type": "code",
   "execution_count": 136,
   "metadata": {
    "scrolled": true
   },
   "outputs": [
    {
     "name": "stdout",
     "output_type": "stream",
     "text": [
      "Hash: tz1KqTpEZ7Yob7QbPE4Hy4Wo8fHG8LhKxZSx\n",
      "Public Key: edpkuBknW28nW72KG6RoHtYW7p12T6GKc7nAbwYX5m8Wd9sDVC9yav\n",
      "Secret Key: unencrypted:edsk3gUfUPyBSfrS9CCgmCiQsTCHGkviBDusMxDJstFtojtc1zcpsh\n"
     ]
    }
   ],
   "source": [
    "tezos-client show address bootstrap1 --show-secret 2>/dev/null\n"
   ]
  },
  {
   "cell_type": "markdown",
   "metadata": {},
   "source": [
    "## 5. Deployment of testing liquidity contract\n"
   ]
  },
  {
   "cell_type": "markdown",
   "metadata": {},
   "source": [
    "Liquidity is a language heavily inspired by the OCaml language. Before starting working with Liquidity it is advised \n",
    "to check OCaml tutorial.\n",
    "\n",
    "Each liquidity file consist of three parts\n",
    "- version declaration\n",
    "- storage definition\n",
    "- entry functions \n",
    "  - at least method main is required. This method is called when contract is executed."
   ]
  },
  {
   "cell_type": "markdown",
   "metadata": {},
   "source": [
    "**add_contract.liq**\n",
    "```ocaml\n",
    "[%%version 0.4]\n",
    "  \n",
    "type storage = int\n",
    "\n",
    "let%init storage (init_storage : int) =\n",
    "  init_storage\n",
    "\n",
    "let%entry main (parameter : int) storage =\n",
    "  ( ([] : operation list), storage + parameter )\n",
    "```"
   ]
  },
  {
   "cell_type": "code",
   "execution_count": 137,
   "metadata": {},
   "outputs": [],
   "source": [
    "mkdir -p ~/tezos-dev/adding-dapp\n",
    "cd ~/tezos-dev/adding-dapp\n",
    "\n",
    "/bin/cat <<EOM >add.liq\n",
    "[%%version 0.4]\n",
    "  \n",
    "type storage = int\n",
    "\n",
    "let%init storage (init_storage : int) =\n",
    "  init_storage\n",
    "\n",
    "let%entry main (parameter : int) storage =\n",
    "  ( ([] : operation list), storage + parameter )\n",
    "EOM\n",
    "\n"
   ]
  },
  {
   "cell_type": "markdown",
   "metadata": {},
   "source": [
    "It's required to execute baking operation few times."
   ]
  },
  {
   "cell_type": "code",
   "execution_count": 138,
   "metadata": {},
   "outputs": [
    {
     "name": "stdout",
     "output_type": "stream",
     "text": [
      "Main contract Add\n",
      "Main contract Add\n",
      "Evaluated initial storage: 0\n",
      "New contract KT1C6RCqdcK5GP8YshTjAnrTtBkDUQfKkyog deployed in operation ooXnL4tBdqkzLkjCF582WKxbkeDR1y3Uod2w2gmGTirpfrGxNeP\n"
     ]
    }
   ],
   "source": [
    "TZ_HASH=$(tezos-client show address bootstrap1 --show-secret 2>/dev/null | grep Hash | cut -d\" \" -f2)\n",
    "TZ_SECRET=$(tezos-client show address bootstrap1 --show-secret 2>/dev/null | grep Secret | cut -d\":\" -f3)\n",
    "\n",
    "liquidity \\\n",
    "  --tezos-node 127.0.0.1:18731 \\\n",
    "  --amount 2tz \\\n",
    "  --fee 0tz \\\n",
    "  --source $TZ_HASH \\\n",
    "  --private-key $TZ_SECRET \\\n",
    "  add.liq \\\n",
    "  --deploy '0' | tee contract_deploy_output.txt\n",
    "  \n",
    "export CONTRACT_HASH=$(grep \"New contract\" contract_deploy_output.txt | cut -d\" \" -f3)\n",
    "export OPERATION_HASH=$(grep \"New contract\" contract_deploy_output.txt | cut -d\" \" -f7)"
   ]
  },
  {
   "cell_type": "markdown",
   "metadata": {},
   "source": [
    "Bake needs to be called so the contract is included into the blockchain."
   ]
  },
  {
   "cell_type": "code",
   "execution_count": 139,
   "metadata": {},
   "outputs": [
    {
     "name": "stdout",
     "output_type": "stream",
     "text": [
      "Injected block BMWczgDfMjz9\n"
     ]
    }
   ],
   "source": [
    "tezos-client bake for bootstrap1 2>/dev/null"
   ]
  },
  {
   "cell_type": "code",
   "execution_count": 140,
   "metadata": {},
   "outputs": [
    {
     "name": "stdout",
     "output_type": "stream",
     "text": [
      "\u001b[1;39m{\n",
      "  \u001b[0m\u001b[34;1m\"manager\"\u001b[0m\u001b[1;39m: \u001b[0m\u001b[0;32m\"tz1KqTpEZ7Yob7QbPE4Hy4Wo8fHG8LhKxZSx\"\u001b[0m\u001b[1;39m,\n",
      "  \u001b[0m\u001b[34;1m\"balance\"\u001b[0m\u001b[1;39m: \u001b[0m\u001b[0;32m\"2000000\"\u001b[0m\u001b[1;39m,\n",
      "  \u001b[0m\u001b[34;1m\"spendable\"\u001b[0m\u001b[1;39m: \u001b[0m\u001b[0;39mfalse\u001b[0m\u001b[1;39m,\n",
      "  \u001b[0m\u001b[34;1m\"delegate\"\u001b[0m\u001b[1;39m: \u001b[0m\u001b[1;39m{\n",
      "    \u001b[0m\u001b[34;1m\"setable\"\u001b[0m\u001b[1;39m: \u001b[0m\u001b[0;39mfalse\u001b[0m\u001b[1;39m\n",
      "  \u001b[1;39m}\u001b[0m\u001b[1;39m,\n",
      "  \u001b[0m\u001b[34;1m\"script\"\u001b[0m\u001b[1;39m: \u001b[0m\u001b[1;39m{\n",
      "    \u001b[0m\u001b[34;1m\"code\"\u001b[0m\u001b[1;39m: \u001b[0m\u001b[1;39m[\n",
      "      \u001b[1;39m{\n",
      "        \u001b[0m\u001b[34;1m\"prim\"\u001b[0m\u001b[1;39m: \u001b[0m\u001b[0;32m\"parameter\"\u001b[0m\u001b[1;39m,\n",
      "        \u001b[0m\u001b[34;1m\"args\"\u001b[0m\u001b[1;39m: \u001b[0m\u001b[1;39m[\n",
      "          \u001b[1;39m{\n",
      "            \u001b[0m\u001b[34;1m\"prim\"\u001b[0m\u001b[1;39m: \u001b[0m\u001b[0;32m\"int\"\u001b[0m\u001b[1;39m\n",
      "          \u001b[1;39m}\u001b[0m\u001b[1;39m\n",
      "        \u001b[1;39m]\u001b[0m\u001b[1;39m\n",
      "      \u001b[1;39m}\u001b[0m\u001b[1;39m,\n",
      "      \u001b[1;39m{\n",
      "        \u001b[0m\u001b[34;1m\"prim\"\u001b[0m\u001b[1;39m: \u001b[0m\u001b[0;32m\"storage\"\u001b[0m\u001b[1;39m,\n",
      "        \u001b[0m\u001b[34;1m\"args\"\u001b[0m\u001b[1;39m: \u001b[0m\u001b[1;39m[\n",
      "          \u001b[1;39m{\n",
      "            \u001b[0m\u001b[34;1m\"prim\"\u001b[0m\u001b[1;39m: \u001b[0m\u001b[0;32m\"int\"\u001b[0m\u001b[1;39m\n",
      "          \u001b[1;39m}\u001b[0m\u001b[1;39m\n",
      "        \u001b[1;39m]\u001b[0m\u001b[1;39m\n",
      "      \u001b[1;39m}\u001b[0m\u001b[1;39m,\n",
      "      \u001b[1;39m{\n",
      "        \u001b[0m\u001b[34;1m\"prim\"\u001b[0m\u001b[1;39m: \u001b[0m\u001b[0;32m\"code\"\u001b[0m\u001b[1;39m,\n",
      "        \u001b[0m\u001b[34;1m\"args\"\u001b[0m\u001b[1;39m: \u001b[0m\u001b[1;39m[\n",
      "          \u001b[1;39m[\n",
      "            \u001b[1;39m{\n",
      "              \u001b[0m\u001b[34;1m\"prim\"\u001b[0m\u001b[1;39m: \u001b[0m\u001b[0;32m\"DUP\"\u001b[0m\u001b[1;39m\n",
      "            \u001b[1;39m}\u001b[0m\u001b[1;39m,\n",
      "            \u001b[1;39m{\n",
      "              \u001b[0m\u001b[34;1m\"prim\"\u001b[0m\u001b[1;39m: \u001b[0m\u001b[0;32m\"DIP\"\u001b[0m\u001b[1;39m,\n",
      "              \u001b[0m\u001b[34;1m\"args\"\u001b[0m\u001b[1;39m: \u001b[0m\u001b[1;39m[\n",
      "                \u001b[1;39m[\n",
      "                  \u001b[1;39m{\n",
      "                    \u001b[0m\u001b[34;1m\"prim\"\u001b[0m\u001b[1;39m: \u001b[0m\u001b[0;32m\"CDR\"\u001b[0m\u001b[1;39m,\n",
      "                    \u001b[0m\u001b[34;1m\"annots\"\u001b[0m\u001b[1;39m: \u001b[0m\u001b[1;39m[\n",
      "                      \u001b[0;32m\"@storage_slash_1\"\u001b[0m\u001b[1;39m\n",
      "                    \u001b[1;39m]\u001b[0m\u001b[1;39m\n",
      "                  \u001b[1;39m}\u001b[0m\u001b[1;39m\n",
      "                \u001b[1;39m]\u001b[0m\u001b[1;39m\n",
      "              \u001b[1;39m]\u001b[0m\u001b[1;39m\n",
      "            \u001b[1;39m}\u001b[0m\u001b[1;39m,\n",
      "            \u001b[1;39m{\n",
      "              \u001b[0m\u001b[34;1m\"prim\"\u001b[0m\u001b[1;39m: \u001b[0m\u001b[0;32m\"CAR\"\u001b[0m\u001b[1;39m,\n",
      "              \u001b[0m\u001b[34;1m\"annots\"\u001b[0m\u001b[1;39m: \u001b[0m\u001b[1;39m[\n",
      "                \u001b[0;32m\"@parameter_slash_2\"\u001b[0m\u001b[1;39m\n",
      "              \u001b[1;39m]\u001b[0m\u001b[1;39m\n",
      "            \u001b[1;39m}\u001b[0m\u001b[1;39m,\n",
      "            \u001b[1;39m{\n",
      "              \u001b[0m\u001b[34;1m\"prim\"\u001b[0m\u001b[1;39m: \u001b[0m\u001b[0;32m\"SWAP\"\u001b[0m\u001b[1;39m\n",
      "            \u001b[1;39m}\u001b[0m\u001b[1;39m,\n",
      "            \u001b[1;39m{\n",
      "              \u001b[0m\u001b[34;1m\"prim\"\u001b[0m\u001b[1;39m: \u001b[0m\u001b[0;32m\"ADD\"\u001b[0m\u001b[1;39m\n",
      "            \u001b[1;39m}\u001b[0m\u001b[1;39m,\n",
      "            \u001b[1;39m{\n",
      "              \u001b[0m\u001b[34;1m\"prim\"\u001b[0m\u001b[1;39m: \u001b[0m\u001b[0;32m\"NIL\"\u001b[0m\u001b[1;39m,\n",
      "              \u001b[0m\u001b[34;1m\"args\"\u001b[0m\u001b[1;39m: \u001b[0m\u001b[1;39m[\n",
      "                \u001b[1;39m{\n",
      "                  \u001b[0m\u001b[34;1m\"prim\"\u001b[0m\u001b[1;39m: \u001b[0m\u001b[0;32m\"operation\"\u001b[0m\u001b[1;39m\n",
      "                \u001b[1;39m}\u001b[0m\u001b[1;39m\n",
      "              \u001b[1;39m]\u001b[0m\u001b[1;39m\n",
      "            \u001b[1;39m}\u001b[0m\u001b[1;39m,\n",
      "            \u001b[1;39m{\n",
      "              \u001b[0m\u001b[34;1m\"prim\"\u001b[0m\u001b[1;39m: \u001b[0m\u001b[0;32m\"PAIR\"\u001b[0m\u001b[1;39m\n",
      "            \u001b[1;39m}\u001b[0m\u001b[1;39m\n",
      "          \u001b[1;39m]\u001b[0m\u001b[1;39m\n",
      "        \u001b[1;39m]\u001b[0m\u001b[1;39m\n",
      "      \u001b[1;39m}\u001b[0m\u001b[1;39m\n",
      "    \u001b[1;39m]\u001b[0m\u001b[1;39m,\n",
      "    \u001b[0m\u001b[34;1m\"storage\"\u001b[0m\u001b[1;39m: \u001b[0m\u001b[1;39m{\n",
      "      \u001b[0m\u001b[34;1m\"int\"\u001b[0m\u001b[1;39m: \u001b[0m\u001b[0;32m\"0\"\u001b[0m\u001b[1;39m\n",
      "    \u001b[1;39m}\u001b[0m\u001b[1;39m\n",
      "  \u001b[1;39m}\u001b[0m\u001b[1;39m,\n",
      "  \u001b[0m\u001b[34;1m\"counter\"\u001b[0m\u001b[1;39m: \u001b[0m\u001b[0;32m\"0\"\u001b[0m\u001b[1;39m\n",
      "\u001b[1;39m}\u001b[0m\n"
     ]
    }
   ],
   "source": [
    "curl -s http://127.0.0.1:18731/chains/main/blocks/head/context/contracts/$CONTRACT_HASH | jq "
   ]
  },
  {
   "cell_type": "markdown",
   "metadata": {},
   "source": [
    "After the contract is deployed, it's possible to test it."
   ]
  },
  {
   "cell_type": "code",
   "execution_count": 114,
   "metadata": {},
   "outputs": [
    {
     "name": "stdout",
     "output_type": "stream",
     "text": [
      "Main contract Add\n",
      "Successful call to contract KT1PHi3Ujswf8dewoFYovwdMiDS5xX28gNpA in operation onpkpGvVr3D66x8z6pwguEQquwjmoE6HV2B2CKVSskiyX9tFabi\n",
      "Injected block BMUQL2ojBnmu\n"
     ]
    }
   ],
   "source": [
    "liquidity \\\n",
    "  --tezos-node localhost:18731 \\\n",
    "  --amount 5tz \\\n",
    "  --fee 0tz \\\n",
    "  --private-key $TZ_SECRET \\\n",
    "  --source $TZ_HASH \\\n",
    "  add.liq \\\n",
    "  --call KT1PHi3Ujswf8dewoFYovwdMiDS5xX28gNpA main '4'\n",
    "  \n",
    "tezos-client bake for bootstrap1 2>/dev/null"
   ]
  },
  {
   "cell_type": "markdown",
   "metadata": {},
   "source": [
    "### TODO\n",
    "- Forging of contract\n",
    "- clarification on spendable and delegatable contract"
   ]
  },
  {
   "cell_type": "markdown",
   "metadata": {},
   "source": [
    "## 4. Deployment of contract in Michelson"
   ]
  },
  {
   "cell_type": "code",
   "execution_count": 18,
   "metadata": {},
   "outputs": [
    {
     "name": "stdout",
     "output_type": "stream",
     "text": [
      "Main contract Add\n",
      "Storage initializer generated in \"./add.liq.initializer.tz\"\n",
      "File \"./add.liq.tz\" generated\n",
      "If tezos is compiled, you may want to typecheck with:\n",
      "  tezos-client typecheck script ./add.liq.tz\n"
     ]
    }
   ],
   "source": [
    "liquidity add.liq"
   ]
  },
  {
   "cell_type": "code",
   "execution_count": null,
   "metadata": {},
   "outputs": [],
   "source": [
    "tezos-client originate contract first_explosion for bootstrap1 \\\n",
    "             transferring 0 from bootstrap1 \\\n",
    "             running add.liq.tz -init 0"
   ]
  },
  {
   "cell_type": "code",
   "execution_count": null,
   "metadata": {},
   "outputs": [],
   "source": [
    "tezos-client transfer 0 from bootstrap1 to first_explosion -arg 5"
   ]
  }
 ],
 "metadata": {
  "kernelspec": {
   "display_name": "Bash",
   "language": "bash",
   "name": "bash"
  },
  "language_info": {
   "codemirror_mode": "shell",
   "file_extension": ".sh",
   "mimetype": "text/x-sh",
   "name": "bash"
  }
 },
 "nbformat": 4,
 "nbformat_minor": 2
}
