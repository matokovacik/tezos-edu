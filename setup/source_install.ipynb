{
 "cells": [
  {
   "cell_type": "markdown",
   "metadata": {},
   "source": [
    "# Tezos and Liquidity Installation from sources\n",
    "\n",
    "## Installation of dependecies\n",
    "Source install is similar in unix like systems. We will highlight only differences when it comes to dependencies installation. More information on the installation from sources can be found in [source build section on Tezos site](http://tezos.gitlab.io/mainnet/introduction/howtoget.html#build-from-sources)\n",
    "\n",
    "### Installation of dependencies on MacOS\n",
    "Tutorial assumes that brew package manager is present on operation system. Please refer to [Brew installation](https://brew.sh) to install brew."
   ]
  },
  {
   "cell_type": "code",
   "execution_count": null,
   "metadata": {},
   "outputs": [],
   "source": [
    "brew install \\\n",
    "    git \\\n",
    "    pkg-config \\\n",
    "    hidapi \\\n",
    "    libev \\\n",
    "    telnet \\\n",
    "    libsodium \\\n",
    "    ocaml \\\n",
    "    opam \\\n",
    "    jq"
   ]
  },
  {
   "cell_type": "markdown",
   "metadata": {},
   "source": [
    "### Installation of dependencies on Debian 9 (Etchy)\n",
    "This step is verified on Debian 9 on Raspberry Pi 3 (using Raspbian Etchy). This tutorial might work on Ubuntu based systems and also on Ubuntu for Windows 10."
   ]
  },
  {
   "cell_type": "code",
   "execution_count": null,
   "metadata": {},
   "outputs": [],
   "source": [
    "apt-get update\n",
    "apt -y install \\\n",
    "    patch unzip make gcc m4 git g++ \\\n",
    "    hidapi libev gmp-ecm libgmp-dev bubblewrap libcurl3 libsodium-dev \n",
    "\n",
    "#Installation of OPAM - package manager for ocaml.\n",
    "wget https://raw.github.com/ocaml/opam/master/shell/opam_installer.sh -O - | sh -s /usr/local/bin"
   ]
  },
  {
   "cell_type": "markdown",
   "metadata": {},
   "source": [
    "## Checkout and Build Tezos\n",
    "This step was verified on MacOS and Debian 9 (Raspberry Pi)."
   ]
  },
  {
   "cell_type": "code",
   "execution_count": null,
   "metadata": {},
   "outputs": [],
   "source": [
    "# Checkout of the tezos source codes\n",
    "mkdir -p ~/tezos-dev \n",
    "cd ~/tezos-dev\n",
    "git clone -b alphanet https://gitlab.com/tezos/tezos.git"
   ]
  },
  {
   "cell_type": "code",
   "execution_count": null,
   "metadata": {},
   "outputs": [],
   "source": [
    "#Build and installation of tezos\n",
    "export OPAMYES=true\n",
    "\n",
    "cd ~/tezos-dev/tezos\n",
    "opam init --bare -n\n",
    "\n",
    "make build-deps \n",
    "eval $(opam env) \n",
    "make\n",
    "make install"
   ]
  },
  {
   "cell_type": "markdown",
   "metadata": {},
   "source": [
    "## Checkout and Build Liquidity\n",
    "\n",
    "NOTE: It's important to have tezos folder switched to **mainnet** branch. Other branches might not work. Alternatively step `make clone-tezos` can be used. This will checkout mainnet branch from Tezos git."
   ]
  },
  {
   "cell_type": "code",
   "execution_count": null,
   "metadata": {},
   "outputs": [],
   "source": [
    "# Checkout of the liquidity language source codes\n",
    "cd ~/tezos-dev \\\n",
    " && git clone https://github.com/OCamlPro/liquidity \\"
   ]
  },
  {
   "cell_type": "code",
   "execution_count": null,
   "metadata": {},
   "outputs": [],
   "source": [
    "# Build Liquidity language compilier\n",
    "export OPAMYES=true\n",
    "\n",
    "cd ~/tezos-dev/liquidity\n",
    "make clone-tezos\n",
    "\n",
    "make build-deps\n",
    "make\n",
    "make install"
   ]
  }
 ],
 "metadata": {
  "kernelspec": {
   "display_name": "Bash",
   "language": "bash",
   "name": "bash"
  },
  "language_info": {
   "codemirror_mode": "shell",
   "file_extension": ".sh",
   "mimetype": "text/x-sh",
   "name": "bash"
  }
 },
 "nbformat": 4,
 "nbformat_minor": 2
}
