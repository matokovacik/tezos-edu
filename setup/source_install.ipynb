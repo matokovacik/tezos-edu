{
 "cells": [
  {
   "cell_type": "markdown",
   "metadata": {},
   "source": [
    "# Tezos and Liquidity Installation on MacOS"
   ]
  },
  {
   "cell_type": "markdown",
   "metadata": {},
   "source": [
    "## Installation of prerequisites on MacOS\n",
    "Tutorial assumes that brew package manager is present on operating system. Please refer to [Brew installation](https://brew.sh) to install brew."
   ]
  },
  {
   "cell_type": "markdown",
   "metadata": {},
   "source": [
    "## Install OCaml and required build libraries"
   ]
  },
  {
   "cell_type": "code",
   "execution_count": null,
   "metadata": {},
   "outputs": [],
   "source": [
    "brew install \\\n",
    "    git \\\n",
    "    pkg-config \\\n",
    "    hidapi \\\n",
    "    libev \\\n",
    "    telnet \\\n",
    "    libsodium \\\n",
    "    ocaml \\\n",
    "    opam \\\n",
    "    jq"
   ]
  },
  {
   "cell_type": "markdown",
   "metadata": {},
   "source": [
    "## Checkout and Build Tezos"
   ]
  },
  {
   "cell_type": "code",
   "execution_count": null,
   "metadata": {},
   "outputs": [],
   "source": [
    "# Checkout of the tezos source codes\n",
    "mkdir -p ~/tezos-dev \n",
    "cd ~/tezos-dev\n",
    "git clone https://gitlab.com/tezos/tezos.git\n",
    "cd tezos\n",
    "git checkout alphanet"
   ]
  },
  {
   "cell_type": "code",
   "execution_count": null,
   "metadata": {},
   "outputs": [],
   "source": [
    "#Build and installation of tezos\n",
    "export OPAMYES=true\n",
    "\n",
    "cd ~/tezos-dev/tezos\n",
    "opam init --bare -n\n",
    "\n",
    "make build-deps \n",
    "eval $(opam env)\n",
    "make\n",
    "make install"
   ]
  },
  {
   "cell_type": "markdown",
   "metadata": {},
   "source": [
    "## Checkout and Build Liquidity\n",
    "\n",
    "NOTE: It's important to have tezos folder switched to alphanet branch. When going with master it's not working with liquidity compilation."
   ]
  },
  {
   "cell_type": "code",
   "execution_count": null,
   "metadata": {},
   "outputs": [],
   "source": [
    "# Checkout of the liquidity language source codes\n",
    "cd ~/tezos-dev \\\n",
    " && git clone https://github.com/OCamlPro/liquidity \\"
   ]
  },
  {
   "cell_type": "code",
   "execution_count": null,
   "metadata": {},
   "outputs": [],
   "source": [
    "# Build Liquidity language compilier\n",
    "export OPAMYES=true\n",
    "\n",
    "cd ~/tezos-dev/liquidity\n",
    "make clone-tezos\n",
    "\n",
    "make build-deps\n",
    "make\n",
    "make install"
   ]
  },
  {
   "cell_type": "code",
   "execution_count": null,
   "metadata": {},
   "outputs": [],
   "source": []
  }
 ],
 "metadata": {
  "kernelspec": {
   "display_name": "Bash",
   "language": "bash",
   "name": "bash"
  },
  "language_info": {
   "codemirror_mode": "shell",
   "file_extension": ".sh",
   "mimetype": "text/x-sh",
   "name": "bash"
  }
 },
 "nbformat": 4,
 "nbformat_minor": 2
}
